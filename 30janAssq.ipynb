{
 "cells": [
  {
   "cell_type": "code",
   "execution_count": 5,
   "id": "2b91a2df-7520-436c-8cab-73214b689ead",
   "metadata": {},
   "outputs": [
    {
     "name": "stdin",
     "output_type": "stream",
     "text": [
      "Entry your Marks 55\n"
     ]
    },
    {
     "name": "stdout",
     "output_type": "stream",
     "text": [
      "Grade D\n"
     ]
    }
   ],
   "source": [
    "marks=int(input('Entry your Marks'))\n",
    "\n",
    "if marks>=90:\n",
    "    print('Grade A')\n",
    "elif marks<=90 and marks >=80:\n",
    "    print('Grade B')    \n",
    "elif marks <=80 and marks >=60:\n",
    "    print('Grade C')\n",
    "else:\n",
    "    print('Grade D')"
   ]
  },
  {
   "cell_type": "code",
   "execution_count": 12,
   "id": "320d58b4-01fb-41ce-b741-e5a4206ae199",
   "metadata": {},
   "outputs": [
    {
     "name": "stdin",
     "output_type": "stream",
     "text": [
      "Entry your price 10000000\n"
     ]
    },
    {
     "name": "stdout",
     "output_type": "stream",
     "text": [
      "your Tax:  1500000.0\n"
     ]
    }
   ],
   "source": [
    "cost_price=int(input('Entry your price'))\n",
    "if cost_price >=100000:\n",
    "    Tax=cost_price*0.15\n",
    "    print('your Tax: ',Tax)\n",
    "elif cost_price >50000 and cost_price<=100000:\n",
    "    Tax=cost_price*0.1\n",
    "    print('your Tax: ',Tax)\n",
    "else:\n",
    "    Tax=cost_price*0.05\n",
    "    print('your Tax: ',Tax)"
   ]
  },
  {
   "cell_type": "code",
   "execution_count": null,
   "id": "a85a8ca9-bb7f-4962-baa1-e5120b80b4d5",
   "metadata": {},
   "outputs": [],
   "source": [
    "\n"
   ]
  },
  {
   "cell_type": "code",
   "execution_count": 33,
   "id": "c21205a7-4087-4580-ab58-8aeca47f763b",
   "metadata": {},
   "outputs": [
    {
     "name": "stdin",
     "output_type": "stream",
     "text": [
      "Enter a city for  monuments:  Agra\n"
     ]
    },
    {
     "name": "stdout",
     "output_type": "stream",
     "text": [
      "Monuments in Agra:\n",
      "- Taj Mahal\n"
     ]
    }
   ],
   "source": [
    "monuments = {\n",
    "    \"Agra\": [\"Taj Mahal\"],\n",
    "    \"Delhi\": [\"Qutub Minar\", \"Red Fort\",],\n",
    "    \"Mumbai\": [\"Gateway of India\", \"Chhatrapati Shivaji Maharaj Terminus\"],\n",
    "    \"Hyderabad\": [\"Charminar\", \"Golconda Fort\"],\n",
    "    \"Mysore\": [\"Mysore Palace\"],\n",
    "    \"Hampi\": [\"Hampi\"],\n",
    "    \"Thanjavur\": [\"Brihadeeswarar Temple\"]\n",
    "}\n",
    "category = input(\"Enter a city for  monuments: \")\n",
    "\n",
    "if category in monuments:\n",
    "        print(\"Monuments in\", category + \":\")\n",
    "        for monument in monuments[category]:\n",
    "            print(\"- \" + monument)\n",
    "else:\n",
    "        print(\"No monuments found for the city:\", category)\n"
   ]
  },
  {
   "cell_type": "code",
   "execution_count": 35,
   "id": "19e806cd-b881-4bd5-9d9d-b7d520fb467a",
   "metadata": {},
   "outputs": [
    {
     "name": "stdin",
     "output_type": "stream",
     "text": [
      "Enter a city for  monuments:  Hampi\n"
     ]
    },
    {
     "data": {
      "text/plain": [
       "['Hampi']"
      ]
     },
     "execution_count": 35,
     "metadata": {},
     "output_type": "execute_result"
    }
   ],
   "source": [
    "category = input(\"Enter a city for  monuments: \")\n",
    "monuments[category]"
   ]
  },
  {
   "cell_type": "code",
   "execution_count": 36,
   "id": "08636616-5d20-40f9-a513-d289e5f74020",
   "metadata": {},
   "outputs": [],
   "source": [
    "def count_divisions_by_3(number):\n",
    "    count = 0\n",
    "    while number > 10:\n",
    "        number /= 3\n",
    "        count += 1\n",
    "    return count"
   ]
  },
  {
   "cell_type": "code",
   "execution_count": 38,
   "id": "3efce66c-a1d3-4293-8194-a240678fb9d8",
   "metadata": {},
   "outputs": [
    {
     "data": {
      "text/plain": [
       "2"
      ]
     },
     "execution_count": 38,
     "metadata": {},
     "output_type": "execute_result"
    }
   ],
   "source": [
    "count_divisions_by_3(50)\n"
   ]
  },
  {
   "cell_type": "code",
   "execution_count": 39,
   "id": "907fda1d-8ba4-406e-96ab-86957ffeb8fa",
   "metadata": {},
   "outputs": [
    {
     "data": {
      "text/plain": [
       "'While loops in Python are used to repeatedly execute a block of code as long as a condition is true. They are useful when you want to perform an action iteratively until a certain condition is met. \\n\\nex- \\n     While loops are commonly used when you want to iterate over a block of code until a certain condition becomes false. For example, reading data from a file until the end of the file is reached or processing user input until a specific command is entered.'"
      ]
     },
     "execution_count": 39,
     "metadata": {},
     "output_type": "execute_result"
    }
   ],
   "source": [
    "'''While loops in Python are used to repeatedly execute a block of code as long as a condition is true. They are useful when you want to perform an action iteratively until a certain condition is met. \n",
    "\n",
    "ex- \n",
    "     While loops are commonly used when you want to iterate over a block of code until a certain condition becomes false. For example, reading data from a file until the end of the file is reached or processing user input until a specific command is entered.'''"
   ]
  },
  {
   "cell_type": "code",
   "execution_count": 43,
   "id": "3f1a613b-7fba-469f-9bab-423de51adcb2",
   "metadata": {},
   "outputs": [
    {
     "name": "stdout",
     "output_type": "stream",
     "text": [
      "Pattern 1:\n",
      "* \n",
      "* \n",
      "* * \n",
      "\n",
      "Pattern 2:\n",
      "* * * * * \n",
      "* * * * \n",
      "* * * \n",
      "* * \n",
      "* \n",
      "\n",
      "Pattern 3:\n",
      "        * \n",
      "      * * \n",
      "    * * * \n",
      "  * * * * \n",
      "* * * * * \n"
     ]
    }
   ],
   "source": [
    "# Pattern 1\n",
    "print(\"Pattern 1:\")\n",
    "i = 1\n",
    "while i <= 5:\n",
    "    j = 1\n",
    "    while j <= i:\n",
    "        print(\"*\", end=\" \")\n",
    "        j += 3\n",
    "    print()\n",
    "    i += 2\n",
    "\n",
    "# Pattern 2\n",
    "print(\"\\nPattern 2:\")\n",
    "i = 5\n",
    "while i >= 1:\n",
    "    j = 1\n",
    "    while j <= i:\n",
    "        print(\"*\", end=\" \")\n",
    "        j += 1\n",
    "    print()\n",
    "    i -= 1\n",
    "\n",
    "# Pattern 3\n",
    "print(\"\\nPattern 3:\")\n",
    "i = 1\n",
    "while i <= 5:\n",
    "    j = 5\n",
    "    while j >= 1:\n",
    "        if j <= i:\n",
    "            print(\"*\", end=\" \")\n",
    "        else:\n",
    "            print(\" \", end=\" \")\n",
    "        j -= 1\n",
    "    print()\n",
    "    i += 1\n"
   ]
  },
  {
   "cell_type": "code",
   "execution_count": 44,
   "id": "f57b33c4-5c82-4fdf-af66-0017c89adf71",
   "metadata": {},
   "outputs": [
    {
     "name": "stdout",
     "output_type": "stream",
     "text": [
      "Reverse display from 10 to 1:\n",
      "10\n",
      "9\n",
      "8\n",
      "7\n",
      "6\n",
      "5\n",
      "4\n",
      "3\n",
      "2\n",
      "1\n"
     ]
    }
   ],
   "source": [
    "num = 10\n",
    "print(\"Reverse display from 10 to 1:\")\n",
    "while num >= 1:\n",
    "    print(num)\n",
    "    num -= 1"
   ]
  },
  {
   "cell_type": "code",
   "execution_count": null,
   "id": "8a21ed9b-6d9d-4a21-b548-0a3bd5a45f1d",
   "metadata": {},
   "outputs": [],
   "source": []
  }
 ],
 "metadata": {
  "kernelspec": {
   "display_name": "Python 3 (ipykernel)",
   "language": "python",
   "name": "python3"
  },
  "language_info": {
   "codemirror_mode": {
    "name": "ipython",
    "version": 3
   },
   "file_extension": ".py",
   "mimetype": "text/x-python",
   "name": "python",
   "nbconvert_exporter": "python",
   "pygments_lexer": "ipython3",
   "version": "3.11.7"
  }
 },
 "nbformat": 4,
 "nbformat_minor": 5
}
