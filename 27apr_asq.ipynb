{
 "cells": [
  {
   "cell_type": "markdown",
   "metadata": {},
   "source": [
    "# Q1. What are the different types of clustering algorithms, and how do they differ in terms of their approach and underlying assumptions?"
   ]
  },
  {
   "cell_type": "code",
   "execution_count": 1,
   "metadata": {},
   "outputs": [
    {
     "ename": "SyntaxError",
     "evalue": "invalid syntax (430491795.py, line 1)",
     "output_type": "error",
     "traceback": [
      "\u001b[1;36m  Cell \u001b[1;32mIn[1], line 1\u001b[1;36m\u001b[0m\n\u001b[1;33m    Clustering algorithms are used create set of group .The each group object are\u001b[0m\n\u001b[1;37m               ^\u001b[0m\n\u001b[1;31mSyntaxError\u001b[0m\u001b[1;31m:\u001b[0m invalid syntax\n"
     ]
    }
   ],
   "source": [
    "Clustering algorithms are used create set of group .The each group object are\n",
    "more simular than other groups.\n",
    "\n",
    "K-mean: It divide data into k no of cluster .if new data came in find nearest\n",
    "distance cluster.\n",
    "assumption-Assumes spherical clusters of roughly equal size.\n",
    "\n",
    "Hierarchical:It treat each data as cluter and in second step it try to marge every \n",
    "nearest cluster it will continue untll get single cluster .this approch called Agglomerative Clustering.\n",
    "assumption- a bottom-up approach\n",
    "\n",
    "and other hand Divisive Clustering another variant of Hierarchical clustering\n",
    "ll data points in a single cluster and recursively splits them into smaller cluster\n",
    "\n",
    "assumption- a Top dowbn approach\n",
    "\n",
    "\n",
    "DBSCAN: Groups points that are closely packed together, marking points in low-density regions as outliers.\n",
    "assumptions- clusters are areas of high density separated by areas of low density"
   ]
  },
  {
   "cell_type": "markdown",
   "metadata": {},
   "source": [
    "# Q2.What is K-means clustering, and how does it work?"
   ]
  },
  {
   "cell_type": "code",
   "execution_count": 2,
   "metadata": {},
   "outputs": [
    {
     "ename": "SyntaxError",
     "evalue": "invalid syntax (2750921830.py, line 1)",
     "output_type": "error",
     "traceback": [
      "\u001b[1;36m  Cell \u001b[1;32mIn[2], line 1\u001b[1;36m\u001b[0m\n\u001b[1;33m    K-means clustering is a unsupervised ML algorithm which is populer pariition method.\u001b[0m\n\u001b[1;37m            ^\u001b[0m\n\u001b[1;31mSyntaxError\u001b[0m\u001b[1;31m:\u001b[0m invalid syntax\n"
     ]
    }
   ],
   "source": [
    "K-means clustering is a unsupervised ML algorithm which is populer pariition method.\n",
    "\n",
    "step1- Intilize a k value. k value is centroid of each group.\n",
    "\n",
    "step2- calculate distance each of data points from k value.The nearest values from k \n",
    "value from a cluster.\n",
    "\n",
    "step3 - change k value create new cluster repert step2 untill diffrance betweeen\n",
    "previous cluster and new cluster diffarance is  significant."
   ]
  },
  {
   "cell_type": "markdown",
   "metadata": {},
   "source": [
    "# Q3. What are some advantages and limitations of K-means clustering compared to other clustering techniques?"
   ]
  },
  {
   "cell_type": "code",
   "execution_count": 3,
   "metadata": {},
   "outputs": [
    {
     "ename": "SyntaxError",
     "evalue": "invalid syntax (292928935.py, line 1)",
     "output_type": "error",
     "traceback": [
      "\u001b[1;36m  Cell \u001b[1;32mIn[3], line 1\u001b[1;36m\u001b[0m\n\u001b[1;33m    Advantages:\u001b[0m\n\u001b[1;37m               ^\u001b[0m\n\u001b[1;31mSyntaxError\u001b[0m\u001b[1;31m:\u001b[0m invalid syntax\n"
     ]
    }
   ],
   "source": [
    "Advantages:\n",
    "\t1. K-means is computationally efficient, especially for large datasets.\n",
    "\t2. The algorithm converges quickly and is faster than many other clustering algorithms.\n",
    "\n",
    "Limitations:\n",
    "\t1. The user must predefine the number of clusters , which is not always easy to determine.\n",
    "\t2. K-means assumes that clusters are spherical and evenly sized,which limits its effectiveness for data with clusters of irregular shapes, varying densities, or different sizes.\n",
    "\t3. Outliers can significantly distort the cluster centroids and affect the overall clustering result."
   ]
  },
  {
   "cell_type": "markdown",
   "metadata": {},
   "source": [
    "## Q4. How do you determine the optimal number of clusters in K-means clustering, and what are some common methods for doing so?"
   ]
  },
  {
   "cell_type": "code",
   "execution_count": 4,
   "metadata": {},
   "outputs": [
    {
     "ename": "SyntaxError",
     "evalue": "invalid syntax (3732587397.py, line 1)",
     "output_type": "error",
     "traceback": [
      "\u001b[1;36m  Cell \u001b[1;32mIn[4], line 1\u001b[1;36m\u001b[0m\n\u001b[1;33m    1. Elbow method - plot a graph between k value and wcss(sum of squre).identify\u001b[0m\n\u001b[1;37m       ^\u001b[0m\n\u001b[1;31mSyntaxError\u001b[0m\u001b[1;31m:\u001b[0m invalid syntax\n"
     ]
    }
   ],
   "source": [
    "1. Elbow method - plot a graph between k value and wcss(sum of squre).identify\n",
    "where plot elobw shape or rate of decrease sharply slows down,that value is optimal\n",
    "k value.\n",
    "\n",
    "2.. Silhouette - Measures how similar a point is to its own cluster compared to other clusters. The silhouette score ranges from -1 to 1, with higher values indicating better-defined clusters.\n",
    "\n"
   ]
  },
  {
   "cell_type": "markdown",
   "metadata": {},
   "source": [
    "# Q5. What are some applications of K-means clustering in real-world scenarios, and how has it been used to solve specific problems?"
   ]
  },
  {
   "cell_type": "code",
   "execution_count": 5,
   "metadata": {},
   "outputs": [
    {
     "ename": "SyntaxError",
     "evalue": "invalid decimal literal (3338186777.py, line 1)",
     "output_type": "error",
     "traceback": [
      "\u001b[1;36m  Cell \u001b[1;32mIn[5], line 1\u001b[1;36m\u001b[0m\n\u001b[1;33m    1.Segmentation analysis:Identifying distinct customer groups based on purchasing behavior, demographics, or other attributes.\u001b[0m\n\u001b[1;37m     ^\u001b[0m\n\u001b[1;31mSyntaxError\u001b[0m\u001b[1;31m:\u001b[0m invalid decimal literal\n"
     ]
    }
   ],
   "source": [
    "1.Segmentation analysis:Identifying distinct customer groups based on purchasing behavior, demographics, or other attributes.\n",
    "\n",
    "2.  Document Clustering: Search engines and digital libraries use K-means clustering to group documents, articles, or web pages into topics or categories based on the frequency of words and other text features.\n",
    "3.social media: Social media platforms use K-means clustering to detect communities or clusters of users with similar interests or connections"
   ]
  },
  {
   "cell_type": "markdown",
   "metadata": {},
   "source": [
    "# Q6. How do you interpret the output of a K-means clustering algorithm, and what insights can you derive from the resulting clusters?"
   ]
  },
  {
   "cell_type": "code",
   "execution_count": 6,
   "metadata": {},
   "outputs": [
    {
     "ename": "SyntaxError",
     "evalue": "invalid decimal literal (3923066815.py, line 1)",
     "output_type": "error",
     "traceback": [
      "\u001b[1;36m  Cell \u001b[1;32mIn[6], line 1\u001b[1;36m\u001b[0m\n\u001b[1;33m    1.Each data point is assigned to the nearest cluster centroid.Determine which cluster each data point belongs to.\u001b[0m\n\u001b[1;37m     ^\u001b[0m\n\u001b[1;31mSyntaxError\u001b[0m\u001b[1;31m:\u001b[0m invalid decimal literal\n"
     ]
    }
   ],
   "source": [
    "1.Each data point is assigned to the nearest cluster centroid.Determine which cluster each data point belongs to.\n",
    "\n",
    "2. The centroids represent the \"center\" of each cluster, summarizing the typical data point in that cluster.Compare centroids to understand the differences between clusters.\n",
    "\n",
    "3. Transaction records in a financial system.Identify outliers that do not fit into any cluster, which may indicate fraudulent transactions."
   ]
  },
  {
   "cell_type": "markdown",
   "metadata": {},
   "source": [
    "# Q7. What are some common challenges in implementing K-means clustering, and how can you address them?"
   ]
  },
  {
   "cell_type": "markdown",
   "metadata": {},
   "source": [
    "1. Selecting the appropriate number of clusters can be difficult and significantly impacts the clustering results.Use methods like the Elbow Method, Silhouette Analysis help to determine optimal k value.\n",
    "\n",
    "2. K-means is sensitive to the initial placement of centroids, which can lead to different results or convergence to local minima.Use the K-means++ initialization algorithm, which spreads out the initial centroids to improve clustering results.\n",
    "\n",
    "3. K-means assumes clusters are spherical and evenly sized, which may not be true for all datasets.Preprocess the data with dimensionality reduction techniques like PCA to transform the data into a more suitable space."
   ]
  },
  {
   "cell_type": "markdown",
   "metadata": {},
   "source": []
  }
 ],
 "metadata": {
  "kernelspec": {
   "display_name": "base",
   "language": "python",
   "name": "python3"
  },
  "language_info": {
   "codemirror_mode": {
    "name": "ipython",
    "version": 3
   },
   "file_extension": ".py",
   "mimetype": "text/x-python",
   "name": "python",
   "nbconvert_exporter": "python",
   "pygments_lexer": "ipython3",
   "version": "3.11.7"
  }
 },
 "nbformat": 4,
 "nbformat_minor": 2
}
