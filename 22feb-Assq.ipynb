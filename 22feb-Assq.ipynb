{
 "cells": [
  {
   "cell_type": "markdown",
   "id": "b8d30b12-39ce-4cf4-95e7-3003a9062817",
   "metadata": {},
   "source": [
    "# Q1. Create a Pandas Series that contains the following data: 4, 8, 15, 16, 23, and 42. Then, print the series."
   ]
  },
  {
   "cell_type": "code",
   "execution_count": 2,
   "id": "2ea0d715-c52d-4477-87c3-0cc8bea492eb",
   "metadata": {},
   "outputs": [],
   "source": [
    "import pandas as pd\n",
    "data=[4,8,15,16,23,42]"
   ]
  },
  {
   "cell_type": "code",
   "execution_count": 4,
   "id": "e0914aa6-403e-41a7-8e97-48fe05e84e17",
   "metadata": {},
   "outputs": [
    {
     "name": "stdout",
     "output_type": "stream",
     "text": [
      "0     4\n",
      "1     8\n",
      "2    15\n",
      "3    16\n",
      "4    23\n",
      "5    42\n",
      "dtype: int64\n"
     ]
    }
   ],
   "source": [
    "ser=pd.Series(data)\n",
    "print(ser)"
   ]
  },
  {
   "cell_type": "code",
   "execution_count": 5,
   "id": "d076baeb-4313-45a9-adac-3f60f482a43f",
   "metadata": {},
   "outputs": [
    {
     "data": {
      "text/plain": [
       "pandas.core.series.Series"
      ]
     },
     "execution_count": 5,
     "metadata": {},
     "output_type": "execute_result"
    }
   ],
   "source": [
    "type(ser)"
   ]
  },
  {
   "cell_type": "markdown",
   "id": "71205230-3a3f-4ac8-8db1-aaa9805fa96a",
   "metadata": {},
   "source": [
    "# Q2. Create a variable of list type containing 10 elements in it, and apply pandas.Series function on the\n",
    "variable print it."
   ]
  },
  {
   "cell_type": "code",
   "execution_count": 6,
   "id": "f97a625d-3f27-44df-bf6d-7be2a1a93c2d",
   "metadata": {},
   "outputs": [
    {
     "data": {
      "text/plain": [
       "0     12\n",
       "1      1\n",
       "2      5\n",
       "3      1\n",
       "4      2\n",
       "5      1\n",
       "6      2\n",
       "7     ac\n",
       "8    avr\n",
       "9    var\n",
       "dtype: object"
      ]
     },
     "execution_count": 6,
     "metadata": {},
     "output_type": "execute_result"
    }
   ],
   "source": [
    "l=[12,1,5,1,2,1,2,'ac','avr','var']\n",
    "pd.Series(l)"
   ]
  },
  {
   "cell_type": "markdown",
   "id": "1b40fae3-e8aa-4dee-9133-b25892ddeb85",
   "metadata": {},
   "source": [
    "# Q3. Create a Pandas DataFrame that contains the following data:"
   ]
  },
  {
   "cell_type": "code",
   "execution_count": 12,
   "id": "98befc6d-d401-4d82-a2c4-eb98dfa56346",
   "metadata": {},
   "outputs": [
    {
     "name": "stdout",
     "output_type": "stream",
     "text": [
      "     name  Age  Gender\n",
      "0   Alice   25  Female\n",
      "1     Bob   30    male\n",
      "2  claire   27  Female\n"
     ]
    }
   ],
   "source": [
    "data=[\n",
    "    {'name':'Alice','Age':25,'Gender':'Female'},\n",
    "    {'name':'Bob','Age':30,'Gender':'male'},\n",
    "    {'name':'claire','Age':27,'Gender':'Female'}\n",
    "      ]\n",
    "df=pd.DataFrame(data)\n",
    "print(df)"
   ]
  },
  {
   "cell_type": "markdown",
   "id": "eac970d1-21f1-4881-a795-6c26868245fa",
   "metadata": {},
   "source": [
    "# Q4. What is ‘DataFrame’ in pandas and how is it different from pandas.series? Explain with an example."
   ]
  },
  {
   "cell_type": "code",
   "execution_count": 13,
   "id": "060cb26e-2d93-46c5-822d-d8559aba5b52",
   "metadata": {},
   "outputs": [
    {
     "data": {
      "text/html": [
       "<div>\n",
       "<style scoped>\n",
       "    .dataframe tbody tr th:only-of-type {\n",
       "        vertical-align: middle;\n",
       "    }\n",
       "\n",
       "    .dataframe tbody tr th {\n",
       "        vertical-align: top;\n",
       "    }\n",
       "\n",
       "    .dataframe thead th {\n",
       "        text-align: right;\n",
       "    }\n",
       "</style>\n",
       "<table border=\"1\" class=\"dataframe\">\n",
       "  <thead>\n",
       "    <tr style=\"text-align: right;\">\n",
       "      <th></th>\n",
       "      <th>name</th>\n",
       "      <th>Age</th>\n",
       "      <th>Gender</th>\n",
       "    </tr>\n",
       "  </thead>\n",
       "  <tbody>\n",
       "    <tr>\n",
       "      <th>0</th>\n",
       "      <td>Alice</td>\n",
       "      <td>25</td>\n",
       "      <td>Female</td>\n",
       "    </tr>\n",
       "    <tr>\n",
       "      <th>1</th>\n",
       "      <td>Bob</td>\n",
       "      <td>30</td>\n",
       "      <td>male</td>\n",
       "    </tr>\n",
       "    <tr>\n",
       "      <th>2</th>\n",
       "      <td>claire</td>\n",
       "      <td>27</td>\n",
       "      <td>Female</td>\n",
       "    </tr>\n",
       "  </tbody>\n",
       "</table>\n",
       "</div>"
      ],
      "text/plain": [
       "     name  Age  Gender\n",
       "0   Alice   25  Female\n",
       "1     Bob   30    male\n",
       "2  claire   27  Female"
      ]
     },
     "execution_count": 13,
     "metadata": {},
     "output_type": "execute_result"
    }
   ],
   "source": [
    "''' \n",
    "DataFrame is a two-dimensional data structure that holds data in two-dimension array or a table with rows and columns.\n",
    "'''\n",
    "df"
   ]
  },
  {
   "cell_type": "code",
   "execution_count": 14,
   "id": "4a232f31-a618-4f25-a8d3-1a1b7eb9fa80",
   "metadata": {},
   "outputs": [
    {
     "data": {
      "text/plain": [
       "0     4\n",
       "1     8\n",
       "2    15\n",
       "3    16\n",
       "4    23\n",
       "5    42\n",
       "dtype: int64"
      ]
     },
     "execution_count": 14,
     "metadata": {},
     "output_type": "execute_result"
    }
   ],
   "source": [
    "'''\n",
    "Series is a on dimensonal data structure that holdas integer,string\n",
    "'''\n",
    "ser"
   ]
  },
  {
   "cell_type": "markdown",
   "id": "c2374042-8f06-4e0b-9cc2-c63a1a7eb56b",
   "metadata": {},
   "source": [
    "# Q5. What are some common functions you can use to manipulate data in a Pandas DataFrame? Can\n",
    "you give an example of when you might use one of these functions?"
   ]
  },
  {
   "cell_type": "code",
   "execution_count": 17,
   "id": "d2bd4d12-8836-4330-a727-5ae6bc326151",
   "metadata": {},
   "outputs": [
    {
     "data": {
      "text/html": [
       "<div>\n",
       "<style scoped>\n",
       "    .dataframe tbody tr th:only-of-type {\n",
       "        vertical-align: middle;\n",
       "    }\n",
       "\n",
       "    .dataframe tbody tr th {\n",
       "        vertical-align: top;\n",
       "    }\n",
       "\n",
       "    .dataframe thead th {\n",
       "        text-align: right;\n",
       "    }\n",
       "</style>\n",
       "<table border=\"1\" class=\"dataframe\">\n",
       "  <thead>\n",
       "    <tr style=\"text-align: right;\">\n",
       "      <th></th>\n",
       "      <th>name</th>\n",
       "      <th>Age</th>\n",
       "      <th>Gender</th>\n",
       "    </tr>\n",
       "  </thead>\n",
       "  <tbody>\n",
       "    <tr>\n",
       "      <th>0</th>\n",
       "      <td>False</td>\n",
       "      <td>False</td>\n",
       "      <td>False</td>\n",
       "    </tr>\n",
       "    <tr>\n",
       "      <th>1</th>\n",
       "      <td>False</td>\n",
       "      <td>False</td>\n",
       "      <td>False</td>\n",
       "    </tr>\n",
       "    <tr>\n",
       "      <th>2</th>\n",
       "      <td>False</td>\n",
       "      <td>False</td>\n",
       "      <td>False</td>\n",
       "    </tr>\n",
       "  </tbody>\n",
       "</table>\n",
       "</div>"
      ],
      "text/plain": [
       "    name    Age  Gender\n",
       "0  False  False   False\n",
       "1  False  False   False\n",
       "2  False  False   False"
      ]
     },
     "execution_count": 17,
     "metadata": {},
     "output_type": "execute_result"
    }
   ],
   "source": [
    "' .isnull(), .drop(), drop_duplicates(),etc'\n",
    "df.isnull()"
   ]
  },
  {
   "cell_type": "code",
   "execution_count": 18,
   "id": "5f3769d0-033a-423a-96b7-01b5f13842e4",
   "metadata": {},
   "outputs": [
    {
     "data": {
      "text/plain": [
       "0    False\n",
       "1    False\n",
       "2    False\n",
       "dtype: bool"
      ]
     },
     "execution_count": 18,
     "metadata": {},
     "output_type": "execute_result"
    }
   ],
   "source": [
    "df.duplicated()"
   ]
  },
  {
   "cell_type": "markdown",
   "id": "48fd8616-f5f2-433a-8ccc-591275566752",
   "metadata": {},
   "source": [
    "# Q6. Which of the following is mutable in nature Series, DataFrame, Panel?"
   ]
  },
  {
   "cell_type": "markdown",
   "id": "cd14247b-cfcc-4818-b12a-cb49e4b9f818",
   "metadata": {},
   "source": [
    "# Q7. Create a DataFrame using multiple Series. Explain with an example."
   ]
  },
  {
   "cell_type": "code",
   "execution_count": 20,
   "id": "a41eaef5-4191-4e41-b1ca-12f206d6e6cd",
   "metadata": {},
   "outputs": [],
   "source": [
    "r = pd.Series([i*3 for i in range(0, 10)], name='rrr')\n",
    "s = pd.Series([i*5 for i in range(0, 10)], name='sss')"
   ]
  },
  {
   "cell_type": "code",
   "execution_count": 21,
   "id": "9217ceed-bb66-4f6b-9d9e-a61ed7d3f839",
   "metadata": {},
   "outputs": [
    {
     "data": {
      "text/plain": [
       "0     0\n",
       "1     3\n",
       "2     6\n",
       "3     9\n",
       "4    12\n",
       "5    15\n",
       "6    18\n",
       "7    21\n",
       "8    24\n",
       "9    27\n",
       "Name: rrr, dtype: int64"
      ]
     },
     "execution_count": 21,
     "metadata": {},
     "output_type": "execute_result"
    }
   ],
   "source": [
    "r"
   ]
  },
  {
   "cell_type": "code",
   "execution_count": 22,
   "id": "af000702-07ea-445b-93e1-016e4740d873",
   "metadata": {},
   "outputs": [
    {
     "data": {
      "text/plain": [
       "0     0\n",
       "1     5\n",
       "2    10\n",
       "3    15\n",
       "4    20\n",
       "5    25\n",
       "6    30\n",
       "7    35\n",
       "8    40\n",
       "9    45\n",
       "Name: sss, dtype: int64"
      ]
     },
     "execution_count": 22,
     "metadata": {},
     "output_type": "execute_result"
    }
   ],
   "source": [
    "s"
   ]
  },
  {
   "cell_type": "markdown",
   "id": "cf86bacf-0c6f-4266-9984-4f284d92f002",
   "metadata": {},
   "source": []
  }
 ],
 "metadata": {
  "kernelspec": {
   "display_name": "Python 3 (ipykernel)",
   "language": "python",
   "name": "python3"
  },
  "language_info": {
   "codemirror_mode": {
    "name": "ipython",
    "version": 3
   },
   "file_extension": ".py",
   "mimetype": "text/x-python",
   "name": "python",
   "nbconvert_exporter": "python",
   "pygments_lexer": "ipython3",
   "version": "3.10.6"
  }
 },
 "nbformat": 4,
 "nbformat_minor": 5
}
