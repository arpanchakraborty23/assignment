{
 "cells": [
  {
   "cell_type": "markdown",
   "metadata": {},
   "source": [
    "# Q1, Create a vehicle class with an init method having instance variables as name_of_vehicle, max_speed and average_of_vehicle."
   ]
  },
  {
   "cell_type": "code",
   "execution_count": 2,
   "metadata": {},
   "outputs": [],
   "source": [
    "class vehicle:\n",
    "   def __init__(self,name_of_vehicle, max_speed, average_of_vehicle) -> None:\n",
    "          self.name_of_vehicle = name_of_vehicle\n",
    "          self.max_speed = max_speed\n",
    "          self.average_of_vehicle = average_of_vehicle"
   ]
  },
  {
   "cell_type": "code",
   "execution_count": 4,
   "metadata": {},
   "outputs": [
    {
     "name": "stdout",
     "output_type": "stream",
     "text": [
      "Name of vehicle: Tesla Model 3\n",
      "Max speed: 250 km/h\n",
      "Average fuel efficiency: 4.5 liters/100 km\n"
     ]
    }
   ],
   "source": [
    "my_car = vehicle(name_of_vehicle=\"Tesla Model 3\", max_speed=250, average_of_vehicle=4.5)\n",
    "print(f\"Name of vehicle: {my_car.name_of_vehicle}\")\n",
    "print(f\"Max speed: {my_car.max_speed} km/h\")\n",
    "print(f\"Average fuel efficiency: {my_car.average_of_vehicle} liters/100 km\")"
   ]
  },
  {
   "cell_type": "markdown",
   "metadata": {},
   "source": [
    "# Q2. Create a child class car from the vehicle class created in Que 1, which will inherit the vehicle class. Create a method named seating_capacity which takes capacity as an argument and returns the name of the vehicle and its seating capacity."
   ]
  },
  {
   "cell_type": "code",
   "execution_count": 10,
   "metadata": {},
   "outputs": [],
   "source": [
    "class car(vehicle):\n",
    "   def __init__(self, name_of_vehicle, max_speed, average_of_vehicle) -> None:\n",
    "\t\t  super().__init__(name_of_vehicle, max_speed, average_of_vehicle)\n",
    "   def seating_capacity(self, capacity):\n",
    "            return f\"{self.name_of_vehicle} has a seating capacity of {capacity} passengers.\""
   ]
  },
  {
   "cell_type": "code",
   "execution_count": 11,
   "metadata": {},
   "outputs": [
    {
     "name": "stdout",
     "output_type": "stream",
     "text": [
      "Tesla Model 3 has a seating capacity of 5 passengers.\n"
     ]
    }
   ],
   "source": [
    "my_car = car(name_of_vehicle=\"Tesla Model 3\", max_speed=250, average_of_vehicle=4.5)\n",
    "print(my_car.seating_capacity(capacity=5))"
   ]
  },
  {
   "cell_type": "markdown",
   "metadata": {},
   "source": [
    "# Q3. What is multiple inheritance? Write a python code to demonstrate multiple inheritance."
   ]
  },
  {
   "cell_type": "code",
   "execution_count": 12,
   "metadata": {},
   "outputs": [
    {
     "data": {
      "text/plain": [
       "'Multiple inheritance is a feature in object-oriented programming (OOP) where a class can inherit attributes and methods from more than one parent class.'"
      ]
     },
     "execution_count": 12,
     "metadata": {},
     "output_type": "execute_result"
    }
   ],
   "source": [
    "'Multiple inheritance is a feature in object-oriented programming (OOP) where a class can inherit attributes and methods from more than one parent class.'"
   ]
  },
  {
   "cell_type": "code",
   "execution_count": 13,
   "metadata": {},
   "outputs": [],
   "source": [
    "class Animal:\n",
    "    def speak(self):\n",
    "        print(\"Animal speaks\")\n",
    "\n",
    "class Mammal(Animal):\n",
    "    def walk(self):\n",
    "        print(\"Mammal walks\")\n",
    "\n",
    "class Bird(Animal):\n",
    "    def fly(self):\n",
    "        print(\"Bird flies\")\n",
    "\n",
    "class Bat(Mammal, Bird):\n",
    "    def echo_location(self):\n",
    "        print(\"Bat uses echolocation\")\n",
    "\n"
   ]
  },
  {
   "cell_type": "code",
   "execution_count": 14,
   "metadata": {},
   "outputs": [
    {
     "name": "stdout",
     "output_type": "stream",
     "text": [
      "Animal speaks\n",
      "Mammal walks\n",
      "Bird flies\n",
      "Bat uses echolocation\n"
     ]
    }
   ],
   "source": [
    "my_bat = Bat()\n",
    "\n",
    "# Demonstrate multiple inheritance\n",
    "my_bat.speak()  \n",
    "my_bat.walk()   \n",
    "my_bat.fly()  \n",
    "my_bat.echo_location()  "
   ]
  },
  {
   "cell_type": "markdown",
   "metadata": {},
   "source": [
    "# Q4. What are getter and setter in python? Create a class and create a getter and a setter method in this class."
   ]
  },
  {
   "cell_type": "code",
   "execution_count": 15,
   "metadata": {},
   "outputs": [
    {
     "data": {
      "text/plain": [
       "' Getters and setters are methods used to access and modify the attributes  of a class. They allow controlled access to class data, ensuring proper encapsulation'"
      ]
     },
     "execution_count": 15,
     "metadata": {},
     "output_type": "execute_result"
    }
   ],
   "source": [
    "' Getters and setters are methods used to access and modify the attributes  of a class. They allow controlled access to class data, ensuring proper encapsulation'"
   ]
  },
  {
   "cell_type": "code",
   "execution_count": 17,
   "metadata": {},
   "outputs": [],
   "source": [
    "class Student:\n",
    "    def __init__(self, name, age):\n",
    "        self._name = name  #\n",
    "        self._age = age\n",
    "\n",
    "    # Getter method for name\n",
    "    def get_name(self):\n",
    "        return self._name\n",
    "\n",
    "    # Setter method for name\n",
    "    def set_name(self, new_name):\n",
    "        self._name = new_name\n",
    "\n",
    "    # Getter method for age\n",
    "    def get_age(self):\n",
    "        return self._age\n",
    "\n",
    "    # Setter method for age\n",
    "    def set_age(self, new_age):\n",
    "        if new_age >= 0:\n",
    "            self._age = new_age\n",
    "        else:\n",
    "            print(\"Age cannot be negative. Setting age to 0.\")\n",
    "            self._age = 0\n",
    "\n"
   ]
  },
  {
   "cell_type": "code",
   "execution_count": 18,
   "metadata": {},
   "outputs": [
    {
     "name": "stdout",
     "output_type": "stream",
     "text": [
      "Original name: Alice\n",
      "Updated name: Alicia\n",
      "Original age: 20\n",
      "Updated age: 22\n",
      "Age cannot be negative. Setting age to 0.\n",
      "Age after trying to set negative value: 0\n"
     ]
    }
   ],
   "source": [
    "student1 = Student(name=\"Alice\", age=20)\n",
    "\n",
    "# Get and set name\n",
    "print(f\"Original name: {student1.get_name()}\")\n",
    "student1.set_name(\"Alicia\")\n",
    "print(f\"Updated name: {student1.get_name()}\")\n",
    "\n",
    "# Get and set age\n",
    "print(f\"Original age: {student1.get_age()}\")\n",
    "student1.set_age(22)\n",
    "print(f\"Updated age: {student1.get_age()}\")\n",
    "\n",
    "# Try setting negative age\n",
    "student1.set_age(-5)\n",
    "print(f\"Age after trying to set negative value: {student1.get_age()}\")"
   ]
  },
  {
   "cell_type": "markdown",
   "metadata": {},
   "source": [
    "# Q5.What is method overriding in python? Write a python code to demonstrate method overriding."
   ]
  },
  {
   "cell_type": "code",
   "execution_count": 19,
   "metadata": {},
   "outputs": [
    {
     "data": {
      "text/plain": [
       "'Method overriding is a concept in object-oriented programming (OOP) where a subclass provides a specific implementation for a method that is already defined in its parent class. The overridden method in the subclass has the same name, parameters, and return type as the method in the parent class.'"
      ]
     },
     "execution_count": 19,
     "metadata": {},
     "output_type": "execute_result"
    }
   ],
   "source": [
    "'Method overriding is a concept in object-oriented programming (OOP) where a subclass provides a specific implementation for a method that is already defined in its parent class. The overridden method in the subclass has the same name, parameters, and return type as the method in the parent class.'"
   ]
  },
  {
   "cell_type": "code",
   "execution_count": 20,
   "metadata": {},
   "outputs": [],
   "source": [
    "class Animal:\n",
    "    def speak(self):\n",
    "        print(\"Animal speaks\")\n",
    "\n",
    "class Dog(Animal):\n",
    "    def speak(self):\n",
    "        print(\"Dog barks\")\n",
    "\n",
    "class Cat(Animal):\n",
    "    def speak(self):\n",
    "        print(\"Cat meows\")"
   ]
  },
  {
   "cell_type": "code",
   "execution_count": 21,
   "metadata": {},
   "outputs": [
    {
     "name": "stdout",
     "output_type": "stream",
     "text": [
      "Dog barks\n",
      "Cat meows\n"
     ]
    }
   ],
   "source": [
    "my_dog = Dog()\n",
    "my_cat = Cat()\n",
    "\n",
    "# Demonstrate method overriding\n",
    "my_dog.speak()  \n",
    "my_cat.speak()"
   ]
  },
  {
   "cell_type": "code",
   "execution_count": null,
   "metadata": {},
   "outputs": [],
   "source": []
  }
 ],
 "metadata": {
  "kernelspec": {
   "display_name": "DS",
   "language": "python",
   "name": "python3"
  },
  "language_info": {
   "codemirror_mode": {
    "name": "ipython",
    "version": 3
   },
   "file_extension": ".py",
   "mimetype": "text/x-python",
   "name": "python",
   "nbconvert_exporter": "python",
   "pygments_lexer": "ipython3",
   "version": "3.10.14"
  }
 },
 "nbformat": 4,
 "nbformat_minor": 2
}
