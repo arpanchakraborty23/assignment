{
 "cells": [
  {
   "cell_type": "markdown",
   "id": "aa183525-b73d-40f4-9ba6-665a5aba0f63",
   "metadata": {},
   "source": [
    "# 1. What are the different data structures used in TensorFlow? Give some examples."
   ]
  },
  {
   "cell_type": "code",
   "execution_count": null,
   "id": "7a2715e3-c5eb-406f-8896-c69bb8b855b5",
   "metadata": {},
   "outputs": [],
   "source": [
    "Tensors: The central unit of data in TensorFlow, representing multi-dimensional arrays. They are similar to NumPy arrays but can run on GPUs.\n",
    "\n",
    "Variables: These are special types of tensors used to maintain state across multiple runs of a computation graph. Variables can be updated during training.\n",
    "\n",
    "Constants: Immutable tensors whose values cannot be changed after initialization.\n",
    "\n",
    "SparseTensors: Efficiently represent and manipulate sparse data, where most elements are zeros.\n",
    "\n",
    "Dataset: Used to represent a sequence of elements that can be processed in parallel or sequentially."
   ]
  },
  {
   "cell_type": "markdown",
   "id": "1fcab326-fb13-4da0-afa2-d589373c783c",
   "metadata": {},
   "source": [
    "# 2. How does the TensorFlow constant differ from a TensorFlow variable?  "
   ]
  },
  {
   "cell_type": "code",
   "execution_count": null,
   "id": "d41055d8-637c-4390-a6f4-eade8ac64d98",
   "metadata": {},
   "outputs": [],
   "source": [
    "A constant is a fixed value tensor that cannot be modified once it is created. It's used for fixed values that do not change during the execution of a program.\n",
    "\n",
    "A variable is a mutable tensor whose value can be changed. It's typically used to store and update parameters during training."
   ]
  },
  {
   "cell_type": "code",
   "execution_count": 3,
   "id": "9fe7663c-c43b-4465-8ac9-5edbf6b4cb32",
   "metadata": {
    "tags": []
   },
   "outputs": [],
   "source": [
    "import tensorflow as tf\n",
    "\n"
   ]
  },
  {
   "cell_type": "code",
   "execution_count": 5,
   "id": "81fac367-5689-4dc0-b113-be99d469a252",
   "metadata": {
    "tags": []
   },
   "outputs": [
    {
     "name": "stdout",
     "output_type": "stream",
     "text": [
      "TensorFlow Constant: tf.Tensor(5, shape=(), dtype=int32)\n"
     ]
    }
   ],
   "source": [
    "a = tf.constant(5)\n",
    "print(\"TensorFlow Constant:\", a)"
   ]
  },
  {
   "cell_type": "code",
   "execution_count": 9,
   "id": "af0af515-1ddd-4670-a325-4200fc2034c1",
   "metadata": {
    "tags": []
   },
   "outputs": [
    {
     "name": "stdout",
     "output_type": "stream",
     "text": [
      "Initial Variable: <tf.Variable 'Variable:0' shape=() dtype=int32, numpy=5>\n"
     ]
    }
   ],
   "source": [
    "b = tf.Variable(5)\n",
    "print(\"Initial Variable:\", b)"
   ]
  },
  {
   "cell_type": "code",
   "execution_count": 11,
   "id": "9e3a9475-a6cb-4f5b-8d03-2e40ceb207a8",
   "metadata": {
    "tags": []
   },
   "outputs": [
    {
     "name": "stdout",
     "output_type": "stream",
     "text": [
      "Updated Variable: <tf.Variable 'Variable:0' shape=() dtype=int32, numpy=10>\n"
     ]
    }
   ],
   "source": [
    "b.assign(10)\n",
    "print(\"Updated Variable:\", b)"
   ]
  },
  {
   "cell_type": "code",
   "execution_count": 13,
   "id": "a2bc4194-973b-454d-9603-8fd60757c151",
   "metadata": {
    "tags": []
   },
   "outputs": [
    {
     "data": {
      "text/plain": [
       "TensorShape([])"
      ]
     },
     "execution_count": 13,
     "metadata": {},
     "output_type": "execute_result"
    }
   ],
   "source": [
    "b.shape"
   ]
  },
  {
   "cell_type": "markdown",
   "id": "c0bda0b1-3ebe-419c-97eb-04d97ca22111",
   "metadata": {},
   "source": [
    "# 3. Describe the process of matrix addition, multiplication, and element-wise operations in TensorFlow."
   ]
  },
  {
   "cell_type": "code",
   "execution_count": 18,
   "id": "b5842ff1-cd1d-427e-a817-d2f4e4374524",
   "metadata": {
    "tags": []
   },
   "outputs": [
    {
     "ename": "SyntaxError",
     "evalue": "invalid syntax (3118728827.py, line 1)",
     "output_type": "error",
     "traceback": [
      "\u001b[1;36m  Cell \u001b[1;32mIn[18], line 1\u001b[1;36m\u001b[0m\n\u001b[1;33m    Matrix Addition: Adding two matrices of the same dimensions element-wise.\u001b[0m\n\u001b[1;37m           ^\u001b[0m\n\u001b[1;31mSyntaxError\u001b[0m\u001b[1;31m:\u001b[0m invalid syntax\n"
     ]
    }
   ],
   "source": [
    "Matrix Addition: Adding two matrices of the same dimensions element-wise.\n",
    "Matrix Multiplication: Performing the dot product between rows and columns of matrices.\n",
    "Element-wise Operations: Operations performed on each element independently."
   ]
  },
  {
   "cell_type": "code",
   "execution_count": 22,
   "id": "fa79be36-f281-4057-870b-f67286f0dd37",
   "metadata": {
    "tags": []
   },
   "outputs": [
    {
     "name": "stdout",
     "output_type": "stream",
     "text": [
      "tf.Tensor(\n",
      "[[ 6  8]\n",
      " [10 12]], shape=(2, 2), dtype=int32)\n"
     ]
    }
   ],
   "source": [
    "matrix1 = tf.constant([[1, 2], [3, 4]])\n",
    "matrix2 = tf.constant([[5, 6], [7, 8]])\n",
    "add_result = tf.add(matrix1, matrix2)\n",
    "print(add_result)"
   ]
  },
  {
   "cell_type": "code",
   "execution_count": 24,
   "id": "049eabe9-3c95-440b-8f47-5fba6f36e3e3",
   "metadata": {
    "tags": []
   },
   "outputs": [
    {
     "name": "stdout",
     "output_type": "stream",
     "text": [
      "tf.Tensor(\n",
      "[[19 22]\n",
      " [43 50]], shape=(2, 2), dtype=int32)\n"
     ]
    }
   ],
   "source": [
    "mul_result = tf.matmul(matrix1, matrix2)\n",
    "print(mul_result)"
   ]
  },
  {
   "cell_type": "code",
   "execution_count": 26,
   "id": "22abbe9d-6c98-4fa3-9060-4ff3b2137744",
   "metadata": {
    "tags": []
   },
   "outputs": [
    {
     "name": "stdout",
     "output_type": "stream",
     "text": [
      "tf.Tensor(\n",
      "[[ 5 12]\n",
      " [21 32]], shape=(2, 2), dtype=int32)\n"
     ]
    }
   ],
   "source": [
    "elementwise_result = tf.multiply(matrix1, matrix2)\n",
    "print(elementwise_result)"
   ]
  },
  {
   "cell_type": "markdown",
   "id": "06bdbfe1-2b75-4c09-a5b7-04085c094999",
   "metadata": {},
   "source": [
    "# Task 1: Creating and Manipulating Matrices "
   ]
  },
  {
   "cell_type": "markdown",
   "id": "03d84625-6682-4179-b0dd-750baa820268",
   "metadata": {},
   "source": [
    " Create a normal matrix A with dimensions 2x2, using TensorFlow's random_normal function. Display the\n",
    "values of matrix A"
   ]
  },
  {
   "cell_type": "code",
   "execution_count": 55,
   "id": "17d2263f-2d29-4d06-a634-39b72258d506",
   "metadata": {
    "tags": []
   },
   "outputs": [
    {
     "name": "stdout",
     "output_type": "stream",
     "text": [
      "tf.Tensor(\n",
      "[[-0.18122442  0.9003161 ]\n",
      " [-0.13341819  2.6116493 ]], shape=(2, 2), dtype=float32)\n"
     ]
    }
   ],
   "source": [
    "A=tf.random.normal([3,3])\n",
    "print(a)"
   ]
  },
  {
   "cell_type": "markdown",
   "id": "e25b2d20-41d1-45d0-adb5-3af1b9f0e3c2",
   "metadata": {},
   "source": [
    "Cc Create a Gaussian matrix B with dimensions x, using TensorFlow's truncated_normal function. Display\n",
    "the values of matrix B"
   ]
  },
  {
   "cell_type": "code",
   "execution_count": 41,
   "id": "dfce07b9-2af1-4f70-81c5-152481a675bc",
   "metadata": {
    "tags": []
   },
   "outputs": [
    {
     "name": "stdout",
     "output_type": "stream",
     "text": [
      "tf.Tensor(\n",
      "[[ 0.82329375  1.2041289   0.28913558  0.55604875]\n",
      " [ 0.26505935  0.11157151  1.267173    0.45559236]\n",
      " [-1.8791251   0.21743351 -0.5325515   0.7122137 ]\n",
      " [-0.16637169 -0.85146916 -0.42077     0.61200815]], shape=(4, 4), dtype=float32)\n"
     ]
    }
   ],
   "source": [
    "B=tf.random.truncated_normal([4,4])\n",
    "print(B)"
   ]
  },
  {
   "cell_type": "markdown",
   "id": "6c87f373-f10a-4b7d-8278-41c58817d9c6",
   "metadata": {},
   "source": [
    " Create a matrix C with dimensions 2x2, where the values are drawn from a normal distribution with a\n",
    "mean of 2 and a standard deviation of 0.x, using TensorFlow's random.normal function. Display the values\n",
    "of matrix C"
   ]
  },
  {
   "cell_type": "code",
   "execution_count": 46,
   "id": "91b0578b-1205-49e2-a34d-3d44c700006d",
   "metadata": {
    "tags": []
   },
   "outputs": [
    {
     "name": "stdout",
     "output_type": "stream",
     "text": [
      "tf.Tensor(\n",
      "[[2.84987   3.1598444]\n",
      " [3.0034134 3.816002 ]], shape=(2, 2), dtype=float32)\n"
     ]
    }
   ],
   "source": [
    "C = tf.random.normal([2, 2], mean=3, stddev=0.5)\n",
    "print( C)"
   ]
  },
  {
   "cell_type": "markdown",
   "id": "16a8b5d5-7927-4c9e-b3c7-3842fdab0ada",
   "metadata": {},
   "source": [
    "4. Perform matrix addition between matrix A and matrix B, and store the result in matrix Dc\n",
    "5. wc Perform matrix multiplication between matrix C and matrix D, and store the result in matrix E."
   ]
  },
  {
   "cell_type": "code",
   "execution_count": 61,
   "id": "1ddf23fb-17ba-48da-bdca-230f0afb0c19",
   "metadata": {
    "tags": []
   },
   "outputs": [
    {
     "name": "stdout",
     "output_type": "stream",
     "text": [
      "Matrix D (A + B):\n",
      " tf.Tensor(\n",
      "[[ 0.73280215 -0.61079353 -2.327613  ]\n",
      " [-0.20246828  0.3821621  -1.7278508 ]\n",
      " [-1.2922593   1.5225441   0.35556626]], shape=(3, 3), dtype=float32)\n"
     ]
    }
   ],
   "source": [
    "D = tf.add(A, B_add)\n",
    "print(D)"
   ]
  },
  {
   "cell_type": "code",
   "execution_count": 65,
   "id": "4c8a22dc-5fd4-49eb-8bea-2ac203aeb83b",
   "metadata": {
    "tags": []
   },
   "outputs": [
    {
     "name": "stdout",
     "output_type": "stream",
     "text": [
      "tf.Tensor(\n",
      "[[-0.2339445   0.08033732  1.6788843 ]\n",
      " [-0.65201515  0.60681254  1.3289967 ]\n",
      " [-1.7855585   1.9297338   1.2575338 ]], shape=(3, 3), dtype=float32)\n"
     ]
    }
   ],
   "source": [
    "# Matrix multiplication (ensure D and C have compatible dimensions)\n",
    "C_mul = tf.random.normal([3, 3])  # Reshape C if needed for this operation\n",
    "\n",
    "E = tf.matmul(C_mul, D)\n",
    "print( E)\n"
   ]
  },
  {
   "cell_type": "markdown",
   "id": "e3e4e314-83ba-467c-8f47-1586b731afd3",
   "metadata": {},
   "source": [
    "1. Create a matrix F with dimensions 2x2, initialized with random values using TensorFlow's random_uniform\n",
    "functionc\n",
    "2. Calculate the transpose of matrix F and store the result in matrix Gc\n",
    "3. Calculate the elementDwise exponential of matrix F and store the result in matrix Hc\n",
    "4. Create a matrix I by concatenating matrix F and matrix G horizontallyc\n",
    "5. Create a matrix J by concatenating matrix F and matrix H vertically."
   ]
  },
  {
   "cell_type": "code",
   "execution_count": 68,
   "id": "fe782a04-60ce-48a6-af6d-03adb2433e1c",
   "metadata": {
    "tags": []
   },
   "outputs": [
    {
     "name": "stdout",
     "output_type": "stream",
     "text": [
      "tf.Tensor(\n",
      "[[1.579653  7.664969  8.647965 ]\n",
      " [2.8597581 9.767597  6.810602 ]\n",
      " [4.1531887 5.9823227 6.603278 ]], shape=(3, 3), dtype=float32)\n"
     ]
    }
   ],
   "source": [
    "# Create matrix F\n",
    "F = tf.random.uniform([3, 3], minval=0, maxval=10)\n",
    "print(F)\n"
   ]
  },
  {
   "cell_type": "code",
   "execution_count": 70,
   "id": "7756d732-29a0-4177-93cf-039f4c70a4a3",
   "metadata": {
    "tags": []
   },
   "outputs": [
    {
     "name": "stdout",
     "output_type": "stream",
     "text": [
      "Matrix G (Transpose of F):\n",
      " tf.Tensor(\n",
      "[[1.579653  2.8597581 4.1531887]\n",
      " [7.664969  9.767597  5.9823227]\n",
      " [8.647965  6.810602  6.603278 ]], shape=(3, 3), dtype=float32)\n"
     ]
    }
   ],
   "source": [
    "# Transpose of F\n",
    "G = tf.transpose(F)\n",
    "print(\"Matrix G (Transpose of F):\\n\", G)\n"
   ]
  },
  {
   "cell_type": "code",
   "execution_count": 72,
   "id": "9e277f5e-1b04-49d6-9e2f-d817e3129ff6",
   "metadata": {
    "tags": []
   },
   "outputs": [
    {
     "name": "stdout",
     "output_type": "stream",
     "text": [
      "Matrix G (Transpose of F):\n",
      " tf.Tensor(\n",
      "[[1.579653  2.8597581 4.1531887]\n",
      " [7.664969  9.767597  5.9823227]\n",
      " [8.647965  6.810602  6.603278 ]], shape=(3, 3), dtype=float32)\n"
     ]
    }
   ],
   "source": [
    "# Transpose of F\n",
    "G = tf.transpose(F)\n",
    "print(\"Matrix G (Transpose of F):\\n\", G)"
   ]
  },
  {
   "cell_type": "code",
   "execution_count": 74,
   "id": "06782a67-2560-44e8-b19e-f757cd61a0c3",
   "metadata": {
    "tags": []
   },
   "outputs": [
    {
     "name": "stdout",
     "output_type": "stream",
     "text": [
      "Matrix H (Exponential of F):\n",
      " tf.Tensor(\n",
      "[[4.8532715e+00 2.1323267e+03 5.6985410e+03]\n",
      " [1.7457304e+01 1.7458766e+04 9.0741705e+02]\n",
      " [6.3636593e+01 3.9635992e+02 7.3750891e+02]], shape=(3, 3), dtype=float32)\n"
     ]
    }
   ],
   "source": [
    "# Element-wise exponential\n",
    "H = tf.exp(F)\n",
    "print(\"Matrix H (Exponential of F):\\n\", H)\n"
   ]
  },
  {
   "cell_type": "code",
   "execution_count": 76,
   "id": "26414bb3-fa9d-467d-9d41-a0012c9cde47",
   "metadata": {
    "tags": []
   },
   "outputs": [
    {
     "name": "stdout",
     "output_type": "stream",
     "text": [
      "Matrix I (F concatenated with G):\n",
      " tf.Tensor(\n",
      "[[1.579653  7.664969  8.647965  1.579653  2.8597581 4.1531887]\n",
      " [2.8597581 9.767597  6.810602  7.664969  9.767597  5.9823227]\n",
      " [4.1531887 5.9823227 6.603278  8.647965  6.810602  6.603278 ]], shape=(3, 6), dtype=float32)\n"
     ]
    }
   ],
   "source": [
    "# Horizontal concatenation\n",
    "I = tf.concat([F, G], axis=1)\n",
    "print(\"Matrix I (F concatenated with G):\\n\", I)"
   ]
  },
  {
   "cell_type": "code",
   "execution_count": 78,
   "id": "61d67bc2-9f6f-477f-bce2-3585e196d4e7",
   "metadata": {
    "tags": []
   },
   "outputs": [
    {
     "name": "stdout",
     "output_type": "stream",
     "text": [
      "Matrix J (F concatenated with H):\n",
      " tf.Tensor(\n",
      "[[1.5796530e+00 7.6649690e+00 8.6479654e+00]\n",
      " [2.8597581e+00 9.7675972e+00 6.8106022e+00]\n",
      " [4.1531887e+00 5.9823227e+00 6.6032782e+00]\n",
      " [4.8532715e+00 2.1323267e+03 5.6985410e+03]\n",
      " [1.7457304e+01 1.7458766e+04 9.0741705e+02]\n",
      " [6.3636593e+01 3.9635992e+02 7.3750891e+02]], shape=(6, 3), dtype=float32)\n"
     ]
    }
   ],
   "source": [
    "# Vertical concatenation\n",
    "J = tf.concat([F, H], axis=0)\n",
    "print(\"Matrix J (F concatenated with H):\\n\", J)\n"
   ]
  },
  {
   "cell_type": "code",
   "execution_count": null,
   "id": "ed4c5f87-c499-4480-8398-7be89f0c09b4",
   "metadata": {},
   "outputs": [],
   "source": []
  }
 ],
 "metadata": {
  "kernelspec": {
   "display_name": "Python 3 (ipykernel)",
   "language": "python",
   "name": "python3"
  },
  "language_info": {
   "codemirror_mode": {
    "name": "ipython",
    "version": 3
   },
   "file_extension": ".py",
   "mimetype": "text/x-python",
   "name": "python",
   "nbconvert_exporter": "python",
   "pygments_lexer": "ipython3",
   "version": "3.11.7"
  }
 },
 "nbformat": 4,
 "nbformat_minor": 5
}
