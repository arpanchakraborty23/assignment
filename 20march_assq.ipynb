{
 "cells": [
  {
   "cell_type": "markdown",
   "id": "9380fb3d-4d15-4b5c-8564-4aaf8093c3e6",
   "metadata": {},
   "source": [
    "## Q1. What is data encoding? How is it useful in data science?"
   ]
  },
  {
   "cell_type": "raw",
   "id": "d8874b47-f6a4-4386-a5d6-fbf5fca17215",
   "metadata": {
    "tags": []
   },
   "source": [
    "Data Encoding :- data encoding a method in ML to convert catagoriccal data to numariacl data.\n",
    "\n",
    "In Data Science convert catagoriccal data to numariacl data because computer don't understand catagorical data to convert them\n",
    "data and feed them to build model."
   ]
  },
  {
   "cell_type": "markdown",
   "id": "b326c4f9-5f31-4991-8540-55eeac51b206",
   "metadata": {},
   "source": [
    "## Q2. What is nominal encoding? Provide an example of how you would use it in a real-world scenario."
   ]
  },
  {
   "cell_type": "raw",
   "id": "c465936e-3b53-4b9f-83ea-5bcb22b4110f",
   "metadata": {
    "tags": []
   },
   "source": [
    "Nominal Encodding: - Nominal encoding  convert catagoriccal data to numariacl data by creating binary vectors"
   ]
  },
  {
   "cell_type": "code",
   "execution_count": 127,
   "id": "8dec0900-8c9b-45ab-87e6-a74d1b971368",
   "metadata": {
    "tags": []
   },
   "outputs": [],
   "source": [
    "import seaborn as sns\n",
    "\n",
    "from sklearn.preprocessing import OneHotEncoder\n",
    "ohe=OneHotEncoder()\n",
    "\n",
    "df=sns.load_dataset('tips')\n",
    "\n"
   ]
  },
  {
   "cell_type": "code",
   "execution_count": 129,
   "id": "35d33883-c998-4fcc-ab75-cc6f09f7dd17",
   "metadata": {
    "tags": []
   },
   "outputs": [],
   "source": [
    "encode=ohe.fit_transform(df[['sex']])"
   ]
  },
  {
   "cell_type": "code",
   "execution_count": 131,
   "id": "67c1bc8c-8fdd-40ad-8353-8b2d6b446446",
   "metadata": {
    "tags": []
   },
   "outputs": [],
   "source": [
    "df1=pd.DataFrame(encode.toarray(),columns=ohe.get_feature_names_out())"
   ]
  },
  {
   "cell_type": "code",
   "execution_count": 133,
   "id": "e50cb1cf-aa20-4a9d-b6de-46dfab81563d",
   "metadata": {
    "tags": []
   },
   "outputs": [],
   "source": [
    "df1['sex']=df['sex']\n"
   ]
  },
  {
   "cell_type": "code",
   "execution_count": 135,
   "id": "8b53605a-da66-44c2-b687-e5f1344d8e86",
   "metadata": {
    "tags": []
   },
   "outputs": [
    {
     "data": {
      "text/html": [
       "<div>\n",
       "<style scoped>\n",
       "    .dataframe tbody tr th:only-of-type {\n",
       "        vertical-align: middle;\n",
       "    }\n",
       "\n",
       "    .dataframe tbody tr th {\n",
       "        vertical-align: top;\n",
       "    }\n",
       "\n",
       "    .dataframe thead th {\n",
       "        text-align: right;\n",
       "    }\n",
       "</style>\n",
       "<table border=\"1\" class=\"dataframe\">\n",
       "  <thead>\n",
       "    <tr style=\"text-align: right;\">\n",
       "      <th></th>\n",
       "      <th>sex_Female</th>\n",
       "      <th>sex_Male</th>\n",
       "      <th>sex</th>\n",
       "    </tr>\n",
       "  </thead>\n",
       "  <tbody>\n",
       "    <tr>\n",
       "      <th>0</th>\n",
       "      <td>1.0</td>\n",
       "      <td>0.0</td>\n",
       "      <td>Female</td>\n",
       "    </tr>\n",
       "    <tr>\n",
       "      <th>1</th>\n",
       "      <td>0.0</td>\n",
       "      <td>1.0</td>\n",
       "      <td>Male</td>\n",
       "    </tr>\n",
       "    <tr>\n",
       "      <th>2</th>\n",
       "      <td>0.0</td>\n",
       "      <td>1.0</td>\n",
       "      <td>Male</td>\n",
       "    </tr>\n",
       "    <tr>\n",
       "      <th>3</th>\n",
       "      <td>0.0</td>\n",
       "      <td>1.0</td>\n",
       "      <td>Male</td>\n",
       "    </tr>\n",
       "    <tr>\n",
       "      <th>4</th>\n",
       "      <td>1.0</td>\n",
       "      <td>0.0</td>\n",
       "      <td>Female</td>\n",
       "    </tr>\n",
       "    <tr>\n",
       "      <th>...</th>\n",
       "      <td>...</td>\n",
       "      <td>...</td>\n",
       "      <td>...</td>\n",
       "    </tr>\n",
       "    <tr>\n",
       "      <th>239</th>\n",
       "      <td>0.0</td>\n",
       "      <td>1.0</td>\n",
       "      <td>Male</td>\n",
       "    </tr>\n",
       "    <tr>\n",
       "      <th>240</th>\n",
       "      <td>1.0</td>\n",
       "      <td>0.0</td>\n",
       "      <td>Female</td>\n",
       "    </tr>\n",
       "    <tr>\n",
       "      <th>241</th>\n",
       "      <td>0.0</td>\n",
       "      <td>1.0</td>\n",
       "      <td>Male</td>\n",
       "    </tr>\n",
       "    <tr>\n",
       "      <th>242</th>\n",
       "      <td>0.0</td>\n",
       "      <td>1.0</td>\n",
       "      <td>Male</td>\n",
       "    </tr>\n",
       "    <tr>\n",
       "      <th>243</th>\n",
       "      <td>1.0</td>\n",
       "      <td>0.0</td>\n",
       "      <td>Female</td>\n",
       "    </tr>\n",
       "  </tbody>\n",
       "</table>\n",
       "<p>244 rows × 3 columns</p>\n",
       "</div>"
      ],
      "text/plain": [
       "     sex_Female  sex_Male     sex\n",
       "0           1.0       0.0  Female\n",
       "1           0.0       1.0    Male\n",
       "2           0.0       1.0    Male\n",
       "3           0.0       1.0    Male\n",
       "4           1.0       0.0  Female\n",
       "..          ...       ...     ...\n",
       "239         0.0       1.0    Male\n",
       "240         1.0       0.0  Female\n",
       "241         0.0       1.0    Male\n",
       "242         0.0       1.0    Male\n",
       "243         1.0       0.0  Female\n",
       "\n",
       "[244 rows x 3 columns]"
      ]
     },
     "execution_count": 135,
     "metadata": {},
     "output_type": "execute_result"
    }
   ],
   "source": [
    "df1"
   ]
  },
  {
   "cell_type": "markdown",
   "id": "b45b2c73-2d9d-4504-ae4b-ad2d43bc2be0",
   "metadata": {},
   "source": [
    "## Q3. In what situations is nominal encoding preferred over one-hot encoding? Provide a practical example."
   ]
  },
  {
   "cell_type": "raw",
   "id": "3770bc45-a5fe-48f2-8037-c10e74e67740",
   "metadata": {
    "tags": []
   },
   "source": [
    "1. Large Data: In Large no of data it lead us sparse matrix problem which create model overfitting.\n",
    "\n",
    "2. Oder Rand :when categories have an inherent order or Rank"
   ]
  },
  {
   "cell_type": "code",
   "execution_count": 142,
   "id": "a4edcc89-248e-4190-b62e-5f00f1976610",
   "metadata": {
    "tags": []
   },
   "outputs": [],
   "source": [
    "from sklearn.preprocessing import LabelEncoder\n",
    "data = {'customer_id': [1, 2, 3, 4, 5],\n",
    "        'customer_zip_code': ['12345', '67890', '54321', '67890', '12345'],\n",
    "        'churn': [0, 1, 0, 1, 0]}\n",
    "df = pd.DataFrame(data)\n",
    "\n",
    "\n",
    "label_encoder = LabelEncoder()\n",
    "df['customer_zip_code_encoded'] = label_encoder.fit_transform(df['customer_zip_code'])"
   ]
  },
  {
   "cell_type": "code",
   "execution_count": 144,
   "id": "f00364ec-45c0-4ae0-8fe9-ff336dd1a7fb",
   "metadata": {
    "tags": []
   },
   "outputs": [
    {
     "data": {
      "text/html": [
       "<div>\n",
       "<style scoped>\n",
       "    .dataframe tbody tr th:only-of-type {\n",
       "        vertical-align: middle;\n",
       "    }\n",
       "\n",
       "    .dataframe tbody tr th {\n",
       "        vertical-align: top;\n",
       "    }\n",
       "\n",
       "    .dataframe thead th {\n",
       "        text-align: right;\n",
       "    }\n",
       "</style>\n",
       "<table border=\"1\" class=\"dataframe\">\n",
       "  <thead>\n",
       "    <tr style=\"text-align: right;\">\n",
       "      <th></th>\n",
       "      <th>customer_id</th>\n",
       "      <th>customer_zip_code</th>\n",
       "      <th>churn</th>\n",
       "      <th>customer_zip_code_encoded</th>\n",
       "    </tr>\n",
       "  </thead>\n",
       "  <tbody>\n",
       "    <tr>\n",
       "      <th>0</th>\n",
       "      <td>1</td>\n",
       "      <td>12345</td>\n",
       "      <td>0</td>\n",
       "      <td>0</td>\n",
       "    </tr>\n",
       "    <tr>\n",
       "      <th>1</th>\n",
       "      <td>2</td>\n",
       "      <td>67890</td>\n",
       "      <td>1</td>\n",
       "      <td>2</td>\n",
       "    </tr>\n",
       "    <tr>\n",
       "      <th>2</th>\n",
       "      <td>3</td>\n",
       "      <td>54321</td>\n",
       "      <td>0</td>\n",
       "      <td>1</td>\n",
       "    </tr>\n",
       "    <tr>\n",
       "      <th>3</th>\n",
       "      <td>4</td>\n",
       "      <td>67890</td>\n",
       "      <td>1</td>\n",
       "      <td>2</td>\n",
       "    </tr>\n",
       "    <tr>\n",
       "      <th>4</th>\n",
       "      <td>5</td>\n",
       "      <td>12345</td>\n",
       "      <td>0</td>\n",
       "      <td>0</td>\n",
       "    </tr>\n",
       "  </tbody>\n",
       "</table>\n",
       "</div>"
      ],
      "text/plain": [
       "   customer_id customer_zip_code  churn  customer_zip_code_encoded\n",
       "0            1             12345      0                          0\n",
       "1            2             67890      1                          2\n",
       "2            3             54321      0                          1\n",
       "3            4             67890      1                          2\n",
       "4            5             12345      0                          0"
      ]
     },
     "execution_count": 144,
     "metadata": {},
     "output_type": "execute_result"
    }
   ],
   "source": [
    "df"
   ]
  },
  {
   "cell_type": "markdown",
   "id": "b589f310-5973-4e26-a6ad-e97ac52bca6b",
   "metadata": {},
   "source": [
    "## Q4. Suppose you have a dataset containing categorical data with 5 unique values. Which encoding\n",
    "## technique would you use to transform this data into a format suitable for machine learning algorithms?\n",
    "## Explain why you made this choice."
   ]
  },
  {
   "cell_type": "raw",
   "id": "f5540902-54d2-4520-b948-1cbc9518943c",
   "metadata": {
    "tags": []
   },
   "source": [
    "If dataset content categorical data with 5 unique values int that case we should use Labale encoder if 5 unique values are in order or rank we should definetly use ordinal encoder.\n",
    "\n",
    "Explain :- If we use ohe of 5 unique value it create extra 5 columns that can crate sprse matrix which can lead us overfitting.\n"
   ]
  },
  {
   "cell_type": "markdown",
   "id": "491cba78-cef3-47ac-b36c-22217debe3ee",
   "metadata": {},
   "source": [
    "## Q5. In a machine learning project, you have a dataset with 1000 rows and 5 columns. Two of the columns\n",
    "## are categorical, and the remaining three columns are numerical. If you were to use nominal encoding to\n",
    "## transform the categorical data, how many new columns would be created? Show your calculations."
   ]
  },
  {
   "cell_type": "raw",
   "id": "f12c1a8e-04b1-43f3-b34a-ccd6526f375f",
   "metadata": {
    "tags": []
   },
   "source": [
    "given data:- numarcical col=3\n",
    "            categoricl col =2\n",
    "            \n",
    "            row =1000\n",
    "            \n",
    "nominal encoding to transform the categorical data:-\n",
    "            numarcical= 3\n",
    "            encode_categorical col= 2\n",
    "        \n",
    "no new columns are created,the original two categorical columns are simply transformed into numerical columns, keeping the total column count the same at 5.\n",
    "\n",
    "    \n"
   ]
  },
  {
   "cell_type": "markdown",
   "id": "d54cf55a-cb68-4522-bd98-06a52ef45d74",
   "metadata": {},
   "source": [
    "## Q6. You are working with a dataset containing information about different types of animals, including their\n",
    "## species, habitat, and diet. Which encoding technique would you use to transform the categorical data into\n",
    "## a format suitable for machine learning algorithms? Justify your answer."
   ]
  },
  {
   "cell_type": "raw",
   "id": "dd7bebc3-f9a7-4819-83ea-962bd120d3e5",
   "metadata": {
    "tags": []
   },
   "source": [
    "cols= animals , species , habits , diet\n",
    "\n",
    "for animals use label encoding/ ohe their is no order in animal\n",
    "\n",
    "for species use ordinal encoding ex- dog can be diffrent types of species.\n",
    "\n",
    "for habit use label encoding/ ohe their is no order in habit\n",
    "\n",
    "for diet use ohe encoding ex- dog can be diffrent types of diet.\n",
    "\n"
   ]
  },
  {
   "cell_type": "markdown",
   "id": "c95c95d8-3f2c-4616-9602-9e75a98e39ad",
   "metadata": {},
   "source": [
    "## Q7.You are working on a project that involves predicting customer churn for a telecommunications\n",
    "## company. You have a dataset with 5 features, including the customer's gender, age, contract type,\n",
    "## monthly charges, and tenure. Which encoding technique(s) would you use to transform the categorical\n",
    "## data into numerical data? Provide a step-by-step explanation of how you would implement the encoding."
   ]
  },
  {
   "cell_type": "raw",
   "id": "a0f24b07-5000-44cc-9127-960fe75673d0",
   "metadata": {},
   "source": [
    "cols=  customer's gender, age, contract type, monthly charges,  tenure\n",
    "\n",
    "1. gender- gender have only 2 unique values so,if we use Ohe it would't create mauch sparce matrix .we can use Ohe for gender encoding\n",
    "\n",
    "2. age - Age is numarical col we don't need encoding\n",
    "\n",
    "3. contract type - contract type can be have diffrent types of unique catagoricval values 4-5 .so ,for sperse matrix ohe is not good optinion then label encoder will best to use.\n",
    "\n",
    "4. monthly charges- numarical col\n",
    "\n",
    "5. tenure - numarical col"
   ]
  },
  {
   "cell_type": "code",
   "execution_count": null,
   "id": "28863782-71b6-40d0-8b82-17594fc59ad6",
   "metadata": {},
   "outputs": [],
   "source": []
  }
 ],
 "metadata": {
  "kernelspec": {
   "display_name": "Python 3 (ipykernel)",
   "language": "python",
   "name": "python3"
  },
  "language_info": {
   "codemirror_mode": {
    "name": "ipython",
    "version": 3
   },
   "file_extension": ".py",
   "mimetype": "text/x-python",
   "name": "python",
   "nbconvert_exporter": "python",
   "pygments_lexer": "ipython3",
   "version": "3.11.7"
  }
 },
 "nbformat": 4,
 "nbformat_minor": 5
}
