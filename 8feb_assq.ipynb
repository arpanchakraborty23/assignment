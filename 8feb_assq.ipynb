{
 "cells": [
  {
   "cell_type": "markdown",
   "metadata": {},
   "source": [
    "# Q1. What is Abstraction in OOps? Explain with an example."
   ]
  },
  {
   "cell_type": "code",
   "execution_count": 1,
   "metadata": {},
   "outputs": [
    {
     "data": {
      "text/plain": [
       "'For example, consider a Car class. As a user, you interact with methods like start_engine(), accelerate(), and brake(). You don’t need to understand how these methods are implemented. you trust that they perform the expected actions.'"
      ]
     },
     "execution_count": 1,
     "metadata": {},
     "output_type": "execute_result"
    }
   ],
   "source": [
    "'Abstraction is a fundamental concept in object-oriented programming (OOP). It allows us to handle complexity by hiding unnecessary details from the user, making it easier to work with complex systems.'\n",
    "'For example, consider a Car class. As a user, you interact with methods like start_engine(), accelerate(), and brake(). You don’t need to understand how these methods are implemented. you trust that they perform the expected actions.'"
   ]
  },
  {
   "cell_type": "markdown",
   "metadata": {},
   "source": [
    "# Q2. Differentiate between Abstraction and Encapsulation. Explain with an example."
   ]
  },
  {
   "cell_type": "code",
   "execution_count": 3,
   "metadata": {},
   "outputs": [
    {
     "data": {
      "text/plain": [
       "'Abstraction:\\n\\t It allows users to interact with a high-level interface without needing to understand the internal implementation.\\n\\t It exposes only essential information to users.\\n\\nEncapsulation: \\n\\tIt promotes modularity, easier maintenance, and security by controlling data access.\\n\\tIt prevents unauthorized access to data.Encapsulation hides the internal details of an object from external code.'"
      ]
     },
     "execution_count": 3,
     "metadata": {},
     "output_type": "execute_result"
    }
   ],
   "source": [
    "'''Abstraction:\n",
    "\t It allows users to interact with a high-level interface without needing to understand the internal implementation.\n",
    "\t It exposes only essential information to users.\n",
    "\n",
    "Encapsulation: \n",
    "\tIt promotes modularity, easier maintenance, and security by controlling data access.\n",
    "\tIt prevents unauthorized access to data.Encapsulation hides the internal details of an object from external code.'''"
   ]
  },
  {
   "cell_type": "markdown",
   "metadata": {},
   "source": [
    "# Q3. What is abc module in python? Why is it used?"
   ]
  },
  {
   "cell_type": "code",
   "execution_count": 5,
   "metadata": {},
   "outputs": [
    {
     "data": {
      "text/plain": [
       "' The abc module in Python stands for Abstract Base Classes. It provides the infrastructure for defining abstract base classes  and helps enforce certain programming paradigms.\\nThe primary purpose of the abc module is to define abstract base classes and enforce a certain structure for derived classes.'"
      ]
     },
     "execution_count": 5,
     "metadata": {},
     "output_type": "execute_result"
    }
   ],
   "source": [
    "''' The abc module in Python stands for Abstract Base Classes. It provides the infrastructure for defining abstract base classes  and helps enforce certain programming paradigms.\n",
    "The primary purpose of the abc module is to define abstract base classes and enforce a certain structure for derived classes.'''"
   ]
  },
  {
   "cell_type": "code",
   "execution_count": 6,
   "metadata": {},
   "outputs": [
    {
     "name": "stdout",
     "output_type": "stream",
     "text": [
      "Circle area: 78.5\n",
      "Rectangle area: 24\n"
     ]
    }
   ],
   "source": [
    "from abc import ABC, abstractmethod\n",
    "\n",
    "class Shape(ABC):\n",
    "    @abstractmethod\n",
    "    def area(self):\n",
    "        pass\n",
    "\n",
    "class Circle(Shape):\n",
    "    def __init__(self, radius):\n",
    "        self.radius = radius\n",
    "\n",
    "    def area(self):\n",
    "        return 3.14 * self.radius ** 2\n",
    "\n",
    "class Rectangle(Shape):\n",
    "    def __init__(self, length, width):\n",
    "        self.length = length\n",
    "        self.width = width\n",
    "\n",
    "    def area(self):\n",
    "        return self.length * self.width\n",
    "\n",
    "# Usage\n",
    "circle = Circle(5)\n",
    "print(f\"Circle area: {circle.area()}\")\n",
    "\n",
    "rectangle = Rectangle(4, 6)\n",
    "print(f\"Rectangle area: {rectangle.area()}\")\n"
   ]
  },
  {
   "cell_type": "markdown",
   "metadata": {},
   "source": [
    "# Q4. How can we achieve data abstraction?"
   ]
  },
  {
   "cell_type": "code",
   "execution_count": 7,
   "metadata": {},
   "outputs": [
    {
     "data": {
      "text/plain": [
       "'\\nData abstraction is a fundamental concept in programming that allows us to hide implementation details and focus on essential features. In Python, we achieve data abstraction using abstract classes and the abc  module.\\n'"
      ]
     },
     "execution_count": 7,
     "metadata": {},
     "output_type": "execute_result"
    }
   ],
   "source": [
    "'''\n",
    "Data abstraction is a fundamental concept in programming that allows us to hide implementation details and focus on essential features. In Python, we achieve data abstraction using abstract classes and the abc  module.\n",
    "'''"
   ]
  },
  {
   "cell_type": "markdown",
   "metadata": {},
   "source": [
    "# Q5. Can we create an instance of an abstract class? Explain your answer."
   ]
  },
  {
   "cell_type": "code",
   "execution_count": 8,
   "metadata": {},
   "outputs": [
    {
     "data": {
      "text/plain": [
       "' \\nNo, we cannot directly create an instance of an abstract class.Attempting to instantiate an abstract class using the new keyword will result in an error.\\n\\nAbstract classes are meant to be subclassed. You create concrete subclasses that inherit from the abstract class.\\n\\nLet’s consider an abstract class Shape with an abstract method area(). Concrete subclasses like Circle and Rectangle will implement this method\\n'"
      ]
     },
     "execution_count": 8,
     "metadata": {},
     "output_type": "execute_result"
    }
   ],
   "source": [
    "''' \n",
    "No, we cannot directly create an instance of an abstract class.Attempting to instantiate an abstract class using the new keyword will result in an error.\n",
    "\n",
    "Abstract classes are meant to be subclassed. You create concrete subclasses that inherit from the abstract class.\n",
    "\n",
    "Let’s consider an abstract class Shape with an abstract method area(). Concrete subclasses like Circle and Rectangle will implement this method\n",
    "'''"
   ]
  },
  {
   "cell_type": "markdown",
   "metadata": {},
   "source": []
  },
  {
   "cell_type": "markdown",
   "metadata": {},
   "source": []
  }
 ],
 "metadata": {
  "kernelspec": {
   "display_name": "DS",
   "language": "python",
   "name": "python3"
  },
  "language_info": {
   "codemirror_mode": {
    "name": "ipython",
    "version": 3
   },
   "file_extension": ".py",
   "mimetype": "text/x-python",
   "name": "python",
   "nbconvert_exporter": "python",
   "pygments_lexer": "ipython3",
   "version": "3.10.14"
  }
 },
 "nbformat": 4,
 "nbformat_minor": 2
}
