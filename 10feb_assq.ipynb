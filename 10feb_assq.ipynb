{
 "cells": [
  {
   "cell_type": "markdown",
   "metadata": {},
   "source": [
    "# Q1. Which function is used to open a file? What are the different modes of opening a file? Explain each mode of file opening."
   ]
  },
  {
   "cell_type": "code",
   "execution_count": 1,
   "metadata": {},
   "outputs": [
    {
     "data": {
      "text/plain": [
       "'the key function for opening them is the open() function. It allows you to read, write, or append data to files'"
      ]
     },
     "execution_count": 1,
     "metadata": {},
     "output_type": "execute_result"
    }
   ],
   "source": [
    "'the key function for opening them is the open() function. It allows you to read, write, or append data to files'"
   ]
  },
  {
   "cell_type": "code",
   "execution_count": 2,
   "metadata": {},
   "outputs": [
    {
     "data": {
      "text/plain": [
       "'\\n1.Read Mode :\\n\\t Opens a file for reading.\\n\\tf = open(\"myfile.txt\", \"r\")\\n    \\n2.Write Mode:\\n\\tCreates the file if it does not exist\\n    f = open(\"myfile.txt\", \"w\")\\n\\n3. Binary Mode:\\n\\twe can specify binary mode (\"b\") to handle non-text files\\n    f = open(\"myfile.txt\", \"rb\")\\n\\t'"
      ]
     },
     "execution_count": 2,
     "metadata": {},
     "output_type": "execute_result"
    }
   ],
   "source": [
    "'''\n",
    "1.Read Mode :\n",
    "\t Opens a file for reading.\n",
    "\tf = open(\"myfile.txt\", \"r\")\n",
    "    \n",
    "2.Write Mode:\n",
    "\tCreates the file if it does not exist\n",
    "    f = open(\"myfile.txt\", \"w\")\n",
    "\n",
    "3. Binary Mode:\n",
    "\twe can specify binary mode (\"b\") to handle non-text files\n",
    "    f = open(\"myfile.txt\", \"rb\")\n",
    "\t'''"
   ]
  },
  {
   "cell_type": "markdown",
   "metadata": {},
   "source": [
    "# Q2. Why close() function is used? Why is it important to close a file?"
   ]
  },
  {
   "cell_type": "code",
   "execution_count": 4,
   "metadata": {},
   "outputs": [
    {
     "data": {
      "text/plain": [
       "' \\nImportance:\\n1.If we don’t close the file explicitly, these resources remain tied up, potentially leading to resource leaks.\\n2.Closing the file ensures that any buffered data is flushed and written to the file.\\n3.Closing files promptly helps maintain optimal program performance.\\n'"
      ]
     },
     "execution_count": 4,
     "metadata": {},
     "output_type": "execute_result"
    }
   ],
   "source": [
    "'The close() function in Python is used to explicitly close a file that has been opened using the open() function.'\n",
    "\n",
    "\n",
    "\n",
    "''' \n",
    "Importance:\n",
    "1.If we don’t close the file explicitly, these resources remain tied up, potentially leading to resource leaks.\n",
    "2.Closing the file ensures that any buffered data is flushed and written to the file.\n",
    "3.Closing files promptly helps maintain optimal program performance.\n",
    "'''"
   ]
  },
  {
   "cell_type": "markdown",
   "metadata": {},
   "source": [
    "# Q3. Write a python program to create a text file. Write ‘I want to become a Data Scientist’ in that file. Then close the file. Open this file and read the content of the file."
   ]
  },
  {
   "cell_type": "code",
   "execution_count": 7,
   "metadata": {},
   "outputs": [],
   "source": [
    "with open('demo.txt','w') as f:\n",
    "      f.write(\"I want to become a Data Scientist\")\n",
    "      f.close()"
   ]
  },
  {
   "cell_type": "code",
   "execution_count": 8,
   "metadata": {},
   "outputs": [
    {
     "name": "stdout",
     "output_type": "stream",
     "text": [
      "I want to become a Data Scientist\n"
     ]
    }
   ],
   "source": [
    "with open('demo.txt','r') as r:\n",
    "   data=r.read()\n",
    "print(data)"
   ]
  },
  {
   "cell_type": "markdown",
   "metadata": {},
   "source": [
    "# Q4. Explain the following with python code: read(), readline() and readlines()."
   ]
  },
  {
   "cell_type": "code",
   "execution_count": 9,
   "metadata": {},
   "outputs": [
    {
     "data": {
      "text/plain": [
       "'The read() method reads the entire content of a file as a single string.\\n\\nThe readline() method reads a single line from the file.\\n\\nhe readlines() method reads all lines from the file and returns them as a list of strings.\\n'"
      ]
     },
     "execution_count": 9,
     "metadata": {},
     "output_type": "execute_result"
    }
   ],
   "source": [
    "'''The read() method reads the entire content of a file as a single string.\n",
    "\n",
    "The readline() method reads a single line from the file.\n",
    "\n",
    "he readlines() method reads all lines from the file and returns them as a list of strings.\n",
    "'''"
   ]
  },
  {
   "cell_type": "code",
   "execution_count": 10,
   "metadata": {},
   "outputs": [
    {
     "name": "stdout",
     "output_type": "stream",
     "text": [
      "I want to become a Data Scientist\n"
     ]
    }
   ],
   "source": [
    "with open('demo.txt','r') as r:\n",
    "   data=r.read()\n",
    "print(data)"
   ]
  },
  {
   "cell_type": "code",
   "execution_count": 11,
   "metadata": {},
   "outputs": [
    {
     "name": "stdout",
     "output_type": "stream",
     "text": [
      "Line 1: I want to become a Data Scientist\n",
      "Line 2: \n"
     ]
    }
   ],
   "source": [
    "with open(\"demo.txt\", \"r\") as file:\n",
    "    line1 = file.readline()\n",
    "    line2 = file.readline()\n",
    "    print(f\"Line 1: {line1}\")\n",
    "    print(f\"Line 2: {line2}\")\n"
   ]
  },
  {
   "cell_type": "code",
   "execution_count": 13,
   "metadata": {},
   "outputs": [
    {
     "name": "stdout",
     "output_type": "stream",
     "text": [
      "I want to become a Data Scientist\n"
     ]
    }
   ],
   "source": [
    "with open(\"demo.txt\", \"r\") as file:\n",
    "    lines = file.readlines()\n",
    "    for line in lines:\n",
    "        print(line.strip())  "
   ]
  },
  {
   "cell_type": "markdown",
   "metadata": {},
   "source": [
    "# Q5. Explain why with statement is used with open(). What is the advantage of using with statement and open() together?"
   ]
  },
  {
   "cell_type": "code",
   "execution_count": 14,
   "metadata": {},
   "outputs": [
    {
     "data": {
      "text/plain": [
       "'  The with statement in Python is a powerful tool for managing resources, especially when working with files.\\n\\n1.The primary advantage of using with with open() is automatic resource management.\\n2.When you open a file using with, Python ensures that the file is automatically closed when you exit the with block.\\n3.If an exception occurs within the with block, Python still guarantees that the file will be closed properly.Without with, you’d need to handle exceptions explicitly and ensure that the file is closed even in error scenarios.\\n\\n\\n'"
      ]
     },
     "execution_count": 14,
     "metadata": {},
     "output_type": "execute_result"
    }
   ],
   "source": [
    "'''  The with statement in Python is a powerful tool for managing resources, especially when working with files.\n",
    "\n",
    "1.The primary advantage of using with with open() is automatic resource management.\n",
    "2.When you open a file using with, Python ensures that the file is automatically closed when you exit the with block.\n",
    "3.If an exception occurs within the with block, Python still guarantees that the file will be closed properly.Without with, you’d need to handle exceptions explicitly and ensure that the file is closed even in error scenarios.\n",
    "\n",
    "\n",
    "'''"
   ]
  },
  {
   "cell_type": "markdown",
   "metadata": {},
   "source": [
    "# Q6. Explain the write() and writelines() functions. Give a suitable example."
   ]
  },
  {
   "cell_type": "code",
   "execution_count": 15,
   "metadata": {},
   "outputs": [
    {
     "data": {
      "text/plain": [
       "\" write() Function: The write() function is used to write a single string to a file. When we open a file in write mode ('w') or append mode ('a'), you can use write() to add content to it.\\n\\nwritelines() Function: The writelines() function, on the other hand, writes a list of strings to a file. It’s like a team effort—each string in the list gets its turn to be written\\n\""
      ]
     },
     "execution_count": 15,
     "metadata": {},
     "output_type": "execute_result"
    }
   ],
   "source": [
    "''' write() Function: The write() function is used to write a single string to a file. When we open a file in write mode ('w') or append mode ('a'), you can use write() to add content to it.\n",
    "\n",
    "writelines() Function: The writelines() function, on the other hand, writes a list of strings to a file. It’s like a team effort—each string in the list gets its turn to be written\n",
    "'''"
   ]
  },
  {
   "cell_type": "code",
   "execution_count": 16,
   "metadata": {},
   "outputs": [
    {
     "name": "stdout",
     "output_type": "stream",
     "text": [
      "Data is written into the file.\n"
     ]
    }
   ],
   "source": [
    "file = open(\"Employees.txt\", \"w\")\n",
    "\n",
    "for _ in range(3):\n",
    "    name = input(\"Enter the name of the employee: \")\n",
    "    file.write(name)  # Write the name to the file\n",
    "    file.write(\"\\n\")  # Add a newline character\n",
    "\n",
    "file.close()  # Close the file\n",
    "print(\"Data is written into the file.\")\n"
   ]
  },
  {
   "cell_type": "code",
   "execution_count": 17,
   "metadata": {},
   "outputs": [
    {
     "name": "stdout",
     "output_type": "stream",
     "text": [
      "Data is written into the file.\n"
     ]
    }
   ],
   "source": [
    "file1 = open(\"Employees.txt\", \"w\")\n",
    "\n",
    "lst = []  # Create an empty list\n",
    "\n",
    "for _ in range(3):\n",
    "    name = input(\"Enter the name of the employee: \")\n",
    "    lst.append(name + '\\n')  # Add names with newline characters to the list\n",
    "\n",
    "file1.writelines(lst)  # Write the entire list to the file\n",
    "file1.close()  # Close the file\n",
    "print(\"Data is written into the file.\")\n"
   ]
  },
  {
   "cell_type": "code",
   "execution_count": null,
   "metadata": {},
   "outputs": [],
   "source": []
  }
 ],
 "metadata": {
  "kernelspec": {
   "display_name": "DS",
   "language": "python",
   "name": "python3"
  },
  "language_info": {
   "codemirror_mode": {
    "name": "ipython",
    "version": 3
   },
   "file_extension": ".py",
   "mimetype": "text/x-python",
   "name": "python",
   "nbconvert_exporter": "python",
   "pygments_lexer": "ipython3",
   "version": "3.10.14"
  }
 },
 "nbformat": 4,
 "nbformat_minor": 2
}
