{
 "cells": [
  {
   "cell_type": "markdown",
   "id": "84151844-829e-4d66-9393-64e468f5f20a",
   "metadata": {},
   "source": [
    "## Q1. What are the key steps involved in building an end-to-end web application, from development to deployment on the cloud?"
   ]
  },
  {
   "cell_type": "raw",
   "id": "7d1637fa-bb05-461a-ab64-0bf05917b849",
   "metadata": {
    "tags": []
   },
   "source": [
    "Data Collection --> Data Clean --> Feature Enggeneeraing --> Data Transormation --> Model Train -- Flask Web app --> Deploy"
   ]
  },
  {
   "cell_type": "markdown",
   "id": "fd37d744-4f84-471c-bccf-c7e837f79d0b",
   "metadata": {},
   "source": [
    "## Q2. Explain the difference between traditional web hosting and cloud hosting."
   ]
  },
  {
   "cell_type": "raw",
   "id": "adac855b-8f51-4d46-b98c-ad2048569f4e",
   "metadata": {
    "tags": []
   },
   "source": [
    "1.inn traditional web hosting, websites are hosted on physical servers maintained by hosting providers.\n",
    " cloud hosting, websites are hosted on virtual server\n",
    "    \n",
    "2.Traditional hosting plans often have fixed resources  allocated to each website or server.\n",
    "\n",
    "Cloud hosting offers scalability by allowing users to dynamically scale resources up or down based on demand\n",
    "\n",
    "3. Traditional hosting plans often have fixed monthly or annual fees based on allocated resources and features\n",
    "cloud hostingpay only for the resources they consume on a usage-based or hourly basis\n"
   ]
  },
  {
   "cell_type": "markdown",
   "id": "cb11ba93-eecb-426f-81a2-d25324c37638",
   "metadata": {},
   "source": [
    "## Q3. How do you choose the right cloud provider for your application deployment, and what factors should you consider?"
   ]
  },
  {
   "cell_type": "raw",
   "id": "2722d853-1ae8-4569-9440-aa1cade9f0d0",
   "metadata": {},
   "source": [
    "Choosing the right cloud provider for application deployment requires careful consideration of factors such as performance, scalability, cost, services, security, support"
   ]
  },
  {
   "cell_type": "markdown",
   "id": "d0a9dca2-2087-4459-9fe4-b264cf7de14b",
   "metadata": {},
   "source": [
    "## Q4. How do you design and build a responsive user interface for your web application, and what are some best practices to follow?"
   ]
  },
  {
   "cell_type": "code",
   "execution_count": null,
   "id": "a7946692-1d1d-40c8-810a-86aac8880442",
   "metadata": {},
   "outputs": [],
   "source": []
  },
  {
   "cell_type": "markdown",
   "id": "80f1a91e-20fa-4028-a6ad-0f791c203a2a",
   "metadata": {},
   "source": [
    "## Q5. How do you integrate the machine learning model with the user interface for the Algerian Forest Fires\n",
    "project(which we discussed in class), and what APIs or libraries can you use for this purpose?"
   ]
  },
  {
   "cell_type": "raw",
   "id": "ed0c9d6d-9186-45fd-b566-b8702ca7a17a",
   "metadata": {},
   "source": [
    "Create an API  exposes the machine learning model's prediction functionality. This API will receive input data from the user interface, perform predictions using the model, and return the results.\n",
    "\n",
    "Flask used to create a RESTful API for serving predictions. \n",
    "scikit-learn Standerscler obj that scale train data can be used for data preprocessing in the data get from web app"
   ]
  },
  {
   "cell_type": "code",
   "execution_count": null,
   "id": "778bad8c-2e32-42e5-b119-738c906adf2e",
   "metadata": {},
   "outputs": [],
   "source": []
  }
 ],
 "metadata": {
  "kernelspec": {
   "display_name": "Python 3 (ipykernel)",
   "language": "python",
   "name": "python3"
  },
  "language_info": {
   "codemirror_mode": {
    "name": "ipython",
    "version": 3
   },
   "file_extension": ".py",
   "mimetype": "text/x-python",
   "name": "python",
   "nbconvert_exporter": "python",
   "pygments_lexer": "ipython3",
   "version": "3.11.7"
  }
 },
 "nbformat": 4,
 "nbformat_minor": 5
}
