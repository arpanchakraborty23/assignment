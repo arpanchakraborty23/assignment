{
 "cells": [
  {
   "cell_type": "markdown",
   "metadata": {},
   "source": [
    "## Q1. What is the KNN algorithm?"
   ]
  },
  {
   "cell_type": "code",
   "execution_count": null,
   "metadata": {},
   "outputs": [],
   "source": [
    "Knn is as supervised ML algorithm that can predict classification and\n",
    "regression problem.\n",
    "\n",
    "knn algo takes train data as refarance when new data came in it try to calculte\n",
    "distance between new data and all train data .\n",
    "we assing a k value if k=5 it will take 5 nearest distance value from all distance value\n",
    "\n",
    "and if we have classification problem it will decide class by mejority of class \n",
    "\n",
    "or regression problem it takes avarage of all 5 nearest values"
   ]
  },
  {
   "cell_type": "markdown",
   "metadata": {},
   "source": [
    "## Q2. How do you choose the value of K in KNN?"
   ]
  },
  {
   "cell_type": "markdown",
   "metadata": {},
   "source": [
    "For choose write K-value we can use hyperprameter tuning by Gridserchcv\n",
    "give a list of k value by fiting it gave use write value.\n",
    "\n",
    "but it is a distance base algo so it better take small value"
   ]
  },
  {
   "cell_type": "markdown",
   "metadata": {},
   "source": [
    "## Q3. What is the difference between KNN classifier and KNN regressor?"
   ]
  },
  {
   "cell_type": "markdown",
   "metadata": {},
   "source": [
    "knn algo takes train data as refarance when new data came in it try to calculte\n",
    "distance between new data and all train data .\n",
    "we assing a k value if k=5 it will take 5 nearest distance value from all distance value\n",
    "\n",
    "diffrence\n",
    "\n",
    "classification problem it will decide class by mejority of vote\n",
    "\n",
    "and\n",
    "\n",
    "regression problem it takes avarage of all 5 nearest values"
   ]
  },
  {
   "cell_type": "markdown",
   "metadata": {},
   "source": [
    "## Q4. How do you measure the performance of KNN?"
   ]
  },
  {
   "cell_type": "markdown",
   "metadata": {},
   "source": [
    "The choice of performance metrics depends on whether the task is classification or regression.\n",
    "\n",
    "if classificataion we use accuracy, precision, recall, f1-score, etc.\n",
    "if regression we use MSE, MAE, RMSE"
   ]
  },
  {
   "cell_type": "markdown",
   "metadata": {},
   "source": [
    "## Q5. What is the curse of dimensionality in KNN?"
   ]
  },
  {
   "cell_type": "markdown",
   "metadata": {},
   "source": [
    "When distances are similar, the algorithm finds it difficult to distinguish between near and far neighbors, reducing the effectiveness of KNN\n",
    "\n",
    "With more dimensions, the model can become more complex and may fit the training data too closely, capturing noise instead of the underlying pattern. This leads to poor generalization on unseen data.\n",
    "\n",
    "High-dimensional data can require significant amounts of memory to store, both for the dataset itself and for the distance matrices used in KNN."
   ]
  },
  {
   "cell_type": "markdown",
   "metadata": {},
   "source": [
    "## Q6. How do you handle missing values in KNN?"
   ]
  },
  {
   "cell_type": "markdown",
   "metadata": {},
   "source": [
    "1. Remove Instances with Missing Values but lead to data lose.spacilly when we have many intance with missing\n",
    "\n",
    "2. Fill missing value with mean/median/mode \n",
    "\n",
    "3. Use k-NN to impute missing values based on the values of the nearest neighbors."
   ]
  },
  {
   "cell_type": "markdown",
   "metadata": {},
   "source": [
    "## Q7. Compare and contrast the performance of the KNN classifier and regressor. Which one is better for which type of problem?"
   ]
  },
  {
   "cell_type": "markdown",
   "metadata": {},
   "source": [
    "KNN Classifier:\n",
    "\tCan capture complex decision boundaries, making it effective for non-linear classification problems.Best suited for classification tasks where the decision boundary is complex and non-linear.\n",
    "\t\n",
    "\tThe curse of dimensionality can degrade performance in high-dimensional spaces.\n",
    "\n",
    "\n",
    "KNN Regressor:\n",
    "\tffective when the target variable changes smoothly and the data is not overly high-dimensional.\n",
    "\n",
    "\t Can be sensitive to outliers, as they can significantly affect the average value used for prediction.\n",
    "\n",
    "\t Can be computationally expensive, especially for large datasets, as it involves calculating distances between all pairs of instances."
   ]
  },
  {
   "cell_type": "markdown",
   "metadata": {},
   "source": [
    "## Q8. What are the strengths and weaknesses of the KNN algorithm for classification and regression tasks, and how can these be addressed?"
   ]
  },
  {
   "cell_type": "markdown",
   "metadata": {},
   "source": [
    "KNN Regressor:\n",
    "\n",
    "advantages: 1. simple to understand and implement\n",
    "\t\t\t\t2. Best suited for regression tasks where the relationship between features and the target variable is non-linear and complex.\n",
    "\n",
    "disadvantages: 1. it can be sensitive to outliers.\n",
    "\t\t\t\t\t2. the  computational challenges being expensive for large datasets.\n",
    "\n",
    "KNN Classifier:\n",
    "\t\n",
    "advantages: 1.Simple to understand and implement\n",
    "\t\t\t\t2. Classification problems with complex boundaries\n",
    "\n",
    "disadvantages: 1. it can struggle with imbalanced datasets .\n",
    "\t\t\t\t\t2. the  computational challenges being expensive for large datasets."
   ]
  },
  {
   "cell_type": "markdown",
   "metadata": {},
   "source": [
    "## Q9. What is the difference between Euclidean distance and Manhattan distance in KNN?"
   ]
  },
  {
   "cell_type": "markdown",
   "metadata": {},
   "source": [
    "Knn is distance bsed algo where we calculate distance between new pt and train data points for calculating distance we mainly use \n",
    "Euclidean distance and Manhatten distance\n",
    "\n",
    "Euclidean distance= root((x2-x1)^2+(y2-y1)^2)\n",
    "\n",
    "Manhattan distance= |x1-x2| + |y1+y2|"
   ]
  },
  {
   "cell_type": "markdown",
   "metadata": {},
   "source": [
    "## Q10. What is the role of feature scaling in KNN?"
   ]
  },
  {
   "cell_type": "markdown",
   "metadata": {},
   "source": [
    "Feature scaling plays a critical role in the performance of the k-Nearest Neighbors .it typically uses distance metrics like Euclidean distance, Manhattan distance, or Minkowski distance to find the nearest neighbors. \n",
    "These metrics are highly sensitive to the scale of the features. If features are on different scales.\n",
    "\n",
    "roper scaling helps in selecting the true nearest neighbors based on a balanced consideration of all features, which is crucial for the correct functioning of the KNN algorithm.\n",
    "\n",
    "Features may have different units . Scaling transforms all features to the same unitless scale, making the comparison between features meaningful and consistent."
   ]
  },
  {
   "cell_type": "markdown",
   "metadata": {},
   "source": []
  }
 ],
 "metadata": {
  "language_info": {
   "name": "python"
  }
 },
 "nbformat": 4,
 "nbformat_minor": 2
}
