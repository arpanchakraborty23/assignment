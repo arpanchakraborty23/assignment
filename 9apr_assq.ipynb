{
 "cells": [
  {
   "cell_type": "markdown",
   "metadata": {},
   "source": [
    "# Q1. What is Bayes' theorem?"
   ]
  },
  {
   "cell_type": "code",
   "execution_count": 5,
   "metadata": {},
   "outputs": [
    {
     "data": {
      "text/plain": [
       "\" \\nBayes' theorem is a fundamental principle in probability theory and statistics that describes how to update the probability of a hypothesis based on new evidence\\n\""
      ]
     },
     "execution_count": 5,
     "metadata": {},
     "output_type": "execute_result"
    }
   ],
   "source": [
    "''' \n",
    "Bayes' theorem is a fundamental principle in probability theory and statistics that describes how to update the probability of a hypothesis based on new evidence\n",
    "'''"
   ]
  },
  {
   "cell_type": "markdown",
   "metadata": {},
   "source": [
    "# Q2. What is the formula for Bayes' theorem?"
   ]
  },
  {
   "cell_type": "code",
   "execution_count": 6,
   "metadata": {},
   "outputs": [
    {
     "data": {
      "text/plain": [
       "\"\\nBayes' theorem Eqution=P(a/b)=p(a)*p(b/a)/p(b)\\n\""
      ]
     },
     "execution_count": 6,
     "metadata": {},
     "output_type": "execute_result"
    }
   ],
   "source": [
    "'''\n",
    "Bayes' theorem Eqution=P(a/b)=p(a)*p(b/a)/p(b)\n",
    "'''"
   ]
  },
  {
   "cell_type": "markdown",
   "metadata": {},
   "source": [
    "# Q3. How is Bayes' theorem used in practice?"
   ]
  },
  {
   "cell_type": "code",
   "execution_count": 7,
   "metadata": {},
   "outputs": [
    {
     "data": {
      "text/plain": [
       "\"\\nBaye's therom  widely used in various fields such as \\nmedical Digonosis: A patient tests positive for a disease, Bayes' theorem helps calculate the probability that the patient actually has the disease, \\n\\nSpam:Email spam filters use Bayes' theorem to determine the probability that an email is spam based on the presence of certain words or phrases.\\n\\nFinance :Bayes' theorem is used to update the risk assessments and probabilities of financial events, such as defaults on loans or changes in market conditions, based on new information or data.\\n\""
      ]
     },
     "execution_count": 7,
     "metadata": {},
     "output_type": "execute_result"
    }
   ],
   "source": [
    "'''\n",
    "Baye's therom  widely used in various fields such as \n",
    "medical Digonosis: A patient tests positive for a disease, Bayes' theorem helps calculate the probability that the patient actually has the disease, \n",
    "\n",
    "Spam:Email spam filters use Bayes' theorem to determine the probability that an email is spam based on the presence of certain words or phrases.\n",
    "\n",
    "Finance :Bayes' theorem is used to update the risk assessments and probabilities of financial events, such as defaults on loans or changes in market conditions, based on new information or data.\n",
    "'''"
   ]
  },
  {
   "cell_type": "markdown",
   "metadata": {},
   "source": [
    "## Q4. What is the relationship between Bayes' theorem and conditional probability?"
   ]
  },
  {
   "cell_type": "code",
   "execution_count": 8,
   "metadata": {},
   "outputs": [
    {
     "data": {
      "text/plain": [
       "\"Bayes' theorem is based on the concept of conditional probability, which is the probability of an event given that another event has occurred.\""
      ]
     },
     "execution_count": 8,
     "metadata": {},
     "output_type": "execute_result"
    }
   ],
   "source": [
    "'''Bayes' theorem is based on the concept of conditional probability, which is the probability of an event given that another event has occurred.'''"
   ]
  },
  {
   "cell_type": "markdown",
   "metadata": {},
   "source": [
    "# Q5. How do you choose which type of Naive Bayes classifier to use for any given problem?"
   ]
  },
  {
   "cell_type": "code",
   "execution_count": 9,
   "metadata": {},
   "outputs": [
    {
     "ename": "SyntaxError",
     "evalue": "invalid syntax (2594258687.py, line 1)",
     "output_type": "error",
     "traceback": [
      "\u001b[1;36m  Cell \u001b[1;32mIn[9], line 1\u001b[1;36m\u001b[0m\n\u001b[1;33m    Gaussian Naive Bayes:Suitable for continuous data that is normally distributed.\u001b[0m\n\u001b[1;37m             ^\u001b[0m\n\u001b[1;31mSyntaxError\u001b[0m\u001b[1;31m:\u001b[0m invalid syntax\n"
     ]
    }
   ],
   "source": [
    " Gaussian Naive Bayes:Suitable for continuous data that is normally distributed.\n",
    "\n",
    " Multinomial Naive Bayes : Suitable for discrete data, especially when dealing with word counts or frequency data.\n",
    "\n",
    "  Bernoulli Naive Bayes: Suitable for binary/boolean data where features are binary"
   ]
  },
  {
   "cell_type": "code",
   "execution_count": 11,
   "metadata": {},
   "outputs": [
    {
     "ename": "IndentationError",
     "evalue": "unindent does not match any outer indentation level (<tokenize>, line 10)",
     "output_type": "error",
     "traceback": [
      "\u001b[1;36m  File \u001b[1;32m<tokenize>:10\u001b[1;36m\u001b[0m\n\u001b[1;33m    p(x2=4/B)=3/14\u001b[0m\n\u001b[1;37m    ^\u001b[0m\n\u001b[1;31mIndentationError\u001b[0m\u001b[1;31m:\u001b[0m unindent does not match any outer indentation level\n"
     ]
    }
   ],
   "source": [
    "class A:\n",
    "    Total frequency =3+3+4+4+3+3+3=23\n",
    "    p(x1=3/A)=4/23\n",
    "    p(x2=4/A)=3/24\n",
    "    \n",
    "   \n",
    "class B:\n",
    "     Total frequency =2+2+1+2+2+2+3=14\n",
    "     p(x1=3/B)=1/14\n",
    "    p(x2=4/B)=3/14\n",
    "\t\n",
    "\n",
    "p(x1=3,x2=4/a)=p(x1=4/a)*p(x2=4/A)=4/23 * 3/23=12/529=0.0226\n",
    "\n",
    "p(x1=3,x2=4/B)=1/14 * 3/14=3/196=0.0153\n",
    "\n",
    "class A > class B\n",
    "\n",
    "class A is higher than for class B. Therefore, Naive Bayes would predict the new instance with \n",
    "x1=3 and x2=4 to belong to class A."
   ]
  },
  {
   "cell_type": "code",
   "execution_count": null,
   "metadata": {},
   "outputs": [],
   "source": []
  }
 ],
 "metadata": {
  "kernelspec": {
   "display_name": "base",
   "language": "python",
   "name": "python3"
  },
  "language_info": {
   "codemirror_mode": {
    "name": "ipython",
    "version": 3
   },
   "file_extension": ".py",
   "mimetype": "text/x-python",
   "name": "python",
   "nbconvert_exporter": "python",
   "pygments_lexer": "ipython3",
   "version": "3.11.7"
  }
 },
 "nbformat": 4,
 "nbformat_minor": 2
}
