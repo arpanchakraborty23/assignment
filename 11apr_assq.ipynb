{
 "cells": [
  {
   "cell_type": "markdown",
   "id": "09de369d-9b63-4a91-8f37-781618c87f64",
   "metadata": {},
   "source": [
    "# Q1. What is an ensemble technique in machine learning?"
   ]
  },
  {
   "cell_type": "raw",
   "id": "ad95b9f2-9c87-4c9f-a657-b9574eb4a75c",
   "metadata": {},
   "source": [
    "Ensemble technique nothing but combintion of multipel model.\n",
    "\n",
    "1. it create subset from given dataset for trining (dataset>subset)\n",
    "\n",
    "2. it feed subset's to base learners .base lerner is combintion of multipel models.\n",
    "the base learner's try to predict outcomes's\n",
    "\n",
    "3. Final outcome will be mejority of voting class for classification \n",
    "and for regrisson final output calculate taking by avarage of prdiction of base lareners"
   ]
  },
  {
   "cell_type": "markdown",
   "id": "f9aa2f84-3ebe-478e-b3f7-57280c170b04",
   "metadata": {},
   "source": [
    "## Q2. Why are ensemble techniques used in machine learning?"
   ]
  },
  {
   "cell_type": "raw",
   "id": "e6afe456-fb31-4a6c-9157-2661a1f90d1d",
   "metadata": {
    "tags": []
   },
   "source": [
    "1. Reduce overfitting problem \n",
    "2. Combintion of multipel models give the best accurcy compare to single model\n",
    "3. Ensemble methods become less sensitive to  errors of any single model."
   ]
  },
  {
   "cell_type": "markdown",
   "id": "37226483-658d-411c-90f9-051f30af6797",
   "metadata": {},
   "source": [
    "##  Q3. What is bagging?"
   ]
  },
  {
   "cell_type": "raw",
   "id": "ce4c143d-039b-41b4-a209-f9dcc46a766a",
   "metadata": {
    "tags": []
   },
   "source": [
    "The ensemble methode create multipel subset of data to train multipel models.the final output calculate by mean of all multipel models for regrassion,\n",
    "for classification it take votting"
   ]
  },
  {
   "cell_type": "markdown",
   "id": "cfdbe86f-94d2-44b6-b1ad-2ad763dd8f47",
   "metadata": {},
   "source": [
    "## Q4. What is boosting?"
   ]
  },
  {
   "cell_type": "raw",
   "id": "754fff16-0fab-4992-b684-dd8d9a3d0c66",
   "metadata": {},
   "source": [
    "Boosting is an ensemble technique in machine learning that aims to create a strong model by sequentially combining several weak models. Each subsequent model attempts to correct the errors made by the previous ones. The key idea behind boosting is to focus on the mistakes of the earlier models"
   ]
  },
  {
   "cell_type": "markdown",
   "id": "2b82f4e3-47d4-4ce5-b902-7e1323ccf0bc",
   "metadata": {},
   "source": [
    "# Q5. What are the benefits of using ensemble techniques?"
   ]
  },
  {
   "cell_type": "raw",
   "id": "14d89146-2d12-4c96-bb77-d44c2fbc89b1",
   "metadata": {},
   "source": [
    "1. Reduce overfitting problem \n",
    "2. Combintion of multipel models give the best accurcy compare to single model\n",
    "3. Ensemble methods become less sensitive to  errors of any single model.\n",
    "4. For complex data single model gets defficulty in prediction,but if we use multipel models it can learn complex partern easily"
   ]
  },
  {
   "cell_type": "markdown",
   "id": "66951c3b-9e68-4bda-a402-b93842d32df9",
   "metadata": {},
   "source": [
    "## Q6. Are ensemble techniques always better than individual models?"
   ]
  },
  {
   "cell_type": "raw",
   "id": "cd4a532f-f3a0-4718-9afa-4514b36beed4",
   "metadata": {},
   "source": [
    "1. Ensemble method provide more accurate result compere to single model. it allways better to use multipel model for any dataset.\n",
    "2. combining multipel models less snsative to  single model.\n",
    "3. Techniques like bagging reduce overfitting by averaging out the predictions of multiple models\n",
    "4. Ensembles can capture complex patterns and relationships in the data that might be missed by a single model."
   ]
  },
  {
   "cell_type": "markdown",
   "id": "36d85702-3896-4908-ae5e-1b6588b0d1c5",
   "metadata": {},
   "source": [
    "## Q7. How is the confidence interval calculated using bootstrap?"
   ]
  },
  {
   "cell_type": "raw",
   "id": "2f8bf5ee-5c12-4e72-b0a6-66c9cda3cc29",
   "metadata": {},
   "source": [
    "The basic idea of boostrap is create sample data from original data,calculte parameter for each sample data and then use the distribution of these estimates to construct a confidence interval"
   ]
  },
  {
   "cell_type": "markdown",
   "id": "a745618a-e792-4d74-b4e4-921cd38f37c0",
   "metadata": {},
   "source": [
    "# Q8. How does bootstrap work and What are the steps involved in bootstrap?"
   ]
  },
  {
   "cell_type": "raw",
   "id": "80c5d564-f7f8-4888-8d5c-85675b64d3bd",
   "metadata": {},
   "source": [
    "The bootstrap method works by simulating the process of taking multiple samples from the population, which allows for the approximation of the sampling distribution of a statistic\n",
    "\n",
    "The key steps involve generating bootstrap samples, calculating the statistic of interest for each sample, constructing the bootstrap distribution, and then using this distribution to make statistical inferences such as estimating confidence intervals or standard errors. "
   ]
  },
  {
   "cell_type": "markdown",
   "id": "c8f69b10-f9fb-462a-922c-e766d3e07161",
   "metadata": {},
   "source": [
    "# Q9. A researcher wants to estimate the mean height of a population of trees. They measure the height of a\n",
    "# sample of 50 trees and obtain a mean height of 15 meters and a standard deviation of 2 meters. Use bootstrap to estimate the 95% confidence interval for the population mean height."
   ]
  },
  {
   "cell_type": "code",
   "execution_count": null,
   "id": "575213d9-38a3-4af2-ae5d-3d896f76675e",
   "metadata": {},
   "outputs": [],
   "source": [
    "n=50, mean= 15 std=2, ci=0.95 ,z=1.96\n",
    "\n",
    "15 +1.96*(2)/root(50)\n",
    "\n",
    "95% Confidence Interval for the Mean Height: [14.34, 15.66] meters\n",
    "\n",
    "15.55-14.44"
   ]
  }
 ],
 "metadata": {
  "kernelspec": {
   "display_name": "Python 3 (ipykernel)",
   "language": "python",
   "name": "python3"
  },
  "language_info": {
   "codemirror_mode": {
    "name": "ipython",
    "version": 3
   },
   "file_extension": ".py",
   "mimetype": "text/x-python",
   "name": "python",
   "nbconvert_exporter": "python",
   "pygments_lexer": "ipython3",
   "version": "3.11.7"
  }
 },
 "nbformat": 4,
 "nbformat_minor": 5
}
