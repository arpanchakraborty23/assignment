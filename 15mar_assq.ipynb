{
 "cells": [
  {
   "cell_type": "markdown",
   "id": "90eaa9aa-1254-4f35-9451-b1bceddb8bb7",
   "metadata": {},
   "source": [
    "## Q1. Explain AI vs ML vs DL"
   ]
  },
  {
   "cell_type": "raw",
   "id": "829f0749-d197-431d-af18-980a081e8742",
   "metadata": {
    "tags": []
   },
   "source": [
    "AI:- Ai is nothing but smart application who can own wore without any human help\n",
    "ex- self driving car\n",
    "\n",
    "Ml:- ML is sub set of ai that fouces on devolop algorithms and statiscal model that cane improve theire tase by expariance.\n",
    "ex- movie recomendaed system.\n",
    "\n",
    "DL:- DL is subset of ML ,it mimic human brain with multipel layers of nurons to process data and maee desision"
   ]
  },
  {
   "cell_type": "markdown",
   "id": "6ac835ed-c415-4c6c-9c1b-b7de161ffd60",
   "metadata": {},
   "source": [
    "## Q2- What is supervised learning? list some supervise learning exaples"
   ]
  },
  {
   "cell_type": "raw",
   "id": "d445cfa2-d685-459a-b23d-39f4f9b733a3",
   "metadata": {
    "tags": []
   },
   "source": [
    "Supervised learning is type of Mechine larning where we use labal data(csv,excl) to pradict dependend variable\n",
    "based of training data.\n",
    "\n",
    "ex-\n",
    "1.classification- email spam or not spam,\n",
    "    Predicting whether a patient has a particular disease based on symptoms and test results.\n",
    "2.regrassion- house price predict"
   ]
  },
  {
   "cell_type": "markdown",
   "id": "838942b5-a2bf-4c40-92ea-df24605acd2d",
   "metadata": {},
   "source": [
    "## Q2- What is unsupervised learning? list unsupervise learning exaples"
   ]
  },
  {
   "cell_type": "raw",
   "id": "c9de5b38-1e59-4d58-902d-1b983338919e",
   "metadata": {
    "tags": []
   },
   "source": [
    "UnSupervised learning is type of Mechine larning where we create group of data or clustaring and train data withoun any responeses.\n",
    " The goal is to discover the underlying structure or patterns in the data\n",
    "\n",
    "ex-customer segmentation analysis"
   ]
  },
  {
   "cell_type": "markdown",
   "id": "457ad9f6-9e84-4f79-8c7d-9ddf8f4e92a7",
   "metadata": {},
   "source": [
    "## Q4- What is the diffrance  AI, ML, DL, and DS?"
   ]
  },
  {
   "cell_type": "raw",
   "id": "91f7ebf3-09dc-492d-99f5-416bdb34a61e",
   "metadata": {},
   "source": [
    "AI vs. ML: AI is t focused on creating intelligent systems, while ML is a subset of AI focused on algorithms that learn from data.\n",
    "\n",
    "ML vs. DL: In ML range of algorithms and techniques for learning from data, while DL specifically uses multi-layered neural networes to handle large datasets and complex patterns.\n",
    "\n",
    "DS vs. AI/ML/DL: DS is broader and more interdisciplinary, involving statistical analysis, data manipulation, and domain enowledge to derive insights from data. \n",
    "AI/ML/DL are more focused on creating models and systems for specific intelligent behaviors."
   ]
  },
  {
   "cell_type": "markdown",
   "id": "b0f3dea7-184a-48f7-80fe-36c12d521723",
   "metadata": {},
   "source": [
    "## Q5- What are the main diffrances between supervised, unsupervised, and semi-supervised learning?"
   ]
  },
  {
   "cell_type": "raw",
   "id": "22bd6324-f661-483d-9043-2dd5319fd051",
   "metadata": {
    "tags": []
   },
   "source": [
    "Supervised:- In we create  model from a traing a dataset based on traning predict dependened feature of dataset.\n",
    "\n",
    "ex- Student perfomence in exam.\n",
    "\n",
    "Unsupervised: we train  data without any respones based on training it discover hiddind parttent of data.\n",
    "ex- Anomaly detection in networe security\n",
    "\n",
    "semi-supervised learning : it is combination of suparvised and unsupervised Mechine learning"
   ]
  },
  {
   "cell_type": "markdown",
   "id": "8e2f5ef5-fe73-4f91-b893-c4cefeed0f06",
   "metadata": {},
   "source": [
    "## Q6- What is train, test and validation split? Explain the importance of each term."
   ]
  },
  {
   "cell_type": "raw",
   "id": "733e17e0-bda0-494b-be4e-936e3e45d530",
   "metadata": {
    "tags": []
   },
   "source": [
    "Train: train data use to train model.\n",
    "\n",
    "importence- In inital stage of creating model . the model learn about data and find parttens based of train model predict unseen data.\n",
    "\n",
    "validation data: Hyperparameter tuning  of model.\n",
    "importence -It helps in selecting the best model by comparing performance across different configurations.it optomize model\n",
    "\n",
    "Test data: Predict model output feature\n",
    "\n",
    "importence- It offers a realistic measure of the model’s accuracy of unseen data"
   ]
  },
  {
   "cell_type": "markdown",
   "id": "a9437c19-cc5a-46bd-9dcd-f2015a990f23",
   "metadata": {},
   "source": [
    "## Q7- How can unsupervised learning be used in anomaly detection?"
   ]
  },
  {
   "cell_type": "raw",
   "id": "d8b5a0fa-78d7-411b-b5d0-865779439b4c",
   "metadata": {},
   "source": [
    "clustaring technique: In clastaring methode we create group of similar points.Anomalies are identified as data points that do not belong to any cluster\n"
   ]
  },
  {
   "cell_type": "markdown",
   "id": "5f7103ab-8ad4-4e89-a915-7f2271586673",
   "metadata": {},
   "source": [
    "## Q8- List down some commonly used supervised learning algorithms and unsupervised learning algorithms."
   ]
  },
  {
   "cell_type": "raw",
   "id": "c5b23031-f6c2-47d4-abab-d842965e2291",
   "metadata": {},
   "source": [
    "supervised learning algorithms: \n",
    "        1. liner regression\n",
    "        2. Knn\n",
    "        3. Desision tree\n",
    "        4. svm\n",
    "        5. ensamble techniques(randomforest, ada boosting, gradien boosting)\n",
    "        \n",
    "\n",
    "Unsupervised learning algorithms:\n",
    "        1. K-mean clustaring\n",
    "        2. DBSCAN\n",
    "        3. Hierarchical Clustering\n",
    "        4. PCA"
   ]
  },
  {
   "cell_type": "code",
   "execution_count": null,
   "id": "5ac6491e-127a-4bf8-b7e9-e2f2a848ed89",
   "metadata": {},
   "outputs": [],
   "source": []
  }
 ],
 "metadata": {
  "kernelspec": {
   "display_name": "Python 3 (ipykernel)",
   "language": "python",
   "name": "python3"
  },
  "language_info": {
   "codemirror_mode": {
    "name": "ipython",
    "version": 3
   },
   "file_extension": ".py",
   "mimetype": "text/x-python",
   "name": "python",
   "nbconvert_exporter": "python",
   "pygments_lexer": "ipython3",
   "version": "3.11.7"
  }
 },
 "nbformat": 4,
 "nbformat_minor": 5
}
