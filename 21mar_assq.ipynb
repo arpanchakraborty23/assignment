{
 "cells": [
  {
   "cell_type": "markdown",
   "id": "902dac9c-df17-46cc-b39f-9f3bdaa48fcf",
   "metadata": {},
   "source": [
    "## Q1. What is the difference between Ordinal Encoding and Label Encoding? Provide an example of when you\n",
    "## might choose one over the other."
   ]
  },
  {
   "cell_type": "raw",
   "id": "1fc5a2db-7dc6-40ba-96e8-dabdfbd2baac",
   "metadata": {
    "tags": []
   },
   "source": [
    "Ordinal Encoding:- ordinal encoding is ML encoding method to convert catagoricl to numarical value. let\"s we have gemston dataset with a col quality unique value -premium> normal >low\n",
    "\n",
    "\n",
    "in this kind of problem which has spacific odrer or rank we use ordinal encode.\n",
    "\n",
    "Labale encode - In lable encode  method to convert catagoricl to numarical value ,it does not have any order \n",
    "ex- gender "
   ]
  },
  {
   "cell_type": "markdown",
   "id": "c06552cd-5635-499e-a5f3-3e9733089c6e",
   "metadata": {},
   "source": [
    "## Q2. Explain how Target Guided Ordinal Encoding works and provide an example of when you might use it in a machine learning project."
   ]
  },
  {
   "cell_type": "raw",
   "id": "3ff70f50-0f99-40aa-917d-5b2deb71c3ba",
   "metadata": {},
   "source": [
    "Target Guided Ordinal Encoding is a method used to encode categorical variables in a way that preserves the ordinal relationship between the categories and is based on the target variable in a supervised learning problem\n",
    "\n",
    "Suppose we have a classification problem where we need  predict the risk level of loan applicants (low risk, medium risk, high risk) based on various features, \n",
    "including the applicant's occupation. The occupation is a categorical variable with multiple categories."
   ]
  },
  {
   "cell_type": "markdown",
   "id": "b8e962a3-2431-4581-a349-7d7aaf58e2c9",
   "metadata": {},
   "source": [
    "## Q3. Define covariance and explain why it is important in statistical analysis. How is covariance calculated?"
   ]
  },
  {
   "cell_type": "raw",
   "id": "0281b055-172d-4493-ba6c-ff024eca821b",
   "metadata": {
    "tags": []
   },
   "source": [
    "Covariacne : covarinces describe realationship between two random variable.\n",
    " If the variables tend to increase togather possative corr\n",
    " If the variables tend to  decrease togther negative corr.\n",
    "\n",
    "This can help in identifying whether an increase in one variable might result in an increase or decrease in another variable. In stock market news has huge impact on stocks if news good stock upward or bad\n",
    "stock downwords\n",
    "\n",
    "in machine learning and data analysis, understanding the covariance between features can help in feature selection. corr  highly related good if not we can remove that feature.\n",
    "\n",
    "\n",
    "\n",
    "Cov(x,y)= sumasion of( xi- x_mean)*(yi -y_mean)/n-1)"
   ]
  },
  {
   "cell_type": "markdown",
   "id": "ad3fdc42-fc5d-413a-8852-ceace64e176d",
   "metadata": {},
   "source": [
    "## Q4. For a dataset with the following categorical variables: Color (red, green, blue), Size (small, medium,large), and Material (wood, metal, plastic), perform label encoding using Python\"s scikit-learn library.\n",
    "## Show your code and explain the output."
   ]
  },
  {
   "cell_type": "code",
   "execution_count": 17,
   "id": "8871f54a-a289-4d32-8f42-aefb0432856a",
   "metadata": {
    "tags": []
   },
   "outputs": [
    {
     "data": {
      "text/html": [
       "<div>\n",
       "<style scoped>\n",
       "    .dataframe tbody tr th:only-of-type {\n",
       "        vertical-align: middle;\n",
       "    }\n",
       "\n",
       "    .dataframe tbody tr th {\n",
       "        vertical-align: top;\n",
       "    }\n",
       "\n",
       "    .dataframe thead th {\n",
       "        text-align: right;\n",
       "    }\n",
       "</style>\n",
       "<table border=\"1\" class=\"dataframe\">\n",
       "  <thead>\n",
       "    <tr style=\"text-align: right;\">\n",
       "      <th></th>\n",
       "      <th>color</th>\n",
       "      <th>size</th>\n",
       "      <th>Material</th>\n",
       "    </tr>\n",
       "  </thead>\n",
       "  <tbody>\n",
       "    <tr>\n",
       "      <th>0</th>\n",
       "      <td>red</td>\n",
       "      <td>small</td>\n",
       "      <td>wood</td>\n",
       "    </tr>\n",
       "    <tr>\n",
       "      <th>1</th>\n",
       "      <td>green</td>\n",
       "      <td>medium</td>\n",
       "      <td>metal</td>\n",
       "    </tr>\n",
       "    <tr>\n",
       "      <th>2</th>\n",
       "      <td>blue</td>\n",
       "      <td>large</td>\n",
       "      <td>plastic</td>\n",
       "    </tr>\n",
       "  </tbody>\n",
       "</table>\n",
       "</div>"
      ],
      "text/plain": [
       "   color    size Material\n",
       "0    red   small     wood\n",
       "1  green  medium    metal\n",
       "2   blue   large  plastic"
      ]
     },
     "execution_count": 17,
     "metadata": {},
     "output_type": "execute_result"
    }
   ],
   "source": [
    "import pandas as pd\n",
    "from sklearn.preprocessing import LabelEncoder,OrdinalEncoder\n",
    "\n",
    "data={\n",
    "\"color\":[[\"red\",\"green\",\"blue\"]],\n",
    "\"size\":[[\"small\",\"medium\",\"large\"]],\n",
    "\"Material\" :[[\"wood\", \"metal\", \"plastic\"]]\n",
    "}\n",
    "df=pd.DataFrame(data)\n",
    "df"
   ]
  },
  {
   "cell_type": "code",
   "execution_count": 85,
   "id": "4ecc6921-c8da-48dd-a353-4f99cfe43e2f",
   "metadata": {
    "tags": []
   },
   "outputs": [
    {
     "data": {
      "text/plain": [
       "['small', 'medium', 'large']"
      ]
     },
     "execution_count": 85,
     "metadata": {},
     "output_type": "execute_result"
    }
   ],
   "source": [
    "df_order=[[\"small\", \"medium\", \"large\"]]\n",
    "df_order"
   ]
  },
  {
   "cell_type": "code",
   "execution_count": 79,
   "id": "685e048b-3d44-4ff5-a248-5c743561b81a",
   "metadata": {
    "tags": []
   },
   "outputs": [],
   "source": [
    "le=LabelEncoder()\n",
    "\n",
    "od = OrdinalEncoder(categories=[[df_order]])\n",
    "\n",
    "\n",
    "df[[\"size_ordinal_encoded\"]] = od.fit_transform(df[[[[\"size\"]]]])\n",
    "\n",
    "df[[\"color_labek_encoded\"]]=le.fit_transform(df[[\"color\"]])\n",
    "df[[\"Metrial_label_encode\"]]=le.fit_transform(df[[\"Material\"]])\n"
   ]
  },
  {
   "cell_type": "code",
   "execution_count": 81,
   "id": "43186dca-36da-4c24-b8a4-64e7bc4eaf9e",
   "metadata": {
    "tags": []
   },
   "outputs": [
    {
     "data": {
      "text/html": [
       "<div>\n",
       "<style scoped>\n",
       "    .dataframe tbody tr th:only-of-type {\n",
       "        vertical-align: middle;\n",
       "    }\n",
       "\n",
       "    .dataframe tbody tr th {\n",
       "        vertical-align: top;\n",
       "    }\n",
       "\n",
       "    .dataframe thead th {\n",
       "        text-align: right;\n",
       "    }\n",
       "</style>\n",
       "<table border=\"1\" class=\"dataframe\">\n",
       "  <thead>\n",
       "    <tr style=\"text-align: right;\">\n",
       "      <th></th>\n",
       "      <th>color</th>\n",
       "      <th>size</th>\n",
       "      <th>Material</th>\n",
       "      <th>size_ordinal_encoded</th>\n",
       "      <th>color_labek_encoded</th>\n",
       "      <th>Metrial_label_encode</th>\n",
       "    </tr>\n",
       "  </thead>\n",
       "  <tbody>\n",
       "    <tr>\n",
       "      <th>0</th>\n",
       "      <td>red</td>\n",
       "      <td>small</td>\n",
       "      <td>wood</td>\n",
       "      <td>0.0</td>\n",
       "      <td>2</td>\n",
       "      <td>2</td>\n",
       "    </tr>\n",
       "    <tr>\n",
       "      <th>1</th>\n",
       "      <td>green</td>\n",
       "      <td>medium</td>\n",
       "      <td>metal</td>\n",
       "      <td>1.0</td>\n",
       "      <td>1</td>\n",
       "      <td>0</td>\n",
       "    </tr>\n",
       "    <tr>\n",
       "      <th>2</th>\n",
       "      <td>blue</td>\n",
       "      <td>large</td>\n",
       "      <td>plastic</td>\n",
       "      <td>2.0</td>\n",
       "      <td>0</td>\n",
       "      <td>1</td>\n",
       "    </tr>\n",
       "  </tbody>\n",
       "</table>\n",
       "</div>"
      ],
      "text/plain": [
       "   color    size Material  size_ordinal_encoded  color_labek_encoded  \\\n",
       "0    red   small     wood                   0.0                    2   \n",
       "1  green  medium    metal                   1.0                    1   \n",
       "2   blue   large  plastic                   2.0                    0   \n",
       "\n",
       "   Metrial_label_encode  \n",
       "0                     2  \n",
       "1                     0  \n",
       "2                     1  "
      ]
     },
     "execution_count": 81,
     "metadata": {},
     "output_type": "execute_result"
    }
   ],
   "source": [
    "df"
   ]
  },
  {
   "cell_type": "markdown",
   "id": "1b745408-f552-4a0f-aa4f-adf78ed79dc1",
   "metadata": {},
   "source": [
    "## Q5. Calculate the covariance matrix for the following variables in a dataset: Age, Income, and Education level. Interpret the results."
   ]
  },
  {
   "cell_type": "code",
   "execution_count": 121,
   "id": "142d37e2-98ac-40ee-a122-cf0a2cf28d25",
   "metadata": {
    "tags": []
   },
   "outputs": [
    {
     "data": {
      "text/html": [
       "<div>\n",
       "<style scoped>\n",
       "    .dataframe tbody tr th:only-of-type {\n",
       "        vertical-align: middle;\n",
       "    }\n",
       "\n",
       "    .dataframe tbody tr th {\n",
       "        vertical-align: top;\n",
       "    }\n",
       "\n",
       "    .dataframe thead th {\n",
       "        text-align: right;\n",
       "    }\n",
       "</style>\n",
       "<table border=\"1\" class=\"dataframe\">\n",
       "  <thead>\n",
       "    <tr style=\"text-align: right;\">\n",
       "      <th></th>\n",
       "      <th>Age</th>\n",
       "      <th>Income</th>\n",
       "      <th>Education Level</th>\n",
       "    </tr>\n",
       "  </thead>\n",
       "  <tbody>\n",
       "    <tr>\n",
       "      <th>0</th>\n",
       "      <td>25</td>\n",
       "      <td>50000</td>\n",
       "      <td>High School</td>\n",
       "    </tr>\n",
       "    <tr>\n",
       "      <th>1</th>\n",
       "      <td>30</td>\n",
       "      <td>60000</td>\n",
       "      <td>Bachelor\"s Degree</td>\n",
       "    </tr>\n",
       "    <tr>\n",
       "      <th>2</th>\n",
       "      <td>35</td>\n",
       "      <td>70000</td>\n",
       "      <td>Master\"s Degree</td>\n",
       "    </tr>\n",
       "    <tr>\n",
       "      <th>3</th>\n",
       "      <td>40</td>\n",
       "      <td>80000</td>\n",
       "      <td>PhD</td>\n",
       "    </tr>\n",
       "    <tr>\n",
       "      <th>4</th>\n",
       "      <td>45</td>\n",
       "      <td>90000</td>\n",
       "      <td>Associate\"s Degree</td>\n",
       "    </tr>\n",
       "  </tbody>\n",
       "</table>\n",
       "</div>"
      ],
      "text/plain": [
       "   Age  Income     Education Level\n",
       "0   25   50000         High School\n",
       "1   30   60000   Bachelor\"s Degree\n",
       "2   35   70000     Master\"s Degree\n",
       "3   40   80000                 PhD\n",
       "4   45   90000  Associate\"s Degree"
      ]
     },
     "execution_count": 121,
     "metadata": {},
     "output_type": "execute_result"
    }
   ],
   "source": [
    "\n",
    "data = {\n",
    "    \"Age\": [[25, 30, 35, 40, 45]],\n",
    "    \"Income\": [[50000, 60000, 70000, 80000, 90000]],\n",
    "    \"Education Level\": [[\"High School\", \"Bachelor\\\"s Degree\", \"Master\\\"s Degree\", \"PhD\", \"Associate\\\"s Degree\"]]\n",
    "}\n",
    "\n",
    "df = pd.DataFrame(data)\n",
    "df"
   ]
  },
  {
   "cell_type": "code",
   "execution_count": 123,
   "id": "2146b00f-bd9d-4f20-8e99-aa91590467dd",
   "metadata": {
    "tags": []
   },
   "outputs": [],
   "source": [
    "ed= [[\"High School\", \"Bachelor\\\"s Degree\", \"Master\\\"s Degree\", \"PhD\", \"Associate\\\"s Degree\"]]\n",
    "od = OrdinalEncoder(categories=[[ed]])\n",
    "\n",
    "\n",
    "df[['En_Education Level']] = od.fit_transform(df[[[['Education Level']]]])"
   ]
  },
  {
   "cell_type": "code",
   "execution_count": 125,
   "id": "131cc4f7-2dc2-45a1-bf76-b4f4d0a3dd86",
   "metadata": {
    "tags": []
   },
   "outputs": [
    {
     "data": {
      "text/html": [
       "<div>\n",
       "<style scoped>\n",
       "    .dataframe tbody tr th:only-of-type {\n",
       "        vertical-align: middle;\n",
       "    }\n",
       "\n",
       "    .dataframe tbody tr th {\n",
       "        vertical-align: top;\n",
       "    }\n",
       "\n",
       "    .dataframe thead th {\n",
       "        text-align: right;\n",
       "    }\n",
       "</style>\n",
       "<table border=\"1\" class=\"dataframe\">\n",
       "  <thead>\n",
       "    <tr style=\"text-align: right;\">\n",
       "      <th></th>\n",
       "      <th>Age</th>\n",
       "      <th>Income</th>\n",
       "      <th>Education Level</th>\n",
       "      <th>En_Education Level</th>\n",
       "    </tr>\n",
       "  </thead>\n",
       "  <tbody>\n",
       "    <tr>\n",
       "      <th>0</th>\n",
       "      <td>25</td>\n",
       "      <td>50000</td>\n",
       "      <td>High School</td>\n",
       "      <td>0.0</td>\n",
       "    </tr>\n",
       "    <tr>\n",
       "      <th>1</th>\n",
       "      <td>30</td>\n",
       "      <td>60000</td>\n",
       "      <td>Bachelor\"s Degree</td>\n",
       "      <td>1.0</td>\n",
       "    </tr>\n",
       "    <tr>\n",
       "      <th>2</th>\n",
       "      <td>35</td>\n",
       "      <td>70000</td>\n",
       "      <td>Master\"s Degree</td>\n",
       "      <td>2.0</td>\n",
       "    </tr>\n",
       "    <tr>\n",
       "      <th>3</th>\n",
       "      <td>40</td>\n",
       "      <td>80000</td>\n",
       "      <td>PhD</td>\n",
       "      <td>3.0</td>\n",
       "    </tr>\n",
       "    <tr>\n",
       "      <th>4</th>\n",
       "      <td>45</td>\n",
       "      <td>90000</td>\n",
       "      <td>Associate\"s Degree</td>\n",
       "      <td>4.0</td>\n",
       "    </tr>\n",
       "  </tbody>\n",
       "</table>\n",
       "</div>"
      ],
      "text/plain": [
       "   Age  Income     Education Level  En_Education Level\n",
       "0   25   50000         High School                 0.0\n",
       "1   30   60000   Bachelor\"s Degree                 1.0\n",
       "2   35   70000     Master\"s Degree                 2.0\n",
       "3   40   80000                 PhD                 3.0\n",
       "4   45   90000  Associate\"s Degree                 4.0"
      ]
     },
     "execution_count": 125,
     "metadata": {},
     "output_type": "execute_result"
    }
   ],
   "source": [
    "df"
   ]
  },
  {
   "cell_type": "code",
   "execution_count": 133,
   "id": "7b984ff9-0678-40b7-a066-36668dd25e20",
   "metadata": {
    "tags": []
   },
   "outputs": [
    {
     "data": {
      "text/html": [
       "<div>\n",
       "<style scoped>\n",
       "    .dataframe tbody tr th:only-of-type {\n",
       "        vertical-align: middle;\n",
       "    }\n",
       "\n",
       "    .dataframe tbody tr th {\n",
       "        vertical-align: top;\n",
       "    }\n",
       "\n",
       "    .dataframe thead th {\n",
       "        text-align: right;\n",
       "    }\n",
       "</style>\n",
       "<table border=\"1\" class=\"dataframe\">\n",
       "  <thead>\n",
       "    <tr style=\"text-align: right;\">\n",
       "      <th></th>\n",
       "      <th>Age</th>\n",
       "      <th>Income</th>\n",
       "      <th>En_Education Level</th>\n",
       "    </tr>\n",
       "  </thead>\n",
       "  <tbody>\n",
       "    <tr>\n",
       "      <th>Age</th>\n",
       "      <td>62.5</td>\n",
       "      <td>125000.0</td>\n",
       "      <td>12.5</td>\n",
       "    </tr>\n",
       "    <tr>\n",
       "      <th>Income</th>\n",
       "      <td>125000.0</td>\n",
       "      <td>250000000.0</td>\n",
       "      <td>25000.0</td>\n",
       "    </tr>\n",
       "    <tr>\n",
       "      <th>En_Education Level</th>\n",
       "      <td>12.5</td>\n",
       "      <td>25000.0</td>\n",
       "      <td>2.5</td>\n",
       "    </tr>\n",
       "  </tbody>\n",
       "</table>\n",
       "</div>"
      ],
      "text/plain": [
       "                         Age       Income  En_Education Level\n",
       "Age                     62.5     125000.0                12.5\n",
       "Income              125000.0  250000000.0             25000.0\n",
       "En_Education Level      12.5      25000.0                 2.5"
      ]
     },
     "execution_count": 133,
     "metadata": {},
     "output_type": "execute_result"
    }
   ],
   "source": [
    "df[[[['Age', 'Income','En_Education Level']]]].cov()"
   ]
  },
  {
   "cell_type": "markdown",
   "id": "734296cd-8a55-4fe7-8d70-080d8935452e",
   "metadata": {},
   "source": [
    "## Q6. You are working on a machine learning project with a dataset containing several categorical\n",
    "## variables, including \"Gender\" (Male/Female), \"Education Level\" (High School/Bachelor's/Master's/PhD),\n",
    "## and \"Employment Status\" (Unemployed/Part-Time/Full-Time). Which encoding method would you use for\n",
    "## each variable, and why?"
   ]
  },
  {
   "cell_type": "raw",
   "id": "d535aee2-7730-4d4e-b737-45d2b23b4e88",
   "metadata": {
    "tags": []
   },
   "source": [
    "1. gender- gender have only 2 unique values so,if we use Ohe it would't create mauch sparce matrix .we can use Ohe for gender encoding\n",
    "\n",
    "2. Education Level - Education Level has a mejor impact on job.so,Odinal Encoding perfect for Education level\n",
    "\n",
    "3. Employment Status- Employment Status suitable for Ohe because  there's no inherent ordinal relationship between the categories"
   ]
  },
  {
   "cell_type": "markdown",
   "id": "8a8ab01e-e457-4da9-8d18-0c5aab17fae9",
   "metadata": {},
   "source": [
    "## Q7. You are analyzing a dataset with two continuous variables, \"Temperature\" and \"Humidity\", and two\n",
    "## categorical variables, \"Weather Condition\" (Sunny/Cloudy/Rainy) and \"Wind Direction\" (North/South/East/West).\n",
    "## Calculate the covariance between each pair of variables and interpret the results."
   ]
  },
  {
   "cell_type": "code",
   "execution_count": 198,
   "id": "fe75c07b-550f-4a55-a54e-6397e4e1da6b",
   "metadata": {
    "tags": []
   },
   "outputs": [
    {
     "name": "stdout",
     "output_type": "stream",
     "text": [
      "   Temperature  Humidity Weather Condition Wind Direction\n",
      "0           72        60             Sunny          North\n",
      "1           68        55            Cloudy          South\n",
      "2           75        70             Rainy           East\n",
      "3           70        45             Sunny           West\n",
      "4           80        75            Cloudy          North\n"
     ]
    }
   ],
   "source": [
    "data={\n",
    "        'Temperature': [[72, 68, 75, 70, 80]],\n",
    "    'Humidity': [[60, 55, 70, 45, 75]],\n",
    "    'Weather Condition': [['Sunny', 'Cloudy', 'Rainy', 'Sunny', 'Cloudy']],\n",
    "    'Wind Direction': [['North', 'South', 'East', 'West', 'North']]\n",
    "}\n",
    "df = pd.DataFrame(data)\n",
    "print(df)"
   ]
  },
  {
   "cell_type": "code",
   "execution_count": 204,
   "id": "48d5b0b6-00f1-4c75-975d-5a3eaf7f123c",
   "metadata": {
    "tags": []
   },
   "outputs": [
    {
     "data": {
      "text/html": [
       "<div>\n",
       "<style scoped>\n",
       "    .dataframe tbody tr th:only-of-type {\n",
       "        vertical-align: middle;\n",
       "    }\n",
       "\n",
       "    .dataframe tbody tr th {\n",
       "        vertical-align: top;\n",
       "    }\n",
       "\n",
       "    .dataframe thead th {\n",
       "        text-align: right;\n",
       "    }\n",
       "</style>\n",
       "<table border=\"1\" class=\"dataframe\">\n",
       "  <thead>\n",
       "    <tr style=\"text-align: right;\">\n",
       "      <th></th>\n",
       "      <th>Temperature</th>\n",
       "      <th>Humidity</th>\n",
       "      <th>Weather Condition</th>\n",
       "      <th>Wind Direction</th>\n",
       "      <th>Condition</th>\n",
       "    </tr>\n",
       "  </thead>\n",
       "  <tbody>\n",
       "    <tr>\n",
       "      <th>0</th>\n",
       "      <td>72</td>\n",
       "      <td>60</td>\n",
       "      <td>0.0</td>\n",
       "      <td>1</td>\n",
       "      <td>0.0</td>\n",
       "    </tr>\n",
       "    <tr>\n",
       "      <th>1</th>\n",
       "      <td>68</td>\n",
       "      <td>55</td>\n",
       "      <td>1.0</td>\n",
       "      <td>2</td>\n",
       "      <td>1.0</td>\n",
       "    </tr>\n",
       "    <tr>\n",
       "      <th>2</th>\n",
       "      <td>75</td>\n",
       "      <td>70</td>\n",
       "      <td>2.0</td>\n",
       "      <td>0</td>\n",
       "      <td>2.0</td>\n",
       "    </tr>\n",
       "    <tr>\n",
       "      <th>3</th>\n",
       "      <td>70</td>\n",
       "      <td>45</td>\n",
       "      <td>0.0</td>\n",
       "      <td>3</td>\n",
       "      <td>0.0</td>\n",
       "    </tr>\n",
       "    <tr>\n",
       "      <th>4</th>\n",
       "      <td>80</td>\n",
       "      <td>75</td>\n",
       "      <td>1.0</td>\n",
       "      <td>1</td>\n",
       "      <td>1.0</td>\n",
       "    </tr>\n",
       "  </tbody>\n",
       "</table>\n",
       "</div>"
      ],
      "text/plain": [
       "   Temperature  Humidity  Weather Condition  Wind Direction  Condition\n",
       "0           72        60                0.0               1        0.0\n",
       "1           68        55                1.0               2        1.0\n",
       "2           75        70                2.0               0        2.0\n",
       "3           70        45                0.0               3        0.0\n",
       "4           80        75                1.0               1        1.0"
      ]
     },
     "execution_count": 204,
     "metadata": {},
     "output_type": "execute_result"
    }
   ],
   "source": [
    "\n",
    "conditions = [['Sunny', 'Cloudy', 'Rainy']]\n",
    "directions = [['North', 'South', 'East', 'West']]\n",
    "\n",
    "\n",
    "oe = OrdinalEncoder(categories=[[conditions]])\n",
    "df[['Weather Condition']] = oe.fit_transform(df[[[['Weather Condition']]]])\n",
    "\n",
    "\n",
    "le = LabelEncoder()\n",
    "df[['Wind Direction']] = le.fit_transform(df[['Wind Direction']])\n",
    "\n",
    "df"
   ]
  },
  {
   "cell_type": "code",
   "execution_count": 206,
   "id": "b93b904c-d9fd-4b36-8e1d-4cf10e0a65c1",
   "metadata": {
    "tags": []
   },
   "outputs": [
    {
     "data": {
      "text/html": [
       "<div>\n",
       "<style scoped>\n",
       "    .dataframe tbody tr th:only-of-type {\n",
       "        vertical-align: middle;\n",
       "    }\n",
       "\n",
       "    .dataframe tbody tr th {\n",
       "        vertical-align: top;\n",
       "    }\n",
       "\n",
       "    .dataframe thead th {\n",
       "        text-align: right;\n",
       "    }\n",
       "</style>\n",
       "<table border=\"1\" class=\"dataframe\">\n",
       "  <thead>\n",
       "    <tr style=\"text-align: right;\">\n",
       "      <th></th>\n",
       "      <th>Temperature</th>\n",
       "      <th>Humidity</th>\n",
       "      <th>Weather Condition</th>\n",
       "      <th>Wind Direction</th>\n",
       "      <th>Condition</th>\n",
       "    </tr>\n",
       "  </thead>\n",
       "  <tbody>\n",
       "    <tr>\n",
       "      <th>Temperature</th>\n",
       "      <td>1.000000</td>\n",
       "      <td>0.870675</td>\n",
       "      <td>0.382235</td>\n",
       "      <td>-0.607716</td>\n",
       "      <td>0.382235</td>\n",
       "    </tr>\n",
       "    <tr>\n",
       "      <th>Humidity</th>\n",
       "      <td>0.870675</td>\n",
       "      <td>1.000000</td>\n",
       "      <td>0.650814</td>\n",
       "      <td>-0.863294</td>\n",
       "      <td>0.650814</td>\n",
       "    </tr>\n",
       "    <tr>\n",
       "      <th>Weather Condition</th>\n",
       "      <td>0.382235</td>\n",
       "      <td>0.650814</td>\n",
       "      <td>1.000000</td>\n",
       "      <td>-0.681385</td>\n",
       "      <td>1.000000</td>\n",
       "    </tr>\n",
       "    <tr>\n",
       "      <th>Wind Direction</th>\n",
       "      <td>-0.607716</td>\n",
       "      <td>-0.863294</td>\n",
       "      <td>-0.681385</td>\n",
       "      <td>1.000000</td>\n",
       "      <td>-0.681385</td>\n",
       "    </tr>\n",
       "    <tr>\n",
       "      <th>Condition</th>\n",
       "      <td>0.382235</td>\n",
       "      <td>0.650814</td>\n",
       "      <td>1.000000</td>\n",
       "      <td>-0.681385</td>\n",
       "      <td>1.000000</td>\n",
       "    </tr>\n",
       "  </tbody>\n",
       "</table>\n",
       "</div>"
      ],
      "text/plain": [
       "                   Temperature  Humidity  Weather Condition  Wind Direction  \\\n",
       "Temperature           1.000000  0.870675           0.382235       -0.607716   \n",
       "Humidity              0.870675  1.000000           0.650814       -0.863294   \n",
       "Weather Condition     0.382235  0.650814           1.000000       -0.681385   \n",
       "Wind Direction       -0.607716 -0.863294          -0.681385        1.000000   \n",
       "Condition             0.382235  0.650814           1.000000       -0.681385   \n",
       "\n",
       "                   Condition  \n",
       "Temperature         0.382235  \n",
       "Humidity            0.650814  \n",
       "Weather Condition   1.000000  \n",
       "Wind Direction     -0.681385  \n",
       "Condition           1.000000  "
      ]
     },
     "execution_count": 206,
     "metadata": {},
     "output_type": "execute_result"
    }
   ],
   "source": [
    "df.corr()"
   ]
  },
  {
   "cell_type": "raw",
   "id": "f4c8a576-4d50-457f-a253-b0ab50d82ffa",
   "metadata": {
    "tags": []
   },
   "source": [
    "Tmprature and Humidity are highly related High temprature mean high humidity\n",
    "\n",
    "Tmprature and Weather Condition less related week covarince\n",
    "\n",
    "Teprature and Wind Direction no strong negative relation\n",
    "Temperature and Condition   week covarince"
   ]
  },
  {
   "cell_type": "code",
   "execution_count": 212,
   "id": "600a7c6b-bcd8-4663-83a9-68395a0f2eac",
   "metadata": {
    "tags": []
   },
   "outputs": [
    {
     "data": {
      "text/plain": [
       "Index(['Temperature', 'Humidity', 'Weather Condition', 'Wind Direction',\n",
       "       'Condition'],\n",
       "      dtype='object')"
      ]
     },
     "execution_count": 212,
     "metadata": {},
     "output_type": "execute_result"
    }
   ],
   "source": [
    "df.columns"
   ]
  },
  {
   "cell_type": "code",
   "execution_count": 218,
   "id": "2b715a73-31c1-4b5b-b297-c8486742b30b",
   "metadata": {
    "tags": []
   },
   "outputs": [
    {
     "name": "stdout",
     "output_type": "stream",
     "text": [
      "Covariance between Temperature and Humidity: -30.0\n",
      "Covariance between Temperature and each Weather Condition (Sunny, Cloudy, Rainy):              Temperature  Humidity\n",
      "Temperature        22.00     48.75\n",
      "Humidity           48.75    142.50\n",
      "Covariance between Temperature and each Wind Direction (North, South, East, West): <bound method DataFrame.cov of    Temperature  Wind Direction\n",
      "0           72               1\n",
      "1           68               2\n",
      "2           75               0\n",
      "3           70               3\n",
      "4           80               1>\n",
      "Covariance between Humidity and each Weather Condition (Sunny, Cloudy, Rainy): <bound method DataFrame.cov of    Temperature  Condition\n",
      "0           72        0.0\n",
      "1           68        1.0\n",
      "2           75        2.0\n",
      "3           70        0.0\n",
      "4           80        1.0>\n"
     ]
    }
   ],
   "source": [
    "\n",
    "cov_temp_weather = df[['Temperature','Humidity']].cov()\n",
    "cov_temp_wind = df[['Temperature','Wind Direction']].cov\n",
    "cov_humidity_weather = df[['Temperature','Condition']].cov\n",
    "\n",
    "# Interpreting the results\n",
    "print(\"Covariance between Temperature and Humidity:\", cov_temp_humidity)\n",
    "print(\"Covariance between Temperature and each Weather Condition (Sunny, Cloudy, Rainy):\", cov_temp_weather)\n",
    "\n",
    "print(\"Covariance between Temperature and each Wind Direction (North, South, East, West):\", cov_temp_wind)\n",
    "print(\"Covariance between Humidity and each Weather Condition (Sunny, Cloudy, Rainy):\", cov_humidity_weather)\n"
   ]
  },
  {
   "cell_type": "code",
   "execution_count": null,
   "id": "02e31d1b-5554-4c87-bcf5-2eb21042fa53",
   "metadata": {},
   "outputs": [],
   "source": []
  }
 ],
 "metadata": {
  "kernelspec": {
   "display_name": "Python 3 (ipykernel)",
   "language": "python",
   "name": "python3"
  },
  "language_info": {
   "codemirror_mode": {
    "name": "ipython",
    "version": 3
   },
   "file_extension": ".py",
   "mimetype": "text/x-python",
   "name": "python",
   "nbconvert_exporter": "python",
   "pygments_lexer": "ipython3",
   "version": "3.11.7"
  }
 },
 "nbformat": 4,
 "nbformat_minor": 5
}
