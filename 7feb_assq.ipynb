{
 "cells": [
  {
   "cell_type": "markdown",
   "metadata": {},
   "source": [
    "# Q1. You are writing code for a company. The requirement of the company is that you create a python function that will check whether the password entered by the user is correct or not. The function shouldtake the password as input and return the string “Valid Password” if the entered password follows the below-given password guidelines else it should return “Invalid Password”."
   ]
  },
  {
   "cell_type": "code",
   "execution_count": 3,
   "metadata": {},
   "outputs": [
    {
     "name": "stdout",
     "output_type": "stream",
     "text": [
      "Password should have at least one numeral\n",
      "Password should have at least one uppercase letter\n",
      "Password should have at least one of the symbols $@#\n",
      "Invalid Password\n"
     ]
    }
   ],
   "source": [
    "def password_check(passwd):\n",
    "    SpecialSym = ['$', '@', '#', '%']\n",
    "    val = True\n",
    "\n",
    "    if len(passwd) < 6:\n",
    "        print('Length should be at least 6')\n",
    "        val = False\n",
    "    if len(passwd) > 20:\n",
    "        print('Length should not be greater than 20')\n",
    "        val = False\n",
    "    if not any(char.isdigit() for char in passwd):\n",
    "        print('Password should have at least one numeral')\n",
    "        val = False\n",
    "    if not any(char.isupper() for char in passwd):\n",
    "        print('Password should have at least one uppercase letter')\n",
    "        val = False\n",
    "    if not any(char.islower() for char in passwd):\n",
    "        print('Password should have at least one lowercase letter')\n",
    "        val = False\n",
    "    if not any(char in SpecialSym for char in passwd):\n",
    "        print('Password should have at least one of the symbols $@#')\n",
    "        val = False\n",
    "\n",
    "    return \"Valid Password\" if val else \"Invalid Password\"\n",
    "\n",
    "\n",
    "entered_password = input(\"Enter your password: \")\n",
    "print(password_check(entered_password))\n"
   ]
  },
  {
   "cell_type": "markdown",
   "metadata": {},
   "source": [
    "# Q2. Solve the below-given questions using at least one of the following:\n",
    "1. Lambda functioJ\n",
    "2. Filter functioJ\n",
    "3. Zap functioJ\n",
    "4. List ComprehensioI"
   ]
  },
  {
   "cell_type": "markdown",
   "metadata": {},
   "source": [
    "B Check if the string starts with a particular letterY\n",
    "B Check if the string is numericY\n",
    "B Sort a list of tuples having fruit names and their quantity. [(\"mango\",99),(\"orange\",80), (\"grapes\", 1000)-\n",
    "B Find the squares of numbers from 1 to 10Y\n",
    "B Find the cube root of numbers from 1 to 10Y\n",
    "B Check if a given number is evenY\n",
    "B Filter odd numbers from the given list.\n",
    "[1,2,3,4,5,6,7,8,9,10-\n",
    "B Sort a list of integers into positive and negative integers lists.\n",
    "[1,2,3,4,5,6,-1,-2,-3,-4,-5,0]"
   ]
  },
  {
   "cell_type": "code",
   "execution_count": 4,
   "metadata": {},
   "outputs": [
    {
     "name": "stdout",
     "output_type": "stream",
     "text": [
      "True\n",
      "False\n"
     ]
    }
   ],
   "source": [
    "starts_with_letter = lambda string, letter: string.startswith(letter)\n",
    "print(starts_with_letter(\"apple\", \"a\")) \n",
    "print(starts_with_letter(\"banana\", \"m\"))  \n"
   ]
  },
  {
   "cell_type": "code",
   "execution_count": 5,
   "metadata": {},
   "outputs": [
    {
     "name": "stdout",
     "output_type": "stream",
     "text": [
      "True\n",
      "False\n"
     ]
    }
   ],
   "source": [
    "is_numeric = lambda string: string.isnumeric()\n",
    "print(is_numeric(\"123\"))  # True\n",
    "print(is_numeric(\"hello\"))  # False\n"
   ]
  },
  {
   "cell_type": "code",
   "execution_count": 6,
   "metadata": {},
   "outputs": [
    {
     "name": "stdout",
     "output_type": "stream",
     "text": [
      "[('orange', 80), ('mango', 99), ('grapes', 1000)]\n"
     ]
    }
   ],
   "source": [
    "fruits = [(\"mango\", 99), (\"orange\", 80), (\"grapes\", 1000)]\n",
    "sorted_fruits = sorted(fruits, key=lambda x: x[1])\n",
    "print(sorted_fruits)\n"
   ]
  },
  {
   "cell_type": "code",
   "execution_count": 7,
   "metadata": {},
   "outputs": [
    {
     "name": "stdout",
     "output_type": "stream",
     "text": [
      "[1, 4, 9, 16, 25, 36, 49, 64, 81, 100]\n"
     ]
    }
   ],
   "source": [
    "squares = [x**2 for x in range(1, 11)]\n",
    "print(squares)\n"
   ]
  },
  {
   "cell_type": "code",
   "execution_count": 8,
   "metadata": {},
   "outputs": [
    {
     "name": "stdout",
     "output_type": "stream",
     "text": [
      "[1.0, 1.2599210498948732, 1.4422495703074083, 1.5874010519681994, 1.7099759466766968, 1.8171205928321397, 1.912931182772389, 2.0, 2.080083823051904, 2.154434690031884]\n"
     ]
    }
   ],
   "source": [
    "import math\n",
    "cube_roots = [math.pow(x, 1/3) for x in range(1, 11)]\n",
    "print(cube_roots)\n"
   ]
  },
  {
   "cell_type": "code",
   "execution_count": 9,
   "metadata": {},
   "outputs": [
    {
     "name": "stdout",
     "output_type": "stream",
     "text": [
      "False\n",
      "True\n"
     ]
    }
   ],
   "source": [
    "is_even = lambda num: num % 2 == 0\n",
    "print(is_even(7))  # False\n",
    "print(is_even(10))  # True\n"
   ]
  },
  {
   "cell_type": "code",
   "execution_count": 10,
   "metadata": {},
   "outputs": [
    {
     "name": "stdout",
     "output_type": "stream",
     "text": [
      "[1, 3, 5, 7, 9]\n"
     ]
    }
   ],
   "source": [
    "numbers = [1, 2, 3, 4, 5, 6, 7, 8, 9, 10]\n",
    "odd_numbers = list(filter(lambda x: x % 2 != 0, numbers))\n",
    "print(odd_numbers)\n"
   ]
  },
  {
   "cell_type": "code",
   "execution_count": 11,
   "metadata": {},
   "outputs": [
    {
     "name": "stdout",
     "output_type": "stream",
     "text": [
      "Positive integers: [1, 2, 3, 4, 5, 6]\n",
      "Negative integers: [-1, -2, -3, -4, -5]\n"
     ]
    }
   ],
   "source": [
    "integers = [1, 2, 3, 4, 5, 6, -1, -2, -3, -4, -5, 0]\n",
    "positive_integers = [x for x in integers if x > 0]\n",
    "negative_integers = [x for x in integers if x < 0]\n",
    "print(\"Positive integers:\", positive_integers)\n",
    "print(\"Negative integers:\", negative_integers)\n"
   ]
  },
  {
   "cell_type": "code",
   "execution_count": null,
   "metadata": {},
   "outputs": [],
   "source": []
  }
 ],
 "metadata": {
  "kernelspec": {
   "display_name": "DS",
   "language": "python",
   "name": "python3"
  },
  "language_info": {
   "codemirror_mode": {
    "name": "ipython",
    "version": 3
   },
   "file_extension": ".py",
   "mimetype": "text/x-python",
   "name": "python",
   "nbconvert_exporter": "python",
   "pygments_lexer": "ipython3",
   "version": "3.10.14"
  }
 },
 "nbformat": 4,
 "nbformat_minor": 2
}
