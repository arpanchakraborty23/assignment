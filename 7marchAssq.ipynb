{
  "nbformat": 4,
  "nbformat_minor": 0,
  "metadata": {
    "colab": {
      "provenance": []
    },
    "kernelspec": {
      "name": "python3",
      "display_name": "Python 3"
    },
    "language_info": {
      "name": "python"
    }
  },
  "cells": [
    {
      "cell_type": "markdown",
      "source": [],
      "metadata": {
        "id": "1nU-rmmhp6UW"
      }
    },
    {
      "cell_type": "markdown",
      "source": [
        "##Q1. What are the three measures of central tendency?\n",
        "=>  mean, median, mode\n",
        "\n",
        "##Q2. What is the difference between the mean, median, and mode? How are they used to measure the\n",
        "central tendency of a dataset?\n",
        "=>\n",
        "Mean: mean aslo known as average. if we have to calculate avarage height of the class bsicaly we calculate mean.\n",
        "\n",
        "    X= sum of values/ total num of values\n",
        "\n",
        "median: median is the best answer for outlier and skewness problem in dataset.Fistly, sort the values as asending order if no of dataset values are even we take medille two value and calculate their mean, mean of thoes values are called median valu of dataset.\n",
        "if no of dataset values are odd then medille value called median value.\n",
        "\n",
        "l=[1,2,3,4,5,6,7,8]\n",
        "median=4+5/2 =4.5\n",
        "\n",
        "l2=[1,2,3,4,5,6,7]\n",
        "median=4\n",
        "\n",
        "mode: Mode reprasents frequency of dataset.In case of numarical values ue use mean and medidan but mode highely use for cateforical value\n",
        "\n",
        "in iris dataset species have differens kinds we handels them mode\n",
        "\n"
      ],
      "metadata": {
        "id": "zJwanvrUp9UK"
      }
    },
    {
      "cell_type": "markdown",
      "source": [
        "## 'Q3. Measure the three measures of central tendency for the given height data'"
      ],
      "metadata": {
        "id": "vJpqW4XHqGwo"
      }
    },
    {
      "cell_type": "code",
      "source": [
        "l=[178,177,176,177,178.2,178,175,179,180,175,178.9,176.2,177,172.5,178,176.5]"
      ],
      "metadata": {
        "id": "B81rsfK3p-WD"
      },
      "execution_count": 2,
      "outputs": []
    },
    {
      "cell_type": "code",
      "source": [
        "import numpy as np\n",
        "\n",
        "mean=np.mean(l)\n",
        "mean"
      ],
      "metadata": {
        "colab": {
          "base_uri": "https://localhost:8080/"
        },
        "id": "ZEnC83sGqQOJ",
        "outputId": "b5ec5672-3726-4559-ca3a-9d096283bb4a"
      },
      "execution_count": 4,
      "outputs": [
        {
          "output_type": "execute_result",
          "data": {
            "text/plain": [
              "177.01875"
            ]
          },
          "metadata": {},
          "execution_count": 4
        }
      ]
    },
    {
      "cell_type": "code",
      "source": [
        "median=np.median(l)\n",
        "median"
      ],
      "metadata": {
        "colab": {
          "base_uri": "https://localhost:8080/"
        },
        "id": "xUotGEqyqY7w",
        "outputId": "05148109-b2b6-4459-b134-4eeba70081fe"
      },
      "execution_count": 5,
      "outputs": [
        {
          "output_type": "execute_result",
          "data": {
            "text/plain": [
              "177.0"
            ]
          },
          "metadata": {},
          "execution_count": 5
        }
      ]
    },
    {
      "cell_type": "code",
      "source": [
        "from scipy import stats\n",
        "mode=stats.mode(l)\n",
        "mode"
      ],
      "metadata": {
        "colab": {
          "base_uri": "https://localhost:8080/"
        },
        "id": "Z-gv4v0hqgNQ",
        "outputId": "e8d94785-2b15-4a7a-fc81-50ae49d977b9"
      },
      "execution_count": 7,
      "outputs": [
        {
          "output_type": "execute_result",
          "data": {
            "text/plain": [
              "ModeResult(mode=177.0, count=3)"
            ]
          },
          "metadata": {},
          "execution_count": 7
        }
      ]
    },
    {
      "cell_type": "markdown",
      "source": [
        "##Q4. Find the standard deviation for the given data:"
      ],
      "metadata": {
        "id": "XkHOOjq2q0_u"
      }
    },
    {
      "cell_type": "code",
      "source": [
        "l=[178,177,176,177,178.2,178,175,179,180,175,178.9,176.2,177,172.5,178,176.5]"
      ],
      "metadata": {
        "id": "FtyT4dD-qm4p"
      },
      "execution_count": 8,
      "outputs": []
    },
    {
      "cell_type": "code",
      "source": [
        "np.std(l)"
      ],
      "metadata": {
        "colab": {
          "base_uri": "https://localhost:8080/"
        },
        "id": "eUJbBjmQrUMy",
        "outputId": "f73ead68-a33a-4c82-a212-a078ec692d77"
      },
      "execution_count": 11,
      "outputs": [
        {
          "output_type": "execute_result",
          "data": {
            "text/plain": [
              "1.7885814036548633"
            ]
          },
          "metadata": {},
          "execution_count": 11
        }
      ]
    },
    {
      "cell_type": "markdown",
      "source": [
        "Q5. How are measures of dispersion such as range, variance, and standard deviation used to describe\n",
        "the spread of a dataset? Provide an example."
      ],
      "metadata": {
        "id": "p8NEGBj5rwdR"
      }
    },
    {
      "cell_type": "markdown",
      "source": [
        "**Range** : range calculate deiffrance btween max and min value of dataset.it highely sensative to outliers.\n",
        "\n",
        "l=[65,70,75,85,90]\n",
        "range=65-90=25\n",
        "\n",
        "**variance**: variance is squre of std for each data pt in dataset.\n",
        "\n",
        "big varaince meand spread of data will be big.\n",
        "small variance mean spread of data will be small but height wull be heigh\n",
        "\n",
        "**Std** : std is squere root of variance"
      ],
      "metadata": {
        "id": "K85KF0INrveu"
      }
    },
    {
      "cell_type": "markdown",
      "source": [
        "##Q6. What is a Venn diagram?\n",
        "\n",
        " Venn diagram is a graphical representation used to display relationships between sets.overlap representing the intersection of the sets and non-overlapp epresent elements that belong exclusively to one set but not to others."
      ],
      "metadata": {
        "id": "imeuUOTOw5o4"
      }
    },
    {
      "cell_type": "markdown",
      "source": [
        "##Q7. For the two given sets A = (2,3,4,5,6,7) & B = (0,2,6,8,10). Find:\n",
        "(i) A B\n",
        "(ii) A ⋃ B\n",
        "\n",
        "=\n",
        "A∩B means the elemsnts are common in both sets {2,6}\n",
        "\n",
        "A U B means all unique elements from both sets {0,2,3,4,5,6,7,8,10}"
      ],
      "metadata": {
        "id": "a9O35x8hxqNF"
      }
    },
    {
      "cell_type": "markdown",
      "source": [
        "##Q8. What do you understand about skewness in data?\n",
        "\n",
        "skewness in data refers to the asymmetry of the distribution around its mean.\n",
        "In positive skewness mean> mediam>mode\n",
        "in negative skweness mean<median< mode"
      ],
      "metadata": {
        "id": "X7SLe3AXyc-7"
      }
    },
    {
      "cell_type": "markdown",
      "source": [
        "##Q9. If a data is right skewed then what will be the position of median with respect to mean?\n",
        "In a right-skewed distribution, also known as positively skewed, the tail of the distribution extends more towards the higher values compared to the lower value . The mean is typically greater than the median because the outliers on the right side of the distribution pull the mean towards them."
      ],
      "metadata": {
        "id": "8aqCodmj0Hiq"
      }
    },
    {
      "cell_type": "markdown",
      "source": [
        "## Q10. Explain the difference between covariance and correlation. How are these measures used in statistical analysis?\n",
        "\n",
        "Covariance measures the degree of two variables change together . It indicates the direction of the linear relationship between two variables whether increase or decrease together.\n",
        "\n",
        "\n",
        "Correlation is a standardized measure of the strength and direction of the linear relationship between two variables. It is essentially a normalized version of covariance, scaled to a range between -1 and 1."
      ],
      "metadata": {
        "id": "uD0vQkeC3f8C"
      }
    },
    {
      "cell_type": "markdown",
      "source": [
        "##Q11. What is the formula for calculating the sample mean? Provide an example calculation for a dataset.\n",
        "\n",
        "the sum of all the values in the dataset divided by the total number of values in the dataset\n",
        "\n"
      ],
      "metadata": {
        "id": "w5XfCqO26XXG"
      }
    },
    {
      "cell_type": "code",
      "source": [
        "l=[10, 15, 20, 25, 30]\n",
        "sum=10+15+20+25+30\n",
        "sample_mean=sum/5"
      ],
      "metadata": {
        "id": "7VQn85Ai3i9Y"
      },
      "execution_count": 15,
      "outputs": []
    },
    {
      "cell_type": "code",
      "source": [
        "sample_mean"
      ],
      "metadata": {
        "colab": {
          "base_uri": "https://localhost:8080/"
        },
        "id": "_B8j0ZqY7DnH",
        "outputId": "37f629d9-1ff8-4acd-effa-bb40de204b5e"
      },
      "execution_count": 17,
      "outputs": [
        {
          "output_type": "execute_result",
          "data": {
            "text/plain": [
              "20.0"
            ]
          },
          "metadata": {},
          "execution_count": 17
        }
      ]
    },
    {
      "cell_type": "markdown",
      "source": [
        "##Q12. For a normal distribution data what is the relationship between its measure of central tendency?\n",
        "\n",
        "mean=median=mode"
      ],
      "metadata": {
        "id": "KQI1SCYu7gnQ"
      }
    },
    {
      "cell_type": "markdown",
      "source": [
        "##Q13. How is covariance different from correlation?\n",
        "\n",
        "\n",
        "\n",
        "    Covariance                                                       Correlation\n",
        "1.It indicates the direction of the linear\n",
        "relationship between two variables whether\n",
        "increase or decrease together. but measure issue\n",
        "it has no limt to incressing or dercessing.\n",
        "\n",
        "1.Correlation is a standardized measure of the strength and direction of the linear relationship between two variables. It is essentially a normalized version of covariance, scaled to a range between -1 and 1.\n",
        "\n",
        "2. Covariance can take any value, positive, negative, or zero. A positive covariance indicates that as one variable increases, the other variable tends to increase as well. A negative covariance indicates that as one variable increases, the other variable tends to decrease. Zero covariance indicates no linear relationship between the variables.\n",
        "\n",
        "2. Correlation values range between -1 and 1. A correlation value closer to 1 indicates a strong positive linear relationship, while a value closer to -1 indicates a strong negative linear relationship. A correlation value around 0 indicates no linear relationship between the variables."
      ],
      "metadata": {
        "id": "eMBsthjv74UG"
      }
    },
    {
      "cell_type": "markdown",
      "source": [],
      "metadata": {
        "id": "XNJmh4Xh74Kz"
      }
    },
    {
      "cell_type": "markdown",
      "source": [
        "##Q14. How do outliers affect measures of central tendency and dispersion? Provide an example."
      ],
      "metadata": {
        "id": "nDBkAhJO9a8u"
      }
    },
    {
      "cell_type": "markdown",
      "source": [
        "Consider a dataset of salaries for a company:\n",
        "\n",
        "{\n",
        "20\n",
        ",\n",
        "000\n",
        ",\n",
        "25\n",
        ",\n",
        "000\n",
        ",\n",
        "30\n",
        ",\n",
        "000\n",
        ",\n",
        "35\n",
        ",\n",
        "000\n",
        ",\n",
        "40\n",
        ",\n",
        "000\n",
        ",\n",
        "1\n",
        ",\n",
        "000\n",
        ",\n",
        "000\n",
        "}\n",
        "{20,000,25,000,30,000,35,000,40,000,1,000,000}\n",
        "\n",
        "In this dataset, $1,000,000 is an outlier. Its presence greatly inflates the mean salary, making it unrepresentative of the majority of the employees. However, the median and mode remain relatively unaffected. Additionally, the presence of the outlier greatly increases the range, variance, and standard deviation of the dataset, making these measures less representative of the spread of salaries for the majority of employees."
      ],
      "metadata": {
        "id": "moFhs85m9vZZ"
      }
    },
    {
      "cell_type": "code",
      "source": [
        " ''"
      ],
      "metadata": {
        "id": "soeRw5Ei7LbX"
      },
      "execution_count": null,
      "outputs": []
    }
  ]
}