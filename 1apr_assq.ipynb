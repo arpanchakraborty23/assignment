{
 "cells": [
  {
   "cell_type": "markdown",
   "id": "19d606c1-04c9-48b8-aa17-dadf18b944f2",
   "metadata": {},
   "source": [
    "## Q1. Explain the difference between linear regression and logistic regression models. Provide an example of\n",
    "## a scenario where logistic regression would be more appropriate."
   ]
  },
  {
   "cell_type": "raw",
   "id": "b5d66077-4f85-4823-9bc2-2a3ca0c26617",
   "metadata": {
    "tags": []
   },
   "source": [
    "Liner regression we try to predict countinues value but in Logistic regression we predict catagorical value. this is the main diffrance between them,\n",
    "if we try to Liner regression problem on classification problem it can  predict but  their will be unaccurate rasult -\n",
    "\n",
    "1. if outliers present in data it shift best fit line towards outliers and we get wrong predictions.\n",
    "2. if we had value like 2 ,-1.5 than what calss will it take\n",
    "\n",
    "so, Basiccally we can't use Liner regrassion on classifiaction problem.\n",
    "\n",
    "Logistic regression we use sqaching technique with sigmoid activation that create 'S' shape curve that can handel outliers easily.\n",
    "And other hand sigmoid activation map th>=0.5 as 1 and th<= 0\n",
    "\n",
    "Ex- \n",
    "1. The email spam or not spam\n",
    "2. student fail or pass\n"
   ]
  },
  {
   "cell_type": "markdown",
   "id": "5826479a-816a-48ec-a2c3-678cf10d11cf",
   "metadata": {},
   "source": [
    "## Q2. What is the cost function used in logistic regression, and how is it optimized?"
   ]
  },
  {
   "cell_type": "raw",
   "id": "1063469a-d215-4cb6-9379-fa0ddf76b73f",
   "metadata": {
    "tags": []
   },
   "source": [
    "in logistic regression Log loss convix function use as  cost function\n",
    "\n",
    "cost function= -ylny_pred -(1-y)ln(1-y_pred)\n",
    "\n",
    "it is optimize by convargence algorithm by updating slop.  diffrencating slop and multipile with learning rate \n",
    "\n",
    "0_j - learning rate d/d0 (cost function)"
   ]
  },
  {
   "cell_type": "markdown",
   "id": "d854c51e-c298-45a7-b4e6-249ba3fff792",
   "metadata": {},
   "source": [
    "## Q3. Explain the concept of regularization in logistic regression and how it helps prevent overfitting."
   ]
  },
  {
   "cell_type": "raw",
   "id": "c4f3a289-d54c-41b5-adb6-f6571d1014d2",
   "metadata": {
    "tags": []
   },
   "source": [
    "Regularization can be use based on problem we ar faching it, by adding penalty term to cost function can clove the problem .\n",
    "Types-\n",
    "L1 Regularization (Lasso)\n",
    "L2 Regularization (Ridge)\n",
    "Elastic Net Regularization\n",
    "\n",
    "For overfitting problem we use L2 Regularization .It Addds the squared values of the coefficients as a penalty term to the cost function to reduce coefficients value near to zero.\n",
    "\n",
    "cost function= -ylny_pred -(1-y)ln(1-y_pred) + lmbda/2n sumasion(slop)^2\n"
   ]
  },
  {
   "cell_type": "markdown",
   "id": "06f7247c-cdd9-49ae-b55a-3dc3e0521441",
   "metadata": {},
   "source": [
    "## Q4. What is the ROC curve, and how is it used to evaluate the performance of the logistic regression model?"
   ]
  },
  {
   "cell_type": "raw",
   "id": "e0c0b688-e18f-4c86-8aa8-a05a0a860af5",
   "metadata": {},
   "source": [
    "Roc curve is perfomance metric for measure model perfomance,it is use for binary classification problem.\n",
    "\n",
    "1. The ROC curve helps visualize the ability of the logistic regression model to distinguish between positive and negative classes.\n",
    "2. A model with a curve closer to the top left corner indicates better performance.\n",
    "3. The ROC curve can be used to compare the performance of multiple models. The model with the higher AUC is generally considered better."
   ]
  },
  {
   "cell_type": "markdown",
   "id": "b6964aea-08e7-4680-a0a1-1adcbe1de5e3",
   "metadata": {},
   "source": [
    "# Q5. What are some common techniques for feature selection in logistic regression? How do these\n",
    "# techniques help improve the model's performance?"
   ]
  },
  {
   "cell_type": "raw",
   "id": "8a46e543-4333-4886-aa9a-812576e07ec0",
   "metadata": {},
   "source": [
    "Filter methods: -\n",
    "Filter methods evaluate the relevance of features based on their statistical properties with respect to the target variable, independently of the learning algorithm.\n",
    "1.Measures the dependency between each feature and the target. It works well for both continuous and categorical data.\n",
    "2.Measures the linear relationship between each feature and the target. Features with high correlation with the target are preferred.\n",
    "\n",
    "Wrapper methods: -\n",
    "1.its the model and removes the least significant features recursively, ranking features based on their importance.\n",
    "\n",
    "Embaddaed methods:-\n",
    "1. Adds a penalty equivalent to the absolute value of the magnitude of coefficients to the loss function. It can shrink some coefficients to zero"
   ]
  },
  {
   "cell_type": "markdown",
   "id": "13e3a38e-dc7e-476a-b543-4df30af9dfbb",
   "metadata": {},
   "source": [
    "# Q6. How can you handle imbalanced datasets in logistic regression? What are some strategies for dealing with class imbalance?"
   ]
  },
  {
   "cell_type": "raw",
   "id": "ab5d95c9-6a37-4498-aa38-16de91ac4e92",
   "metadata": {},
   "source": [
    "1. SMOTE  Generates synthetic samples for the minority class by interpolating between existing minority class examples.\n",
    "2. andomly duplicates minority class samples to balance the class distribution.\n",
    "3. Accuracy is not suitable for imbalanced datasets. Use metrics such as Precision, Recall, F1-Score, ROC-AUC, and Precision-Recall AUC to evaluate model performance"
   ]
  },
  {
   "cell_type": "markdown",
   "id": "416f578e-885d-42c8-82f6-e801318671f1",
   "metadata": {},
   "source": [
    "# Q7. Can you discuss some common issues and challenges that may arise when implementing logistic regression,\n",
    "# and how they can be addressed? For example, what can be done if there is multicollinearity among the independent variables?"
   ]
  },
  {
   "cell_type": "raw",
   "id": "81cf0882-1074-4e5b-948e-05ad013bf1b6",
   "metadata": {},
   "source": [
    "1. Multicollinearity occurs when two or more independent variables are highly correlated, which can inflate the variance of the coefficient estimates and make the model unstable.\n",
    "\n",
    "solution- PCA: reduce dimencity of the fetures\n",
    "          Ragularigation method\n",
    "    \n",
    "2. overfitting  occurs when the model captures noise in the training data, resulting in poor generalization to new data.\n",
    "\n",
    "solution:- cross validation\n",
    "            Ragularigation\n",
    "    \n",
    "3. Imbalanced Data  datasets can lead to biased models that favor the majority class.\n",
    "\n",
    "solution :-  SMOTE  Generates synthetic samples for the minority class by interpolating between existing minority class examples.\n",
    "\n",
    "4. Outliers can disproportionately affect the model coefficients and degrade performance.\n",
    "\n",
    "solution: - use robust scaler\n",
    "             remove Outliers by using z-score or iqr method"
   ]
  },
  {
   "cell_type": "code",
   "execution_count": null,
   "id": "ca42d0c7-5269-4bed-8077-8d2a2ff65b42",
   "metadata": {},
   "outputs": [],
   "source": []
  }
 ],
 "metadata": {
  "kernelspec": {
   "display_name": "Python 3 (ipykernel)",
   "language": "python",
   "name": "python3"
  },
  "language_info": {
   "codemirror_mode": {
    "name": "ipython",
    "version": 3
   },
   "file_extension": ".py",
   "mimetype": "text/x-python",
   "name": "python",
   "nbconvert_exporter": "python",
   "pygments_lexer": "ipython3",
   "version": "3.11.7"
  }
 },
 "nbformat": 4,
 "nbformat_minor": 5
}
