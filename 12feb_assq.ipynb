{
 "cells": [
  {
   "cell_type": "markdown",
   "metadata": {},
   "source": [
    "# Q1. What is an Ex,eption in pthon? Write the difference between Exeption and syntx errors"
   ]
  },
  {
   "cell_type": "code",
   "execution_count": 5,
   "metadata": {},
   "outputs": [
    {
     "data": {
      "text/plain": [
       "'When an error occurs within a Python program, it creates an exception object. If not handled, this exception will cause the program to crash.\\n\\nAn exception is an error that occurs during the execution of a program. It can be caused by a wide variety of issues, such as invalid operations, incorrect data types, or attempts to access nonexistent variables or elements.\\n\\nA syntax error is a mistake in the code that violates the rules of the Python language, making it impossible to parse and compile. This error is detected during the parsing stage before the program starts running.\\n'"
      ]
     },
     "execution_count": 5,
     "metadata": {},
     "output_type": "execute_result"
    }
   ],
   "source": [
    "'''When an error occurs within a Python program, it creates an exception object. If not handled, this exception will cause the program to crash.\n",
    "\n",
    "An exception is an error that occurs during the execution of a program. It can be caused by a wide variety of issues, such as invalid operations, incorrect data types, or attempts to access nonexistent variables or elements.\n",
    "\n",
    "A syntax error is a mistake in the code that violates the rules of the Python language, making it impossible to parse and compile. This error is detected during the parsing stage before the program starts running.\n",
    "'''"
   ]
  },
  {
   "cell_type": "code",
   "execution_count": 1,
   "metadata": {},
   "outputs": [
    {
     "name": "stdout",
     "output_type": "stream",
     "text": [
      "Cannot divide by zero\n"
     ]
    }
   ],
   "source": [
    "try:\n",
    "    result = 10 / 0  # This will raise a ZeroDivisionError\n",
    "except ZeroDivisionError:\n",
    "    print(\"Cannot divide by zero\")\n"
   ]
  },
  {
   "cell_type": "code",
   "execution_count": 4,
   "metadata": {},
   "outputs": [
    {
     "name": "stdout",
     "output_type": "stream",
     "text": [
      "This is a syntax error\n"
     ]
    }
   ],
   "source": [
    "# This will raise a syntax error\n",
    "if True:\n",
    "    print(\"This is a syntax error\")\n"
   ]
  },
  {
   "cell_type": "markdown",
   "metadata": {},
   "source": [
    "# What happens when an exception is not handled? Explain with an example."
   ]
  },
  {
   "cell_type": "code",
   "execution_count": null,
   "metadata": {},
   "outputs": [],
   "source": [
    "'''If an exception is not handled, the program terminates , and an error message is displayed.\n",
    "\n",
    "'''"
   ]
  },
  {
   "cell_type": "code",
   "execution_count": 6,
   "metadata": {},
   "outputs": [
    {
     "ename": "ZeroDivisionError",
     "evalue": "division by zero",
     "output_type": "error",
     "traceback": [
      "\u001b[1;31m---------------------------------------------------------------------------\u001b[0m",
      "\u001b[1;31mZeroDivisionError\u001b[0m                         Traceback (most recent call last)",
      "Cell \u001b[1;32mIn[6], line 6\u001b[0m\n\u001b[0;32m      3\u001b[0m     \u001b[38;5;28;01mreturn\u001b[39;00m result\n\u001b[0;32m      5\u001b[0m \u001b[38;5;66;03m# Calling the function with division by zero\u001b[39;00m\n\u001b[1;32m----> 6\u001b[0m result \u001b[38;5;241m=\u001b[39m \u001b[43mdivide_numbers\u001b[49m\u001b[43m(\u001b[49m\u001b[38;5;241;43m10\u001b[39;49m\u001b[43m,\u001b[49m\u001b[43m \u001b[49m\u001b[38;5;241;43m0\u001b[39;49m\u001b[43m)\u001b[49m\n\u001b[0;32m      7\u001b[0m \u001b[38;5;28mprint\u001b[39m(result)\n",
      "Cell \u001b[1;32mIn[6], line 2\u001b[0m, in \u001b[0;36mdivide_numbers\u001b[1;34m(a, b)\u001b[0m\n\u001b[0;32m      1\u001b[0m \u001b[38;5;28;01mdef\u001b[39;00m \u001b[38;5;21mdivide_numbers\u001b[39m(a, b):\n\u001b[1;32m----> 2\u001b[0m     result \u001b[38;5;241m=\u001b[39m \u001b[43ma\u001b[49m\u001b[43m \u001b[49m\u001b[38;5;241;43m/\u001b[39;49m\u001b[43m \u001b[49m\u001b[43mb\u001b[49m\n\u001b[0;32m      3\u001b[0m     \u001b[38;5;28;01mreturn\u001b[39;00m result\n",
      "\u001b[1;31mZeroDivisionError\u001b[0m: division by zero"
     ]
    }
   ],
   "source": [
    "def divide_numbers(a, b):\n",
    "    result = a / b\n",
    "    return result\n",
    "\n",
    "# Calling the function with division by zero\n",
    "result = divide_numbers(10, 0)\n",
    "print(result)"
   ]
  },
  {
   "cell_type": "code",
   "execution_count": 7,
   "metadata": {},
   "outputs": [
    {
     "data": {
      "text/plain": [
       "'divide_numbers  function is called with  b  as 0, it will raise a  ZeroDivisionError  because dividing by zero is not allowed. If this exception is not handled in the code, the program will terminate abruptly and display an error message'"
      ]
     },
     "execution_count": 7,
     "metadata": {},
     "output_type": "execute_result"
    }
   ],
   "source": [
    "'divide_numbers  function is called with  b  as 0, it will raise a  ZeroDivisionError  because dividing by zero is not allowed. If this exception is not handled in the code, the program will terminate abruptly and display an error message'"
   ]
  },
  {
   "cell_type": "markdown",
   "metadata": {},
   "source": [
    "# 3.Which Python statements are used to catch and handle exceptions? Explain with an example."
   ]
  },
  {
   "cell_type": "code",
   "execution_count": 8,
   "metadata": {},
   "outputs": [
    {
     "data": {
      "text/plain": [
       "'try: Contains the code that may cause an exception.\\nexcept: Contains the code that handles the exception.'"
      ]
     },
     "execution_count": 8,
     "metadata": {},
     "output_type": "execute_result"
    }
   ],
   "source": [
    "'''try: Contains the code that may cause an exception.\n",
    "except: Contains the code that handles the exception.'''"
   ]
  },
  {
   "cell_type": "code",
   "execution_count": 10,
   "metadata": {},
   "outputs": [
    {
     "name": "stdout",
     "output_type": "stream",
     "text": [
      "Cannot divide by zero.\n"
     ]
    }
   ],
   "source": [
    "try:\n",
    "    result = 10 / 0\n",
    "except ZeroDivisionError:\n",
    "    print(\"Cannot divide by zero.\")\n",
    "\n"
   ]
  },
  {
   "cell_type": "markdown",
   "metadata": {},
   "source": [
    "#  Explain with an example: try, except, else, finally, and raise."
   ]
  },
  {
   "cell_type": "code",
   "execution_count": 12,
   "metadata": {},
   "outputs": [
    {
     "name": "stdout",
     "output_type": "stream",
     "text": [
      "Custom error caught: Negative value is not allowed.\n",
      "This will always execute.\n"
     ]
    }
   ],
   "source": [
    "class MyCustomError(Exception):\n",
    "    pass\n",
    "\n",
    "def risky_function(value):\n",
    "    if value < 0:\n",
    "        raise MyCustomError(\"Negative value is not allowed.\")\n",
    "    return 0 / value\n",
    "\n",
    "try:\n",
    "    result = risky_function(-5)\n",
    "except MyCustomError as e:\n",
    "    print(f\"Custom error caught: {e}\")\n",
    "except ZeroDivisionError:\n",
    "    print(\"Division by zero error.\")\n",
    "else:\n",
    "    print(f\"Result: {result}\")\n",
    "finally:\n",
    "    print(\"This will always execute.\")\n"
   ]
  },
  {
   "cell_type": "markdown",
   "metadata": {},
   "source": [
    "# Q5. What are Custom Exceptions in Python? Why do we need Custom Exceptions? Explain with an example"
   ]
  },
  {
   "cell_type": "code",
   "execution_count": 13,
   "metadata": {},
   "outputs": [
    {
     "data": {
      "text/plain": [
       "'Custom exceptions are user-defined exceptions that inherit from the built-in Exception class. They allow you to define specific error conditions and handle them in a way that is more meaningful to your application.'"
      ]
     },
     "execution_count": 13,
     "metadata": {},
     "output_type": "execute_result"
    }
   ],
   "source": [
    "'Custom exceptions are user-defined exceptions that inherit from the built-in Exception class. They allow you to define specific error conditions and handle them in a way that is more meaningful to your application.'"
   ]
  },
  {
   "cell_type": "code",
   "execution_count": 14,
   "metadata": {},
   "outputs": [
    {
     "data": {
      "text/plain": [
       "'To provide more specific error information.'"
      ]
     },
     "execution_count": 14,
     "metadata": {},
     "output_type": "execute_result"
    }
   ],
   "source": [
    "'To provide more specific error information.'"
   ]
  },
  {
   "cell_type": "code",
   "execution_count": 18,
   "metadata": {},
   "outputs": [
    {
     "name": "stdout",
     "output_type": "stream",
     "text": [
      "Error: marks cannot be negative.\n"
     ]
    }
   ],
   "source": [
    "class InvalidmarksError(Exception):\n",
    "    pass\n",
    "\n",
    "def check_age(marks):\n",
    "    if marks < 0:\n",
    "        raise InvalidmarksError(\"marks cannot be negative.\")\n",
    "    elif age < 30:\n",
    "        print(\"fail\")\n",
    "    else:\n",
    "        print(\"pass\")\n",
    "\n",
    "try:\n",
    "    check_age(-1)\n",
    "except InvalidmarksError as e:\n",
    "    print(f\"Error: {e}\")\n"
   ]
  },
  {
   "cell_type": "markdown",
   "metadata": {},
   "source": [
    "# Q6. Create a Custom Exception Class. Use this Class to Handle an Exception."
   ]
  },
  {
   "cell_type": "code",
   "execution_count": null,
   "metadata": {},
   "outputs": [],
   "source": [
    "def error_detail(error, error_detail):\n",
    "    _, _, exc_tb = error_detail.exc_info()\n",
    "\n",
    "    file_name = exc_tb.tb_frame.f_code.co_filename\n",
    "\n",
    "    error_message = \"Error occurred python script name [{0}] line number [{1}] error message [{2}]\".format(\n",
    "        file_name, exc_tb.tb_lineno, str(error)\n",
    "    )\n",
    "\n",
    "    return error_message\n"
   ]
  },
  {
   "cell_type": "code",
   "execution_count": 20,
   "metadata": {},
   "outputs": [],
   "source": [
    "class CustomException(Exception):\n",
    "   def __init__(self, error_msg,error_detail) -> None:\n",
    "         super().__init__(error_msg)\n",
    "         self.error_msg=error_detail(error_msg,error_detail)\n",
    "   def __str__(self) -> str:\n",
    "\t\t\t  return self.error_msg\n",
    "\t\t\t"
   ]
  },
  {
   "cell_type": "code",
   "execution_count": null,
   "metadata": {},
   "outputs": [],
   "source": []
  }
 ],
 "metadata": {
  "kernelspec": {
   "display_name": "Python 3",
   "language": "python",
   "name": "python3"
  },
  "language_info": {
   "codemirror_mode": {
    "name": "ipython",
    "version": 3
   },
   "file_extension": ".py",
   "mimetype": "text/x-python",
   "name": "python",
   "nbconvert_exporter": "python",
   "pygments_lexer": "ipython3",
   "version": "3.12.4"
  }
 },
 "nbformat": 4,
 "nbformat_minor": 2
}
