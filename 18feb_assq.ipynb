{
 "cells": [
  {
   "cell_type": "markdown",
   "id": "0d51a467-2e25-41b9-999b-dac6d9dfa69f",
   "metadata": {},
   "source": [
    "# Q1. What is an API? Give an example, where an API is used in real life."
   ]
  },
  {
   "cell_type": "raw",
   "id": "7e193eba-0f9d-4be8-90d2-044ebfedceaf",
   "metadata": {},
   "source": [
    "An API refers Application Programming Interface is a set of rules and protocols that allows different software applications to communicate and interact with each other.\n",
    "\n",
    "A common real-life example of API usage is a weather application that displays real-time weather data for different locations. The application uses a weather API to fetch the latest weather information."
   ]
  },
  {
   "cell_type": "markdown",
   "id": "93150d8f-8f03-45ab-96eb-3e870275869e",
   "metadata": {},
   "source": [
    "# Q2. Give advantages and disadvantages of using API."
   ]
  },
  {
   "cell_type": "markdown",
   "id": "ed6466c5-8aac-443e-913c-27360df5d73b",
   "metadata": {
    "tags": []
   },
   "source": [
    "Advantages:\n",
    "    1.APIs allow developers to build modular applications by separating functionalities into independent services. This makes it easier to reuse code and services across different projects or application\n",
    "    2.This reduces development time and effort, allowing teams to focus on core features.\n",
    "    3. APIs allow applications to scale by decoupling services. As demand increases, developers can scale individual components without affecting the entire system.\n",
    "    \n",
    "Disadvantages:\n",
    "    1. Integrating and managing multiple APIs can increase the complexity of an application,\n",
    "    2.  This can impact the budget of a project, particularly if API usage increases significantly.\n",
    "    "
   ]
  },
  {
   "cell_type": "markdown",
   "id": "9deabe2a-5be8-4883-9ae5-d20e936b59b5",
   "metadata": {},
   "source": [
    "#  Q3. What is a Web API? Differentiate between API and Web API."
   ]
  },
  {
   "cell_type": "markdown",
   "id": "10ac2482-f842-4e15-b5b5-ba2450c41d0d",
   "metadata": {
    "tags": []
   },
   "source": [
    "A Web API is a specific type of API that is designed to be accessed over the web using the HTTP/HTTPS protocols. It allows applications or services to interact with each other through a network.\n",
    "\n",
    "API is a broad term that refers to any set of rules or protocols enabling communication between different software components.\n",
    "Web API is a subset of APIs designed specifically for web-based interactions, using HTTP/HTTPS protocols to facilitate communication and data exchange between remote systems.\n",
    "\n"
   ]
  },
  {
   "cell_type": "markdown",
   "id": "4abbecc1-e407-4e57-a4d9-364bb944bc58",
   "metadata": {},
   "source": [
    "# Q4. Explain REST and SOAP Architecture. Mention shortcomings of SOAP."
   ]
  },
  {
   "cell_type": "code",
   "execution_count": null,
   "id": "c74399cd-2c9d-4966-9006-8240ce83f43c",
   "metadata": {},
   "outputs": [],
   "source": [
    "REST is an architectural style that is widely used for designing networked applications. It is based on a set of principles and constraints rather than a strict protocol.\n",
    "SOAP is a protocol used for exchanging structured information in web services. It relies on XML-based messaging and has a more rigid structure compared to REST.\n",
    "\n"
   ]
  },
  {
   "cell_type": "markdown",
   "id": "d2ac8b8c-e13c-4e8a-be54-5aac1f1a9335",
   "metadata": {},
   "source": [
    "# Q5. Differentiate between REST and SOAP."
   ]
  },
  {
   "cell_type": "code",
   "execution_count": null,
   "id": "a952d946-baeb-4d2a-af17-96f1cc81ea3b",
   "metadata": {},
   "outputs": [],
   "source": [
    "REST is an architectural style that leverages the HTTP protocol and its methods to perform operations on resources.\n",
    "SOAP is a protocol with a set of standards for message structure, encoding, and processing.\n",
    "\n",
    "REST sirimarily uses JSON for data exchange, but can also use XML, HTML, plain text.\n",
    "SOAP Uses XML for message formatting, which is more verbose and structured.\n",
    "\n",
    "REST Simpler and more intuitive to use, especially with JSON, which is lightweight and easy to parse.Highly flexible and adaptable to various use cases and data formats.\n",
    "\n",
    "SOAP Less flexible due to strict standards and protocols.More complex due to the need for XML formatting and additional standards like WSDL "
   ]
  }
 ],
 "metadata": {
  "kernelspec": {
   "display_name": "Python 3 (ipykernel)",
   "language": "python",
   "name": "python3"
  },
  "language_info": {
   "codemirror_mode": {
    "name": "ipython",
    "version": 3
   },
   "file_extension": ".py",
   "mimetype": "text/x-python",
   "name": "python",
   "nbconvert_exporter": "python",
   "pygments_lexer": "ipython3",
   "version": "3.11.7"
  }
 },
 "nbformat": 4,
 "nbformat_minor": 5
}
