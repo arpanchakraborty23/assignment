{
 "cells": [
  {
   "cell_type": "markdown",
   "id": "96e2a830-b920-48b0-b5a8-bdf4c2ddeeee",
   "metadata": {},
   "source": [
    "## Q1. What is Ridge Regression, and how does it differ from ordinary least squares regression?"
   ]
  },
  {
   "cell_type": "raw",
   "id": "6066f2b5-2a77-4c6a-857a-078a4137e192",
   "metadata": {
    "tags": []
   },
   "source": [
    "Ridge Regression is a regularization method in liner regression we add some penalty tearm to avoid overfiting problem.hyper parameeter labda pinalizes all\n",
    "parameter except intercept so model genaralize the data\n",
    "\n",
    "cost function= 1/n sumasion(y_actual - y_predict) + lambda sumasion(slop)^2\n",
    "\n",
    "The OLS regression minimizes the residual sum of squares (RSS) without any penalty on the size of the coefficients.\n",
    "\n",
    "cost function= 1/n sumasion(y_actual - y_predict)"
   ]
  },
  {
   "cell_type": "markdown",
   "id": "a635c1cc-8f70-416b-acb0-689c1dd02f61",
   "metadata": {},
   "source": [
    "## Q2. What are the assumptions of Ridge Regression?"
   ]
  },
  {
   "cell_type": "raw",
   "id": "61847782-23e7-40dd-b794-53ce113ab628",
   "metadata": {
    "tags": []
   },
   "source": [
    "1. relationship between the independent variables  and the dependent variable (response) is assumed to be linear.\n",
    "\n",
    "2. actual and predicted values error must be normaly distributed.\n",
    "\n",
    "3. selecting an appropriate value for λ is essential for balancing the bias-variance trade-off and achieving optimal model performance."
   ]
  },
  {
   "cell_type": "markdown",
   "id": "205c878a-aadc-42a0-a729-9dcfa51cd3e0",
   "metadata": {},
   "source": [
    "## Q3. How do you select the value of the tuning parameter (lambda) in Ridge Regression?"
   ]
  },
  {
   "cell_type": "raw",
   "id": "30759111-1600-47a1-bcef-ac31e2d037dc",
   "metadata": {},
   "source": [
    "1.Grid search  method allowing for systematic and efficient selection of the best λ.\n",
    "\n",
    "2. cross validation"
   ]
  },
  {
   "cell_type": "markdown",
   "id": "2f3ec02e-b4c7-4674-8742-9a260379e1f3",
   "metadata": {},
   "source": [
    "## Q4. Can Ridge Regression be used for feature selection? If yes, how?"
   ]
  },
  {
   "cell_type": "raw",
   "id": "2c1f95e8-7281-45b9-8649-3b4b5735cfc6",
   "metadata": {
    "tags": []
   },
   "source": [
    "Ridge Regrassion model does not use feature selaction model it shinks cofficients but not zero so so it takes all features for crating model"
   ]
  },
  {
   "cell_type": "markdown",
   "id": "62f86914-8886-4aa7-a8fb-2f266b95e37c",
   "metadata": {},
   "source": [
    "## Q5. How does the Ridge Regression model perform in the presence of multicollinearity?"
   ]
  },
  {
   "cell_type": "raw",
   "id": "38e77e69-f5c3-41c5-905c-77c21a6de87f",
   "metadata": {},
   "source": [
    "Ridge Regression is robust in the presence of multicollinearity due to its ability to shrink coefficients and stabilize the model's estimates. By effectively reducing the variance of coefficient estimates, ridge Regression provides more reliable and interpretable model"
   ]
  },
  {
   "cell_type": "markdown",
   "id": "ddb84634-7ce4-4f13-8a01-9adcb607a77c",
   "metadata": {},
   "source": [
    "## Q6. Can Ridge Regression handle both categorical and continuous independent variables?"
   ]
  },
  {
   "cell_type": "raw",
   "id": "43a8a3f5-61b0-4b22-a199-61d364881e00",
   "metadata": {
    "tags": []
   },
   "source": [
    "rdge Regression can handle both categorical and continuous independent variables, but categorical variables need to be encoded into numerical format before being used in the model"
   ]
  },
  {
   "cell_type": "markdown",
   "id": "46142331-33c0-4657-a51f-410cae157f4a",
   "metadata": {},
   "source": [
    "## Q7. How do you interpret the coefficients of Ridge Regression?"
   ]
  },
  {
   "cell_type": "raw",
   "id": "3a133985-765e-4a95-878f-e2769420e361",
   "metadata": {},
   "source": [
    "Interpreting Ridge Regression coefficients involves considering both their magnitude and sign. Larger absolute coefficient values indicate stronger relationships, while the sign indicates the direction of the relationship."
   ]
  },
  {
   "cell_type": "markdown",
   "id": "b0328516-39a1-4ae9-87dd-72533653c822",
   "metadata": {},
   "source": [
    "## Q8. Can Ridge Regression be used for time-series data analysis? If yes, how?"
   ]
  },
  {
   "cell_type": "code",
   "execution_count": null,
   "id": "72356714-32f1-4b40-8e7a-426aa60fcad3",
   "metadata": {},
   "outputs": [],
   "source": [
    "Ridge Regression can be a valuable tool for analyzing time-series data, especially when there are multiple predictors and a need for regularization to prevent overfitting. By preprocessing the data, fitting a Ridge Regression model, \n",
    "and interpreting the results, you can gain insights into the relationships between predictors and the response variable over time."
   ]
  }
 ],
 "metadata": {
  "kernelspec": {
   "display_name": "Python 3 (ipykernel)",
   "language": "python",
   "name": "python3"
  },
  "language_info": {
   "codemirror_mode": {
    "name": "ipython",
    "version": 3
   },
   "file_extension": ".py",
   "mimetype": "text/x-python",
   "name": "python",
   "nbconvert_exporter": "python",
   "pygments_lexer": "ipython3",
   "version": "3.11.7"
  }
 },
 "nbformat": 4,
 "nbformat_minor": 5
}
