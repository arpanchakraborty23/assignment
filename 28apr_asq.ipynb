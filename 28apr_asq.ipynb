{
 "cells": [
  {
   "cell_type": "markdown",
   "metadata": {},
   "source": [
    "# Q1. What is hierarchical clustering, and how is it different from other clustering techniques?"
   ]
  },
  {
   "cell_type": "code",
   "execution_count": null,
   "metadata": {},
   "outputs": [],
   "source": [
    "Hierarchical clustering is a method of cluster analysis. It is different from other clustering techniques, such as K-means, which partition the data into K distinct clusters based on a predefined number of clusters.\n",
    "it treat every data as cluster and iteratively combine them into single cluster\n",
    "Hierarchical clustering does not require a pre-specified number of clusters and produces a dendrogram, a tree-like diagram that records the sequences of merges or splits.\n"
   ]
  },
  {
   "cell_type": "markdown",
   "metadata": {},
   "source": [
    "# Q2. What are the two main types of hierarchical clustering algorithms? Describe each in brief."
   ]
  },
  {
   "cell_type": "markdown",
   "metadata": {},
   "source": [
    "Agglomerative  Clustering: It treat every data point as cluster.and iteratvely\n",
    "marge nearest clusters  untill get a single cluster.it is a bottom-up approach.\n",
    "\n",
    "Divisive Clustering: It is reverse of Agglomerative  Clustering Top-down approch.it start will one cluster with all points and then iteratively saprate every cluster untli get a each point as cluster"
   ]
  },
  {
   "cell_type": "markdown",
   "metadata": {},
   "source": [
    "# Q3. How do you determine the distance between two clusters in hierarchical clustering, and what are the common distance metrics used?"
   ]
  },
  {
   "cell_type": "markdown",
   "metadata": {},
   "source": [
    "1. Distance between the closest points of the clusters.\n",
    "2. Distance between the farthest points of the clusters.\n",
    "3. Minimizes the total within-cluster variance by merging clusters that result in the smallest increase in total within-cluster variance.\n",
    "\n"
   ]
  },
  {
   "cell_type": "markdown",
   "metadata": {},
   "source": [
    "# Q4. How do you determine the optimal number of clusters in hierarchical clustering, and what are some common methods used for this purpose?"
   ]
  },
  {
   "cell_type": "markdown",
   "metadata": {},
   "source": [
    "Dendrogram:\n",
    "Visual inspection of the dendrogram to identify the level at which to cut the tree to form clusters.\n",
    "\n",
    "Silhouette Analysis:\n",
    "Measuring how similar a data point is to its own cluster compared to other clusters, with higher silhouette scores indicating better-defined clusters."
   ]
  },
  {
   "cell_type": "markdown",
   "metadata": {},
   "source": [
    "# Q5. What are dendrograms in hierarchical clustering, and how are they useful in analyzing the results?"
   ]
  },
  {
   "cell_type": "markdown",
   "metadata": {},
   "source": [
    "A dendrogram is a tree-like diagram that records the sequences of merges or splits in hierarchical clustering\n",
    "\n",
    "it usefull to determining the number of clusters by identifying the level to cut the dendrogram"
   ]
  },
  {
   "cell_type": "markdown",
   "metadata": {},
   "source": [
    "## Q6. Can hierarchical clustering be used for both numerical and categorical data? If yes, how are the distance metrics different for each type of data?"
   ]
  },
  {
   "cell_type": "markdown",
   "metadata": {},
   "source": [
    "Hierarchical clustering can be used for both numerical and categorical data, but the distance metrics differ.\n",
    "\n",
    "numarical: distance metrics use eucliden,manhatten distance\n",
    "\n",
    "catagorical: Hamming distance, Jaccard similarity, and others."
   ]
  },
  {
   "cell_type": "markdown",
   "metadata": {},
   "source": [
    "# Q7. How can you use hierarchical clustering to identify outliers or anomalies in your data?"
   ]
  },
  {
   "cell_type": "markdown",
   "metadata": {},
   "source": [
    "Examining the distance between data points and their assigned clusters to identify points that are far from any cluster centroid."
   ]
  },
  {
   "cell_type": "markdown",
   "metadata": {},
   "source": []
  }
 ],
 "metadata": {
  "language_info": {
   "name": "python"
  }
 },
 "nbformat": 4,
 "nbformat_minor": 2
}
