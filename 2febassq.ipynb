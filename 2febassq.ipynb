{
 "cells": [
  {
   "cell_type": "markdown",
   "id": "33082125-bf31-4885-889d-216442266395",
   "metadata": {},
   "source": [
    "# Q2. Write a python program to print the sum and product of the first 10 natural numbers using for and while loop."
   ]
  },
  {
   "cell_type": "code",
   "execution_count": 1,
   "id": "4c2ced17-3a30-439d-a771-2e1616f6b8eb",
   "metadata": {},
   "outputs": [
    {
     "name": "stdout",
     "output_type": "stream",
     "text": [
      " sum of N num: 1 \n",
      " sum of N num: 3 \n",
      " sum of N num: 6 \n",
      " sum of N num: 10 \n",
      " sum of N num: 15 \n",
      " sum of N num: 21 \n",
      " sum of N num: 28 \n",
      " sum of N num: 36 \n",
      " sum of N num: 45 \n",
      " sum of N num: 55 \n"
     ]
    }
   ],
   "source": [
    "n=[1,2,3,4,5,6,7,8,9,10]\n",
    "sum=0\n",
    "for i in n:\n",
    "    sum=i+sum\n",
    "    print(f\" sum of N num: {sum} \")"
   ]
  },
  {
   "cell_type": "code",
   "execution_count": 2,
   "id": "c5670419-8aa8-4637-ad30-9d9995ccb665",
   "metadata": {},
   "outputs": [
    {
     "name": "stdout",
     "output_type": "stream",
     "text": [
      " sum of N num: 1 \n",
      " sum of N num: 2 \n",
      " sum of N num: 6 \n",
      " sum of N num: 24 \n",
      " sum of N num: 120 \n",
      " sum of N num: 720 \n",
      " sum of N num: 5040 \n",
      " sum of N num: 40320 \n",
      " sum of N num: 362880 \n",
      " sum of N num: 3628800 \n"
     ]
    }
   ],
   "source": [
    "n=[1,2,3,4,5,6,7,8,9,10]\n",
    "product=1\n",
    "for i in n:\n",
    "    product=i*product\n",
    "    print(f\" sum of N num: {product} \")"
   ]
  },
  {
   "cell_type": "code",
   "execution_count": 3,
   "id": "d0adbf91-b47e-45b1-9484-cec6efaa7757",
   "metadata": {},
   "outputs": [
    {
     "name": "stdout",
     "output_type": "stream",
     "text": [
      "1\n",
      "3\n",
      "6\n",
      "10\n",
      "15\n",
      "21\n",
      "28\n",
      "36\n",
      "45\n",
      "55\n"
     ]
    }
   ],
   "source": [
    "sum=0\n",
    "index=0\n",
    "while index < len(n):\n",
    "    sum+=n[index]\n",
    "    index+=1\n",
    "    print(sum)\n",
    "   "
   ]
  },
  {
   "cell_type": "code",
   "execution_count": 4,
   "id": "5cbcd3f4-82c7-4406-85e7-609eec0d2f82",
   "metadata": {},
   "outputs": [
    {
     "name": "stdout",
     "output_type": "stream",
     "text": [
      "1\n",
      "2\n",
      "6\n",
      "24\n",
      "120\n",
      "720\n",
      "5040\n",
      "40320\n",
      "362880\n",
      "3628800\n"
     ]
    }
   ],
   "source": [
    "product=1\n",
    "index=0\n",
    "while index < len(n):\n",
    "    product*=n[index]\n",
    "    index +=1\n",
    "   \n",
    "    print(product)"
   ]
  },
  {
   "cell_type": "markdown",
   "id": "416ecb22-de9a-468e-b9bb-185efc4a61b6",
   "metadata": {},
   "source": [
    "    Q3. Create a python program to compute the electricity bill for a household.\n",
    "    The per-unit charges in rupees are as follows: For the first 100 units, the user will be charged Rs. 4.5 per\n",
    "    unit, for the next 100 units, the user will be charged Rs. 6 per unit, and for the next 100 units, the user will\n",
    "    be charged Rs. 10 per unit, After 300 units and above the user will be charged Rs. 20 per unit."
   ]
  },
  {
   "cell_type": "code",
   "execution_count": 5,
   "id": "0977d1ac-102e-4a6d-a123-b7b38c2e86cc",
   "metadata": {},
   "outputs": [
    {
     "name": "stdin",
     "output_type": "stream",
     "text": [
      "Enter the number of units:  32\n"
     ]
    },
    {
     "name": "stdout",
     "output_type": "stream",
     "text": [
      "Electricity bill for unit: 144.0\n"
     ]
    }
   ],
   "source": [
    "units = int(input(\"Enter the number of units: \"))\n",
    "\n",
    "if units >= 100 and units <= 200:\n",
    "    consumption = units * 6\n",
    "    print(\"Electricity bill for unit:\", consumption)\n",
    "\n",
    "elif units > 200 and units <= 300:\n",
    "    consumption = units * 10\n",
    "    print(\"Electricity bill for unit:\", consumption)\n",
    "\n",
    "elif units > 300:\n",
    "    consumption = units * 20\n",
    "    print(\"Electricity bill for unit:\", consumption)\n",
    "\n",
    "else:\n",
    "    consumption = units * 4.5\n",
    "    print(\"Electricity bill for unit:\", consumption)\n",
    "\n"
   ]
  },
  {
   "cell_type": "code",
   "execution_count": 6,
   "id": "c914237f-3390-463d-88e0-5f86103e478e",
   "metadata": {},
   "outputs": [
    {
     "name": "stdin",
     "output_type": "stream",
     "text": [
      "Enter the number of units:  310\n"
     ]
    },
    {
     "name": "stdout",
     "output_type": "stream",
     "text": [
      "6200\n"
     ]
    }
   ],
   "source": [
    "    units = int(input(\"Enter the number of units: \"))\n",
    "    if units <= 100:\n",
    "        charge_per_unit = 4.5\n",
    "    elif units <= 200:\n",
    "        charge_per_unit = 6\n",
    "    elif units <= 300:\n",
    "        charge_per_unit = 10\n",
    "    else:\n",
    "        charge_per_unit = 20\n",
    "\n",
    "    total_charge = units * charge_per_unit\n",
    "    print(total_charge)"
   ]
  },
  {
   "cell_type": "markdown",
   "id": "fae23161-7cd4-4366-ab9b-761678f1f217",
   "metadata": {},
   "source": [
    "Q4. Create a list of numbers from 1 to 100. Use for loop and while loop to calculate the cube of each\n",
    "number and if the cube of that number is divisible by 4 or 5 then append that number in a list and print\n",
    "that list."
   ]
  },
  {
   "cell_type": "code",
   "execution_count": 12,
   "id": "4988b2c7-5d21-4d8a-a238-cc08602e5307",
   "metadata": {},
   "outputs": [],
   "source": [
    "list=range(1,100)"
   ]
  },
  {
   "cell_type": "code",
   "execution_count": 13,
   "id": "2a36a40f-ced3-4bc8-9141-510ae07b1c1c",
   "metadata": {},
   "outputs": [
    {
     "data": {
      "text/plain": [
       "range(1, 100)"
      ]
     },
     "execution_count": 13,
     "metadata": {},
     "output_type": "execute_result"
    }
   ],
   "source": [
    "list"
   ]
  },
  {
   "cell_type": "code",
   "execution_count": 30,
   "id": "4bd14f34-a6eb-47a2-8ca3-db82a359bd8c",
   "metadata": {},
   "outputs": [
    {
     "name": "stdout",
     "output_type": "stream",
     "text": [
      "64\n",
      "125\n",
      "512\n",
      "1000\n",
      "1728\n",
      "3375\n",
      "4096\n",
      "8000\n",
      "13824\n",
      "15625\n",
      "21952\n",
      "27000\n",
      "32768\n",
      "42875\n",
      "46656\n",
      "64000\n",
      "85184\n",
      "91125\n",
      "110592\n",
      "125000\n",
      "140608\n",
      "166375\n",
      "175616\n",
      "216000\n",
      "262144\n",
      "274625\n",
      "314432\n",
      "343000\n",
      "373248\n",
      "421875\n",
      "438976\n",
      "512000\n",
      "592704\n",
      "614125\n",
      "681472\n",
      "729000\n",
      "778688\n",
      "857375\n",
      "884736\n"
     ]
    }
   ],
   "source": [
    "cube=[]\n",
    "for i in list:\n",
    "    cube_value=(i**3)\n",
    "    if i %4 ==0 or i%5 ==0:\n",
    "        \n",
    "        cube.append(cube_value)\n",
    "        print(cube_value)"
   ]
  },
  {
   "cell_type": "code",
   "execution_count": 38,
   "id": "c3efa897-4b8f-42d8-b867-fa8a2c746937",
   "metadata": {},
   "outputs": [
    {
     "name": "stdout",
     "output_type": "stream",
     "text": [
      "[2, 4, 5, 6, 8, 10, 12, 14, 15, 16, 18, 20, 22, 24, 25, 26, 28, 30, 32, 34, 35, 36, 38, 40, 42, 44, 45, 46, 48, 50, 52, 54, 55, 56, 58, 60, 62, 64, 65, 66, 68, 70, 72, 74, 75, 76, 78, 80, 82, 84, 85, 86, 88, 90, 92, 94, 95, 96, 98]\n"
     ]
    }
   ],
   "source": [
    "while_cube=[]\n",
    "index=1\n",
    "while index < len(list):\n",
    "    cube = list[index] ** 3\n",
    "    if cube % 4 == 0 or cube % 5 == 0:\n",
    "        while_cube.append(list[index])\n",
    "    index += 1\n",
    "\n",
    "print(while_cube)"
   ]
  },
  {
   "cell_type": "raw",
   "id": "d73f3619-882d-4d6c-9aab-ddfbda6fe368",
   "metadata": {},
   "source": [
    "Q5. Write a program to filter count vowels in the below-given string.\n",
    "string = \"I want to become a data scientist\""
   ]
  },
  {
   "cell_type": "code",
   "execution_count": 40,
   "id": "10282784-8b4e-4923-985d-1cf1d615c4ec",
   "metadata": {},
   "outputs": [
    {
     "name": "stdout",
     "output_type": "stream",
     "text": [
      "Count of 'a': 4\n",
      "Count of 'e': 3\n",
      "Count of 'i': 3\n",
      "Count of 'o': 2\n",
      "Count of 'u': 0\n"
     ]
    }
   ],
   "source": [
    "# Define the input string\n",
    "input_string = \"I want to become a data scientist\"\n",
    "\n",
    "# Define a function to filter and count vowels\n",
    "def count_vowels(input_string):\n",
    "    vowels = \"aeiou\"\n",
    "    vowel_counts = {vowel: 0 for vowel in vowels}\n",
    "\n",
    "    for char in input_string:\n",
    "        if char.lower() in vowels:\n",
    "            vowel_counts[char.lower()] += 1\n",
    "\n",
    "    return vowel_counts\n",
    "\n",
    "# Call the function to count vowels in the input string\n",
    "vowel_counts = count_vowels(input_string)\n",
    "\n",
    "# Print the counts of each vowel\n",
    "for vowel, count in vowel_counts.items():\n",
    "    print(f\"Count of '{vowel}': {count}\")"
   ]
  },
  {
   "cell_type": "code",
   "execution_count": 69,
   "id": "18bfc482-f574-4194-a70d-afd2be48cdee",
   "metadata": {},
   "outputs": [
    {
     "name": "stdout",
     "output_type": "stream",
     "text": [
      "Count of 'a': 4\n",
      "Count of 'e': 3\n",
      "Count of 'i': 3\n",
      "Count of 'o': 2\n",
      "Count of 'u': 0\n"
     ]
    }
   ],
   "source": [
    "string = \"I want to become a data scientist\"\n",
    "vowels = \"aeiou\"\n",
    "vowel_counts = {}\n",
    "\n",
    "for vowel in vowels:\n",
    "    vowel_counts[vowel] = 0\n",
    "\n",
    "for char in string:\n",
    "    if char.lower() in vowels:\n",
    "        vowel_counts[char.lower()] += 1\n",
    "\n",
    "# Print the counts of each vowel\n",
    "for vowel, count in vowel_counts.items():\n",
    "    print(f\"Count of '{vowel}': {count}\")"
   ]
  },
  {
   "cell_type": "code",
   "execution_count": 60,
   "id": "8687c4c9-0f34-45a2-a509-f6c7bef49f05",
   "metadata": {},
   "outputs": [
    {
     "data": {
      "text/plain": [
       "'i want to become a data scientist'"
      ]
     },
     "execution_count": 60,
     "metadata": {},
     "output_type": "execute_result"
    }
   ],
   "source": [
    "string.lower()"
   ]
  },
  {
   "cell_type": "code",
   "execution_count": 70,
   "id": "24fdc505-ad4a-4838-ba06-43f0fcec3309",
   "metadata": {},
   "outputs": [
    {
     "name": "stdout",
     "output_type": "stream",
     "text": [
      "dict_items([('a', 4), ('e', 3), ('i', 4), ('o', 2), ('u', 0)])\n",
      "dict_items([('a', 5), ('e', 3), ('i', 4), ('o', 2), ('u', 0)])\n",
      "dict_items([('a', 5), ('e', 3), ('i', 4), ('o', 3), ('u', 0)])\n",
      "dict_items([('a', 5), ('e', 4), ('i', 4), ('o', 3), ('u', 0)])\n",
      "dict_items([('a', 5), ('e', 4), ('i', 4), ('o', 4), ('u', 0)])\n",
      "dict_items([('a', 5), ('e', 5), ('i', 4), ('o', 4), ('u', 0)])\n",
      "dict_items([('a', 6), ('e', 5), ('i', 4), ('o', 4), ('u', 0)])\n",
      "dict_items([('a', 7), ('e', 5), ('i', 4), ('o', 4), ('u', 0)])\n",
      "dict_items([('a', 8), ('e', 5), ('i', 4), ('o', 4), ('u', 0)])\n",
      "dict_items([('a', 8), ('e', 5), ('i', 5), ('o', 4), ('u', 0)])\n",
      "dict_items([('a', 8), ('e', 6), ('i', 5), ('o', 4), ('u', 0)])\n",
      "dict_items([('a', 8), ('e', 6), ('i', 6), ('o', 4), ('u', 0)])\n"
     ]
    }
   ],
   "source": [
    "for char in string:\n",
    "    if char.lower() in vowels:\n",
    "        vowel_counts[char.lower()] += 1\n",
    "        print(vowel_counts.items())"
   ]
  },
  {
   "cell_type": "code",
   "execution_count": null,
   "id": "cf7506d8-9434-493a-8bbd-f0daf787e750",
   "metadata": {},
   "outputs": [],
   "source": []
  }
 ],
 "metadata": {
  "kernelspec": {
   "display_name": "Python 3 (ipykernel)",
   "language": "python",
   "name": "python3"
  },
  "language_info": {
   "codemirror_mode": {
    "name": "ipython",
    "version": 3
   },
   "file_extension": ".py",
   "mimetype": "text/x-python",
   "name": "python",
   "nbconvert_exporter": "python",
   "pygments_lexer": "ipython3",
   "version": "3.8.10"
  },
  "widgets": {
   "application/vnd.jupyter.widget-state+json": {
    "state": {},
    "version_major": 2,
    "version_minor": 0
   }
  }
 },
 "nbformat": 4,
 "nbformat_minor": 5
}
