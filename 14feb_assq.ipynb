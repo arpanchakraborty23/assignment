{
 "cells": [
  {
   "cell_type": "markdown",
   "id": "971fd967-0b6c-416d-ad53-1ef58aa2cd72",
   "metadata": {},
   "source": [
    "# 1. what is multithreading in python? hy is it used? Name the module used to handle threads in python"
   ]
  },
  {
   "cell_type": "code",
   "execution_count": 3,
   "id": "98eb13e3-31d1-454f-94e2-3794da9cf078",
   "metadata": {
    "tags": []
   },
   "outputs": [
    {
     "data": {
      "text/plain": [
       "\" \\nMultithreading in Python involves running multiple threads  simultaneously within a single process. Each thread shares the same memory space, which can lead to more efficient execution of tasks that are I/O-bound or involve waiting. However, due to Python's Global Interpreter Lock (GIL), multithreading doesn't always lead to performance improvements for CPU-bound tasks, as the GIL prevents multiple native threads from executing Python bytecodes simultaneously.\\n\\nused:\\n1.  Allows for tasks to be performed in parallel, which can make programs more responsive and efficient\\n2. Useful for tasks that involve waiting, such as handling multiple network requests or processing user inputs.\\n\\nThe primary module used to handle threads in Python is the threading module\\n\\n\\n\""
      ]
     },
     "execution_count": 3,
     "metadata": {},
     "output_type": "execute_result"
    }
   ],
   "source": [
    "''' \n",
    "Multithreading in Python involves running multiple threads  simultaneously within a single process. Each thread shares the same memory space, which can lead to more efficient execution of tasks that are I/O-bound or involve waiting. However, due to Python's Global Interpreter Lock (GIL), multithreading doesn't always lead to performance improvements for CPU-bound tasks, as the GIL prevents multiple native threads from executing Python bytecodes simultaneously.\n",
    "\n",
    "used:\n",
    "1.  Allows for tasks to be performed in parallel, which can make programs more responsive and efficient\n",
    "2. Useful for tasks that involve waiting, such as handling multiple network requests or processing user inputs.\n",
    "\n",
    "The primary module used to handle threads in Python is the threading module\n",
    "\n",
    "\n",
    "'''"
   ]
  },
  {
   "cell_type": "markdown",
   "id": "5107a93c-8a69-4e74-9470-92102ecdcf77",
   "metadata": {},
   "source": [
    "# 2. why threading module used? write the use of the following functions\n",
    "  activeCount()\n",
    " currentThread()\n",
    " enumerate()"
   ]
  },
  {
   "cell_type": "code",
   "execution_count": 7,
   "id": "821f8333-78b4-4324-9f6e-d82e0844d9f0",
   "metadata": {
    "tags": []
   },
   "outputs": [
    {
     "data": {
      "text/plain": [
       "'\\n\\nThe threading module in Python is used to create and manage threads, allowing for concurrent execution of tasks. It provides a higher-level interface for working with threads compared to the lower-level thread module.\\n\\n'"
      ]
     },
     "execution_count": 7,
     "metadata": {},
     "output_type": "execute_result"
    }
   ],
   "source": [
    "'''\n",
    "\n",
    "The threading module in Python is used to create and manage threads, allowing for concurrent execution of tasks. It provides a higher-level interface for working with threads compared to the lower-level thread module.\n",
    "\n",
    "'''"
   ]
  },
  {
   "cell_type": "code",
   "execution_count": 11,
   "id": "3a73b540-d2d4-47a2-943f-6fa07978b258",
   "metadata": {
    "tags": []
   },
   "outputs": [
    {
     "name": "stdout",
     "output_type": "stream",
     "text": [
      "9\n"
     ]
    }
   ],
   "source": [
    "import threading\n",
    "\n",
    "def thread_task():\n",
    "    pass\n",
    "\n",
    "for i in range(5):\n",
    "    threading.Thread(target=thread_task).start()\n",
    "\n",
    "\n",
    "print(threading.active_count())  "
   ]
  },
  {
   "cell_type": "code",
   "execution_count": 13,
   "id": "8a5affe0-135b-4d72-a565-ce13683e7d24",
   "metadata": {
    "tags": []
   },
   "outputs": [
    {
     "name": "stdout",
     "output_type": "stream",
     "text": [
      "MyThread\n"
     ]
    }
   ],
   "source": [
    "import threading\n",
    "\n",
    "def print_current_thread():\n",
    "    print(threading.current_thread().name)\n",
    "\n",
    "# Start a thread and print its name\n",
    "thread = threading.Thread(target=print_current_thread, name='MyThread')\n",
    "thread.start()\n",
    "thread.join()\n"
   ]
  },
  {
   "cell_type": "code",
   "execution_count": 15,
   "id": "6a30f73a-ea97-4c24-8b87-fe09ef41fbdc",
   "metadata": {
    "tags": []
   },
   "outputs": [
    {
     "name": "stdout",
     "output_type": "stream",
     "text": [
      "[<_MainThread(MainThread, started 19324)>, <Thread(Tornado selector, started daemon 22716)>, <Thread(Tornado selector, started daemon 20164)>, <Thread(IOPub, started daemon 26344)>, <Heartbeat(Heartbeat, started daemon 10660)>, <Thread(Tornado selector, started daemon 24640)>, <ControlThread(Control, started daemon 16944)>, <HistorySavingThread(IPythonHistorySavingThread, started 3628)>, <ParentPollerWindows(Thread-4, started daemon 10588)>, <Thread(Thread-15 (thread_task), started 25140)>, <Thread(Thread-16 (thread_task), started 12744)>, <Thread(Thread-17 (thread_task), started 20792)>]\n"
     ]
    }
   ],
   "source": [
    "import threading\n",
    "import time\n",
    "\n",
    "def thread_task():\n",
    "    time.sleep(2)\n",
    "\n",
    "# Create and start threads\n",
    "threads = [threading.Thread(target=thread_task) for _ in range(3)]\n",
    "for thread in threads:\n",
    "    thread.start()\n",
    "\n",
    "# List all alive threads\n",
    "print(threading.enumerate())\n"
   ]
  },
  {
   "cell_type": "markdown",
   "id": "31e6c026-7271-43e8-bd85-af435c6538ed",
   "metadata": {},
   "source": [
    "# 3. Explain the following functions\n",
    " run\n",
    " start\n",
    " join\n",
    " isAlive"
   ]
  },
  {
   "cell_type": "code",
   "execution_count": 18,
   "id": "3e0dea5f-3170-484e-a0ec-12e6f895365f",
   "metadata": {
    "tags": []
   },
   "outputs": [],
   "source": [
    "'run: Defines the code that the thread will execute when it starts. It is meant to be overridden in a subclass of threading.Thread'\n",
    "class MyThread(threading.Thread):\n",
    "    def run(self):\n",
    "        print(\"Thread is running\")"
   ]
  },
  {
   "cell_type": "code",
   "execution_count": 20,
   "id": "231f45d4-c3c3-419a-a3ad-a64c7adc99c1",
   "metadata": {
    "tags": []
   },
   "outputs": [
    {
     "name": "stdout",
     "output_type": "stream",
     "text": [
      "Thread is running\n"
     ]
    }
   ],
   "source": [
    "thread = MyThread()\n",
    "thread.start()"
   ]
  },
  {
   "cell_type": "code",
   "execution_count": 22,
   "id": "685fa50f-fd80-42e5-b61b-c5b35ee06931",
   "metadata": {
    "tags": []
   },
   "outputs": [
    {
     "name": "stdout",
     "output_type": "stream",
     "text": [
      "Thread is running\n"
     ]
    }
   ],
   "source": [
    "'start: Starts the thread’s activity. This method invokes the run() method in a new thread of control. Once start() is called, the thread is in the “running” state'\n",
    "\n",
    "def thread_task():\n",
    "    print(\"Thread is running\")\n",
    "\n",
    "thread = threading.Thread(target=thread_task)\n",
    "thread.start() "
   ]
  },
  {
   "cell_type": "code",
   "execution_count": 24,
   "id": "f2ae05f6-3d85-4fb8-910e-5c1f315d81e2",
   "metadata": {
    "tags": []
   },
   "outputs": [
    {
     "name": "stdout",
     "output_type": "stream",
     "text": [
      "Thread is running\n",
      "Thread has finished\n"
     ]
    }
   ],
   "source": [
    "'join:  Waits for the thread to terminate. This method blocks the calling thread until the thread whose join() method is called terminates. It’s used to ensure that a thread has completed before the program continues'\n",
    "def thread_task():\n",
    "    print(\"Thread is running\")\n",
    "\n",
    "thread = threading.Thread(target=thread_task)\n",
    "thread.start()\n",
    "thread.join()  \n",
    "print(\"Thread has finished\")"
   ]
  },
  {
   "cell_type": "code",
   "execution_count": 26,
   "id": "72b6bcfe-7497-4e51-bef6-919e6062901b",
   "metadata": {
    "tags": []
   },
   "outputs": [
    {
     "name": "stdout",
     "output_type": "stream",
     "text": [
      "True\n",
      "False\n"
     ]
    }
   ],
   "source": [
    "'isAlive: Returns True if the thread is alive . It returns False .'\n",
    "def thread_task():\n",
    "    time.sleep(1)\n",
    "\n",
    "thread = threading.Thread(target=thread_task)\n",
    "thread.start()\n",
    "print(thread.is_alive())  # True, as the thread is still running\n",
    "thread.join()\n",
    "print(thread.is_alive())  "
   ]
  },
  {
   "cell_type": "markdown",
   "id": "a8c70eb7-b946-40cf-bda5-c12ca6659d01",
   "metadata": {},
   "source": [
    "# 4.write a python program to create two threads. Thread one must print the list of squares and thread two must print the list of cubes"
   ]
  },
  {
   "cell_type": "code",
   "execution_count": 41,
   "id": "0d59148b-3c16-4cb7-b2e7-cfce125215e0",
   "metadata": {
    "tags": []
   },
   "outputs": [],
   "source": [
    "def square(num):\n",
    "    squre=[num**2 for n in num]\n",
    "    print(\"Squares:\", square)\n",
    "\n"
   ]
  },
  {
   "cell_type": "code",
   "execution_count": 43,
   "id": "26eef6c5-cdc9-4310-9353-8f27a82cfdf5",
   "metadata": {
    "tags": []
   },
   "outputs": [],
   "source": [
    "def cubes(num):\n",
    "    cubes = [n ** 3 for n in num]\n",
    "    print(\"Cubes:\", cubes)"
   ]
  },
  {
   "cell_type": "code",
   "execution_count": 47,
   "id": "6be2b495-d9cd-424c-90b9-95de7d7a8608",
   "metadata": {
    "tags": []
   },
   "outputs": [
    {
     "name": "stderr",
     "output_type": "stream",
     "text": [
      "Exception in thread Thread-23 (square):\n",
      "Traceback (most recent call last):\n",
      "  File \"C:\\ProgramData\\anaconda3\\Lib\\threading.py\", line 1045, in _bootstrap_inner\n",
      "    self.run()\n",
      "  File \"C:\\ProgramData\\anaconda3\\Lib\\threading.py\", line 982, in run\n",
      "    self._target(*self._args, **self._kwargs)\n",
      "  File \"C:\\Users\\www58\\AppData\\Local\\Temp\\ipykernel_5172\\1743146926.py\", line 2, in square\n",
      "  File \"C:\\Users\\www58\\AppData\\Local\\Temp\\ipykernel_5172\\1743146926.py\", line 2, in <listcomp>\n",
      "TypeError: unsupported operand type(s) for ** or pow(): 'list' and 'int'\n"
     ]
    },
    {
     "name": "stdout",
     "output_type": "stream",
     "text": [
      "Cubes: [1, 8, 27, 64, 125]\n",
      "Both threads have finished execution.\n"
     ]
    }
   ],
   "source": [
    "numbers = [1, 2, 3, 4, 5]\n",
    "\n",
    "# Create two threads\n",
    "thread1 = threading.Thread(target=square, args=(numbers,))\n",
    "thread2 = threading.Thread(target=cubes, args=(numbers,))\n",
    "\n",
    "# Start the threads\n",
    "thread1.start()\n",
    "thread2.start()\n",
    "\n",
    "# Wait for both threads to complete\n",
    "thread1.join()\n",
    "thread2.join()\n",
    "\n",
    "print(\"Both threads have finished execution.\")"
   ]
  },
  {
   "cell_type": "markdown",
   "id": "990fc22b-34d4-405e-ae54-34e42d9c26f1",
   "metadata": {},
   "source": [
    "# 5. State advantages and disadvantages of multithreading"
   ]
  },
  {
   "cell_type": "raw",
   "id": "602654de-ef3f-4d00-abc0-cc3db1f9746e",
   "metadata": {},
   "source": [
    "Advantages:\n",
    "    1. Multithreading can make applications more responsive by performing background tasks in parallel, keeping the main thread free .\n",
    "    2. On multi-core processors, threads can run in true parallel, leading to potentially significant performance improvements for suitable tasks\n",
    "    3. By allowing multiple threads to work simultaneously, applications can handle more operations in the same amount of time compared to a single-threaded approach.\n",
    "    \n",
    "Disadvantages:\n",
    "    1.Writing multithreaded programs can be complex and error-prone. Issues like race conditions, deadlocks, and thread synchronization can make debugging and maintenance difficult.\n",
    "    2. Managing threads involves overhead, such as context switching and synchronization costs, which can reduce the efficiency of the application if not managed properly.\n",
    "    3. "
   ]
  },
  {
   "cell_type": "markdown",
   "id": "f8fb58d7-6943-4bf0-9367-b611bc381229",
   "metadata": {},
   "source": [
    "# Managing threads involves overhead, such as context switching and synchronization costs, which can reduce the efficiency of the application if not managed properly."
   ]
  },
  {
   "cell_type": "code",
   "execution_count": null,
   "id": "bf876c2d-9585-4f42-a066-cb4f18246c74",
   "metadata": {},
   "outputs": [],
   "source": [
    "Context Switching\n",
    " Context switching occurs when the CPU switches from executing one thread to another. It involves saving the state of the current thread and loading the state of the new thread.\n",
    "Overhead: Context switching requires time and resources, as the system needs to save and restore the state of threads. Frequent context switches can degrade performance, especially if the threads are lightweight or if the switching happens too often.\n",
    "\n",
    "\n",
    "Thread Pooling: Reuse a pool of worker threads instead of creating and destroying threads frequently.\n",
    "\n",
    "\n",
    "Synchronization Costs\n",
    "Synchronization is required when multiple threads access shared resources or data to prevent conflicts and ensure consistency.\n",
    "\n",
    "Overhead: Synchronization mechanisms can introduce delays because threads may need to wait for access to a shared resource. If not managed properly, this can lead to contention and reduced performance\n",
    "\n"
   ]
  }
 ],
 "metadata": {
  "kernelspec": {
   "display_name": "Python 3 (ipykernel)",
   "language": "python",
   "name": "python3"
  },
  "language_info": {
   "codemirror_mode": {
    "name": "ipython",
    "version": 3
   },
   "file_extension": ".py",
   "mimetype": "text/x-python",
   "name": "python",
   "nbconvert_exporter": "python",
   "pygments_lexer": "ipython3",
   "version": "3.11.7"
  }
 },
 "nbformat": 4,
 "nbformat_minor": 5
}
