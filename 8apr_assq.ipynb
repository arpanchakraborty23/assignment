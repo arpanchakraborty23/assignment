{
 "cells": [
  {
   "cell_type": "markdown",
   "metadata": {},
   "source": [
    "# Q1. In order to predict house price based on several characteristics, such as location, square footage,\n",
    "# number of bedrooms, etc., you are developing an SVM regression model. Which regression metric in this situation would be the best to employ?"
   ]
  },
  {
   "cell_type": "code",
   "execution_count": 2,
   "metadata": {},
   "outputs": [
    {
     "data": {
      "text/plain": [
       "'MSE and RMSE are commonly preferred when there is a need to penalize larger errors more severely, which is often the case in predicting house prices.\\nMAE is useful when you want a metric that is robust to outliers and gives equal weight to all errors.\\n\\nif outlier present in dataset MAE will preferable perfomance matrics'"
      ]
     },
     "execution_count": 2,
     "metadata": {},
     "output_type": "execute_result"
    }
   ],
   "source": [
    "'''MSE and RMSE are commonly preferred when there is a need to penalize larger errors more severely, which is often the case in predicting house prices.\n",
    "MAE is useful when you want a metric that is robust to outliers and gives equal weight to all errors.\n",
    "\n",
    "if outlier present in dataset MAE will preferable perfomance matrics'''"
   ]
  },
  {
   "cell_type": "markdown",
   "metadata": {},
   "source": [
    "# Q2. You have built an SVM regression model and are trying to decide between using MSE or R-squared as\n",
    "# your evaluation metric. Which metric would be more appropriate if your goal is to predict the actual price\n",
    "# of a house as accurately as possible?"
   ]
  },
  {
   "cell_type": "code",
   "execution_count": 4,
   "metadata": {},
   "outputs": [
    {
     "data": {
      "text/plain": [
       "'When the goal is to predict the actual price of a house as accurately as possible using an SVM regression model, the Mean Squared Error (MSE) metric would be more appropriate to use as your evaluation metric.\\nMSE measures the average of the squared differences between predicted values and actual values.\\n\\nR-squared is useful for assessing how well the model explains the variance in house prices relative to the variability in predictors, it does not directly measure the magnitude of prediction errors.\\n'"
      ]
     },
     "execution_count": 4,
     "metadata": {},
     "output_type": "execute_result"
    }
   ],
   "source": [
    "'''When the goal is to predict the actual price of a house as accurately as possible using an SVM regression model, the Mean Squared Error (MSE) metric would be more appropriate to use as your evaluation metric.\n",
    "MSE measures the average of the squared differences between predicted values and actual values.\n",
    "\n",
    "R-squared is useful for assessing how well the model explains the variance in house prices relative to the variability in predictors, it does not directly measure the magnitude of prediction errors.\n",
    "'''"
   ]
  },
  {
   "cell_type": "markdown",
   "metadata": {},
   "source": [
    "## Q3. You have a dataset with a significant number of outliers and are trying to select an appropriate\n",
    "## regression metric to use with your SVM model. Which metric would be the most appropriate in this scenario?"
   ]
  },
  {
   "cell_type": "code",
   "execution_count": 6,
   "metadata": {},
   "outputs": [
    {
     "data": {
      "text/plain": [
       "'when dataset contant a significant number of outliers MAE is best Mectrics for dataset\\nMAE is less sensitive to outliers compared to MSE\\n\\nMSE squre ing the outliers '"
      ]
     },
     "execution_count": 6,
     "metadata": {},
     "output_type": "execute_result"
    }
   ],
   "source": [
    "'''when dataset contant a significant number of outliers MAE is best Mectrics for dataset\n",
    "MAE is less sensitive to outliers compared to MSE\n",
    "\n",
    "MSE squre ing the outliers '''"
   ]
  },
  {
   "cell_type": "markdown",
   "metadata": {},
   "source": [
    "## Q4. You have built an SVM regression model using a polynomial kernel and are trying to select the best\n",
    "# metric to evaluate its performance. You have calculated both MSE and RMSE and found that both values are very close. Which metric should you choose to use in this case?"
   ]
  },
  {
   "cell_type": "code",
   "execution_count": 7,
   "metadata": {},
   "outputs": [
    {
     "data": {
      "text/plain": [
       "' Since MSE and RMSE values are very close in use case, the choice between them becomes less critical. we can select either metric based on preference\\nor  seclect on spacific application  \\n'"
      ]
     },
     "execution_count": 7,
     "metadata": {},
     "output_type": "execute_result"
    }
   ],
   "source": [
    "''' Since MSE and RMSE values are very close in use case, the choice between them becomes less critical. we can select either metric based on preference\n",
    "or  seclect on spacific application  \n",
    "'''"
   ]
  },
  {
   "cell_type": "markdown",
   "metadata": {},
   "source": [
    "## Q5. You are comparing the performance of different SVM regression models using different kernels (linear, polynomial, and RBF) and are trying to select the best evaluation metric. Which metric would be most appropriate if your goal is to measure how well the model explains the variance in the target variable?"
   ]
  },
  {
   "cell_type": "code",
   "execution_count": 8,
   "metadata": {},
   "outputs": [
    {
     "data": {
      "text/plain": [
       "'To measure how well the model explains the variance in the target variable, the most appropriate evaluation metric to use is R-squared \\nIt provides a clear indication of the goodness of fit of each model type relative to the variability in the target variable, aiding in the selection of the best-performing kernel for your specific regression task.\\n\\nA higher R-squared value indicates a better fit of the model to the data, implying that more variance in the target variable is explained by the model.\\n\\n'"
      ]
     },
     "execution_count": 8,
     "metadata": {},
     "output_type": "execute_result"
    }
   ],
   "source": [
    "'''To measure how well the model explains the variance in the target variable, the most appropriate evaluation metric to use is R-squared \n",
    "It provides a clear indication of the goodness of fit of each model type relative to the variability in the target variable, aiding in the selection of the best-performing kernel for your specific regression task.\n",
    "\n",
    "A higher R-squared value indicates a better fit of the model to the data, implying that more variance in the target variable is explained by the model.\n",
    "\n",
    "'''"
   ]
  },
  {
   "cell_type": "code",
   "execution_count": null,
   "metadata": {},
   "outputs": [],
   "source": []
  }
 ],
 "metadata": {
  "kernelspec": {
   "display_name": "base",
   "language": "python",
   "name": "python3"
  },
  "language_info": {
   "codemirror_mode": {
    "name": "ipython",
    "version": 3
   },
   "file_extension": ".py",
   "mimetype": "text/x-python",
   "name": "python",
   "nbconvert_exporter": "python",
   "pygments_lexer": "ipython3",
   "version": "3.11.7"
  }
 },
 "nbformat": 4,
 "nbformat_minor": 2
}
