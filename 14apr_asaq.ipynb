{
 "cells": [
  {
   "cell_type": "markdown",
   "id": "82d57ac4-8832-4dd7-a5b6-6e96d4388c92",
   "metadata": {},
   "source": [
    "# Build a random forest classifier to predict the risk of heart disease based on a dataset of patient\n",
    "information. The dataset contains 303 instances with 14 features, including age, sex, chest pain type,\n",
    "resting blood pressure, serum cholesterol, and maximum heart rate achieved.\n",
    "Dataset link: https://drive.google.com/file/d/1bGoIE4Z2kG5nyh-fGZAJ7LH0ki3UfmSJ/view?"
   ]
  },
  {
   "cell_type": "code",
   "execution_count": 4,
   "id": "aa6d5be7-7688-4e1d-8315-c9a682e9d66e",
   "metadata": {
    "tags": []
   },
   "outputs": [],
   "source": [
    "import seaborn as sns\n",
    "import pandas as pd\n",
    "import numpy as np\n",
    "import warnings\n",
    "warnings.filterwarnings('ignore')"
   ]
  },
  {
   "cell_type": "markdown",
   "id": "81453115-89d5-478a-acdd-7ba3439e885e",
   "metadata": {},
   "source": [
    "## Q1. Preprocess the dataset by handling missing values, encoding categorical variables, and scaling the\n",
    "numerical features if necessary."
   ]
  },
  {
   "cell_type": "code",
   "execution_count": 101,
   "id": "18e5e0b3-7fa4-4d6c-9943-645e1d244bd1",
   "metadata": {
    "tags": []
   },
   "outputs": [
    {
     "data": {
      "text/html": [
       "<div>\n",
       "<style scoped>\n",
       "    .dataframe tbody tr th:only-of-type {\n",
       "        vertical-align: middle;\n",
       "    }\n",
       "\n",
       "    .dataframe tbody tr th {\n",
       "        vertical-align: top;\n",
       "    }\n",
       "\n",
       "    .dataframe thead th {\n",
       "        text-align: right;\n",
       "    }\n",
       "</style>\n",
       "<table border=\"1\" class=\"dataframe\">\n",
       "  <thead>\n",
       "    <tr style=\"text-align: right;\">\n",
       "      <th></th>\n",
       "      <th>age</th>\n",
       "      <th>sex</th>\n",
       "      <th>cp</th>\n",
       "      <th>trestbps</th>\n",
       "      <th>chol</th>\n",
       "      <th>fbs</th>\n",
       "      <th>restecg</th>\n",
       "      <th>thalach</th>\n",
       "      <th>exang</th>\n",
       "      <th>oldpeak</th>\n",
       "      <th>slope</th>\n",
       "      <th>ca</th>\n",
       "      <th>thal</th>\n",
       "      <th>target</th>\n",
       "    </tr>\n",
       "  </thead>\n",
       "  <tbody>\n",
       "    <tr>\n",
       "      <th>0</th>\n",
       "      <td>63</td>\n",
       "      <td>1</td>\n",
       "      <td>3</td>\n",
       "      <td>145</td>\n",
       "      <td>233</td>\n",
       "      <td>1</td>\n",
       "      <td>0</td>\n",
       "      <td>150</td>\n",
       "      <td>0</td>\n",
       "      <td>2.3</td>\n",
       "      <td>0</td>\n",
       "      <td>0</td>\n",
       "      <td>1</td>\n",
       "      <td>1</td>\n",
       "    </tr>\n",
       "    <tr>\n",
       "      <th>1</th>\n",
       "      <td>37</td>\n",
       "      <td>1</td>\n",
       "      <td>2</td>\n",
       "      <td>130</td>\n",
       "      <td>250</td>\n",
       "      <td>0</td>\n",
       "      <td>1</td>\n",
       "      <td>187</td>\n",
       "      <td>0</td>\n",
       "      <td>3.5</td>\n",
       "      <td>0</td>\n",
       "      <td>0</td>\n",
       "      <td>2</td>\n",
       "      <td>1</td>\n",
       "    </tr>\n",
       "    <tr>\n",
       "      <th>2</th>\n",
       "      <td>41</td>\n",
       "      <td>0</td>\n",
       "      <td>1</td>\n",
       "      <td>130</td>\n",
       "      <td>204</td>\n",
       "      <td>0</td>\n",
       "      <td>0</td>\n",
       "      <td>172</td>\n",
       "      <td>0</td>\n",
       "      <td>1.4</td>\n",
       "      <td>2</td>\n",
       "      <td>0</td>\n",
       "      <td>2</td>\n",
       "      <td>1</td>\n",
       "    </tr>\n",
       "    <tr>\n",
       "      <th>3</th>\n",
       "      <td>56</td>\n",
       "      <td>1</td>\n",
       "      <td>1</td>\n",
       "      <td>120</td>\n",
       "      <td>236</td>\n",
       "      <td>0</td>\n",
       "      <td>1</td>\n",
       "      <td>178</td>\n",
       "      <td>0</td>\n",
       "      <td>0.8</td>\n",
       "      <td>2</td>\n",
       "      <td>0</td>\n",
       "      <td>2</td>\n",
       "      <td>1</td>\n",
       "    </tr>\n",
       "    <tr>\n",
       "      <th>4</th>\n",
       "      <td>57</td>\n",
       "      <td>0</td>\n",
       "      <td>0</td>\n",
       "      <td>120</td>\n",
       "      <td>354</td>\n",
       "      <td>0</td>\n",
       "      <td>1</td>\n",
       "      <td>163</td>\n",
       "      <td>1</td>\n",
       "      <td>0.6</td>\n",
       "      <td>2</td>\n",
       "      <td>0</td>\n",
       "      <td>2</td>\n",
       "      <td>1</td>\n",
       "    </tr>\n",
       "  </tbody>\n",
       "</table>\n",
       "</div>"
      ],
      "text/plain": [
       "   age  sex  cp  trestbps  chol  fbs  restecg  thalach  exang  oldpeak  slope  \\\n",
       "0   63    1   3       145   233    1        0      150      0      2.3      0   \n",
       "1   37    1   2       130   250    0        1      187      0      3.5      0   \n",
       "2   41    0   1       130   204    0        0      172      0      1.4      2   \n",
       "3   56    1   1       120   236    0        1      178      0      0.8      2   \n",
       "4   57    0   0       120   354    0        1      163      1      0.6      2   \n",
       "\n",
       "   ca  thal  target  \n",
       "0   0     1       1  \n",
       "1   0     2       1  \n",
       "2   0     2       1  \n",
       "3   0     2       1  \n",
       "4   0     2       1  "
      ]
     },
     "execution_count": 101,
     "metadata": {},
     "output_type": "execute_result"
    }
   ],
   "source": [
    "df=pd.read_csv('dataset.csv')\n",
    "df.head()"
   ]
  },
  {
   "cell_type": "code",
   "execution_count": 103,
   "id": "a1d87c87-4793-4307-8daa-49d1b4f1765e",
   "metadata": {
    "tags": []
   },
   "outputs": [
    {
     "data": {
      "text/plain": [
       "(303, 14)"
      ]
     },
     "execution_count": 103,
     "metadata": {},
     "output_type": "execute_result"
    }
   ],
   "source": [
    "df.shape"
   ]
  },
  {
   "cell_type": "code",
   "execution_count": 105,
   "id": "bfd63e22-33d2-4df7-b56a-0c7aa1bb620c",
   "metadata": {
    "tags": []
   },
   "outputs": [
    {
     "data": {
      "text/plain": [
       "age         0\n",
       "sex         0\n",
       "cp          0\n",
       "trestbps    0\n",
       "chol        0\n",
       "fbs         0\n",
       "restecg     0\n",
       "thalach     0\n",
       "exang       0\n",
       "oldpeak     0\n",
       "slope       0\n",
       "ca          0\n",
       "thal        0\n",
       "target      0\n",
       "dtype: int64"
      ]
     },
     "execution_count": 105,
     "metadata": {},
     "output_type": "execute_result"
    }
   ],
   "source": [
    "df.isnull().sum()"
   ]
  },
  {
   "cell_type": "code",
   "execution_count": 107,
   "id": "55346d1d-7a59-47b5-9b8e-8abd41a7acf1",
   "metadata": {
    "tags": []
   },
   "outputs": [
    {
     "name": "stdout",
     "output_type": "stream",
     "text": [
      "<class 'pandas.core.frame.DataFrame'>\n",
      "RangeIndex: 303 entries, 0 to 302\n",
      "Data columns (total 14 columns):\n",
      " #   Column    Non-Null Count  Dtype  \n",
      "---  ------    --------------  -----  \n",
      " 0   age       303 non-null    int64  \n",
      " 1   sex       303 non-null    int64  \n",
      " 2   cp        303 non-null    int64  \n",
      " 3   trestbps  303 non-null    int64  \n",
      " 4   chol      303 non-null    int64  \n",
      " 5   fbs       303 non-null    int64  \n",
      " 6   restecg   303 non-null    int64  \n",
      " 7   thalach   303 non-null    int64  \n",
      " 8   exang     303 non-null    int64  \n",
      " 9   oldpeak   303 non-null    float64\n",
      " 10  slope     303 non-null    int64  \n",
      " 11  ca        303 non-null    int64  \n",
      " 12  thal      303 non-null    int64  \n",
      " 13  target    303 non-null    int64  \n",
      "dtypes: float64(1), int64(13)\n",
      "memory usage: 33.3 KB\n"
     ]
    }
   ],
   "source": [
    "df.info()"
   ]
  },
  {
   "cell_type": "markdown",
   "id": "55006218-0701-40dd-9336-104edcfd9a40",
   "metadata": {},
   "source": [
    "## observtion \n",
    "There is no missing values, catgorical values in data\n",
    "for scaling data we will do leter"
   ]
  },
  {
   "cell_type": "markdown",
   "id": "8135c678-0a8f-4e29-87b1-a7d721993a02",
   "metadata": {},
   "source": [
    "# Q2. Split the dataset into a training set (70%) and a test set (30%)."
   ]
  },
  {
   "cell_type": "code",
   "execution_count": 111,
   "id": "efd22cc6-4b7d-4737-8418-4597f8fe16b7",
   "metadata": {
    "tags": []
   },
   "outputs": [],
   "source": [
    "x=df.iloc[:,:-1]\n",
    "y=df['target']"
   ]
  },
  {
   "cell_type": "code",
   "execution_count": 113,
   "id": "43029b8a-4ec4-4b43-a816-cb528a6d8558",
   "metadata": {
    "tags": []
   },
   "outputs": [
    {
     "data": {
      "text/html": [
       "<div>\n",
       "<style scoped>\n",
       "    .dataframe tbody tr th:only-of-type {\n",
       "        vertical-align: middle;\n",
       "    }\n",
       "\n",
       "    .dataframe tbody tr th {\n",
       "        vertical-align: top;\n",
       "    }\n",
       "\n",
       "    .dataframe thead th {\n",
       "        text-align: right;\n",
       "    }\n",
       "</style>\n",
       "<table border=\"1\" class=\"dataframe\">\n",
       "  <thead>\n",
       "    <tr style=\"text-align: right;\">\n",
       "      <th></th>\n",
       "      <th>age</th>\n",
       "      <th>sex</th>\n",
       "      <th>cp</th>\n",
       "      <th>trestbps</th>\n",
       "      <th>chol</th>\n",
       "      <th>fbs</th>\n",
       "      <th>restecg</th>\n",
       "      <th>thalach</th>\n",
       "      <th>exang</th>\n",
       "      <th>oldpeak</th>\n",
       "      <th>slope</th>\n",
       "      <th>ca</th>\n",
       "      <th>thal</th>\n",
       "    </tr>\n",
       "  </thead>\n",
       "  <tbody>\n",
       "    <tr>\n",
       "      <th>0</th>\n",
       "      <td>63</td>\n",
       "      <td>1</td>\n",
       "      <td>3</td>\n",
       "      <td>145</td>\n",
       "      <td>233</td>\n",
       "      <td>1</td>\n",
       "      <td>0</td>\n",
       "      <td>150</td>\n",
       "      <td>0</td>\n",
       "      <td>2.3</td>\n",
       "      <td>0</td>\n",
       "      <td>0</td>\n",
       "      <td>1</td>\n",
       "    </tr>\n",
       "    <tr>\n",
       "      <th>1</th>\n",
       "      <td>37</td>\n",
       "      <td>1</td>\n",
       "      <td>2</td>\n",
       "      <td>130</td>\n",
       "      <td>250</td>\n",
       "      <td>0</td>\n",
       "      <td>1</td>\n",
       "      <td>187</td>\n",
       "      <td>0</td>\n",
       "      <td>3.5</td>\n",
       "      <td>0</td>\n",
       "      <td>0</td>\n",
       "      <td>2</td>\n",
       "    </tr>\n",
       "    <tr>\n",
       "      <th>2</th>\n",
       "      <td>41</td>\n",
       "      <td>0</td>\n",
       "      <td>1</td>\n",
       "      <td>130</td>\n",
       "      <td>204</td>\n",
       "      <td>0</td>\n",
       "      <td>0</td>\n",
       "      <td>172</td>\n",
       "      <td>0</td>\n",
       "      <td>1.4</td>\n",
       "      <td>2</td>\n",
       "      <td>0</td>\n",
       "      <td>2</td>\n",
       "    </tr>\n",
       "    <tr>\n",
       "      <th>3</th>\n",
       "      <td>56</td>\n",
       "      <td>1</td>\n",
       "      <td>1</td>\n",
       "      <td>120</td>\n",
       "      <td>236</td>\n",
       "      <td>0</td>\n",
       "      <td>1</td>\n",
       "      <td>178</td>\n",
       "      <td>0</td>\n",
       "      <td>0.8</td>\n",
       "      <td>2</td>\n",
       "      <td>0</td>\n",
       "      <td>2</td>\n",
       "    </tr>\n",
       "    <tr>\n",
       "      <th>4</th>\n",
       "      <td>57</td>\n",
       "      <td>0</td>\n",
       "      <td>0</td>\n",
       "      <td>120</td>\n",
       "      <td>354</td>\n",
       "      <td>0</td>\n",
       "      <td>1</td>\n",
       "      <td>163</td>\n",
       "      <td>1</td>\n",
       "      <td>0.6</td>\n",
       "      <td>2</td>\n",
       "      <td>0</td>\n",
       "      <td>2</td>\n",
       "    </tr>\n",
       "    <tr>\n",
       "      <th>...</th>\n",
       "      <td>...</td>\n",
       "      <td>...</td>\n",
       "      <td>...</td>\n",
       "      <td>...</td>\n",
       "      <td>...</td>\n",
       "      <td>...</td>\n",
       "      <td>...</td>\n",
       "      <td>...</td>\n",
       "      <td>...</td>\n",
       "      <td>...</td>\n",
       "      <td>...</td>\n",
       "      <td>...</td>\n",
       "      <td>...</td>\n",
       "    </tr>\n",
       "    <tr>\n",
       "      <th>298</th>\n",
       "      <td>57</td>\n",
       "      <td>0</td>\n",
       "      <td>0</td>\n",
       "      <td>140</td>\n",
       "      <td>241</td>\n",
       "      <td>0</td>\n",
       "      <td>1</td>\n",
       "      <td>123</td>\n",
       "      <td>1</td>\n",
       "      <td>0.2</td>\n",
       "      <td>1</td>\n",
       "      <td>0</td>\n",
       "      <td>3</td>\n",
       "    </tr>\n",
       "    <tr>\n",
       "      <th>299</th>\n",
       "      <td>45</td>\n",
       "      <td>1</td>\n",
       "      <td>3</td>\n",
       "      <td>110</td>\n",
       "      <td>264</td>\n",
       "      <td>0</td>\n",
       "      <td>1</td>\n",
       "      <td>132</td>\n",
       "      <td>0</td>\n",
       "      <td>1.2</td>\n",
       "      <td>1</td>\n",
       "      <td>0</td>\n",
       "      <td>3</td>\n",
       "    </tr>\n",
       "    <tr>\n",
       "      <th>300</th>\n",
       "      <td>68</td>\n",
       "      <td>1</td>\n",
       "      <td>0</td>\n",
       "      <td>144</td>\n",
       "      <td>193</td>\n",
       "      <td>1</td>\n",
       "      <td>1</td>\n",
       "      <td>141</td>\n",
       "      <td>0</td>\n",
       "      <td>3.4</td>\n",
       "      <td>1</td>\n",
       "      <td>2</td>\n",
       "      <td>3</td>\n",
       "    </tr>\n",
       "    <tr>\n",
       "      <th>301</th>\n",
       "      <td>57</td>\n",
       "      <td>1</td>\n",
       "      <td>0</td>\n",
       "      <td>130</td>\n",
       "      <td>131</td>\n",
       "      <td>0</td>\n",
       "      <td>1</td>\n",
       "      <td>115</td>\n",
       "      <td>1</td>\n",
       "      <td>1.2</td>\n",
       "      <td>1</td>\n",
       "      <td>1</td>\n",
       "      <td>3</td>\n",
       "    </tr>\n",
       "    <tr>\n",
       "      <th>302</th>\n",
       "      <td>57</td>\n",
       "      <td>0</td>\n",
       "      <td>1</td>\n",
       "      <td>130</td>\n",
       "      <td>236</td>\n",
       "      <td>0</td>\n",
       "      <td>0</td>\n",
       "      <td>174</td>\n",
       "      <td>0</td>\n",
       "      <td>0.0</td>\n",
       "      <td>1</td>\n",
       "      <td>1</td>\n",
       "      <td>2</td>\n",
       "    </tr>\n",
       "  </tbody>\n",
       "</table>\n",
       "<p>303 rows × 13 columns</p>\n",
       "</div>"
      ],
      "text/plain": [
       "     age  sex  cp  trestbps  chol  fbs  restecg  thalach  exang  oldpeak  \\\n",
       "0     63    1   3       145   233    1        0      150      0      2.3   \n",
       "1     37    1   2       130   250    0        1      187      0      3.5   \n",
       "2     41    0   1       130   204    0        0      172      0      1.4   \n",
       "3     56    1   1       120   236    0        1      178      0      0.8   \n",
       "4     57    0   0       120   354    0        1      163      1      0.6   \n",
       "..   ...  ...  ..       ...   ...  ...      ...      ...    ...      ...   \n",
       "298   57    0   0       140   241    0        1      123      1      0.2   \n",
       "299   45    1   3       110   264    0        1      132      0      1.2   \n",
       "300   68    1   0       144   193    1        1      141      0      3.4   \n",
       "301   57    1   0       130   131    0        1      115      1      1.2   \n",
       "302   57    0   1       130   236    0        0      174      0      0.0   \n",
       "\n",
       "     slope  ca  thal  \n",
       "0        0   0     1  \n",
       "1        0   0     2  \n",
       "2        2   0     2  \n",
       "3        2   0     2  \n",
       "4        2   0     2  \n",
       "..     ...  ..   ...  \n",
       "298      1   0     3  \n",
       "299      1   0     3  \n",
       "300      1   2     3  \n",
       "301      1   1     3  \n",
       "302      1   1     2  \n",
       "\n",
       "[303 rows x 13 columns]"
      ]
     },
     "execution_count": 113,
     "metadata": {},
     "output_type": "execute_result"
    }
   ],
   "source": [
    "x"
   ]
  },
  {
   "cell_type": "markdown",
   "id": "95afdb2f-11bf-4e06-b37c-074df4d889d0",
   "metadata": {},
   "source": [
    "# Q2. Split the dataset into a training set (70%) and a test set (30%)."
   ]
  },
  {
   "cell_type": "code",
   "execution_count": 116,
   "id": "7d8e3a0d-2169-4eed-8613-828d43a0a79b",
   "metadata": {
    "tags": []
   },
   "outputs": [],
   "source": [
    "from sklearn.model_selection import train_test_split\n",
    "x_train,x_test,y_train,y_test=train_test_split(x,y,test_size=0.30,random_state=0)"
   ]
  },
  {
   "cell_type": "markdown",
   "id": "684665f8-f17d-418a-8165-629672d12477",
   "metadata": {},
   "source": [
    "# Q3. Train a random forest classifier on the training set using 100 trees and a maximum depth of 10 for each\n",
    "tree. Use the default values for other hyperparameters."
   ]
  },
  {
   "cell_type": "code",
   "execution_count": 119,
   "id": "e5b1fe64-69b5-472e-98d4-9a2f5c874b61",
   "metadata": {
    "tags": []
   },
   "outputs": [],
   "source": [
    "from sklearn.preprocessing import StandardScaler\n",
    "scler=StandardScaler()\n",
    "x_train=scler.fit_transform(x_train)\n",
    "x_test=scler.transform(x_test)"
   ]
  },
  {
   "cell_type": "code",
   "execution_count": 121,
   "id": "0ef28fc1-cf28-4c29-abaf-660f25605487",
   "metadata": {
    "tags": []
   },
   "outputs": [],
   "source": [
    "from sklearn.ensemble import RandomForestClassifier\n",
    "from sklearn.metrics import accuracy_score,classification_report,confusion_matrix"
   ]
  },
  {
   "cell_type": "code",
   "execution_count": 123,
   "id": "003daeb1-0cdb-4fbf-99e3-7760560f98f0",
   "metadata": {
    "tags": []
   },
   "outputs": [
    {
     "name": "stdout",
     "output_type": "stream",
     "text": [
      "0.8571428571428571\n",
      "              precision    recall  f1-score   support\n",
      "\n",
      "           0       0.90      0.80      0.84        44\n",
      "           1       0.83      0.91      0.87        47\n",
      "\n",
      "    accuracy                           0.86        91\n",
      "   macro avg       0.86      0.86      0.86        91\n",
      "weighted avg       0.86      0.86      0.86        91\n",
      "\n"
     ]
    },
    {
     "data": {
      "text/plain": [
       "array([[35,  9],\n",
       "       [ 4, 43]], dtype=int64)"
      ]
     },
     "execution_count": 123,
     "metadata": {},
     "output_type": "execute_result"
    }
   ],
   "source": [
    "model=RandomForestClassifier(n_estimators=100,max_depth=10)\n",
    "model.fit(x_train,y_train)\n",
    "y_pred=model.predict(x_test)\n",
    "    \n",
    "acc=accuracy_score(y_test,y_pred)\n",
    "print(acc)\n",
    "print(classification_report(y_test,y_pred))\n",
    "confusion_matrix(y_test,y_pred)"
   ]
  },
  {
   "cell_type": "markdown",
   "id": "01a19fab-507a-485d-b28e-d3118edafb06",
   "metadata": {},
   "source": [
    "# Q4. Evaluate the performance of the model on the test set using accuracy, precision, recall, and F1 score."
   ]
  },
  {
   "cell_type": "code",
   "execution_count": 131,
   "id": "40d0e90e-f691-4599-8a70-c08661f1373f",
   "metadata": {
    "tags": []
   },
   "outputs": [
    {
     "name": "stdout",
     "output_type": "stream",
     "text": [
      "0.8571428571428571\n",
      "              precision    recall  f1-score   support\n",
      "\n",
      "           0       0.90      0.80      0.84        44\n",
      "           1       0.83      0.91      0.87        47\n",
      "\n",
      "    accuracy                           0.86        91\n",
      "   macro avg       0.86      0.86      0.86        91\n",
      "weighted avg       0.86      0.86      0.86        91\n",
      "\n"
     ]
    },
    {
     "data": {
      "text/plain": [
       "array([[35,  9],\n",
       "       [ 4, 43]], dtype=int64)"
      ]
     },
     "execution_count": 131,
     "metadata": {},
     "output_type": "execute_result"
    }
   ],
   "source": [
    "accuracy_defult=accuracy_score(y_test,y_pred)\n",
    "print(accuracy_defult)\n",
    "print(classification_report(y_test,y_pred))\n",
    "confusion_matrix(y_test,y_pred)"
   ]
  },
  {
   "cell_type": "markdown",
   "id": "51d18f29-f456-4db7-b034-48106d599aa8",
   "metadata": {},
   "source": [
    "## Q5. Use the feature importance scores to identify the top 5 most important features in predicting heart\n",
    "disease risk. Visualise the feature importances using a bar chart."
   ]
  },
  {
   "cell_type": "code",
   "execution_count": 69,
   "id": "cca98ce7-c177-4de3-b347-ce8cee3ad981",
   "metadata": {
    "tags": []
   },
   "outputs": [],
   "source": [
    "feature_importances=model.feature_importances_\n",
    "features_df = pd.DataFrame({\n",
    "    'Feature': x.columns,\n",
    "    'Importance': feature_importances\n",
    "})"
   ]
  },
  {
   "cell_type": "code",
   "execution_count": 71,
   "id": "d20cb9de-eff0-4e50-9e2a-591db47f3853",
   "metadata": {
    "tags": []
   },
   "outputs": [
    {
     "data": {
      "text/html": [
       "<div>\n",
       "<style scoped>\n",
       "    .dataframe tbody tr th:only-of-type {\n",
       "        vertical-align: middle;\n",
       "    }\n",
       "\n",
       "    .dataframe tbody tr th {\n",
       "        vertical-align: top;\n",
       "    }\n",
       "\n",
       "    .dataframe thead th {\n",
       "        text-align: right;\n",
       "    }\n",
       "</style>\n",
       "<table border=\"1\" class=\"dataframe\">\n",
       "  <thead>\n",
       "    <tr style=\"text-align: right;\">\n",
       "      <th></th>\n",
       "      <th>Feature</th>\n",
       "      <th>Importance</th>\n",
       "    </tr>\n",
       "  </thead>\n",
       "  <tbody>\n",
       "    <tr>\n",
       "      <th>0</th>\n",
       "      <td>age</td>\n",
       "      <td>0.083957</td>\n",
       "    </tr>\n",
       "    <tr>\n",
       "      <th>1</th>\n",
       "      <td>sex</td>\n",
       "      <td>0.041863</td>\n",
       "    </tr>\n",
       "    <tr>\n",
       "      <th>2</th>\n",
       "      <td>cp</td>\n",
       "      <td>0.111806</td>\n",
       "    </tr>\n",
       "    <tr>\n",
       "      <th>3</th>\n",
       "      <td>trestbps</td>\n",
       "      <td>0.073486</td>\n",
       "    </tr>\n",
       "    <tr>\n",
       "      <th>4</th>\n",
       "      <td>chol</td>\n",
       "      <td>0.072707</td>\n",
       "    </tr>\n",
       "    <tr>\n",
       "      <th>5</th>\n",
       "      <td>fbs</td>\n",
       "      <td>0.012132</td>\n",
       "    </tr>\n",
       "    <tr>\n",
       "      <th>6</th>\n",
       "      <td>restecg</td>\n",
       "      <td>0.019121</td>\n",
       "    </tr>\n",
       "    <tr>\n",
       "      <th>7</th>\n",
       "      <td>thalach</td>\n",
       "      <td>0.129378</td>\n",
       "    </tr>\n",
       "    <tr>\n",
       "      <th>8</th>\n",
       "      <td>exang</td>\n",
       "      <td>0.071815</td>\n",
       "    </tr>\n",
       "    <tr>\n",
       "      <th>9</th>\n",
       "      <td>oldpeak</td>\n",
       "      <td>0.119728</td>\n",
       "    </tr>\n",
       "    <tr>\n",
       "      <th>10</th>\n",
       "      <td>slope</td>\n",
       "      <td>0.043973</td>\n",
       "    </tr>\n",
       "    <tr>\n",
       "      <th>11</th>\n",
       "      <td>ca</td>\n",
       "      <td>0.104851</td>\n",
       "    </tr>\n",
       "    <tr>\n",
       "      <th>12</th>\n",
       "      <td>thal</td>\n",
       "      <td>0.115181</td>\n",
       "    </tr>\n",
       "  </tbody>\n",
       "</table>\n",
       "</div>"
      ],
      "text/plain": [
       "     Feature  Importance\n",
       "0        age    0.083957\n",
       "1        sex    0.041863\n",
       "2         cp    0.111806\n",
       "3   trestbps    0.073486\n",
       "4       chol    0.072707\n",
       "5        fbs    0.012132\n",
       "6    restecg    0.019121\n",
       "7    thalach    0.129378\n",
       "8      exang    0.071815\n",
       "9    oldpeak    0.119728\n",
       "10     slope    0.043973\n",
       "11        ca    0.104851\n",
       "12      thal    0.115181"
      ]
     },
     "execution_count": 71,
     "metadata": {},
     "output_type": "execute_result"
    }
   ],
   "source": [
    "features_df"
   ]
  },
  {
   "cell_type": "code",
   "execution_count": 73,
   "id": "cd40edeb-c303-4f70-8925-0b9f96468658",
   "metadata": {
    "tags": []
   },
   "outputs": [],
   "source": [
    "top_5_features = features_df.head(5)"
   ]
  },
  {
   "cell_type": "code",
   "execution_count": 79,
   "id": "be51ae3f-2dc1-4e19-a73e-9a392fbdfcf8",
   "metadata": {
    "tags": []
   },
   "outputs": [
    {
     "data": {
      "image/png": "[encoded data removed]",
      "text/plain": [
       "<Figure size 1000x600 with 1 Axes>"
      ]
     },
     "metadata": {},
     "output_type": "display_data"
    }
   ],
   "source": [
    "import matplotlib.pyplot as plt\n",
    "plt.figure(figsize=(10, 6))\n",
    "sns.barplot(x='Importance', y='Feature', data=top_5_features, palette='viridis')\n",
    "plt.title('Top 5 Most Important Features in Predicting Heart Disease Risk')\n",
    "plt.xlabel('Importance Score')\n",
    "plt.ylabel('Feature')\n",
    "plt.show()\n"
   ]
  },
  {
   "cell_type": "markdown",
   "id": "fcd69dfc-9234-4c55-b957-88ded4b2a88b",
   "metadata": {},
   "source": [
    "# Q6. Tune the hyperparameters of the random forest classifier using grid search or random search. Try\n",
    "# different values of the number of trees, maximum depth, minimum samples split, and minimum samples leaf. Use 5-fold cross-validation to evaluate the performance of each set of hyperparameters."
   ]
  },
  {
   "cell_type": "code",
   "execution_count": 82,
   "id": "63438495-1c3c-4377-8faf-8f1c2708351c",
   "metadata": {
    "tags": []
   },
   "outputs": [],
   "source": [
    "from sklearn.model_selection import GridSearchCV"
   ]
  },
  {
   "cell_type": "code",
   "execution_count": 84,
   "id": "71a2bd77-87a9-498f-8de9-d6a4eb8e73c4",
   "metadata": {
    "tags": []
   },
   "outputs": [],
   "source": [
    "param_grid = {\n",
    "    'n_estimators': [100, 200, 300],\n",
    "    'max_depth': [None, 10, 20, 30],\n",
    "    'min_samples_split': [2, 5, 10],\n",
    "    'min_samples_leaf': [1, 2, 4]\n",
    "}"
   ]
  },
  {
   "cell_type": "code",
   "execution_count": 86,
   "id": "3a055412-c971-4fd1-9133-26b7f467da2a",
   "metadata": {
    "tags": []
   },
   "outputs": [],
   "source": [
    "gs=GridSearchCV(model,param_grid,cv=5,refit=True,verbose=3)"
   ]
  },
  {
   "cell_type": "code",
   "execution_count": 88,
   "id": "800bff26-c707-4b71-bb20-bd29e091da52",
   "metadata": {
    "collapsed": true,
    "jupyter": {
     "outputs_hidden": true
    },
    "tags": []
   },
   "outputs": [
    {
     "name": "stdout",
     "output_type": "stream",
     "text": [
      "Fitting 5 folds for each of 108 candidates, totalling 540 fits\n",
      "[CV 1/5] END max_depth=None, min_samples_leaf=1, min_samples_split=2, n_estimators=100;, score=0.744 total time=   0.4s\n",
      "[CV 2/5] END max_depth=None, min_samples_leaf=1, min_samples_split=2, n_estimators=100;, score=0.791 total time=   0.3s\n",
      "[CV 3/5] END max_depth=None, min_samples_leaf=1, min_samples_split=2, n_estimators=100;, score=0.857 total time=   0.3s\n",
      "[CV 4/5] END max_depth=None, min_samples_leaf=1, min_samples_split=2, n_estimators=100;, score=0.762 total time=   0.3s\n",
      "[CV 5/5] END max_depth=None, min_samples_leaf=1, min_samples_split=2, n_estimators=100;, score=0.810 total time=   0.3s\n",
      "[CV 1/5] END max_depth=None, min_samples_leaf=1, min_samples_split=2, n_estimators=200;, score=0.814 total time=   0.6s\n",
      "[CV 2/5] END max_depth=None, min_samples_leaf=1, min_samples_split=2, n_estimators=200;, score=0.860 total time=   0.6s\n",
      "[CV 3/5] END max_depth=None, min_samples_leaf=1, min_samples_split=2, n_estimators=200;, score=0.857 total time=   0.7s\n",
      "[CV 4/5] END max_depth=None, min_samples_leaf=1, min_samples_split=2, n_estimators=200;, score=0.786 total time=   0.7s\n",
      "[CV 5/5] END max_depth=None, min_samples_leaf=1, min_samples_split=2, n_estimators=200;, score=0.857 total time=   0.6s\n",
      "[CV 1/5] END max_depth=None, min_samples_leaf=1, min_samples_split=2, n_estimators=300;, score=0.837 total time=   0.9s\n",
      "[CV 2/5] END max_depth=None, min_samples_leaf=1, min_samples_split=2, n_estimators=300;, score=0.860 total time=   0.9s\n",
      "[CV 3/5] END max_depth=None, min_samples_leaf=1, min_samples_split=2, n_estimators=300;, score=0.857 total time=   1.0s\n",
      "[CV 4/5] END max_depth=None, min_samples_leaf=1, min_samples_split=2, n_estimators=300;, score=0.762 total time=   0.9s\n",
      "[CV 5/5] END max_depth=None, min_samples_leaf=1, min_samples_split=2, n_estimators=300;, score=0.881 total time=   0.9s\n",
      "[CV 1/5] END max_depth=None, min_samples_leaf=1, min_samples_split=5, n_estimators=100;, score=0.837 total time=   0.3s\n",
      "[CV 2/5] END max_depth=None, min_samples_leaf=1, min_samples_split=5, n_estimators=100;, score=0.837 total time=   0.3s\n",
      "[CV 3/5] END max_depth=None, min_samples_leaf=1, min_samples_split=5, n_estimators=100;, score=0.857 total time=   0.3s\n",
      "[CV 4/5] END max_depth=None, min_samples_leaf=1, min_samples_split=5, n_estimators=100;, score=0.762 total time=   0.4s\n",
      "[CV 5/5] END max_depth=None, min_samples_leaf=1, min_samples_split=5, n_estimators=100;, score=0.905 total time=   0.2s\n",
      "[CV 1/5] END max_depth=None, min_samples_leaf=1, min_samples_split=5, n_estimators=200;, score=0.814 total time=   0.6s\n",
      "[CV 2/5] END max_depth=None, min_samples_leaf=1, min_samples_split=5, n_estimators=200;, score=0.814 total time=   0.6s\n",
      "[CV 3/5] END max_depth=None, min_samples_leaf=1, min_samples_split=5, n_estimators=200;, score=0.857 total time=   0.7s\n",
      "[CV 4/5] END max_depth=None, min_samples_leaf=1, min_samples_split=5, n_estimators=200;, score=0.786 total time=   0.6s\n",
      "[CV 5/5] END max_depth=None, min_samples_leaf=1, min_samples_split=5, n_estimators=200;, score=0.881 total time=   0.6s\n",
      "[CV 1/5] END max_depth=None, min_samples_leaf=1, min_samples_split=5, n_estimators=300;, score=0.837 total time=   1.1s\n",
      "[CV 2/5] END max_depth=None, min_samples_leaf=1, min_samples_split=5, n_estimators=300;, score=0.837 total time=   1.0s\n",
      "[CV 3/5] END max_depth=None, min_samples_leaf=1, min_samples_split=5, n_estimators=300;, score=0.857 total time=   1.1s\n",
      "[CV 4/5] END max_depth=None, min_samples_leaf=1, min_samples_split=5, n_estimators=300;, score=0.762 total time=   1.1s\n",
      "[CV 5/5] END max_depth=None, min_samples_leaf=1, min_samples_split=5, n_estimators=300;, score=0.833 total time=   1.1s\n",
      "[CV 1/5] END max_depth=None, min_samples_leaf=1, min_samples_split=10, n_estimators=100;, score=0.837 total time=   0.3s\n",
      "[CV 2/5] END max_depth=None, min_samples_leaf=1, min_samples_split=10, n_estimators=100;, score=0.837 total time=   0.3s\n",
      "[CV 3/5] END max_depth=None, min_samples_leaf=1, min_samples_split=10, n_estimators=100;, score=0.857 total time=   0.5s\n",
      "[CV 4/5] END max_depth=None, min_samples_leaf=1, min_samples_split=10, n_estimators=100;, score=0.786 total time=   0.3s\n",
      "[CV 5/5] END max_depth=None, min_samples_leaf=1, min_samples_split=10, n_estimators=100;, score=0.881 total time=   0.2s\n",
      "[CV 1/5] END max_depth=None, min_samples_leaf=1, min_samples_split=10, n_estimators=200;, score=0.837 total time=   0.7s\n",
      "[CV 2/5] END max_depth=None, min_samples_leaf=1, min_samples_split=10, n_estimators=200;, score=0.860 total time=   0.7s\n",
      "[CV 3/5] END max_depth=None, min_samples_leaf=1, min_samples_split=10, n_estimators=200;, score=0.881 total time=   0.6s\n",
      "[CV 4/5] END max_depth=None, min_samples_leaf=1, min_samples_split=10, n_estimators=200;, score=0.786 total time=   0.5s\n",
      "[CV 5/5] END max_depth=None, min_samples_leaf=1, min_samples_split=10, n_estimators=200;, score=0.881 total time=   0.6s\n",
      "[CV 1/5] END max_depth=None, min_samples_leaf=1, min_samples_split=10, n_estimators=300;, score=0.837 total time=   0.9s\n",
      "[CV 2/5] END max_depth=None, min_samples_leaf=1, min_samples_split=10, n_estimators=300;, score=0.837 total time=   1.0s\n",
      "[CV 3/5] END max_depth=None, min_samples_leaf=1, min_samples_split=10, n_estimators=300;, score=0.833 total time=   0.9s\n",
      "[CV 4/5] END max_depth=None, min_samples_leaf=1, min_samples_split=10, n_estimators=300;, score=0.786 total time=   0.8s\n",
      "[CV 5/5] END max_depth=None, min_samples_leaf=1, min_samples_split=10, n_estimators=300;, score=0.833 total time=   0.9s\n",
      "[CV 1/5] END max_depth=None, min_samples_leaf=2, min_samples_split=2, n_estimators=100;, score=0.814 total time=   0.2s\n",
      "[CV 2/5] END max_depth=None, min_samples_leaf=2, min_samples_split=2, n_estimators=100;, score=0.837 total time=   0.2s\n",
      "[CV 3/5] END max_depth=None, min_samples_leaf=2, min_samples_split=2, n_estimators=100;, score=0.857 total time=   0.2s\n",
      "[CV 4/5] END max_depth=None, min_samples_leaf=2, min_samples_split=2, n_estimators=100;, score=0.810 total time=   0.2s\n",
      "[CV 5/5] END max_depth=None, min_samples_leaf=2, min_samples_split=2, n_estimators=100;, score=0.881 total time=   0.2s\n",
      "[CV 1/5] END max_depth=None, min_samples_leaf=2, min_samples_split=2, n_estimators=200;, score=0.860 total time=   0.5s\n",
      "[CV 2/5] END max_depth=None, min_samples_leaf=2, min_samples_split=2, n_estimators=200;, score=0.837 total time=   0.5s\n",
      "[CV 3/5] END max_depth=None, min_samples_leaf=2, min_samples_split=2, n_estimators=200;, score=0.857 total time=   0.5s\n",
      "[CV 4/5] END max_depth=None, min_samples_leaf=2, min_samples_split=2, n_estimators=200;, score=0.762 total time=   0.6s\n",
      "[CV 5/5] END max_depth=None, min_samples_leaf=2, min_samples_split=2, n_estimators=200;, score=0.833 total time=   0.7s\n",
      "[CV 1/5] END max_depth=None, min_samples_leaf=2, min_samples_split=2, n_estimators=300;, score=0.860 total time=   0.9s\n",
      "[CV 2/5] END max_depth=None, min_samples_leaf=2, min_samples_split=2, n_estimators=300;, score=0.837 total time=   0.9s\n",
      "[CV 3/5] END max_depth=None, min_samples_leaf=2, min_samples_split=2, n_estimators=300;, score=0.857 total time=   0.9s\n",
      "[CV 4/5] END max_depth=None, min_samples_leaf=2, min_samples_split=2, n_estimators=300;, score=0.762 total time=   0.9s\n",
      "[CV 5/5] END max_depth=None, min_samples_leaf=2, min_samples_split=2, n_estimators=300;, score=0.833 total time=   0.9s\n",
      "[CV 1/5] END max_depth=None, min_samples_leaf=2, min_samples_split=5, n_estimators=100;, score=0.767 total time=   0.2s\n",
      "[CV 2/5] END max_depth=None, min_samples_leaf=2, min_samples_split=5, n_estimators=100;, score=0.860 total time=   0.2s\n",
      "[CV 3/5] END max_depth=None, min_samples_leaf=2, min_samples_split=5, n_estimators=100;, score=0.881 total time=   0.2s\n",
      "[CV 4/5] END max_depth=None, min_samples_leaf=2, min_samples_split=5, n_estimators=100;, score=0.810 total time=   0.2s\n",
      "[CV 5/5] END max_depth=None, min_samples_leaf=2, min_samples_split=5, n_estimators=100;, score=0.857 total time=   0.2s\n",
      "[CV 1/5] END max_depth=None, min_samples_leaf=2, min_samples_split=5, n_estimators=200;, score=0.814 total time=   0.5s\n",
      "[CV 2/5] END max_depth=None, min_samples_leaf=2, min_samples_split=5, n_estimators=200;, score=0.837 total time=   0.6s\n",
      "[CV 3/5] END max_depth=None, min_samples_leaf=2, min_samples_split=5, n_estimators=200;, score=0.833 total time=   0.5s\n",
      "[CV 4/5] END max_depth=None, min_samples_leaf=2, min_samples_split=5, n_estimators=200;, score=0.786 total time=   0.6s\n",
      "[CV 5/5] END max_depth=None, min_samples_leaf=2, min_samples_split=5, n_estimators=200;, score=0.833 total time=   0.6s\n",
      "[CV 1/5] END max_depth=None, min_samples_leaf=2, min_samples_split=5, n_estimators=300;, score=0.837 total time=   0.9s\n",
      "[CV 2/5] END max_depth=None, min_samples_leaf=2, min_samples_split=5, n_estimators=300;, score=0.837 total time=   0.9s\n",
      "[CV 3/5] END max_depth=None, min_samples_leaf=2, min_samples_split=5, n_estimators=300;, score=0.833 total time=   1.0s\n",
      "[CV 4/5] END max_depth=None, min_samples_leaf=2, min_samples_split=5, n_estimators=300;, score=0.786 total time=   1.1s\n",
      "[CV 5/5] END max_depth=None, min_samples_leaf=2, min_samples_split=5, n_estimators=300;, score=0.833 total time=   1.1s\n",
      "[CV 1/5] END max_depth=None, min_samples_leaf=2, min_samples_split=10, n_estimators=100;, score=0.860 total time=   0.2s\n",
      "[CV 2/5] END max_depth=None, min_samples_leaf=2, min_samples_split=10, n_estimators=100;, score=0.814 total time=   0.2s\n",
      "[CV 3/5] END max_depth=None, min_samples_leaf=2, min_samples_split=10, n_estimators=100;, score=0.833 total time=   0.3s\n",
      "[CV 4/5] END max_depth=None, min_samples_leaf=2, min_samples_split=10, n_estimators=100;, score=0.762 total time=   0.3s\n",
      "[CV 5/5] END max_depth=None, min_samples_leaf=2, min_samples_split=10, n_estimators=100;, score=0.833 total time=   0.3s\n",
      "[CV 1/5] END max_depth=None, min_samples_leaf=2, min_samples_split=10, n_estimators=200;, score=0.837 total time=   0.5s\n",
      "[CV 2/5] END max_depth=None, min_samples_leaf=2, min_samples_split=10, n_estimators=200;, score=0.814 total time=   0.5s\n",
      "[CV 3/5] END max_depth=None, min_samples_leaf=2, min_samples_split=10, n_estimators=200;, score=0.833 total time=   0.7s\n",
      "[CV 4/5] END max_depth=None, min_samples_leaf=2, min_samples_split=10, n_estimators=200;, score=0.786 total time=   0.6s\n",
      "[CV 5/5] END max_depth=None, min_samples_leaf=2, min_samples_split=10, n_estimators=200;, score=0.857 total time=   0.5s\n",
      "[CV 1/5] END max_depth=None, min_samples_leaf=2, min_samples_split=10, n_estimators=300;, score=0.837 total time=   0.9s\n",
      "[CV 2/5] END max_depth=None, min_samples_leaf=2, min_samples_split=10, n_estimators=300;, score=0.837 total time=   0.8s\n",
      "[CV 3/5] END max_depth=None, min_samples_leaf=2, min_samples_split=10, n_estimators=300;, score=0.857 total time=   0.9s\n",
      "[CV 4/5] END max_depth=None, min_samples_leaf=2, min_samples_split=10, n_estimators=300;, score=0.810 total time=   0.9s\n",
      "[CV 5/5] END max_depth=None, min_samples_leaf=2, min_samples_split=10, n_estimators=300;, score=0.857 total time=   0.9s\n",
      "[CV 1/5] END max_depth=None, min_samples_leaf=4, min_samples_split=2, n_estimators=100;, score=0.837 total time=   0.3s\n",
      "[CV 2/5] END max_depth=None, min_samples_leaf=4, min_samples_split=2, n_estimators=100;, score=0.860 total time=   0.3s\n",
      "[CV 3/5] END max_depth=None, min_samples_leaf=4, min_samples_split=2, n_estimators=100;, score=0.857 total time=   0.2s\n",
      "[CV 4/5] END max_depth=None, min_samples_leaf=4, min_samples_split=2, n_estimators=100;, score=0.810 total time=   0.2s\n",
      "[CV 5/5] END max_depth=None, min_samples_leaf=4, min_samples_split=2, n_estimators=100;, score=0.881 total time=   0.2s\n",
      "[CV 1/5] END max_depth=None, min_samples_leaf=4, min_samples_split=2, n_estimators=200;, score=0.837 total time=   0.5s\n",
      "[CV 2/5] END max_depth=None, min_samples_leaf=4, min_samples_split=2, n_estimators=200;, score=0.814 total time=   0.5s\n",
      "[CV 3/5] END max_depth=None, min_samples_leaf=4, min_samples_split=2, n_estimators=200;, score=0.881 total time=   0.5s\n",
      "[CV 4/5] END max_depth=None, min_samples_leaf=4, min_samples_split=2, n_estimators=200;, score=0.833 total time=   0.6s\n",
      "[CV 5/5] END max_depth=None, min_samples_leaf=4, min_samples_split=2, n_estimators=200;, score=0.857 total time=   0.5s\n",
      "[CV 1/5] END max_depth=None, min_samples_leaf=4, min_samples_split=2, n_estimators=300;, score=0.837 total time=   0.8s\n",
      "[CV 2/5] END max_depth=None, min_samples_leaf=4, min_samples_split=2, n_estimators=300;, score=0.860 total time=   0.9s\n",
      "[CV 3/5] END max_depth=None, min_samples_leaf=4, min_samples_split=2, n_estimators=300;, score=0.881 total time=   0.9s\n",
      "[CV 4/5] END max_depth=None, min_samples_leaf=4, min_samples_split=2, n_estimators=300;, score=0.786 total time=   0.9s\n",
      "[CV 5/5] END max_depth=None, min_samples_leaf=4, min_samples_split=2, n_estimators=300;, score=0.833 total time=   1.2s\n",
      "[CV 1/5] END max_depth=None, min_samples_leaf=4, min_samples_split=5, n_estimators=100;, score=0.837 total time=   0.2s\n",
      "[CV 2/5] END max_depth=None, min_samples_leaf=4, min_samples_split=5, n_estimators=100;, score=0.837 total time=   0.4s\n",
      "[CV 3/5] END max_depth=None, min_samples_leaf=4, min_samples_split=5, n_estimators=100;, score=0.881 total time=   0.3s\n",
      "[CV 4/5] END max_depth=None, min_samples_leaf=4, min_samples_split=5, n_estimators=100;, score=0.786 total time=   0.2s\n",
      "[CV 5/5] END max_depth=None, min_samples_leaf=4, min_samples_split=5, n_estimators=100;, score=0.881 total time=   0.2s\n",
      "[CV 1/5] END max_depth=None, min_samples_leaf=4, min_samples_split=5, n_estimators=200;, score=0.814 total time=   0.6s\n",
      "[CV 2/5] END max_depth=None, min_samples_leaf=4, min_samples_split=5, n_estimators=200;, score=0.837 total time=   0.6s\n",
      "[CV 3/5] END max_depth=None, min_samples_leaf=4, min_samples_split=5, n_estimators=200;, score=0.881 total time=   0.5s\n",
      "[CV 4/5] END max_depth=None, min_samples_leaf=4, min_samples_split=5, n_estimators=200;, score=0.762 total time=   0.7s\n",
      "[CV 5/5] END max_depth=None, min_samples_leaf=4, min_samples_split=5, n_estimators=200;, score=0.833 total time=   0.6s\n",
      "[CV 1/5] END max_depth=None, min_samples_leaf=4, min_samples_split=5, n_estimators=300;, score=0.837 total time=   0.9s\n",
      "[CV 2/5] END max_depth=None, min_samples_leaf=4, min_samples_split=5, n_estimators=300;, score=0.837 total time=   0.9s\n",
      "[CV 3/5] END max_depth=None, min_samples_leaf=4, min_samples_split=5, n_estimators=300;, score=0.857 total time=   1.0s\n",
      "[CV 4/5] END max_depth=None, min_samples_leaf=4, min_samples_split=5, n_estimators=300;, score=0.810 total time=   0.9s\n",
      "[CV 5/5] END max_depth=None, min_samples_leaf=4, min_samples_split=5, n_estimators=300;, score=0.857 total time=   0.9s\n",
      "[CV 1/5] END max_depth=None, min_samples_leaf=4, min_samples_split=10, n_estimators=100;, score=0.837 total time=   0.2s\n",
      "[CV 2/5] END max_depth=None, min_samples_leaf=4, min_samples_split=10, n_estimators=100;, score=0.837 total time=   0.3s\n",
      "[CV 3/5] END max_depth=None, min_samples_leaf=4, min_samples_split=10, n_estimators=100;, score=0.833 total time=   0.4s\n",
      "[CV 4/5] END max_depth=None, min_samples_leaf=4, min_samples_split=10, n_estimators=100;, score=0.786 total time=   0.2s\n",
      "[CV 5/5] END max_depth=None, min_samples_leaf=4, min_samples_split=10, n_estimators=100;, score=0.857 total time=   0.2s\n",
      "[CV 1/5] END max_depth=None, min_samples_leaf=4, min_samples_split=10, n_estimators=200;, score=0.884 total time=   0.6s\n",
      "[CV 2/5] END max_depth=None, min_samples_leaf=4, min_samples_split=10, n_estimators=200;, score=0.860 total time=   0.6s\n",
      "[CV 3/5] END max_depth=None, min_samples_leaf=4, min_samples_split=10, n_estimators=200;, score=0.905 total time=   0.6s\n",
      "[CV 4/5] END max_depth=None, min_samples_leaf=4, min_samples_split=10, n_estimators=200;, score=0.762 total time=   0.6s\n",
      "[CV 5/5] END max_depth=None, min_samples_leaf=4, min_samples_split=10, n_estimators=200;, score=0.857 total time=   0.5s\n",
      "[CV 1/5] END max_depth=None, min_samples_leaf=4, min_samples_split=10, n_estimators=300;, score=0.814 total time=   1.0s\n",
      "[CV 2/5] END max_depth=None, min_samples_leaf=4, min_samples_split=10, n_estimators=300;, score=0.814 total time=   0.9s\n",
      "[CV 3/5] END max_depth=None, min_samples_leaf=4, min_samples_split=10, n_estimators=300;, score=0.857 total time=   1.0s\n",
      "[CV 4/5] END max_depth=None, min_samples_leaf=4, min_samples_split=10, n_estimators=300;, score=0.810 total time=   0.9s\n",
      "[CV 5/5] END max_depth=None, min_samples_leaf=4, min_samples_split=10, n_estimators=300;, score=0.881 total time=   0.8s\n",
      "[CV 1/5] END max_depth=10, min_samples_leaf=1, min_samples_split=2, n_estimators=100;, score=0.767 total time=   0.3s\n",
      "[CV 2/5] END max_depth=10, min_samples_leaf=1, min_samples_split=2, n_estimators=100;, score=0.860 total time=   0.3s\n",
      "[CV 3/5] END max_depth=10, min_samples_leaf=1, min_samples_split=2, n_estimators=100;, score=0.833 total time=   0.3s\n",
      "[CV 4/5] END max_depth=10, min_samples_leaf=1, min_samples_split=2, n_estimators=100;, score=0.786 total time=   0.3s\n",
      "[CV 5/5] END max_depth=10, min_samples_leaf=1, min_samples_split=2, n_estimators=100;, score=0.881 total time=   0.3s\n",
      "[CV 1/5] END max_depth=10, min_samples_leaf=1, min_samples_split=2, n_estimators=200;, score=0.791 total time=   0.6s\n",
      "[CV 2/5] END max_depth=10, min_samples_leaf=1, min_samples_split=2, n_estimators=200;, score=0.837 total time=   0.6s\n",
      "[CV 3/5] END max_depth=10, min_samples_leaf=1, min_samples_split=2, n_estimators=200;, score=0.857 total time=   0.6s\n",
      "[CV 4/5] END max_depth=10, min_samples_leaf=1, min_samples_split=2, n_estimators=200;, score=0.786 total time=   0.6s\n",
      "[CV 5/5] END max_depth=10, min_samples_leaf=1, min_samples_split=2, n_estimators=200;, score=0.857 total time=   0.7s\n",
      "[CV 1/5] END max_depth=10, min_samples_leaf=1, min_samples_split=2, n_estimators=300;, score=0.814 total time=   0.9s\n",
      "[CV 2/5] END max_depth=10, min_samples_leaf=1, min_samples_split=2, n_estimators=300;, score=0.860 total time=   1.0s\n",
      "[CV 3/5] END max_depth=10, min_samples_leaf=1, min_samples_split=2, n_estimators=300;, score=0.857 total time=   1.0s\n",
      "[CV 4/5] END max_depth=10, min_samples_leaf=1, min_samples_split=2, n_estimators=300;, score=0.762 total time=   1.0s\n",
      "[CV 5/5] END max_depth=10, min_samples_leaf=1, min_samples_split=2, n_estimators=300;, score=0.857 total time=   0.9s\n",
      "[CV 1/5] END max_depth=10, min_samples_leaf=1, min_samples_split=5, n_estimators=100;, score=0.860 total time=   0.3s\n",
      "[CV 2/5] END max_depth=10, min_samples_leaf=1, min_samples_split=5, n_estimators=100;, score=0.837 total time=   0.2s\n",
      "[CV 3/5] END max_depth=10, min_samples_leaf=1, min_samples_split=5, n_estimators=100;, score=0.833 total time=   0.2s\n",
      "[CV 4/5] END max_depth=10, min_samples_leaf=1, min_samples_split=5, n_estimators=100;, score=0.762 total time=   0.2s\n",
      "[CV 5/5] END max_depth=10, min_samples_leaf=1, min_samples_split=5, n_estimators=100;, score=0.833 total time=   0.2s\n",
      "[CV 1/5] END max_depth=10, min_samples_leaf=1, min_samples_split=5, n_estimators=200;, score=0.860 total time=   0.6s\n",
      "[CV 2/5] END max_depth=10, min_samples_leaf=1, min_samples_split=5, n_estimators=200;, score=0.814 total time=   0.5s\n",
      "[CV 3/5] END max_depth=10, min_samples_leaf=1, min_samples_split=5, n_estimators=200;, score=0.881 total time=   0.6s\n",
      "[CV 4/5] END max_depth=10, min_samples_leaf=1, min_samples_split=5, n_estimators=200;, score=0.786 total time=   0.5s\n",
      "[CV 5/5] END max_depth=10, min_samples_leaf=1, min_samples_split=5, n_estimators=200;, score=0.833 total time=   0.5s\n",
      "[CV 1/5] END max_depth=10, min_samples_leaf=1, min_samples_split=5, n_estimators=300;, score=0.837 total time=   0.9s\n",
      "[CV 2/5] END max_depth=10, min_samples_leaf=1, min_samples_split=5, n_estimators=300;, score=0.837 total time=   0.8s\n",
      "[CV 3/5] END max_depth=10, min_samples_leaf=1, min_samples_split=5, n_estimators=300;, score=0.857 total time=   0.9s\n",
      "[CV 4/5] END max_depth=10, min_samples_leaf=1, min_samples_split=5, n_estimators=300;, score=0.762 total time=   0.8s\n",
      "[CV 5/5] END max_depth=10, min_samples_leaf=1, min_samples_split=5, n_estimators=300;, score=0.881 total time=   1.0s\n",
      "[CV 1/5] END max_depth=10, min_samples_leaf=1, min_samples_split=10, n_estimators=100;, score=0.837 total time=   0.2s\n",
      "[CV 2/5] END max_depth=10, min_samples_leaf=1, min_samples_split=10, n_estimators=100;, score=0.860 total time=   0.2s\n",
      "[CV 3/5] END max_depth=10, min_samples_leaf=1, min_samples_split=10, n_estimators=100;, score=0.857 total time=   0.3s\n",
      "[CV 4/5] END max_depth=10, min_samples_leaf=1, min_samples_split=10, n_estimators=100;, score=0.810 total time=   0.2s\n",
      "[CV 5/5] END max_depth=10, min_samples_leaf=1, min_samples_split=10, n_estimators=100;, score=0.881 total time=   0.2s\n",
      "[CV 1/5] END max_depth=10, min_samples_leaf=1, min_samples_split=10, n_estimators=200;, score=0.837 total time=   0.6s\n",
      "[CV 2/5] END max_depth=10, min_samples_leaf=1, min_samples_split=10, n_estimators=200;, score=0.791 total time=   0.5s\n",
      "[CV 3/5] END max_depth=10, min_samples_leaf=1, min_samples_split=10, n_estimators=200;, score=0.857 total time=   0.5s\n",
      "[CV 4/5] END max_depth=10, min_samples_leaf=1, min_samples_split=10, n_estimators=200;, score=0.786 total time=   0.5s\n",
      "[CV 5/5] END max_depth=10, min_samples_leaf=1, min_samples_split=10, n_estimators=200;, score=0.857 total time=   0.5s\n",
      "[CV 1/5] END max_depth=10, min_samples_leaf=1, min_samples_split=10, n_estimators=300;, score=0.837 total time=   0.9s\n",
      "[CV 2/5] END max_depth=10, min_samples_leaf=1, min_samples_split=10, n_estimators=300;, score=0.837 total time=   0.8s\n",
      "[CV 3/5] END max_depth=10, min_samples_leaf=1, min_samples_split=10, n_estimators=300;, score=0.833 total time=   0.9s\n",
      "[CV 4/5] END max_depth=10, min_samples_leaf=1, min_samples_split=10, n_estimators=300;, score=0.762 total time=   0.9s\n",
      "[CV 5/5] END max_depth=10, min_samples_leaf=1, min_samples_split=10, n_estimators=300;, score=0.857 total time=   0.9s\n",
      "[CV 1/5] END max_depth=10, min_samples_leaf=2, min_samples_split=2, n_estimators=100;, score=0.791 total time=   0.3s\n",
      "[CV 2/5] END max_depth=10, min_samples_leaf=2, min_samples_split=2, n_estimators=100;, score=0.814 total time=   0.2s\n",
      "[CV 3/5] END max_depth=10, min_samples_leaf=2, min_samples_split=2, n_estimators=100;, score=0.857 total time=   0.2s\n",
      "[CV 4/5] END max_depth=10, min_samples_leaf=2, min_samples_split=2, n_estimators=100;, score=0.833 total time=   0.3s\n",
      "[CV 5/5] END max_depth=10, min_samples_leaf=2, min_samples_split=2, n_estimators=100;, score=0.833 total time=   0.3s\n",
      "[CV 1/5] END max_depth=10, min_samples_leaf=2, min_samples_split=2, n_estimators=200;, score=0.860 total time=   0.6s\n",
      "[CV 2/5] END max_depth=10, min_samples_leaf=2, min_samples_split=2, n_estimators=200;, score=0.837 total time=   0.5s\n",
      "[CV 3/5] END max_depth=10, min_samples_leaf=2, min_samples_split=2, n_estimators=200;, score=0.833 total time=   0.5s\n",
      "[CV 4/5] END max_depth=10, min_samples_leaf=2, min_samples_split=2, n_estimators=200;, score=0.762 total time=   0.5s\n",
      "[CV 5/5] END max_depth=10, min_samples_leaf=2, min_samples_split=2, n_estimators=200;, score=0.857 total time=   0.5s\n",
      "[CV 1/5] END max_depth=10, min_samples_leaf=2, min_samples_split=2, n_estimators=300;, score=0.791 total time=   0.9s\n",
      "[CV 2/5] END max_depth=10, min_samples_leaf=2, min_samples_split=2, n_estimators=300;, score=0.837 total time=   0.8s\n",
      "[CV 3/5] END max_depth=10, min_samples_leaf=2, min_samples_split=2, n_estimators=300;, score=0.857 total time=   0.9s\n",
      "[CV 4/5] END max_depth=10, min_samples_leaf=2, min_samples_split=2, n_estimators=300;, score=0.810 total time=   1.0s\n",
      "[CV 5/5] END max_depth=10, min_samples_leaf=2, min_samples_split=2, n_estimators=300;, score=0.881 total time=   0.9s\n",
      "[CV 1/5] END max_depth=10, min_samples_leaf=2, min_samples_split=5, n_estimators=100;, score=0.860 total time=   0.2s\n",
      "[CV 2/5] END max_depth=10, min_samples_leaf=2, min_samples_split=5, n_estimators=100;, score=0.860 total time=   0.2s\n",
      "[CV 3/5] END max_depth=10, min_samples_leaf=2, min_samples_split=5, n_estimators=100;, score=0.857 total time=   0.3s\n",
      "[CV 4/5] END max_depth=10, min_samples_leaf=2, min_samples_split=5, n_estimators=100;, score=0.786 total time=   0.3s\n",
      "[CV 5/5] END max_depth=10, min_samples_leaf=2, min_samples_split=5, n_estimators=100;, score=0.881 total time=   0.4s\n",
      "[CV 1/5] END max_depth=10, min_samples_leaf=2, min_samples_split=5, n_estimators=200;, score=0.814 total time=   0.5s\n",
      "[CV 2/5] END max_depth=10, min_samples_leaf=2, min_samples_split=5, n_estimators=200;, score=0.860 total time=   0.5s\n",
      "[CV 3/5] END max_depth=10, min_samples_leaf=2, min_samples_split=5, n_estimators=200;, score=0.857 total time=   0.6s\n",
      "[CV 4/5] END max_depth=10, min_samples_leaf=2, min_samples_split=5, n_estimators=200;, score=0.786 total time=   0.7s\n",
      "[CV 5/5] END max_depth=10, min_samples_leaf=2, min_samples_split=5, n_estimators=200;, score=0.833 total time=   0.7s\n",
      "[CV 1/5] END max_depth=10, min_samples_leaf=2, min_samples_split=5, n_estimators=300;, score=0.860 total time=   0.9s\n",
      "[CV 2/5] END max_depth=10, min_samples_leaf=2, min_samples_split=5, n_estimators=300;, score=0.837 total time=   0.9s\n",
      "[CV 3/5] END max_depth=10, min_samples_leaf=2, min_samples_split=5, n_estimators=300;, score=0.857 total time=   1.2s\n",
      "[CV 4/5] END max_depth=10, min_samples_leaf=2, min_samples_split=5, n_estimators=300;, score=0.762 total time=   1.0s\n",
      "[CV 5/5] END max_depth=10, min_samples_leaf=2, min_samples_split=5, n_estimators=300;, score=0.833 total time=   0.9s\n",
      "[CV 1/5] END max_depth=10, min_samples_leaf=2, min_samples_split=10, n_estimators=100;, score=0.860 total time=   0.2s\n",
      "[CV 2/5] END max_depth=10, min_samples_leaf=2, min_samples_split=10, n_estimators=100;, score=0.837 total time=   0.2s\n",
      "[CV 3/5] END max_depth=10, min_samples_leaf=2, min_samples_split=10, n_estimators=100;, score=0.881 total time=   0.2s\n",
      "[CV 4/5] END max_depth=10, min_samples_leaf=2, min_samples_split=10, n_estimators=100;, score=0.762 total time=   0.2s\n",
      "[CV 5/5] END max_depth=10, min_samples_leaf=2, min_samples_split=10, n_estimators=100;, score=0.881 total time=   0.2s\n",
      "[CV 1/5] END max_depth=10, min_samples_leaf=2, min_samples_split=10, n_estimators=200;, score=0.860 total time=   0.5s\n",
      "[CV 2/5] END max_depth=10, min_samples_leaf=2, min_samples_split=10, n_estimators=200;, score=0.860 total time=   0.5s\n",
      "[CV 3/5] END max_depth=10, min_samples_leaf=2, min_samples_split=10, n_estimators=200;, score=0.857 total time=   0.5s\n",
      "[CV 4/5] END max_depth=10, min_samples_leaf=2, min_samples_split=10, n_estimators=200;, score=0.833 total time=   0.6s\n",
      "[CV 5/5] END max_depth=10, min_samples_leaf=2, min_samples_split=10, n_estimators=200;, score=0.881 total time=   0.6s\n",
      "[CV 1/5] END max_depth=10, min_samples_leaf=2, min_samples_split=10, n_estimators=300;, score=0.860 total time=   0.8s\n",
      "[CV 2/5] END max_depth=10, min_samples_leaf=2, min_samples_split=10, n_estimators=300;, score=0.837 total time=   0.8s\n",
      "[CV 3/5] END max_depth=10, min_samples_leaf=2, min_samples_split=10, n_estimators=300;, score=0.833 total time=   0.8s\n",
      "[CV 4/5] END max_depth=10, min_samples_leaf=2, min_samples_split=10, n_estimators=300;, score=0.786 total time=   0.8s\n",
      "[CV 5/5] END max_depth=10, min_samples_leaf=2, min_samples_split=10, n_estimators=300;, score=0.881 total time=   0.8s\n",
      "[CV 1/5] END max_depth=10, min_samples_leaf=4, min_samples_split=2, n_estimators=100;, score=0.884 total time=   0.2s\n",
      "[CV 2/5] END max_depth=10, min_samples_leaf=4, min_samples_split=2, n_estimators=100;, score=0.860 total time=   0.2s\n",
      "[CV 3/5] END max_depth=10, min_samples_leaf=4, min_samples_split=2, n_estimators=100;, score=0.857 total time=   0.2s\n",
      "[CV 4/5] END max_depth=10, min_samples_leaf=4, min_samples_split=2, n_estimators=100;, score=0.786 total time=   0.2s\n",
      "[CV 5/5] END max_depth=10, min_samples_leaf=4, min_samples_split=2, n_estimators=100;, score=0.857 total time=   0.2s\n",
      "[CV 1/5] END max_depth=10, min_samples_leaf=4, min_samples_split=2, n_estimators=200;, score=0.837 total time=   0.5s\n",
      "[CV 2/5] END max_depth=10, min_samples_leaf=4, min_samples_split=2, n_estimators=200;, score=0.814 total time=   0.6s\n",
      "[CV 3/5] END max_depth=10, min_samples_leaf=4, min_samples_split=2, n_estimators=200;, score=0.857 total time=   0.5s\n",
      "[CV 4/5] END max_depth=10, min_samples_leaf=4, min_samples_split=2, n_estimators=200;, score=0.810 total time=   0.5s\n",
      "[CV 5/5] END max_depth=10, min_samples_leaf=4, min_samples_split=2, n_estimators=200;, score=0.857 total time=   0.6s\n",
      "[CV 1/5] END max_depth=10, min_samples_leaf=4, min_samples_split=2, n_estimators=300;, score=0.837 total time=   0.9s\n",
      "[CV 2/5] END max_depth=10, min_samples_leaf=4, min_samples_split=2, n_estimators=300;, score=0.837 total time=   0.8s\n",
      "[CV 3/5] END max_depth=10, min_samples_leaf=4, min_samples_split=2, n_estimators=300;, score=0.857 total time=   0.9s\n",
      "[CV 4/5] END max_depth=10, min_samples_leaf=4, min_samples_split=2, n_estimators=300;, score=0.762 total time=   0.9s\n",
      "[CV 5/5] END max_depth=10, min_samples_leaf=4, min_samples_split=2, n_estimators=300;, score=0.857 total time=   0.9s\n",
      "[CV 1/5] END max_depth=10, min_samples_leaf=4, min_samples_split=5, n_estimators=100;, score=0.791 total time=   0.2s\n",
      "[CV 2/5] END max_depth=10, min_samples_leaf=4, min_samples_split=5, n_estimators=100;, score=0.837 total time=   0.2s\n",
      "[CV 3/5] END max_depth=10, min_samples_leaf=4, min_samples_split=5, n_estimators=100;, score=0.881 total time=   0.2s\n",
      "[CV 4/5] END max_depth=10, min_samples_leaf=4, min_samples_split=5, n_estimators=100;, score=0.762 total time=   0.2s\n",
      "[CV 5/5] END max_depth=10, min_samples_leaf=4, min_samples_split=5, n_estimators=100;, score=0.857 total time=   0.2s\n",
      "[CV 1/5] END max_depth=10, min_samples_leaf=4, min_samples_split=5, n_estimators=200;, score=0.837 total time=   0.5s\n",
      "[CV 2/5] END max_depth=10, min_samples_leaf=4, min_samples_split=5, n_estimators=200;, score=0.814 total time=   0.5s\n",
      "[CV 3/5] END max_depth=10, min_samples_leaf=4, min_samples_split=5, n_estimators=200;, score=0.833 total time=   0.5s\n",
      "[CV 4/5] END max_depth=10, min_samples_leaf=4, min_samples_split=5, n_estimators=200;, score=0.786 total time=   0.5s\n",
      "[CV 5/5] END max_depth=10, min_samples_leaf=4, min_samples_split=5, n_estimators=200;, score=0.857 total time=   0.5s\n",
      "[CV 1/5] END max_depth=10, min_samples_leaf=4, min_samples_split=5, n_estimators=300;, score=0.837 total time=   0.9s\n",
      "[CV 2/5] END max_depth=10, min_samples_leaf=4, min_samples_split=5, n_estimators=300;, score=0.837 total time=   0.8s\n",
      "[CV 3/5] END max_depth=10, min_samples_leaf=4, min_samples_split=5, n_estimators=300;, score=0.857 total time=   0.9s\n",
      "[CV 4/5] END max_depth=10, min_samples_leaf=4, min_samples_split=5, n_estimators=300;, score=0.810 total time=   0.8s\n",
      "[CV 5/5] END max_depth=10, min_samples_leaf=4, min_samples_split=5, n_estimators=300;, score=0.857 total time=   0.8s\n",
      "[CV 1/5] END max_depth=10, min_samples_leaf=4, min_samples_split=10, n_estimators=100;, score=0.814 total time=   0.2s\n",
      "[CV 2/5] END max_depth=10, min_samples_leaf=4, min_samples_split=10, n_estimators=100;, score=0.837 total time=   0.2s\n",
      "[CV 3/5] END max_depth=10, min_samples_leaf=4, min_samples_split=10, n_estimators=100;, score=0.905 total time=   0.2s\n",
      "[CV 4/5] END max_depth=10, min_samples_leaf=4, min_samples_split=10, n_estimators=100;, score=0.786 total time=   0.2s\n",
      "[CV 5/5] END max_depth=10, min_samples_leaf=4, min_samples_split=10, n_estimators=100;, score=0.881 total time=   0.2s\n",
      "[CV 1/5] END max_depth=10, min_samples_leaf=4, min_samples_split=10, n_estimators=200;, score=0.860 total time=   0.5s\n",
      "[CV 2/5] END max_depth=10, min_samples_leaf=4, min_samples_split=10, n_estimators=200;, score=0.837 total time=   0.5s\n",
      "[CV 3/5] END max_depth=10, min_samples_leaf=4, min_samples_split=10, n_estimators=200;, score=0.857 total time=   0.5s\n",
      "[CV 4/5] END max_depth=10, min_samples_leaf=4, min_samples_split=10, n_estimators=200;, score=0.833 total time=   0.5s\n",
      "[CV 5/5] END max_depth=10, min_samples_leaf=4, min_samples_split=10, n_estimators=200;, score=0.833 total time=   0.6s\n",
      "[CV 1/5] END max_depth=10, min_samples_leaf=4, min_samples_split=10, n_estimators=300;, score=0.860 total time=   1.0s\n",
      "[CV 2/5] END max_depth=10, min_samples_leaf=4, min_samples_split=10, n_estimators=300;, score=0.837 total time=   1.0s\n",
      "[CV 3/5] END max_depth=10, min_samples_leaf=4, min_samples_split=10, n_estimators=300;, score=0.833 total time=   0.8s\n",
      "[CV 4/5] END max_depth=10, min_samples_leaf=4, min_samples_split=10, n_estimators=300;, score=0.786 total time=   0.8s\n",
      "[CV 5/5] END max_depth=10, min_samples_leaf=4, min_samples_split=10, n_estimators=300;, score=0.857 total time=   0.8s\n",
      "[CV 1/5] END max_depth=20, min_samples_leaf=1, min_samples_split=2, n_estimators=100;, score=0.814 total time=   0.2s\n",
      "[CV 2/5] END max_depth=20, min_samples_leaf=1, min_samples_split=2, n_estimators=100;, score=0.814 total time=   0.2s\n",
      "[CV 3/5] END max_depth=20, min_samples_leaf=1, min_samples_split=2, n_estimators=100;, score=0.857 total time=   0.3s\n",
      "[CV 4/5] END max_depth=20, min_samples_leaf=1, min_samples_split=2, n_estimators=100;, score=0.762 total time=   0.2s\n",
      "[CV 5/5] END max_depth=20, min_samples_leaf=1, min_samples_split=2, n_estimators=100;, score=0.881 total time=   0.3s\n",
      "[CV 1/5] END max_depth=20, min_samples_leaf=1, min_samples_split=2, n_estimators=200;, score=0.767 total time=   0.8s\n",
      "[CV 2/5] END max_depth=20, min_samples_leaf=1, min_samples_split=2, n_estimators=200;, score=0.837 total time=   0.6s\n",
      "[CV 3/5] END max_depth=20, min_samples_leaf=1, min_samples_split=2, n_estimators=200;, score=0.857 total time=   0.6s\n",
      "[CV 4/5] END max_depth=20, min_samples_leaf=1, min_samples_split=2, n_estimators=200;, score=0.810 total time=   0.6s\n",
      "[CV 5/5] END max_depth=20, min_samples_leaf=1, min_samples_split=2, n_estimators=200;, score=0.833 total time=   0.5s\n",
      "[CV 1/5] END max_depth=20, min_samples_leaf=1, min_samples_split=2, n_estimators=300;, score=0.837 total time=   0.8s\n",
      "[CV 2/5] END max_depth=20, min_samples_leaf=1, min_samples_split=2, n_estimators=300;, score=0.860 total time=   1.1s\n",
      "[CV 3/5] END max_depth=20, min_samples_leaf=1, min_samples_split=2, n_estimators=300;, score=0.881 total time=   0.9s\n",
      "[CV 4/5] END max_depth=20, min_samples_leaf=1, min_samples_split=2, n_estimators=300;, score=0.786 total time=   1.0s\n",
      "[CV 5/5] END max_depth=20, min_samples_leaf=1, min_samples_split=2, n_estimators=300;, score=0.881 total time=   1.0s\n",
      "[CV 1/5] END max_depth=20, min_samples_leaf=1, min_samples_split=5, n_estimators=100;, score=0.814 total time=   0.2s\n",
      "[CV 2/5] END max_depth=20, min_samples_leaf=1, min_samples_split=5, n_estimators=100;, score=0.791 total time=   0.2s\n",
      "[CV 3/5] END max_depth=20, min_samples_leaf=1, min_samples_split=5, n_estimators=100;, score=0.833 total time=   0.2s\n",
      "[CV 4/5] END max_depth=20, min_samples_leaf=1, min_samples_split=5, n_estimators=100;, score=0.762 total time=   0.2s\n",
      "[CV 5/5] END max_depth=20, min_samples_leaf=1, min_samples_split=5, n_estimators=100;, score=0.857 total time=   0.3s\n",
      "[CV 1/5] END max_depth=20, min_samples_leaf=1, min_samples_split=5, n_estimators=200;, score=0.860 total time=   0.5s\n",
      "[CV 2/5] END max_depth=20, min_samples_leaf=1, min_samples_split=5, n_estimators=200;, score=0.837 total time=   0.5s\n",
      "[CV 3/5] END max_depth=20, min_samples_leaf=1, min_samples_split=5, n_estimators=200;, score=0.881 total time=   0.5s\n",
      "[CV 4/5] END max_depth=20, min_samples_leaf=1, min_samples_split=5, n_estimators=200;, score=0.762 total time=   0.6s\n",
      "[CV 5/5] END max_depth=20, min_samples_leaf=1, min_samples_split=5, n_estimators=200;, score=0.833 total time=   0.5s\n",
      "[CV 1/5] END max_depth=20, min_samples_leaf=1, min_samples_split=5, n_estimators=300;, score=0.837 total time=   0.8s\n",
      "[CV 2/5] END max_depth=20, min_samples_leaf=1, min_samples_split=5, n_estimators=300;, score=0.837 total time=   0.8s\n",
      "[CV 3/5] END max_depth=20, min_samples_leaf=1, min_samples_split=5, n_estimators=300;, score=0.857 total time=   0.8s\n",
      "[CV 4/5] END max_depth=20, min_samples_leaf=1, min_samples_split=5, n_estimators=300;, score=0.762 total time=   0.9s\n",
      "[CV 5/5] END max_depth=20, min_samples_leaf=1, min_samples_split=5, n_estimators=300;, score=0.833 total time=   0.8s\n",
      "[CV 1/5] END max_depth=20, min_samples_leaf=1, min_samples_split=10, n_estimators=100;, score=0.837 total time=   0.3s\n",
      "[CV 2/5] END max_depth=20, min_samples_leaf=1, min_samples_split=10, n_estimators=100;, score=0.837 total time=   0.2s\n",
      "[CV 3/5] END max_depth=20, min_samples_leaf=1, min_samples_split=10, n_estimators=100;, score=0.833 total time=   0.2s\n",
      "[CV 4/5] END max_depth=20, min_samples_leaf=1, min_samples_split=10, n_estimators=100;, score=0.786 total time=   0.2s\n",
      "[CV 5/5] END max_depth=20, min_samples_leaf=1, min_samples_split=10, n_estimators=100;, score=0.881 total time=   0.2s\n",
      "[CV 1/5] END max_depth=20, min_samples_leaf=1, min_samples_split=10, n_estimators=200;, score=0.837 total time=   0.5s\n",
      "[CV 2/5] END max_depth=20, min_samples_leaf=1, min_samples_split=10, n_estimators=200;, score=0.837 total time=   0.5s\n",
      "[CV 3/5] END max_depth=20, min_samples_leaf=1, min_samples_split=10, n_estimators=200;, score=0.833 total time=   0.5s\n",
      "[CV 4/5] END max_depth=20, min_samples_leaf=1, min_samples_split=10, n_estimators=200;, score=0.786 total time=   0.5s\n",
      "[CV 5/5] END max_depth=20, min_samples_leaf=1, min_samples_split=10, n_estimators=200;, score=0.881 total time=   0.5s\n",
      "[CV 1/5] END max_depth=20, min_samples_leaf=1, min_samples_split=10, n_estimators=300;, score=0.837 total time=   0.8s\n",
      "[CV 2/5] END max_depth=20, min_samples_leaf=1, min_samples_split=10, n_estimators=300;, score=0.837 total time=   0.8s\n",
      "[CV 3/5] END max_depth=20, min_samples_leaf=1, min_samples_split=10, n_estimators=300;, score=0.833 total time=   0.9s\n",
      "[CV 4/5] END max_depth=20, min_samples_leaf=1, min_samples_split=10, n_estimators=300;, score=0.762 total time=   0.8s\n",
      "[CV 5/5] END max_depth=20, min_samples_leaf=1, min_samples_split=10, n_estimators=300;, score=0.857 total time=   0.8s\n",
      "[CV 1/5] END max_depth=20, min_samples_leaf=2, min_samples_split=2, n_estimators=100;, score=0.814 total time=   0.2s\n",
      "[CV 2/5] END max_depth=20, min_samples_leaf=2, min_samples_split=2, n_estimators=100;, score=0.860 total time=   0.3s\n",
      "[CV 3/5] END max_depth=20, min_samples_leaf=2, min_samples_split=2, n_estimators=100;, score=0.857 total time=   0.2s\n",
      "[CV 4/5] END max_depth=20, min_samples_leaf=2, min_samples_split=2, n_estimators=100;, score=0.762 total time=   0.2s\n",
      "[CV 5/5] END max_depth=20, min_samples_leaf=2, min_samples_split=2, n_estimators=100;, score=0.857 total time=   0.3s\n",
      "[CV 1/5] END max_depth=20, min_samples_leaf=2, min_samples_split=2, n_estimators=200;, score=0.791 total time=   0.5s\n",
      "[CV 2/5] END max_depth=20, min_samples_leaf=2, min_samples_split=2, n_estimators=200;, score=0.837 total time=   0.6s\n",
      "[CV 3/5] END max_depth=20, min_samples_leaf=2, min_samples_split=2, n_estimators=200;, score=0.857 total time=   0.6s\n",
      "[CV 4/5] END max_depth=20, min_samples_leaf=2, min_samples_split=2, n_estimators=200;, score=0.810 total time=   0.6s\n",
      "[CV 5/5] END max_depth=20, min_samples_leaf=2, min_samples_split=2, n_estimators=200;, score=0.810 total time=   0.5s\n",
      "[CV 1/5] END max_depth=20, min_samples_leaf=2, min_samples_split=2, n_estimators=300;, score=0.837 total time=   0.8s\n",
      "[CV 2/5] END max_depth=20, min_samples_leaf=2, min_samples_split=2, n_estimators=300;, score=0.837 total time=   0.9s\n",
      "[CV 3/5] END max_depth=20, min_samples_leaf=2, min_samples_split=2, n_estimators=300;, score=0.857 total time=   0.8s\n",
      "[CV 4/5] END max_depth=20, min_samples_leaf=2, min_samples_split=2, n_estimators=300;, score=0.762 total time=   0.9s\n",
      "[CV 5/5] END max_depth=20, min_samples_leaf=2, min_samples_split=2, n_estimators=300;, score=0.857 total time=   0.9s\n",
      "[CV 1/5] END max_depth=20, min_samples_leaf=2, min_samples_split=5, n_estimators=100;, score=0.767 total time=   0.2s\n",
      "[CV 2/5] END max_depth=20, min_samples_leaf=2, min_samples_split=5, n_estimators=100;, score=0.860 total time=   0.2s\n",
      "[CV 3/5] END max_depth=20, min_samples_leaf=2, min_samples_split=5, n_estimators=100;, score=0.857 total time=   0.3s\n",
      "[CV 4/5] END max_depth=20, min_samples_leaf=2, min_samples_split=5, n_estimators=100;, score=0.786 total time=   0.2s\n",
      "[CV 5/5] END max_depth=20, min_samples_leaf=2, min_samples_split=5, n_estimators=100;, score=0.833 total time=   0.3s\n",
      "[CV 1/5] END max_depth=20, min_samples_leaf=2, min_samples_split=5, n_estimators=200;, score=0.860 total time=   0.5s\n",
      "[CV 2/5] END max_depth=20, min_samples_leaf=2, min_samples_split=5, n_estimators=200;, score=0.837 total time=   0.6s\n",
      "[CV 3/5] END max_depth=20, min_samples_leaf=2, min_samples_split=5, n_estimators=200;, score=0.857 total time=   0.5s\n",
      "[CV 4/5] END max_depth=20, min_samples_leaf=2, min_samples_split=5, n_estimators=200;, score=0.762 total time=   0.5s\n",
      "[CV 5/5] END max_depth=20, min_samples_leaf=2, min_samples_split=5, n_estimators=200;, score=0.881 total time=   0.5s\n",
      "[CV 1/5] END max_depth=20, min_samples_leaf=2, min_samples_split=5, n_estimators=300;, score=0.837 total time=   0.8s\n",
      "[CV 2/5] END max_depth=20, min_samples_leaf=2, min_samples_split=5, n_estimators=300;, score=0.837 total time=   0.9s\n",
      "[CV 3/5] END max_depth=20, min_samples_leaf=2, min_samples_split=5, n_estimators=300;, score=0.857 total time=   1.1s\n",
      "[CV 4/5] END max_depth=20, min_samples_leaf=2, min_samples_split=5, n_estimators=300;, score=0.762 total time=   0.9s\n",
      "[CV 5/5] END max_depth=20, min_samples_leaf=2, min_samples_split=5, n_estimators=300;, score=0.905 total time=   0.8s\n",
      "[CV 1/5] END max_depth=20, min_samples_leaf=2, min_samples_split=10, n_estimators=100;, score=0.860 total time=   0.2s\n",
      "[CV 2/5] END max_depth=20, min_samples_leaf=2, min_samples_split=10, n_estimators=100;, score=0.860 total time=   0.2s\n",
      "[CV 3/5] END max_depth=20, min_samples_leaf=2, min_samples_split=10, n_estimators=100;, score=0.833 total time=   0.2s\n",
      "[CV 4/5] END max_depth=20, min_samples_leaf=2, min_samples_split=10, n_estimators=100;, score=0.738 total time=   0.2s\n",
      "[CV 5/5] END max_depth=20, min_samples_leaf=2, min_samples_split=10, n_estimators=100;, score=0.857 total time=   0.2s\n",
      "[CV 1/5] END max_depth=20, min_samples_leaf=2, min_samples_split=10, n_estimators=200;, score=0.884 total time=   0.5s\n",
      "[CV 2/5] END max_depth=20, min_samples_leaf=2, min_samples_split=10, n_estimators=200;, score=0.814 total time=   0.6s\n",
      "[CV 3/5] END max_depth=20, min_samples_leaf=2, min_samples_split=10, n_estimators=200;, score=0.857 total time=   0.5s\n",
      "[CV 4/5] END max_depth=20, min_samples_leaf=2, min_samples_split=10, n_estimators=200;, score=0.762 total time=   0.5s\n",
      "[CV 5/5] END max_depth=20, min_samples_leaf=2, min_samples_split=10, n_estimators=200;, score=0.857 total time=   0.5s\n",
      "[CV 1/5] END max_depth=20, min_samples_leaf=2, min_samples_split=10, n_estimators=300;, score=0.837 total time=   0.9s\n",
      "[CV 2/5] END max_depth=20, min_samples_leaf=2, min_samples_split=10, n_estimators=300;, score=0.814 total time=   0.8s\n",
      "[CV 3/5] END max_depth=20, min_samples_leaf=2, min_samples_split=10, n_estimators=300;, score=0.857 total time=   0.8s\n",
      "[CV 4/5] END max_depth=20, min_samples_leaf=2, min_samples_split=10, n_estimators=300;, score=0.762 total time=   0.8s\n",
      "[CV 5/5] END max_depth=20, min_samples_leaf=2, min_samples_split=10, n_estimators=300;, score=0.881 total time=   1.0s\n",
      "[CV 1/5] END max_depth=20, min_samples_leaf=4, min_samples_split=2, n_estimators=100;, score=0.837 total time=   0.3s\n",
      "[CV 2/5] END max_depth=20, min_samples_leaf=4, min_samples_split=2, n_estimators=100;, score=0.814 total time=   0.3s\n",
      "[CV 3/5] END max_depth=20, min_samples_leaf=4, min_samples_split=2, n_estimators=100;, score=0.881 total time=   0.2s\n",
      "[CV 4/5] END max_depth=20, min_samples_leaf=4, min_samples_split=2, n_estimators=100;, score=0.810 total time=   0.2s\n",
      "[CV 5/5] END max_depth=20, min_samples_leaf=4, min_samples_split=2, n_estimators=100;, score=0.810 total time=   0.2s\n",
      "[CV 1/5] END max_depth=20, min_samples_leaf=4, min_samples_split=2, n_estimators=200;, score=0.860 total time=   0.7s\n",
      "[CV 2/5] END max_depth=20, min_samples_leaf=4, min_samples_split=2, n_estimators=200;, score=0.814 total time=   0.6s\n",
      "[CV 3/5] END max_depth=20, min_samples_leaf=4, min_samples_split=2, n_estimators=200;, score=0.833 total time=   0.5s\n",
      "[CV 4/5] END max_depth=20, min_samples_leaf=4, min_samples_split=2, n_estimators=200;, score=0.762 total time=   0.5s\n",
      "[CV 5/5] END max_depth=20, min_samples_leaf=4, min_samples_split=2, n_estimators=200;, score=0.857 total time=   0.5s\n",
      "[CV 1/5] END max_depth=20, min_samples_leaf=4, min_samples_split=2, n_estimators=300;, score=0.860 total time=   0.8s\n",
      "[CV 2/5] END max_depth=20, min_samples_leaf=4, min_samples_split=2, n_estimators=300;, score=0.837 total time=   0.8s\n",
      "[CV 3/5] END max_depth=20, min_samples_leaf=4, min_samples_split=2, n_estimators=300;, score=0.881 total time=   0.8s\n",
      "[CV 4/5] END max_depth=20, min_samples_leaf=4, min_samples_split=2, n_estimators=300;, score=0.762 total time=   0.8s\n",
      "[CV 5/5] END max_depth=20, min_samples_leaf=4, min_samples_split=2, n_estimators=300;, score=0.881 total time=   0.8s\n",
      "[CV 1/5] END max_depth=20, min_samples_leaf=4, min_samples_split=5, n_estimators=100;, score=0.837 total time=   0.3s\n",
      "[CV 2/5] END max_depth=20, min_samples_leaf=4, min_samples_split=5, n_estimators=100;, score=0.814 total time=   0.3s\n",
      "[CV 3/5] END max_depth=20, min_samples_leaf=4, min_samples_split=5, n_estimators=100;, score=0.857 total time=   0.2s\n",
      "[CV 4/5] END max_depth=20, min_samples_leaf=4, min_samples_split=5, n_estimators=100;, score=0.786 total time=   0.2s\n",
      "[CV 5/5] END max_depth=20, min_samples_leaf=4, min_samples_split=5, n_estimators=100;, score=0.905 total time=   0.3s\n",
      "[CV 1/5] END max_depth=20, min_samples_leaf=4, min_samples_split=5, n_estimators=200;, score=0.837 total time=   0.6s\n",
      "[CV 2/5] END max_depth=20, min_samples_leaf=4, min_samples_split=5, n_estimators=200;, score=0.814 total time=   0.6s\n",
      "[CV 3/5] END max_depth=20, min_samples_leaf=4, min_samples_split=5, n_estimators=200;, score=0.857 total time=   0.5s\n",
      "[CV 4/5] END max_depth=20, min_samples_leaf=4, min_samples_split=5, n_estimators=200;, score=0.786 total time=   0.5s\n",
      "[CV 5/5] END max_depth=20, min_samples_leaf=4, min_samples_split=5, n_estimators=200;, score=0.881 total time=   0.7s\n",
      "[CV 1/5] END max_depth=20, min_samples_leaf=4, min_samples_split=5, n_estimators=300;, score=0.837 total time=   0.9s\n",
      "[CV 2/5] END max_depth=20, min_samples_leaf=4, min_samples_split=5, n_estimators=300;, score=0.837 total time=   1.0s\n",
      "[CV 3/5] END max_depth=20, min_samples_leaf=4, min_samples_split=5, n_estimators=300;, score=0.881 total time=   0.9s\n",
      "[CV 4/5] END max_depth=20, min_samples_leaf=4, min_samples_split=5, n_estimators=300;, score=0.786 total time=   0.9s\n",
      "[CV 5/5] END max_depth=20, min_samples_leaf=4, min_samples_split=5, n_estimators=300;, score=0.857 total time=   1.2s\n",
      "[CV 1/5] END max_depth=20, min_samples_leaf=4, min_samples_split=10, n_estimators=100;, score=0.837 total time=   0.2s\n",
      "[CV 2/5] END max_depth=20, min_samples_leaf=4, min_samples_split=10, n_estimators=100;, score=0.837 total time=   0.2s\n",
      "[CV 3/5] END max_depth=20, min_samples_leaf=4, min_samples_split=10, n_estimators=100;, score=0.881 total time=   0.2s\n",
      "[CV 4/5] END max_depth=20, min_samples_leaf=4, min_samples_split=10, n_estimators=100;, score=0.738 total time=   0.2s\n",
      "[CV 5/5] END max_depth=20, min_samples_leaf=4, min_samples_split=10, n_estimators=100;, score=0.857 total time=   0.2s\n",
      "[CV 1/5] END max_depth=20, min_samples_leaf=4, min_samples_split=10, n_estimators=200;, score=0.837 total time=   0.6s\n",
      "[CV 2/5] END max_depth=20, min_samples_leaf=4, min_samples_split=10, n_estimators=200;, score=0.837 total time=   0.5s\n",
      "[CV 3/5] END max_depth=20, min_samples_leaf=4, min_samples_split=10, n_estimators=200;, score=0.881 total time=   0.5s\n",
      "[CV 4/5] END max_depth=20, min_samples_leaf=4, min_samples_split=10, n_estimators=200;, score=0.833 total time=   0.5s\n",
      "[CV 5/5] END max_depth=20, min_samples_leaf=4, min_samples_split=10, n_estimators=200;, score=0.881 total time=   0.5s\n",
      "[CV 1/5] END max_depth=20, min_samples_leaf=4, min_samples_split=10, n_estimators=300;, score=0.837 total time=   0.8s\n",
      "[CV 2/5] END max_depth=20, min_samples_leaf=4, min_samples_split=10, n_estimators=300;, score=0.814 total time=   0.9s\n",
      "[CV 3/5] END max_depth=20, min_samples_leaf=4, min_samples_split=10, n_estimators=300;, score=0.857 total time=   0.8s\n",
      "[CV 4/5] END max_depth=20, min_samples_leaf=4, min_samples_split=10, n_estimators=300;, score=0.810 total time=   0.8s\n",
      "[CV 5/5] END max_depth=20, min_samples_leaf=4, min_samples_split=10, n_estimators=300;, score=0.833 total time=   0.9s\n",
      "[CV 1/5] END max_depth=30, min_samples_leaf=1, min_samples_split=2, n_estimators=100;, score=0.814 total time=   0.2s\n",
      "[CV 2/5] END max_depth=30, min_samples_leaf=1, min_samples_split=2, n_estimators=100;, score=0.814 total time=   0.3s\n",
      "[CV 3/5] END max_depth=30, min_samples_leaf=1, min_samples_split=2, n_estimators=100;, score=0.857 total time=   0.2s\n",
      "[CV 4/5] END max_depth=30, min_samples_leaf=1, min_samples_split=2, n_estimators=100;, score=0.762 total time=   0.2s\n",
      "[CV 5/5] END max_depth=30, min_samples_leaf=1, min_samples_split=2, n_estimators=100;, score=0.833 total time=   0.3s\n",
      "[CV 1/5] END max_depth=30, min_samples_leaf=1, min_samples_split=2, n_estimators=200;, score=0.791 total time=   0.5s\n",
      "[CV 2/5] END max_depth=30, min_samples_leaf=1, min_samples_split=2, n_estimators=200;, score=0.837 total time=   0.6s\n",
      "[CV 3/5] END max_depth=30, min_samples_leaf=1, min_samples_split=2, n_estimators=200;, score=0.857 total time=   0.6s\n",
      "[CV 4/5] END max_depth=30, min_samples_leaf=1, min_samples_split=2, n_estimators=200;, score=0.762 total time=   0.6s\n",
      "[CV 5/5] END max_depth=30, min_samples_leaf=1, min_samples_split=2, n_estimators=200;, score=0.833 total time=   0.5s\n",
      "[CV 1/5] END max_depth=30, min_samples_leaf=1, min_samples_split=2, n_estimators=300;, score=0.814 total time=   0.9s\n",
      "[CV 2/5] END max_depth=30, min_samples_leaf=1, min_samples_split=2, n_estimators=300;, score=0.837 total time=   0.9s\n",
      "[CV 3/5] END max_depth=30, min_samples_leaf=1, min_samples_split=2, n_estimators=300;, score=0.833 total time=   0.9s\n",
      "[CV 4/5] END max_depth=30, min_samples_leaf=1, min_samples_split=2, n_estimators=300;, score=0.762 total time=   0.8s\n",
      "[CV 5/5] END max_depth=30, min_samples_leaf=1, min_samples_split=2, n_estimators=300;, score=0.810 total time=   0.8s\n",
      "[CV 1/5] END max_depth=30, min_samples_leaf=1, min_samples_split=5, n_estimators=100;, score=0.814 total time=   0.3s\n",
      "[CV 2/5] END max_depth=30, min_samples_leaf=1, min_samples_split=5, n_estimators=100;, score=0.837 total time=   0.3s\n",
      "[CV 3/5] END max_depth=30, min_samples_leaf=1, min_samples_split=5, n_estimators=100;, score=0.857 total time=   0.3s\n",
      "[CV 4/5] END max_depth=30, min_samples_leaf=1, min_samples_split=5, n_estimators=100;, score=0.786 total time=   0.2s\n",
      "[CV 5/5] END max_depth=30, min_samples_leaf=1, min_samples_split=5, n_estimators=100;, score=0.857 total time=   0.2s\n",
      "[CV 1/5] END max_depth=30, min_samples_leaf=1, min_samples_split=5, n_estimators=200;, score=0.837 total time=   0.5s\n",
      "[CV 2/5] END max_depth=30, min_samples_leaf=1, min_samples_split=5, n_estimators=200;, score=0.860 total time=   0.5s\n",
      "[CV 3/5] END max_depth=30, min_samples_leaf=1, min_samples_split=5, n_estimators=200;, score=0.857 total time=   0.5s\n",
      "[CV 4/5] END max_depth=30, min_samples_leaf=1, min_samples_split=5, n_estimators=200;, score=0.762 total time=   0.5s\n",
      "[CV 5/5] END max_depth=30, min_samples_leaf=1, min_samples_split=5, n_estimators=200;, score=0.881 total time=   0.5s\n",
      "[CV 1/5] END max_depth=30, min_samples_leaf=1, min_samples_split=5, n_estimators=300;, score=0.814 total time=   0.8s\n",
      "[CV 2/5] END max_depth=30, min_samples_leaf=1, min_samples_split=5, n_estimators=300;, score=0.837 total time=   0.8s\n",
      "[CV 3/5] END max_depth=30, min_samples_leaf=1, min_samples_split=5, n_estimators=300;, score=0.881 total time=   0.9s\n",
      "[CV 4/5] END max_depth=30, min_samples_leaf=1, min_samples_split=5, n_estimators=300;, score=0.762 total time=   0.9s\n",
      "[CV 5/5] END max_depth=30, min_samples_leaf=1, min_samples_split=5, n_estimators=300;, score=0.833 total time=   1.0s\n",
      "[CV 1/5] END max_depth=30, min_samples_leaf=1, min_samples_split=10, n_estimators=100;, score=0.767 total time=   0.2s\n",
      "[CV 2/5] END max_depth=30, min_samples_leaf=1, min_samples_split=10, n_estimators=100;, score=0.860 total time=   0.2s\n",
      "[CV 3/5] END max_depth=30, min_samples_leaf=1, min_samples_split=10, n_estimators=100;, score=0.833 total time=   0.2s\n",
      "[CV 4/5] END max_depth=30, min_samples_leaf=1, min_samples_split=10, n_estimators=100;, score=0.762 total time=   0.2s\n",
      "[CV 5/5] END max_depth=30, min_samples_leaf=1, min_samples_split=10, n_estimators=100;, score=0.810 total time=   0.2s\n",
      "[CV 1/5] END max_depth=30, min_samples_leaf=1, min_samples_split=10, n_estimators=200;, score=0.837 total time=   0.5s\n",
      "[CV 2/5] END max_depth=30, min_samples_leaf=1, min_samples_split=10, n_estimators=200;, score=0.860 total time=   0.5s\n",
      "[CV 3/5] END max_depth=30, min_samples_leaf=1, min_samples_split=10, n_estimators=200;, score=0.857 total time=   0.5s\n",
      "[CV 4/5] END max_depth=30, min_samples_leaf=1, min_samples_split=10, n_estimators=200;, score=0.762 total time=   0.5s\n",
      "[CV 5/5] END max_depth=30, min_samples_leaf=1, min_samples_split=10, n_estimators=200;, score=0.833 total time=   0.5s\n",
      "[CV 1/5] END max_depth=30, min_samples_leaf=1, min_samples_split=10, n_estimators=300;, score=0.837 total time=   0.9s\n",
      "[CV 2/5] END max_depth=30, min_samples_leaf=1, min_samples_split=10, n_estimators=300;, score=0.837 total time=   0.9s\n",
      "[CV 3/5] END max_depth=30, min_samples_leaf=1, min_samples_split=10, n_estimators=300;, score=0.833 total time=   0.8s\n",
      "[CV 4/5] END max_depth=30, min_samples_leaf=1, min_samples_split=10, n_estimators=300;, score=0.786 total time=   0.9s\n",
      "[CV 5/5] END max_depth=30, min_samples_leaf=1, min_samples_split=10, n_estimators=300;, score=0.857 total time=   0.9s\n",
      "[CV 1/5] END max_depth=30, min_samples_leaf=2, min_samples_split=2, n_estimators=100;, score=0.837 total time=   0.3s\n",
      "[CV 2/5] END max_depth=30, min_samples_leaf=2, min_samples_split=2, n_estimators=100;, score=0.814 total time=   0.2s\n",
      "[CV 3/5] END max_depth=30, min_samples_leaf=2, min_samples_split=2, n_estimators=100;, score=0.833 total time=   0.2s\n",
      "[CV 4/5] END max_depth=30, min_samples_leaf=2, min_samples_split=2, n_estimators=100;, score=0.762 total time=   0.2s\n",
      "[CV 5/5] END max_depth=30, min_samples_leaf=2, min_samples_split=2, n_estimators=100;, score=0.881 total time=   0.2s\n",
      "[CV 1/5] END max_depth=30, min_samples_leaf=2, min_samples_split=2, n_estimators=200;, score=0.837 total time=   0.5s\n",
      "[CV 2/5] END max_depth=30, min_samples_leaf=2, min_samples_split=2, n_estimators=200;, score=0.837 total time=   0.5s\n",
      "[CV 3/5] END max_depth=30, min_samples_leaf=2, min_samples_split=2, n_estimators=200;, score=0.881 total time=   0.5s\n",
      "[CV 4/5] END max_depth=30, min_samples_leaf=2, min_samples_split=2, n_estimators=200;, score=0.810 total time=   0.5s\n",
      "[CV 5/5] END max_depth=30, min_samples_leaf=2, min_samples_split=2, n_estimators=200;, score=0.857 total time=   0.5s\n",
      "[CV 1/5] END max_depth=30, min_samples_leaf=2, min_samples_split=2, n_estimators=300;, score=0.837 total time=   0.9s\n",
      "[CV 2/5] END max_depth=30, min_samples_leaf=2, min_samples_split=2, n_estimators=300;, score=0.837 total time=   0.8s\n",
      "[CV 3/5] END max_depth=30, min_samples_leaf=2, min_samples_split=2, n_estimators=300;, score=0.857 total time=   0.8s\n",
      "[CV 4/5] END max_depth=30, min_samples_leaf=2, min_samples_split=2, n_estimators=300;, score=0.810 total time=   0.8s\n",
      "[CV 5/5] END max_depth=30, min_samples_leaf=2, min_samples_split=2, n_estimators=300;, score=0.857 total time=   0.9s\n",
      "[CV 1/5] END max_depth=30, min_samples_leaf=2, min_samples_split=5, n_estimators=100;, score=0.837 total time=   0.2s\n",
      "[CV 2/5] END max_depth=30, min_samples_leaf=2, min_samples_split=5, n_estimators=100;, score=0.860 total time=   0.2s\n",
      "[CV 3/5] END max_depth=30, min_samples_leaf=2, min_samples_split=5, n_estimators=100;, score=0.857 total time=   0.3s\n",
      "[CV 4/5] END max_depth=30, min_samples_leaf=2, min_samples_split=5, n_estimators=100;, score=0.810 total time=   0.2s\n",
      "[CV 5/5] END max_depth=30, min_samples_leaf=2, min_samples_split=5, n_estimators=100;, score=0.833 total time=   0.2s\n",
      "[CV 1/5] END max_depth=30, min_samples_leaf=2, min_samples_split=5, n_estimators=200;, score=0.837 total time=   0.5s\n",
      "[CV 2/5] END max_depth=30, min_samples_leaf=2, min_samples_split=5, n_estimators=200;, score=0.814 total time=   0.5s\n",
      "[CV 3/5] END max_depth=30, min_samples_leaf=2, min_samples_split=5, n_estimators=200;, score=0.833 total time=   0.5s\n",
      "[CV 4/5] END max_depth=30, min_samples_leaf=2, min_samples_split=5, n_estimators=200;, score=0.810 total time=   0.6s\n",
      "[CV 5/5] END max_depth=30, min_samples_leaf=2, min_samples_split=5, n_estimators=200;, score=0.881 total time=   0.7s\n",
      "[CV 1/5] END max_depth=30, min_samples_leaf=2, min_samples_split=5, n_estimators=300;, score=0.837 total time=   0.9s\n",
      "[CV 2/5] END max_depth=30, min_samples_leaf=2, min_samples_split=5, n_estimators=300;, score=0.837 total time=   0.9s\n",
      "[CV 3/5] END max_depth=30, min_samples_leaf=2, min_samples_split=5, n_estimators=300;, score=0.833 total time=   0.9s\n",
      "[CV 4/5] END max_depth=30, min_samples_leaf=2, min_samples_split=5, n_estimators=300;, score=0.786 total time=   0.8s\n",
      "[CV 5/5] END max_depth=30, min_samples_leaf=2, min_samples_split=5, n_estimators=300;, score=0.857 total time=   0.9s\n",
      "[CV 1/5] END max_depth=30, min_samples_leaf=2, min_samples_split=10, n_estimators=100;, score=0.814 total time=   0.3s\n",
      "[CV 2/5] END max_depth=30, min_samples_leaf=2, min_samples_split=10, n_estimators=100;, score=0.814 total time=   0.2s\n",
      "[CV 3/5] END max_depth=30, min_samples_leaf=2, min_samples_split=10, n_estimators=100;, score=0.857 total time=   0.2s\n",
      "[CV 4/5] END max_depth=30, min_samples_leaf=2, min_samples_split=10, n_estimators=100;, score=0.762 total time=   0.2s\n",
      "[CV 5/5] END max_depth=30, min_samples_leaf=2, min_samples_split=10, n_estimators=100;, score=0.905 total time=   0.2s\n",
      "[CV 1/5] END max_depth=30, min_samples_leaf=2, min_samples_split=10, n_estimators=200;, score=0.837 total time=   0.5s\n",
      "[CV 2/5] END max_depth=30, min_samples_leaf=2, min_samples_split=10, n_estimators=200;, score=0.814 total time=   0.6s\n",
      "[CV 3/5] END max_depth=30, min_samples_leaf=2, min_samples_split=10, n_estimators=200;, score=0.857 total time=   0.5s\n",
      "[CV 4/5] END max_depth=30, min_samples_leaf=2, min_samples_split=10, n_estimators=200;, score=0.786 total time=   0.5s\n",
      "[CV 5/5] END max_depth=30, min_samples_leaf=2, min_samples_split=10, n_estimators=200;, score=0.857 total time=   0.5s\n",
      "[CV 1/5] END max_depth=30, min_samples_leaf=2, min_samples_split=10, n_estimators=300;, score=0.860 total time=   0.8s\n",
      "[CV 2/5] END max_depth=30, min_samples_leaf=2, min_samples_split=10, n_estimators=300;, score=0.860 total time=   0.8s\n",
      "[CV 3/5] END max_depth=30, min_samples_leaf=2, min_samples_split=10, n_estimators=300;, score=0.857 total time=   0.8s\n",
      "[CV 4/5] END max_depth=30, min_samples_leaf=2, min_samples_split=10, n_estimators=300;, score=0.762 total time=   0.8s\n",
      "[CV 5/5] END max_depth=30, min_samples_leaf=2, min_samples_split=10, n_estimators=300;, score=0.857 total time=   0.9s\n",
      "[CV 1/5] END max_depth=30, min_samples_leaf=4, min_samples_split=2, n_estimators=100;, score=0.837 total time=   0.2s\n",
      "[CV 2/5] END max_depth=30, min_samples_leaf=4, min_samples_split=2, n_estimators=100;, score=0.837 total time=   0.3s\n",
      "[CV 3/5] END max_depth=30, min_samples_leaf=4, min_samples_split=2, n_estimators=100;, score=0.857 total time=   0.3s\n",
      "[CV 4/5] END max_depth=30, min_samples_leaf=4, min_samples_split=2, n_estimators=100;, score=0.786 total time=   0.2s\n",
      "[CV 5/5] END max_depth=30, min_samples_leaf=4, min_samples_split=2, n_estimators=100;, score=0.905 total time=   0.3s\n",
      "[CV 1/5] END max_depth=30, min_samples_leaf=4, min_samples_split=2, n_estimators=200;, score=0.860 total time=   0.6s\n",
      "[CV 2/5] END max_depth=30, min_samples_leaf=4, min_samples_split=2, n_estimators=200;, score=0.837 total time=   0.5s\n",
      "[CV 3/5] END max_depth=30, min_samples_leaf=4, min_samples_split=2, n_estimators=200;, score=0.857 total time=   0.6s\n",
      "[CV 4/5] END max_depth=30, min_samples_leaf=4, min_samples_split=2, n_estimators=200;, score=0.786 total time=   0.5s\n",
      "[CV 5/5] END max_depth=30, min_samples_leaf=4, min_samples_split=2, n_estimators=200;, score=0.857 total time=   0.5s\n",
      "[CV 1/5] END max_depth=30, min_samples_leaf=4, min_samples_split=2, n_estimators=300;, score=0.837 total time=   0.9s\n",
      "[CV 2/5] END max_depth=30, min_samples_leaf=4, min_samples_split=2, n_estimators=300;, score=0.814 total time=   0.9s\n",
      "[CV 3/5] END max_depth=30, min_samples_leaf=4, min_samples_split=2, n_estimators=300;, score=0.833 total time=   0.8s\n",
      "[CV 4/5] END max_depth=30, min_samples_leaf=4, min_samples_split=2, n_estimators=300;, score=0.762 total time=   0.9s\n",
      "[CV 5/5] END max_depth=30, min_samples_leaf=4, min_samples_split=2, n_estimators=300;, score=0.857 total time=   0.8s\n",
      "[CV 1/5] END max_depth=30, min_samples_leaf=4, min_samples_split=5, n_estimators=100;, score=0.860 total time=   0.2s\n",
      "[CV 2/5] END max_depth=30, min_samples_leaf=4, min_samples_split=5, n_estimators=100;, score=0.814 total time=   0.2s\n",
      "[CV 3/5] END max_depth=30, min_samples_leaf=4, min_samples_split=5, n_estimators=100;, score=0.881 total time=   0.3s\n",
      "[CV 4/5] END max_depth=30, min_samples_leaf=4, min_samples_split=5, n_estimators=100;, score=0.786 total time=   0.2s\n",
      "[CV 5/5] END max_depth=30, min_samples_leaf=4, min_samples_split=5, n_estimators=100;, score=0.833 total time=   0.2s\n",
      "[CV 1/5] END max_depth=30, min_samples_leaf=4, min_samples_split=5, n_estimators=200;, score=0.860 total time=   0.6s\n",
      "[CV 2/5] END max_depth=30, min_samples_leaf=4, min_samples_split=5, n_estimators=200;, score=0.814 total time=   0.5s\n",
      "[CV 3/5] END max_depth=30, min_samples_leaf=4, min_samples_split=5, n_estimators=200;, score=0.857 total time=   0.5s\n",
      "[CV 4/5] END max_depth=30, min_samples_leaf=4, min_samples_split=5, n_estimators=200;, score=0.762 total time=   0.5s\n",
      "[CV 5/5] END max_depth=30, min_samples_leaf=4, min_samples_split=5, n_estimators=200;, score=0.857 total time=   0.5s\n",
      "[CV 1/5] END max_depth=30, min_samples_leaf=4, min_samples_split=5, n_estimators=300;, score=0.860 total time=   0.8s\n",
      "[CV 2/5] END max_depth=30, min_samples_leaf=4, min_samples_split=5, n_estimators=300;, score=0.837 total time=   0.8s\n",
      "[CV 3/5] END max_depth=30, min_samples_leaf=4, min_samples_split=5, n_estimators=300;, score=0.857 total time=   0.9s\n",
      "[CV 4/5] END max_depth=30, min_samples_leaf=4, min_samples_split=5, n_estimators=300;, score=0.786 total time=   0.8s\n",
      "[CV 5/5] END max_depth=30, min_samples_leaf=4, min_samples_split=5, n_estimators=300;, score=0.833 total time=   0.8s\n",
      "[CV 1/5] END max_depth=30, min_samples_leaf=4, min_samples_split=10, n_estimators=100;, score=0.837 total time=   0.2s\n",
      "[CV 2/5] END max_depth=30, min_samples_leaf=4, min_samples_split=10, n_estimators=100;, score=0.814 total time=   0.3s\n",
      "[CV 3/5] END max_depth=30, min_samples_leaf=4, min_samples_split=10, n_estimators=100;, score=0.833 total time=   0.2s\n",
      "[CV 4/5] END max_depth=30, min_samples_leaf=4, min_samples_split=10, n_estimators=100;, score=0.810 total time=   0.2s\n",
      "[CV 5/5] END max_depth=30, min_samples_leaf=4, min_samples_split=10, n_estimators=100;, score=0.881 total time=   0.3s\n",
      "[CV 1/5] END max_depth=30, min_samples_leaf=4, min_samples_split=10, n_estimators=200;, score=0.837 total time=   0.5s\n",
      "[CV 2/5] END max_depth=30, min_samples_leaf=4, min_samples_split=10, n_estimators=200;, score=0.814 total time=   0.6s\n",
      "[CV 3/5] END max_depth=30, min_samples_leaf=4, min_samples_split=10, n_estimators=200;, score=0.857 total time=   0.5s\n",
      "[CV 4/5] END max_depth=30, min_samples_leaf=4, min_samples_split=10, n_estimators=200;, score=0.786 total time=   0.5s\n",
      "[CV 5/5] END max_depth=30, min_samples_leaf=4, min_samples_split=10, n_estimators=200;, score=0.881 total time=   0.5s\n",
      "[CV 1/5] END max_depth=30, min_samples_leaf=4, min_samples_split=10, n_estimators=300;, score=0.837 total time=   0.8s\n",
      "[CV 2/5] END max_depth=30, min_samples_leaf=4, min_samples_split=10, n_estimators=300;, score=0.814 total time=   0.8s\n",
      "[CV 3/5] END max_depth=30, min_samples_leaf=4, min_samples_split=10, n_estimators=300;, score=0.857 total time=   0.8s\n",
      "[CV 4/5] END max_depth=30, min_samples_leaf=4, min_samples_split=10, n_estimators=300;, score=0.810 total time=   0.8s\n",
      "[CV 5/5] END max_depth=30, min_samples_leaf=4, min_samples_split=10, n_estimators=300;, score=0.857 total time=   0.8s\n"
     ]
    },
    {
     "data": {
      "text/html": [
       "<style>#sk-container-id-1 {color: black;background-color: white;}#sk-container-id-1 pre{padding: 0;}#sk-container-id-1 div.sk-toggleable {background-color: white;}#sk-container-id-1 label.sk-toggleable__label {cursor: pointer;display: block;width: 100%;margin-bottom: 0;padding: 0.3em;box-sizing: border-box;text-align: center;}#sk-container-id-1 label.sk-toggleable__label-arrow:before {content: \"▸\";float: left;margin-right: 0.25em;color: #696969;}#sk-container-id-1 label.sk-toggleable__label-arrow:hover:before {color: black;}#sk-container-id-1 div.sk-estimator:hover label.sk-toggleable__label-arrow:before {color: black;}#sk-container-id-1 div.sk-toggleable__content {max-height: 0;max-width: 0;overflow: hidden;text-align: left;background-color: #f0f8ff;}#sk-container-id-1 div.sk-toggleable__content pre {margin: 0.2em;color: black;border-radius: 0.25em;background-color: #f0f8ff;}#sk-container-id-1 input.sk-toggleable__control:checked~div.sk-toggleable__content {max-height: 200px;max-width: 100%;overflow: auto;}#sk-container-id-1 input.sk-toggleable__control:checked~label.sk-toggleable__label-arrow:before {content: \"▾\";}#sk-container-id-1 div.sk-estimator input.sk-toggleable__control:checked~label.sk-toggleable__label {background-color: #d4ebff;}#sk-container-id-1 div.sk-label input.sk-toggleable__control:checked~label.sk-toggleable__label {background-color: #d4ebff;}#sk-container-id-1 input.sk-hidden--visually {border: 0;clip: rect(1px 1px 1px 1px);clip: rect(1px, 1px, 1px, 1px);height: 1px;margin: -1px;overflow: hidden;padding: 0;position: absolute;width: 1px;}#sk-container-id-1 div.sk-estimator {font-family: monospace;background-color: #f0f8ff;border: 1px dotted black;border-radius: 0.25em;box-sizing: border-box;margin-bottom: 0.5em;}#sk-container-id-1 div.sk-estimator:hover {background-color: #d4ebff;}#sk-container-id-1 div.sk-parallel-item::after {content: \"\";width: 100%;border-bottom: 1px solid gray;flex-grow: 1;}#sk-container-id-1 div.sk-label:hover label.sk-toggleable__label {background-color: #d4ebff;}#sk-container-id-1 div.sk-serial::before {content: \"\";position: absolute;border-left: 1px solid gray;box-sizing: border-box;top: 0;bottom: 0;left: 50%;z-index: 0;}#sk-container-id-1 div.sk-serial {display: flex;flex-direction: column;align-items: center;background-color: white;padding-right: 0.2em;padding-left: 0.2em;position: relative;}#sk-container-id-1 div.sk-item {position: relative;z-index: 1;}#sk-container-id-1 div.sk-parallel {display: flex;align-items: stretch;justify-content: center;background-color: white;position: relative;}#sk-container-id-1 div.sk-item::before, #sk-container-id-1 div.sk-parallel-item::before {content: \"\";position: absolute;border-left: 1px solid gray;box-sizing: border-box;top: 0;bottom: 0;left: 50%;z-index: -1;}#sk-container-id-1 div.sk-parallel-item {display: flex;flex-direction: column;z-index: 1;position: relative;background-color: white;}#sk-container-id-1 div.sk-parallel-item:first-child::after {align-self: flex-end;width: 50%;}#sk-container-id-1 div.sk-parallel-item:last-child::after {align-self: flex-start;width: 50%;}#sk-container-id-1 div.sk-parallel-item:only-child::after {width: 0;}#sk-container-id-1 div.sk-dashed-wrapped {border: 1px dashed gray;margin: 0 0.4em 0.5em 0.4em;box-sizing: border-box;padding-bottom: 0.4em;background-color: white;}#sk-container-id-1 div.sk-label label {font-family: monospace;font-weight: bold;display: inline-block;line-height: 1.2em;}#sk-container-id-1 div.sk-label-container {text-align: center;}#sk-container-id-1 div.sk-container {/* jupyter's `normalize.less` sets `[hidden] { display: none; }` but bootstrap.min.css set `[hidden] { display: none !important; }` so we also need the `!important` here to be able to override the default hidden behavior on the sphinx rendered scikit-learn.org. See: https://github.com/scikit-learn/scikit-learn/issues/21755 */display: inline-block !important;position: relative;}#sk-container-id-1 div.sk-text-repr-fallback {display: none;}</style><div id=\"sk-container-id-1\" class=\"sk-top-container\"><div class=\"sk-text-repr-fallback\"><pre>GridSearchCV(cv=5, estimator=RandomForestClassifier(max_depth=10),\n",
       "             param_grid={&#x27;max_depth&#x27;: [None, 10, 20, 30],\n",
       "                         &#x27;min_samples_leaf&#x27;: [1, 2, 4],\n",
       "                         &#x27;min_samples_split&#x27;: [2, 5, 10],\n",
       "                         &#x27;n_estimators&#x27;: [100, 200, 300]},\n",
       "             verbose=3)</pre><b>In a Jupyter environment, please rerun this cell to show the HTML representation or trust the notebook. <br />On GitHub, the HTML representation is unable to render, please try loading this page with nbviewer.org.</b></div><div class=\"sk-container\" hidden><div class=\"sk-item sk-dashed-wrapped\"><div class=\"sk-label-container\"><div class=\"sk-label sk-toggleable\"><input class=\"sk-toggleable__control sk-hidden--visually\" id=\"sk-estimator-id-1\" type=\"checkbox\" ><label for=\"sk-estimator-id-1\" class=\"sk-toggleable__label sk-toggleable__label-arrow\">GridSearchCV</label><div class=\"sk-toggleable__content\"><pre>GridSearchCV(cv=5, estimator=RandomForestClassifier(max_depth=10),\n",
       "             param_grid={&#x27;max_depth&#x27;: [None, 10, 20, 30],\n",
       "                         &#x27;min_samples_leaf&#x27;: [1, 2, 4],\n",
       "                         &#x27;min_samples_split&#x27;: [2, 5, 10],\n",
       "                         &#x27;n_estimators&#x27;: [100, 200, 300]},\n",
       "             verbose=3)</pre></div></div></div><div class=\"sk-parallel\"><div class=\"sk-parallel-item\"><div class=\"sk-item\"><div class=\"sk-label-container\"><div class=\"sk-label sk-toggleable\"><input class=\"sk-toggleable__control sk-hidden--visually\" id=\"sk-estimator-id-2\" type=\"checkbox\" ><label for=\"sk-estimator-id-2\" class=\"sk-toggleable__label sk-toggleable__label-arrow\">estimator: RandomForestClassifier</label><div class=\"sk-toggleable__content\"><pre>RandomForestClassifier(max_depth=10)</pre></div></div></div><div class=\"sk-serial\"><div class=\"sk-item\"><div class=\"sk-estimator sk-toggleable\"><input class=\"sk-toggleable__control sk-hidden--visually\" id=\"sk-estimator-id-3\" type=\"checkbox\" ><label for=\"sk-estimator-id-3\" class=\"sk-toggleable__label sk-toggleable__label-arrow\">RandomForestClassifier</label><div class=\"sk-toggleable__content\"><pre>RandomForestClassifier(max_depth=10)</pre></div></div></div></div></div></div></div></div></div></div>"
      ],
      "text/plain": [
       "GridSearchCV(cv=5, estimator=RandomForestClassifier(max_depth=10),\n",
       "             param_grid={'max_depth': [None, 10, 20, 30],\n",
       "                         'min_samples_leaf': [1, 2, 4],\n",
       "                         'min_samples_split': [2, 5, 10],\n",
       "                         'n_estimators': [100, 200, 300]},\n",
       "             verbose=3)"
      ]
     },
     "execution_count": 88,
     "metadata": {},
     "output_type": "execute_result"
    }
   ],
   "source": [
    "gs.fit(x_train,y_train)"
   ]
  },
  {
   "cell_type": "code",
   "execution_count": 98,
   "id": "e4c6f305-ee13-400c-9800-4cc315767da4",
   "metadata": {
    "tags": []
   },
   "outputs": [
    {
     "data": {
      "text/plain": [
       "{'max_depth': 10,\n",
       " 'min_samples_leaf': 2,\n",
       " 'min_samples_split': 10,\n",
       " 'n_estimators': 200}"
      ]
     },
     "execution_count": 98,
     "metadata": {},
     "output_type": "execute_result"
    }
   ],
   "source": [
    "gs.best_params_\n"
   ]
  },
  {
   "cell_type": "markdown",
   "id": "254a3d7d-1dea-4c27-8c30-e5393b767f69",
   "metadata": {
    "tags": []
   },
   "source": [
    "model.set_params(** gs.best_params_)"
   ]
  },
  {
   "cell_type": "code",
   "execution_count": 96,
   "id": "99e1b1f6-0fb3-4070-b1f8-403790418697",
   "metadata": {
    "tags": []
   },
   "outputs": [
    {
     "name": "stdout",
     "output_type": "stream",
     "text": [
      "0.8351648351648352\n",
      "              precision    recall  f1-score   support\n",
      "\n",
      "           0       0.87      0.77      0.82        44\n",
      "           1       0.81      0.89      0.85        47\n",
      "\n",
      "    accuracy                           0.84        91\n",
      "   macro avg       0.84      0.83      0.83        91\n",
      "weighted avg       0.84      0.84      0.83        91\n",
      "\n"
     ]
    },
    {
     "data": {
      "text/plain": [
       "array([[34, 10],\n",
       "       [ 5, 42]], dtype=int64)"
      ]
     },
     "execution_count": 96,
     "metadata": {},
     "output_type": "execute_result"
    }
   ],
   "source": [
    "y_pred=model.predict(x_test)\n",
    "    \n",
    "acc=accuracy_score(y_test,y_pred)\n",
    "print(acc)\n",
    "print(classification_report(y_test,y_pred))\n",
    "confusion_matrix(y_test,y_pred)"
   ]
  },
  {
   "cell_type": "markdown",
   "id": "77c9444c-ab60-46e9-a413-45dde452ba15",
   "metadata": {},
   "source": [
    "# Q7. Report the best set of hyperparameters found by the search and the corresponding performance\n",
    "metrics. Compare the performance of the tuned model with the default model."
   ]
  },
  {
   "cell_type": "code",
   "execution_count": 133,
   "id": "e292fcee-2f03-454c-a330-3c43678748f3",
   "metadata": {
    "tags": []
   },
   "outputs": [
    {
     "name": "stdout",
     "output_type": "stream",
     "text": [
      "\n",
      "Comparison of Default and Tuned Models:\n",
      "Default Model Accuracy: 0.8571428571428571\n",
      "Tuned Model Accuracy: 0.8571\n"
     ]
    }
   ],
   "source": [
    "# Compare Performance\n",
    "print(\"\\nComparison of Default and Tuned Models:\")\n",
    "print(f\"Default Model Accuracy: {accuracy_defult}\")\n",
    "print(f\"Tuned Model Accuracy: {acc:.4f}\")"
   ]
  },
  {
   "cell_type": "markdown",
   "id": "d3feab64-7766-482a-9846-4ae026b2a5e7",
   "metadata": {},
   "source": [
    "# Q8. Interpret the model by analysing the decision boundaries of the random forest classifier. Plot the decision boundaries on a scatter plot of two of the most important features. Discuss the insights and limitations of the model for predicting heart disease risk."
   ]
  },
  {
   "cell_type": "code",
   "execution_count": 136,
   "id": "ffd38276-541a-4f31-af2e-df84f691d539",
   "metadata": {
    "tags": []
   },
   "outputs": [],
   "source": [
    "top_2_features = features_df.head(2)['Feature'].values"
   ]
  },
  {
   "cell_type": "code",
   "execution_count": 138,
   "id": "80b1eeba-d697-405e-9595-cb57d3d1c6a1",
   "metadata": {
    "tags": []
   },
   "outputs": [
    {
     "data": {
      "text/plain": [
       "array(['age', 'sex'], dtype=object)"
      ]
     },
     "execution_count": 138,
     "metadata": {},
     "output_type": "execute_result"
    }
   ],
   "source": [
    "top_2_features"
   ]
  },
  {
   "cell_type": "code",
   "execution_count": 160,
   "id": "e7112eb0-4994-4308-9859-b1d7568789a1",
   "metadata": {
    "tags": []
   },
   "outputs": [
    {
     "data": {
      "text/html": [
       "<style>#sk-container-id-5 {color: black;background-color: white;}#sk-container-id-5 pre{padding: 0;}#sk-container-id-5 div.sk-toggleable {background-color: white;}#sk-container-id-5 label.sk-toggleable__label {cursor: pointer;display: block;width: 100%;margin-bottom: 0;padding: 0.3em;box-sizing: border-box;text-align: center;}#sk-container-id-5 label.sk-toggleable__label-arrow:before {content: \"▸\";float: left;margin-right: 0.25em;color: #696969;}#sk-container-id-5 label.sk-toggleable__label-arrow:hover:before {color: black;}#sk-container-id-5 div.sk-estimator:hover label.sk-toggleable__label-arrow:before {color: black;}#sk-container-id-5 div.sk-toggleable__content {max-height: 0;max-width: 0;overflow: hidden;text-align: left;background-color: #f0f8ff;}#sk-container-id-5 div.sk-toggleable__content pre {margin: 0.2em;color: black;border-radius: 0.25em;background-color: #f0f8ff;}#sk-container-id-5 input.sk-toggleable__control:checked~div.sk-toggleable__content {max-height: 200px;max-width: 100%;overflow: auto;}#sk-container-id-5 input.sk-toggleable__control:checked~label.sk-toggleable__label-arrow:before {content: \"▾\";}#sk-container-id-5 div.sk-estimator input.sk-toggleable__control:checked~label.sk-toggleable__label {background-color: #d4ebff;}#sk-container-id-5 div.sk-label input.sk-toggleable__control:checked~label.sk-toggleable__label {background-color: #d4ebff;}#sk-container-id-5 input.sk-hidden--visually {border: 0;clip: rect(1px 1px 1px 1px);clip: rect(1px, 1px, 1px, 1px);height: 1px;margin: -1px;overflow: hidden;padding: 0;position: absolute;width: 1px;}#sk-container-id-5 div.sk-estimator {font-family: monospace;background-color: #f0f8ff;border: 1px dotted black;border-radius: 0.25em;box-sizing: border-box;margin-bottom: 0.5em;}#sk-container-id-5 div.sk-estimator:hover {background-color: #d4ebff;}#sk-container-id-5 div.sk-parallel-item::after {content: \"\";width: 100%;border-bottom: 1px solid gray;flex-grow: 1;}#sk-container-id-5 div.sk-label:hover label.sk-toggleable__label {background-color: #d4ebff;}#sk-container-id-5 div.sk-serial::before {content: \"\";position: absolute;border-left: 1px solid gray;box-sizing: border-box;top: 0;bottom: 0;left: 50%;z-index: 0;}#sk-container-id-5 div.sk-serial {display: flex;flex-direction: column;align-items: center;background-color: white;padding-right: 0.2em;padding-left: 0.2em;position: relative;}#sk-container-id-5 div.sk-item {position: relative;z-index: 1;}#sk-container-id-5 div.sk-parallel {display: flex;align-items: stretch;justify-content: center;background-color: white;position: relative;}#sk-container-id-5 div.sk-item::before, #sk-container-id-5 div.sk-parallel-item::before {content: \"\";position: absolute;border-left: 1px solid gray;box-sizing: border-box;top: 0;bottom: 0;left: 50%;z-index: -1;}#sk-container-id-5 div.sk-parallel-item {display: flex;flex-direction: column;z-index: 1;position: relative;background-color: white;}#sk-container-id-5 div.sk-parallel-item:first-child::after {align-self: flex-end;width: 50%;}#sk-container-id-5 div.sk-parallel-item:last-child::after {align-self: flex-start;width: 50%;}#sk-container-id-5 div.sk-parallel-item:only-child::after {width: 0;}#sk-container-id-5 div.sk-dashed-wrapped {border: 1px dashed gray;margin: 0 0.4em 0.5em 0.4em;box-sizing: border-box;padding-bottom: 0.4em;background-color: white;}#sk-container-id-5 div.sk-label label {font-family: monospace;font-weight: bold;display: inline-block;line-height: 1.2em;}#sk-container-id-5 div.sk-label-container {text-align: center;}#sk-container-id-5 div.sk-container {/* jupyter's `normalize.less` sets `[hidden] { display: none; }` but bootstrap.min.css set `[hidden] { display: none !important; }` so we also need the `!important` here to be able to override the default hidden behavior on the sphinx rendered scikit-learn.org. See: https://github.com/scikit-learn/scikit-learn/issues/21755 */display: inline-block !important;position: relative;}#sk-container-id-5 div.sk-text-repr-fallback {display: none;}</style><div id=\"sk-container-id-5\" class=\"sk-top-container\"><div class=\"sk-text-repr-fallback\"><pre>RandomForestClassifier(random_state=42)</pre><b>In a Jupyter environment, please rerun this cell to show the HTML representation or trust the notebook. <br />On GitHub, the HTML representation is unable to render, please try loading this page with nbviewer.org.</b></div><div class=\"sk-container\" hidden><div class=\"sk-item\"><div class=\"sk-estimator sk-toggleable\"><input class=\"sk-toggleable__control sk-hidden--visually\" id=\"sk-estimator-id-7\" type=\"checkbox\" checked><label for=\"sk-estimator-id-7\" class=\"sk-toggleable__label sk-toggleable__label-arrow\">RandomForestClassifier</label><div class=\"sk-toggleable__content\"><pre>RandomForestClassifier(random_state=42)</pre></div></div></div></div></div>"
      ],
      "text/plain": [
       "RandomForestClassifier(random_state=42)"
      ]
     },
     "execution_count": 160,
     "metadata": {},
     "output_type": "execute_result"
    }
   ],
   "source": [
    "\n",
    "X_top2 = x[top_2_features]\n",
    "x_train, X_test, y_train, y_test = train_test_split(X_top2, y, test_size=0.2, random_state=42)\n",
    "classifier = RandomForestClassifier(random_state=42)\n",
    "classifier.fit(x_train, y_train)\n"
   ]
  },
  {
   "cell_type": "code",
   "execution_count": 162,
   "id": "ea054ea6-7f4b-4aa5-9775-b5ecd48562bd",
   "metadata": {
    "tags": []
   },
   "outputs": [
    {
     "data": {
      "image/png": "[encoded data removed]",
      "text/plain": [
       "<Figure size 1000x600 with 1 Axes>"
      ]
     },
     "metadata": {},
     "output_type": "display_data"
    }
   ],
   "source": [
    "# Plot decision boundaries\n",
    "def plot_decision_boundaries(X, y, model, ax):\n",
    "    x_min, x_max = x.iloc[:, 0].min() - 1, x.iloc[:, 0].max() + 1\n",
    "    y_min, y_max = x.iloc[:, 1].min() - 1, x.iloc[:, 1].max() + 1\n",
    "    xx, yy = np.meshgrid(np.arange(x_min, x_max, 0.01),\n",
    "                         np.arange(y_min, y_max, 0.01))\n",
    "    Z = model.predict(np.c_[xx.ravel(), yy.ravel()])\n",
    "    Z = Z.reshape(xx.shape)\n",
    "    ax.contourf(xx, yy, Z, alpha=0.3, cmap=plt.cm.RdYlBu)\n",
    "    sns.scatterplot(x=x.iloc[:, 0], y=x.iloc[:, 1], hue=y, palette='RdYlBu', ax=ax, edgecolor='k')\n",
    "\n",
    "# Create a plot\n",
    "fig, ax = plt.subplots(figsize=(10, 6))\n",
    "plot_decision_boundaries(x_train, y_train, classifier, ax)\n",
    "ax.set_title('Decision Boundaries of Random Forest Classifier (Top 2 Features)')\n",
    "ax.set_xlabel(top_2_features[0])\n",
    "ax.set_ylabel(top_2_features[1])\n",
    "plt.show()\n"
   ]
  },
  {
   "cell_type": "code",
   "execution_count": null,
   "id": "ac414ccc-0a5d-466d-8f66-56a39f76a310",
   "metadata": {},
   "outputs": [],
   "source": []
  }
 ],
 "metadata": {
  "kernelspec": {
   "display_name": "Python 3 (ipykernel)",
   "language": "python",
   "name": "python3"
  },
  "language_info": {
   "codemirror_mode": {
    "name": "ipython",
    "version": 3
   },
   "file_extension": ".py",
   "mimetype": "text/x-python",
   "name": "python",
   "nbconvert_exporter": "python",
   "pygments_lexer": "ipython3",
   "version": "3.11.7"
  }
 },
 "nbformat": 4,
 "nbformat_minor": 5
}
