{
 "cells": [
  {
   "cell_type": "code",
   "execution_count": 1,
   "id": "6f9e3d90-308c-4534-be0c-194e9826ecd9",
   "metadata": {
    "tags": []
   },
   "outputs": [
    {
     "name": "stdout",
     "output_type": "stream",
     "text": [
      "Requirement already satisfied: tensorflow in /opt/conda/lib/python3.10/site-packages (2.15.0.post1)\n",
      "Requirement already satisfied: tensorflow-estimator<2.16,>=2.15.0 in /opt/conda/lib/python3.10/site-packages (from tensorflow) (2.15.0)\n",
      "Requirement already satisfied: absl-py>=1.0.0 in /opt/conda/lib/python3.10/site-packages (from tensorflow) (2.1.0)\n",
      "Requirement already satisfied: protobuf!=4.21.0,!=4.21.1,!=4.21.2,!=4.21.3,!=4.21.4,!=4.21.5,<5.0.0dev,>=3.20.3 in /opt/conda/lib/python3.10/site-packages (from tensorflow) (4.21.11)\n",
      "Requirement already satisfied: astunparse>=1.6.0 in /opt/conda/lib/python3.10/site-packages (from tensorflow) (1.6.3)\n",
      "Requirement already satisfied: setuptools in /opt/conda/lib/python3.10/site-packages (from tensorflow) (65.5.1)\n",
      "Requirement already satisfied: tensorflow-io-gcs-filesystem>=0.23.1 in /opt/conda/lib/python3.10/site-packages (from tensorflow) (0.35.0)\n",
      "Requirement already satisfied: termcolor>=1.1.0 in /opt/conda/lib/python3.10/site-packages (from tensorflow) (2.4.0)\n",
      "Requirement already satisfied: numpy<2.0.0,>=1.23.5 in /opt/conda/lib/python3.10/site-packages (from tensorflow) (1.23.5)\n",
      "Requirement already satisfied: tensorboard<2.16,>=2.15 in /opt/conda/lib/python3.10/site-packages (from tensorflow) (2.15.1)\n",
      "Requirement already satisfied: packaging in /opt/conda/lib/python3.10/site-packages (from tensorflow) (22.0)\n",
      "Requirement already satisfied: flatbuffers>=23.5.26 in /opt/conda/lib/python3.10/site-packages (from tensorflow) (23.5.26)\n",
      "Requirement already satisfied: google-pasta>=0.1.1 in /opt/conda/lib/python3.10/site-packages (from tensorflow) (0.2.0)\n",
      "Requirement already satisfied: ml-dtypes~=0.2.0 in /opt/conda/lib/python3.10/site-packages (from tensorflow) (0.2.0)\n",
      "Requirement already satisfied: gast!=0.5.0,!=0.5.1,!=0.5.2,>=0.2.1 in /opt/conda/lib/python3.10/site-packages (from tensorflow) (0.5.4)\n",
      "Requirement already satisfied: h5py>=2.9.0 in /opt/conda/lib/python3.10/site-packages (from tensorflow) (3.7.0)\n",
      "Requirement already satisfied: keras<2.16,>=2.15.0 in /opt/conda/lib/python3.10/site-packages (from tensorflow) (2.15.0)\n",
      "Requirement already satisfied: wrapt<1.15,>=1.11.0 in /opt/conda/lib/python3.10/site-packages (from tensorflow) (1.14.1)\n",
      "Requirement already satisfied: libclang>=13.0.0 in /opt/conda/lib/python3.10/site-packages (from tensorflow) (16.0.6)\n",
      "Requirement already satisfied: typing-extensions>=3.6.6 in /opt/conda/lib/python3.10/site-packages (from tensorflow) (4.4.0)\n",
      "Requirement already satisfied: opt-einsum>=2.3.2 in /opt/conda/lib/python3.10/site-packages (from tensorflow) (3.3.0)\n",
      "Requirement already satisfied: six>=1.12.0 in /opt/conda/lib/python3.10/site-packages (from tensorflow) (1.16.0)\n",
      "Requirement already satisfied: grpcio<2.0,>=1.24.3 in /opt/conda/lib/python3.10/site-packages (from tensorflow) (1.60.0)\n",
      "Requirement already satisfied: wheel<1.0,>=0.23.0 in /opt/conda/lib/python3.10/site-packages (from astunparse>=1.6.0->tensorflow) (0.38.4)\n",
      "Requirement already satisfied: tensorboard-data-server<0.8.0,>=0.7.0 in /opt/conda/lib/python3.10/site-packages (from tensorboard<2.16,>=2.15->tensorflow) (0.7.2)\n",
      "Requirement already satisfied: requests<3,>=2.21.0 in /opt/conda/lib/python3.10/site-packages (from tensorboard<2.16,>=2.15->tensorflow) (2.28.1)\n",
      "Requirement already satisfied: werkzeug>=1.0.1 in /opt/conda/lib/python3.10/site-packages (from tensorboard<2.16,>=2.15->tensorflow) (3.0.1)\n",
      "Requirement already satisfied: google-auth<3,>=1.6.3 in /opt/conda/lib/python3.10/site-packages (from tensorboard<2.16,>=2.15->tensorflow) (2.27.0)\n",
      "Requirement already satisfied: google-auth-oauthlib<2,>=0.5 in /opt/conda/lib/python3.10/site-packages (from tensorboard<2.16,>=2.15->tensorflow) (1.2.0)\n",
      "Requirement already satisfied: markdown>=2.6.8 in /opt/conda/lib/python3.10/site-packages (from tensorboard<2.16,>=2.15->tensorflow) (3.5.2)\n",
      "Requirement already satisfied: cachetools<6.0,>=2.0.0 in /opt/conda/lib/python3.10/site-packages (from google-auth<3,>=1.6.3->tensorboard<2.16,>=2.15->tensorflow) (5.3.2)\n",
      "Requirement already satisfied: pyasn1-modules>=0.2.1 in /opt/conda/lib/python3.10/site-packages (from google-auth<3,>=1.6.3->tensorboard<2.16,>=2.15->tensorflow) (0.3.0)\n",
      "Requirement already satisfied: rsa<5,>=3.1.4 in /opt/conda/lib/python3.10/site-packages (from google-auth<3,>=1.6.3->tensorboard<2.16,>=2.15->tensorflow) (4.9)\n",
      "Requirement already satisfied: requests-oauthlib>=0.7.0 in /opt/conda/lib/python3.10/site-packages (from google-auth-oauthlib<2,>=0.5->tensorboard<2.16,>=2.15->tensorflow) (1.3.1)\n",
      "Requirement already satisfied: certifi>=2017.4.17 in /opt/conda/lib/python3.10/site-packages (from requests<3,>=2.21.0->tensorboard<2.16,>=2.15->tensorflow) (2022.12.7)\n",
      "Requirement already satisfied: idna<4,>=2.5 in /opt/conda/lib/python3.10/site-packages (from requests<3,>=2.21.0->tensorboard<2.16,>=2.15->tensorflow) (3.4)\n",
      "Requirement already satisfied: charset-normalizer<3,>=2 in /opt/conda/lib/python3.10/site-packages (from requests<3,>=2.21.0->tensorboard<2.16,>=2.15->tensorflow) (2.1.1)\n",
      "Requirement already satisfied: urllib3<1.27,>=1.21.1 in /opt/conda/lib/python3.10/site-packages (from requests<3,>=2.21.0->tensorboard<2.16,>=2.15->tensorflow) (1.26.13)\n",
      "Requirement already satisfied: MarkupSafe>=2.1.1 in /opt/conda/lib/python3.10/site-packages (from werkzeug>=1.0.1->tensorboard<2.16,>=2.15->tensorflow) (2.1.1)\n",
      "Requirement already satisfied: pyasn1<0.6.0,>=0.4.6 in /opt/conda/lib/python3.10/site-packages (from pyasn1-modules>=0.2.1->google-auth<3,>=1.6.3->tensorboard<2.16,>=2.15->tensorflow) (0.5.1)\n",
      "Requirement already satisfied: oauthlib>=3.0.0 in /opt/conda/lib/python3.10/site-packages (from requests-oauthlib>=0.7.0->google-auth-oauthlib<2,>=0.5->tensorboard<2.16,>=2.15->tensorflow) (3.2.2)\n"
     ]
    }
   ],
   "source": [
    "# Q1. Install and load the latest versions of TensorFlow and Keras. Print their versions.\n",
    "!pip install tensorflow"
   ]
  },
  {
   "cell_type": "code",
   "execution_count": 2,
   "id": "efa053e1-9dfd-44fa-879c-b07368408690",
   "metadata": {},
   "outputs": [
    {
     "name": "stderr",
     "output_type": "stream",
     "text": [
      "2024-01-30 07:45:22.086674: I external/local_tsl/tsl/cuda/cudart_stub.cc:31] Could not find cuda drivers on your machine, GPU will not be used.\n",
      "2024-01-30 07:45:22.152744: E external/local_xla/xla/stream_executor/cuda/cuda_dnn.cc:9261] Unable to register cuDNN factory: Attempting to register factory for plugin cuDNN when one has already been registered\n",
      "2024-01-30 07:45:22.152818: E external/local_xla/xla/stream_executor/cuda/cuda_fft.cc:607] Unable to register cuFFT factory: Attempting to register factory for plugin cuFFT when one has already been registered\n",
      "2024-01-30 07:45:22.154328: E external/local_xla/xla/stream_executor/cuda/cuda_blas.cc:1515] Unable to register cuBLAS factory: Attempting to register factory for plugin cuBLAS when one has already been registered\n",
      "2024-01-30 07:45:22.163563: I external/local_tsl/tsl/cuda/cudart_stub.cc:31] Could not find cuda drivers on your machine, GPU will not be used.\n",
      "2024-01-30 07:45:22.164727: I tensorflow/core/platform/cpu_feature_guard.cc:182] This TensorFlow binary is optimized to use available CPU instructions in performance-critical operations.\n",
      "To enable the following instructions: AVX2 FMA, in other operations, rebuild TensorFlow with the appropriate compiler flags.\n",
      "2024-01-30 07:45:23.382345: W tensorflow/compiler/tf2tensorrt/utils/py_utils.cc:38] TF-TRT Warning: Could not find TensorRT\n"
     ]
    }
   ],
   "source": [
    "import tensorflow as tf\n",
    "import pandas as pd\n",
    "import numpy as np\n",
    "import matplotlib.pyplot as plt"
   ]
  },
  {
   "cell_type": "code",
   "execution_count": 3,
   "id": "fc092e07-dba8-4beb-99fc-fb263477f67d",
   "metadata": {},
   "outputs": [
    {
     "name": "stdout",
     "output_type": "stream",
     "text": [
      "version of Tensorflow :2.15.0\n"
     ]
    },
    {
     "ename": "AttributeError",
     "evalue": "module 'keras.api._v2.keras' has no attribute '__version__'",
     "output_type": "error",
     "traceback": [
      "\u001b[0;31m---------------------------------------------------------------------------\u001b[0m",
      "\u001b[0;31mAttributeError\u001b[0m                            Traceback (most recent call last)",
      "Cell \u001b[0;32mIn[3], line 2\u001b[0m\n\u001b[1;32m      1\u001b[0m \u001b[38;5;28mprint\u001b[39m(\u001b[38;5;124mf\u001b[39m\u001b[38;5;124m'\u001b[39m\u001b[38;5;124mversion of Tensorflow :\u001b[39m\u001b[38;5;132;01m{\u001b[39;00mtf\u001b[38;5;241m.\u001b[39m__version__\u001b[38;5;132;01m}\u001b[39;00m\u001b[38;5;124m'\u001b[39m)\n\u001b[0;32m----> 2\u001b[0m \u001b[38;5;28mprint\u001b[39m(\u001b[38;5;124mf\u001b[39m\u001b[38;5;124m'\u001b[39m\u001b[38;5;124mversion of keras :\u001b[39m\u001b[38;5;132;01m{\u001b[39;00m\u001b[43mtf\u001b[49m\u001b[38;5;241;43m.\u001b[39;49m\u001b[43mkeras\u001b[49m\u001b[38;5;241;43m.\u001b[39;49m\u001b[43m__version__\u001b[49m\u001b[38;5;132;01m}\u001b[39;00m\u001b[38;5;124m'\u001b[39m)\n",
      "File \u001b[0;32m/opt/conda/lib/python3.10/site-packages/tensorflow/python/util/lazy_loader.py:171\u001b[0m, in \u001b[0;36mKerasLazyLoader.__getattr__\u001b[0;34m(self, item)\u001b[0m\n\u001b[1;32m    167\u001b[0m     \u001b[38;5;28;01mraise\u001b[39;00m \u001b[38;5;167;01mAttributeError\u001b[39;00m(\n\u001b[1;32m    168\u001b[0m         \u001b[38;5;124mf\u001b[39m\u001b[38;5;124m\"\u001b[39m\u001b[38;5;124m`\u001b[39m\u001b[38;5;132;01m{\u001b[39;00mitem\u001b[38;5;132;01m}\u001b[39;00m\u001b[38;5;124m` is not available with Keras 3.\u001b[39m\u001b[38;5;124m\"\u001b[39m\n\u001b[1;32m    169\u001b[0m     )\n\u001b[1;32m    170\u001b[0m module \u001b[38;5;241m=\u001b[39m \u001b[38;5;28mself\u001b[39m\u001b[38;5;241m.\u001b[39m_load()\n\u001b[0;32m--> 171\u001b[0m \u001b[38;5;28;01mreturn\u001b[39;00m \u001b[38;5;28;43mgetattr\u001b[39;49m\u001b[43m(\u001b[49m\u001b[43mmodule\u001b[49m\u001b[43m,\u001b[49m\u001b[43m \u001b[49m\u001b[43mitem\u001b[49m\u001b[43m)\u001b[49m\n",
      "\u001b[0;31mAttributeError\u001b[0m: module 'keras.api._v2.keras' has no attribute '__version__'"
     ]
    }
   ],
   "source": [
    "print(f'version of Tensorflow :{tf.__version__}')\n",
    "print(f'version of keras :{tf.keras.__version__}')"
   ]
  },
  {
   "cell_type": "code",
   "execution_count": 4,
   "id": "fe5be9aa-710d-46ed-b9d0-5fb6196035cf",
   "metadata": {},
   "outputs": [],
   "source": [
    "# Q2. Load the Wine Quality dataset and explore its dimensions.\n",
    "\n",
    "df=pd.read_csv('wine.csv')"
   ]
  },
  {
   "cell_type": "code",
   "execution_count": 5,
   "id": "abdde9f7-94df-4c64-ab4b-98e0cc64c6a5",
   "metadata": {},
   "outputs": [
    {
     "data": {
      "text/html": [
       "<div>\n",
       "<style scoped>\n",
       "    .dataframe tbody tr th:only-of-type {\n",
       "        vertical-align: middle;\n",
       "    }\n",
       "\n",
       "    .dataframe tbody tr th {\n",
       "        vertical-align: top;\n",
       "    }\n",
       "\n",
       "    .dataframe thead th {\n",
       "        text-align: right;\n",
       "    }\n",
       "</style>\n",
       "<table border=\"1\" class=\"dataframe\">\n",
       "  <thead>\n",
       "    <tr style=\"text-align: right;\">\n",
       "      <th></th>\n",
       "      <th>fixed acidity</th>\n",
       "      <th>volatile acidity</th>\n",
       "      <th>citric acid</th>\n",
       "      <th>residual sugar</th>\n",
       "      <th>chlorides</th>\n",
       "      <th>free sulfur dioxide</th>\n",
       "      <th>total sulfur dioxide</th>\n",
       "      <th>density</th>\n",
       "      <th>pH</th>\n",
       "      <th>sulphates</th>\n",
       "      <th>alcohol</th>\n",
       "      <th>quality</th>\n",
       "    </tr>\n",
       "  </thead>\n",
       "  <tbody>\n",
       "    <tr>\n",
       "      <th>0</th>\n",
       "      <td>7.4</td>\n",
       "      <td>0.70</td>\n",
       "      <td>0.00</td>\n",
       "      <td>1.9</td>\n",
       "      <td>0.076</td>\n",
       "      <td>11.0</td>\n",
       "      <td>34.0</td>\n",
       "      <td>0.9978</td>\n",
       "      <td>3.51</td>\n",
       "      <td>0.56</td>\n",
       "      <td>9.4</td>\n",
       "      <td>bad</td>\n",
       "    </tr>\n",
       "    <tr>\n",
       "      <th>1</th>\n",
       "      <td>7.8</td>\n",
       "      <td>0.88</td>\n",
       "      <td>0.00</td>\n",
       "      <td>2.6</td>\n",
       "      <td>0.098</td>\n",
       "      <td>25.0</td>\n",
       "      <td>67.0</td>\n",
       "      <td>0.9968</td>\n",
       "      <td>3.20</td>\n",
       "      <td>0.68</td>\n",
       "      <td>9.8</td>\n",
       "      <td>bad</td>\n",
       "    </tr>\n",
       "    <tr>\n",
       "      <th>2</th>\n",
       "      <td>7.8</td>\n",
       "      <td>0.76</td>\n",
       "      <td>0.04</td>\n",
       "      <td>2.3</td>\n",
       "      <td>0.092</td>\n",
       "      <td>15.0</td>\n",
       "      <td>54.0</td>\n",
       "      <td>0.9970</td>\n",
       "      <td>3.26</td>\n",
       "      <td>0.65</td>\n",
       "      <td>9.8</td>\n",
       "      <td>bad</td>\n",
       "    </tr>\n",
       "    <tr>\n",
       "      <th>3</th>\n",
       "      <td>11.2</td>\n",
       "      <td>0.28</td>\n",
       "      <td>0.56</td>\n",
       "      <td>1.9</td>\n",
       "      <td>0.075</td>\n",
       "      <td>17.0</td>\n",
       "      <td>60.0</td>\n",
       "      <td>0.9980</td>\n",
       "      <td>3.16</td>\n",
       "      <td>0.58</td>\n",
       "      <td>9.8</td>\n",
       "      <td>good</td>\n",
       "    </tr>\n",
       "    <tr>\n",
       "      <th>4</th>\n",
       "      <td>7.4</td>\n",
       "      <td>0.70</td>\n",
       "      <td>0.00</td>\n",
       "      <td>1.9</td>\n",
       "      <td>0.076</td>\n",
       "      <td>11.0</td>\n",
       "      <td>34.0</td>\n",
       "      <td>0.9978</td>\n",
       "      <td>3.51</td>\n",
       "      <td>0.56</td>\n",
       "      <td>9.4</td>\n",
       "      <td>bad</td>\n",
       "    </tr>\n",
       "  </tbody>\n",
       "</table>\n",
       "</div>"
      ],
      "text/plain": [
       "   fixed acidity  volatile acidity  citric acid  residual sugar  chlorides  \\\n",
       "0            7.4              0.70         0.00             1.9      0.076   \n",
       "1            7.8              0.88         0.00             2.6      0.098   \n",
       "2            7.8              0.76         0.04             2.3      0.092   \n",
       "3           11.2              0.28         0.56             1.9      0.075   \n",
       "4            7.4              0.70         0.00             1.9      0.076   \n",
       "\n",
       "   free sulfur dioxide  total sulfur dioxide  density    pH  sulphates  \\\n",
       "0                 11.0                  34.0   0.9978  3.51       0.56   \n",
       "1                 25.0                  67.0   0.9968  3.20       0.68   \n",
       "2                 15.0                  54.0   0.9970  3.26       0.65   \n",
       "3                 17.0                  60.0   0.9980  3.16       0.58   \n",
       "4                 11.0                  34.0   0.9978  3.51       0.56   \n",
       "\n",
       "   alcohol quality  \n",
       "0      9.4     bad  \n",
       "1      9.8     bad  \n",
       "2      9.8     bad  \n",
       "3      9.8    good  \n",
       "4      9.4     bad  "
      ]
     },
     "execution_count": 5,
     "metadata": {},
     "output_type": "execute_result"
    }
   ],
   "source": [
    "df.head()"
   ]
  },
  {
   "cell_type": "code",
   "execution_count": 6,
   "id": "189dbfc7-2b78-4f00-bd0e-174e76070814",
   "metadata": {},
   "outputs": [],
   "source": [
    "# Q3. Check for null values, identify categorical variables, and encode them."
   ]
  },
  {
   "cell_type": "code",
   "execution_count": 7,
   "id": "0a839003-4d2b-4fde-b1fe-04bb383144b6",
   "metadata": {},
   "outputs": [
    {
     "data": {
      "text/plain": [
       "fixed acidity           0\n",
       "volatile acidity        0\n",
       "citric acid             0\n",
       "residual sugar          0\n",
       "chlorides               0\n",
       "free sulfur dioxide     0\n",
       "total sulfur dioxide    0\n",
       "density                 0\n",
       "pH                      0\n",
       "sulphates               0\n",
       "alcohol                 0\n",
       "quality                 0\n",
       "dtype: int64"
      ]
     },
     "execution_count": 7,
     "metadata": {},
     "output_type": "execute_result"
    }
   ],
   "source": [
    "df.isnull().sum()"
   ]
  },
  {
   "cell_type": "code",
   "execution_count": 8,
   "id": "64879cc9-6834-44f5-aafa-cb41ecf9b77c",
   "metadata": {},
   "outputs": [
    {
     "name": "stdout",
     "output_type": "stream",
     "text": [
      "<class 'pandas.core.frame.DataFrame'>\n",
      "RangeIndex: 1599 entries, 0 to 1598\n",
      "Data columns (total 12 columns):\n",
      " #   Column                Non-Null Count  Dtype  \n",
      "---  ------                --------------  -----  \n",
      " 0   fixed acidity         1599 non-null   float64\n",
      " 1   volatile acidity      1599 non-null   float64\n",
      " 2   citric acid           1599 non-null   float64\n",
      " 3   residual sugar        1599 non-null   float64\n",
      " 4   chlorides             1599 non-null   float64\n",
      " 5   free sulfur dioxide   1599 non-null   float64\n",
      " 6   total sulfur dioxide  1599 non-null   float64\n",
      " 7   density               1599 non-null   float64\n",
      " 8   pH                    1599 non-null   float64\n",
      " 9   sulphates             1599 non-null   float64\n",
      " 10  alcohol               1599 non-null   float64\n",
      " 11  quality               1599 non-null   object \n",
      "dtypes: float64(11), object(1)\n",
      "memory usage: 150.0+ KB\n"
     ]
    }
   ],
   "source": [
    "df.info()"
   ]
  },
  {
   "cell_type": "code",
   "execution_count": 9,
   "id": "26c7a4a3-bea4-45f7-ad7d-da8bbcf0d0f3",
   "metadata": {},
   "outputs": [],
   "source": [
    "from sklearn.preprocessing import LabelEncoder\n",
    "le=LabelEncoder()\n"
   ]
  },
  {
   "cell_type": "code",
   "execution_count": 10,
   "id": "3eb86e81-111c-4ba7-9aa7-2f875d44f928",
   "metadata": {},
   "outputs": [
    {
     "data": {
      "text/plain": [
       "array(['bad', 'good'], dtype=object)"
      ]
     },
     "execution_count": 10,
     "metadata": {},
     "output_type": "execute_result"
    }
   ],
   "source": [
    "df.quality.unique()"
   ]
  },
  {
   "cell_type": "code",
   "execution_count": 11,
   "id": "42f0797e-7c75-4921-a1ff-d0882b997e2a",
   "metadata": {},
   "outputs": [
    {
     "data": {
      "text/plain": [
       "good    855\n",
       "bad     744\n",
       "Name: quality, dtype: int64"
      ]
     },
     "execution_count": 11,
     "metadata": {},
     "output_type": "execute_result"
    }
   ],
   "source": [
    "df.quality.value_counts()"
   ]
  },
  {
   "cell_type": "code",
   "execution_count": 12,
   "id": "5160375c-0c2a-43b8-8187-c43cb992f725",
   "metadata": {},
   "outputs": [],
   "source": [
    "# converting catagorical to numarical\n",
    "df.quality=le.fit_transform(df.quality)"
   ]
  },
  {
   "cell_type": "code",
   "execution_count": 13,
   "id": "1d2ee13d-fde2-41e6-b7ff-6931692c6ff9",
   "metadata": {},
   "outputs": [
    {
     "data": {
      "text/html": [
       "<div>\n",
       "<style scoped>\n",
       "    .dataframe tbody tr th:only-of-type {\n",
       "        vertical-align: middle;\n",
       "    }\n",
       "\n",
       "    .dataframe tbody tr th {\n",
       "        vertical-align: top;\n",
       "    }\n",
       "\n",
       "    .dataframe thead th {\n",
       "        text-align: right;\n",
       "    }\n",
       "</style>\n",
       "<table border=\"1\" class=\"dataframe\">\n",
       "  <thead>\n",
       "    <tr style=\"text-align: right;\">\n",
       "      <th></th>\n",
       "      <th>fixed acidity</th>\n",
       "      <th>volatile acidity</th>\n",
       "      <th>citric acid</th>\n",
       "      <th>residual sugar</th>\n",
       "      <th>chlorides</th>\n",
       "      <th>free sulfur dioxide</th>\n",
       "      <th>total sulfur dioxide</th>\n",
       "      <th>density</th>\n",
       "      <th>pH</th>\n",
       "      <th>sulphates</th>\n",
       "      <th>alcohol</th>\n",
       "      <th>quality</th>\n",
       "    </tr>\n",
       "  </thead>\n",
       "  <tbody>\n",
       "    <tr>\n",
       "      <th>0</th>\n",
       "      <td>7.4</td>\n",
       "      <td>0.70</td>\n",
       "      <td>0.00</td>\n",
       "      <td>1.9</td>\n",
       "      <td>0.076</td>\n",
       "      <td>11.0</td>\n",
       "      <td>34.0</td>\n",
       "      <td>0.9978</td>\n",
       "      <td>3.51</td>\n",
       "      <td>0.56</td>\n",
       "      <td>9.4</td>\n",
       "      <td>0</td>\n",
       "    </tr>\n",
       "    <tr>\n",
       "      <th>1</th>\n",
       "      <td>7.8</td>\n",
       "      <td>0.88</td>\n",
       "      <td>0.00</td>\n",
       "      <td>2.6</td>\n",
       "      <td>0.098</td>\n",
       "      <td>25.0</td>\n",
       "      <td>67.0</td>\n",
       "      <td>0.9968</td>\n",
       "      <td>3.20</td>\n",
       "      <td>0.68</td>\n",
       "      <td>9.8</td>\n",
       "      <td>0</td>\n",
       "    </tr>\n",
       "    <tr>\n",
       "      <th>2</th>\n",
       "      <td>7.8</td>\n",
       "      <td>0.76</td>\n",
       "      <td>0.04</td>\n",
       "      <td>2.3</td>\n",
       "      <td>0.092</td>\n",
       "      <td>15.0</td>\n",
       "      <td>54.0</td>\n",
       "      <td>0.9970</td>\n",
       "      <td>3.26</td>\n",
       "      <td>0.65</td>\n",
       "      <td>9.8</td>\n",
       "      <td>0</td>\n",
       "    </tr>\n",
       "    <tr>\n",
       "      <th>3</th>\n",
       "      <td>11.2</td>\n",
       "      <td>0.28</td>\n",
       "      <td>0.56</td>\n",
       "      <td>1.9</td>\n",
       "      <td>0.075</td>\n",
       "      <td>17.0</td>\n",
       "      <td>60.0</td>\n",
       "      <td>0.9980</td>\n",
       "      <td>3.16</td>\n",
       "      <td>0.58</td>\n",
       "      <td>9.8</td>\n",
       "      <td>1</td>\n",
       "    </tr>\n",
       "    <tr>\n",
       "      <th>4</th>\n",
       "      <td>7.4</td>\n",
       "      <td>0.70</td>\n",
       "      <td>0.00</td>\n",
       "      <td>1.9</td>\n",
       "      <td>0.076</td>\n",
       "      <td>11.0</td>\n",
       "      <td>34.0</td>\n",
       "      <td>0.9978</td>\n",
       "      <td>3.51</td>\n",
       "      <td>0.56</td>\n",
       "      <td>9.4</td>\n",
       "      <td>0</td>\n",
       "    </tr>\n",
       "  </tbody>\n",
       "</table>\n",
       "</div>"
      ],
      "text/plain": [
       "   fixed acidity  volatile acidity  citric acid  residual sugar  chlorides  \\\n",
       "0            7.4              0.70         0.00             1.9      0.076   \n",
       "1            7.8              0.88         0.00             2.6      0.098   \n",
       "2            7.8              0.76         0.04             2.3      0.092   \n",
       "3           11.2              0.28         0.56             1.9      0.075   \n",
       "4            7.4              0.70         0.00             1.9      0.076   \n",
       "\n",
       "   free sulfur dioxide  total sulfur dioxide  density    pH  sulphates  \\\n",
       "0                 11.0                  34.0   0.9978  3.51       0.56   \n",
       "1                 25.0                  67.0   0.9968  3.20       0.68   \n",
       "2                 15.0                  54.0   0.9970  3.26       0.65   \n",
       "3                 17.0                  60.0   0.9980  3.16       0.58   \n",
       "4                 11.0                  34.0   0.9978  3.51       0.56   \n",
       "\n",
       "   alcohol  quality  \n",
       "0      9.4        0  \n",
       "1      9.8        0  \n",
       "2      9.8        0  \n",
       "3      9.8        1  \n",
       "4      9.4        0  "
      ]
     },
     "execution_count": 13,
     "metadata": {},
     "output_type": "execute_result"
    }
   ],
   "source": [
    "df.head()"
   ]
  },
  {
   "cell_type": "code",
   "execution_count": 14,
   "id": "a064c587-0dbe-4ca1-8841-d8b9e371beeb",
   "metadata": {},
   "outputs": [
    {
     "data": {
      "text/plain": [
       "1    855\n",
       "0    744\n",
       "Name: quality, dtype: int64"
      ]
     },
     "execution_count": 14,
     "metadata": {},
     "output_type": "execute_result"
    }
   ],
   "source": [
    "df.quality.value_counts()"
   ]
  },
  {
   "cell_type": "code",
   "execution_count": 15,
   "id": "cea6daca-1e7a-4a39-b75e-4bd90e7bb03b",
   "metadata": {},
   "outputs": [
    {
     "data": {
      "text/plain": [
       "240"
      ]
     },
     "execution_count": 15,
     "metadata": {},
     "output_type": "execute_result"
    }
   ],
   "source": [
    "df.duplicated().sum()"
   ]
  },
  {
   "cell_type": "code",
   "execution_count": 16,
   "id": "89430491-513b-4218-88be-d9f620dd1d40",
   "metadata": {},
   "outputs": [],
   "source": [
    "df.drop_duplicates(inplace=True)"
   ]
  },
  {
   "cell_type": "code",
   "execution_count": 17,
   "id": "5d5e6f82-e1a7-499d-830a-c0adb0fc2f51",
   "metadata": {},
   "outputs": [
    {
     "data": {
      "text/plain": [
       "0"
      ]
     },
     "execution_count": 17,
     "metadata": {},
     "output_type": "execute_result"
    }
   ],
   "source": [
    "df.duplicated().sum()"
   ]
  },
  {
   "cell_type": "code",
   "execution_count": 18,
   "id": "d57fdf0c-6778-41eb-848b-5656a830246e",
   "metadata": {},
   "outputs": [],
   "source": [
    "# Q4. Separate the features and target variables from the dataset."
   ]
  },
  {
   "cell_type": "code",
   "execution_count": 19,
   "id": "ff614d4f-bb41-48f8-bd3e-89f1ff82ffb4",
   "metadata": {},
   "outputs": [],
   "source": [
    "x=df.drop('quality',axis=1)\n",
    "y=df.quality"
   ]
  },
  {
   "cell_type": "code",
   "execution_count": 20,
   "id": "2efad787-e774-43ed-aeda-402224e798e0",
   "metadata": {},
   "outputs": [
    {
     "data": {
      "text/html": [
       "<div>\n",
       "<style scoped>\n",
       "    .dataframe tbody tr th:only-of-type {\n",
       "        vertical-align: middle;\n",
       "    }\n",
       "\n",
       "    .dataframe tbody tr th {\n",
       "        vertical-align: top;\n",
       "    }\n",
       "\n",
       "    .dataframe thead th {\n",
       "        text-align: right;\n",
       "    }\n",
       "</style>\n",
       "<table border=\"1\" class=\"dataframe\">\n",
       "  <thead>\n",
       "    <tr style=\"text-align: right;\">\n",
       "      <th></th>\n",
       "      <th>fixed acidity</th>\n",
       "      <th>volatile acidity</th>\n",
       "      <th>citric acid</th>\n",
       "      <th>residual sugar</th>\n",
       "      <th>chlorides</th>\n",
       "      <th>free sulfur dioxide</th>\n",
       "      <th>total sulfur dioxide</th>\n",
       "      <th>density</th>\n",
       "      <th>pH</th>\n",
       "      <th>sulphates</th>\n",
       "      <th>alcohol</th>\n",
       "    </tr>\n",
       "  </thead>\n",
       "  <tbody>\n",
       "    <tr>\n",
       "      <th>0</th>\n",
       "      <td>7.4</td>\n",
       "      <td>0.70</td>\n",
       "      <td>0.00</td>\n",
       "      <td>1.9</td>\n",
       "      <td>0.076</td>\n",
       "      <td>11.0</td>\n",
       "      <td>34.0</td>\n",
       "      <td>0.9978</td>\n",
       "      <td>3.51</td>\n",
       "      <td>0.56</td>\n",
       "      <td>9.4</td>\n",
       "    </tr>\n",
       "    <tr>\n",
       "      <th>1</th>\n",
       "      <td>7.8</td>\n",
       "      <td>0.88</td>\n",
       "      <td>0.00</td>\n",
       "      <td>2.6</td>\n",
       "      <td>0.098</td>\n",
       "      <td>25.0</td>\n",
       "      <td>67.0</td>\n",
       "      <td>0.9968</td>\n",
       "      <td>3.20</td>\n",
       "      <td>0.68</td>\n",
       "      <td>9.8</td>\n",
       "    </tr>\n",
       "    <tr>\n",
       "      <th>2</th>\n",
       "      <td>7.8</td>\n",
       "      <td>0.76</td>\n",
       "      <td>0.04</td>\n",
       "      <td>2.3</td>\n",
       "      <td>0.092</td>\n",
       "      <td>15.0</td>\n",
       "      <td>54.0</td>\n",
       "      <td>0.9970</td>\n",
       "      <td>3.26</td>\n",
       "      <td>0.65</td>\n",
       "      <td>9.8</td>\n",
       "    </tr>\n",
       "    <tr>\n",
       "      <th>3</th>\n",
       "      <td>11.2</td>\n",
       "      <td>0.28</td>\n",
       "      <td>0.56</td>\n",
       "      <td>1.9</td>\n",
       "      <td>0.075</td>\n",
       "      <td>17.0</td>\n",
       "      <td>60.0</td>\n",
       "      <td>0.9980</td>\n",
       "      <td>3.16</td>\n",
       "      <td>0.58</td>\n",
       "      <td>9.8</td>\n",
       "    </tr>\n",
       "    <tr>\n",
       "      <th>5</th>\n",
       "      <td>7.4</td>\n",
       "      <td>0.66</td>\n",
       "      <td>0.00</td>\n",
       "      <td>1.8</td>\n",
       "      <td>0.075</td>\n",
       "      <td>13.0</td>\n",
       "      <td>40.0</td>\n",
       "      <td>0.9978</td>\n",
       "      <td>3.51</td>\n",
       "      <td>0.56</td>\n",
       "      <td>9.4</td>\n",
       "    </tr>\n",
       "  </tbody>\n",
       "</table>\n",
       "</div>"
      ],
      "text/plain": [
       "   fixed acidity  volatile acidity  citric acid  residual sugar  chlorides  \\\n",
       "0            7.4              0.70         0.00             1.9      0.076   \n",
       "1            7.8              0.88         0.00             2.6      0.098   \n",
       "2            7.8              0.76         0.04             2.3      0.092   \n",
       "3           11.2              0.28         0.56             1.9      0.075   \n",
       "5            7.4              0.66         0.00             1.8      0.075   \n",
       "\n",
       "   free sulfur dioxide  total sulfur dioxide  density    pH  sulphates  \\\n",
       "0                 11.0                  34.0   0.9978  3.51       0.56   \n",
       "1                 25.0                  67.0   0.9968  3.20       0.68   \n",
       "2                 15.0                  54.0   0.9970  3.26       0.65   \n",
       "3                 17.0                  60.0   0.9980  3.16       0.58   \n",
       "5                 13.0                  40.0   0.9978  3.51       0.56   \n",
       "\n",
       "   alcohol  \n",
       "0      9.4  \n",
       "1      9.8  \n",
       "2      9.8  \n",
       "3      9.8  \n",
       "5      9.4  "
      ]
     },
     "execution_count": 20,
     "metadata": {},
     "output_type": "execute_result"
    }
   ],
   "source": [
    "x.head()"
   ]
  },
  {
   "cell_type": "code",
   "execution_count": 21,
   "id": "41fa1248-1d38-4f22-8438-5fc3b45384de",
   "metadata": {},
   "outputs": [
    {
     "data": {
      "text/plain": [
       "0    0\n",
       "1    0\n",
       "2    0\n",
       "3    1\n",
       "5    0\n",
       "Name: quality, dtype: int64"
      ]
     },
     "execution_count": 21,
     "metadata": {},
     "output_type": "execute_result"
    }
   ],
   "source": [
    "y.head()"
   ]
  },
  {
   "cell_type": "code",
   "execution_count": 22,
   "id": "3c58da7a-c612-49c9-9549-9089f46912e2",
   "metadata": {},
   "outputs": [],
   "source": [
    "# Q5. Perform a train-test split, dividing the data into training, validation, and test datasets."
   ]
  },
  {
   "cell_type": "code",
   "execution_count": 23,
   "id": "56fb449d-207c-4af2-98e4-fd7aca4e43ff",
   "metadata": {},
   "outputs": [],
   "source": [
    "from sklearn.model_selection import train_test_split\n",
    "x_train,x_test,y_train,y_test=train_test_split(x,y,test_size=0.26,random_state=42)"
   ]
  },
  {
   "cell_type": "code",
   "execution_count": 24,
   "id": "f00f358e-d6d9-4b6c-9129-878f0060531a",
   "metadata": {},
   "outputs": [
    {
     "data": {
      "text/plain": [
       "((1005, 11), (1005,))"
      ]
     },
     "execution_count": 24,
     "metadata": {},
     "output_type": "execute_result"
    }
   ],
   "source": [
    "x_train.shape,y_train.shape"
   ]
  },
  {
   "cell_type": "code",
   "execution_count": 25,
   "id": "55d2ec5a-2565-40f5-8021-4d75a09ef0af",
   "metadata": {},
   "outputs": [
    {
     "data": {
      "text/plain": [
       "((354, 11), (354,))"
      ]
     },
     "execution_count": 25,
     "metadata": {},
     "output_type": "execute_result"
    }
   ],
   "source": [
    "x_test.shape,y_test.shape"
   ]
  },
  {
   "cell_type": "code",
   "execution_count": 26,
   "id": "26d10ed4-4b1a-49ec-bd7a-4671598bb6ed",
   "metadata": {},
   "outputs": [],
   "source": [
    "# Q6. Scale the dataset using an appropriate scaling technique."
   ]
  },
  {
   "cell_type": "code",
   "execution_count": 27,
   "id": "d0ec5615-9f7d-4e97-887a-b6645fc417d9",
   "metadata": {},
   "outputs": [],
   "source": [
    "from sklearn.preprocessing import StandardScaler\n",
    "scaler=StandardScaler()\n",
    "x_train_sc=scaler.fit_transform(x_train)\n",
    "x_test_sc=scaler.transform(x_test)"
   ]
  },
  {
   "cell_type": "code",
   "execution_count": 28,
   "id": "f3906d18-3266-42a7-a190-29503c104795",
   "metadata": {},
   "outputs": [],
   "source": [
    "# Q7. Design and implement at least two hidden layers and an output layer for the binary categorical\n",
    "# # variables."
   ]
  },
  {
   "cell_type": "code",
   "execution_count": 29,
   "id": "aa44d08d-4c06-4c56-b8b3-854096c98435",
   "metadata": {},
   "outputs": [],
   "source": [
    "LAYERS = [tf.keras.layers.Input(shape=(x_train_sc.shape[1],)),\n",
    "          tf.keras.layers.Dense(200, activation=\"relu\", name=\"hiddenLayer1\"),\n",
    "          tf.keras.layers.Dense(100, activation=\"relu\", name=\"hiddenLayer2\"),\n",
    "          tf.keras.layers.Dense(1, activation=\"sigmoid\", name=\"outputLayer\")]\n",
    "\n",
    "\n",
    "\n",
    "\n",
    "# Q8. Create a Sequential model in Keras and add the previously designed layers to it.\n",
    "model_clf = tf.keras.models.Sequential(LAYERS)"
   ]
  },
  {
   "cell_type": "code",
   "execution_count": null,
   "id": "621f291b-c343-4fd2-a872-02219e8719f4",
   "metadata": {},
   "outputs": [],
   "source": []
  },
  {
   "cell_type": "code",
   "execution_count": 30,
   "id": "4d15c513-f5ca-4619-ba45-297b3eeb6068",
   "metadata": {},
   "outputs": [
    {
     "data": {
      "text/plain": [
       "[<keras.src.layers.core.dense.Dense at 0x7fbbe821e080>,\n",
       " <keras.src.layers.core.dense.Dense at 0x7fbbe821e110>,\n",
       " <keras.src.layers.core.dense.Dense at 0x7fbbe821e500>]"
      ]
     },
     "execution_count": 30,
     "metadata": {},
     "output_type": "execute_result"
    }
   ],
   "source": [
    "model_clf.layers"
   ]
  },
  {
   "cell_type": "code",
   "execution_count": 31,
   "id": "cbc2fd9e-2d73-4ac8-9e8b-7cf549402382",
   "metadata": {},
   "outputs": [
    {
     "name": "stdout",
     "output_type": "stream",
     "text": [
      "Model: \"sequential\"\n",
      "_________________________________________________________________\n",
      " Layer (type)                Output Shape              Param #   \n",
      "=================================================================\n",
      " hiddenLayer1 (Dense)        (None, 200)               2400      \n",
      "                                                                 \n",
      " hiddenLayer2 (Dense)        (None, 100)               20100     \n",
      "                                                                 \n",
      " outputLayer (Dense)         (None, 1)                 101       \n",
      "                                                                 \n",
      "=================================================================\n",
      "Total params: 22601 (88.29 KB)\n",
      "Trainable params: 22601 (88.29 KB)\n",
      "Non-trainable params: 0 (0.00 Byte)\n",
      "_________________________________________________________________\n"
     ]
    }
   ],
   "source": [
    "# Q9. Print the summary of the model architecture.\n",
    "model_clf.summary()"
   ]
  },
  {
   "cell_type": "code",
   "execution_count": 32,
   "id": "a0c7ab10-c3d2-467f-81c5-af7350be7403",
   "metadata": {},
   "outputs": [],
   "source": [
    "hidden=model_clf.layers[2]"
   ]
  },
  {
   "cell_type": "code",
   "execution_count": 33,
   "id": "6a44e2db-4eeb-4a8e-9d73-b97eba3f3656",
   "metadata": {},
   "outputs": [],
   "source": [
    "weights,bias=hidden.get_weights()"
   ]
  },
  {
   "cell_type": "code",
   "execution_count": 34,
   "id": "49458985-15ff-4f2c-baf1-d29cbe211c54",
   "metadata": {},
   "outputs": [
    {
     "data": {
      "text/plain": [
       "100"
      ]
     },
     "execution_count": 34,
     "metadata": {},
     "output_type": "execute_result"
    }
   ],
   "source": [
    "len(weights)"
   ]
  },
  {
   "cell_type": "code",
   "execution_count": 35,
   "id": "75accfa7-3a40-443f-aa77-862893fbe063",
   "metadata": {},
   "outputs": [
    {
     "data": {
      "text/plain": [
       "1"
      ]
     },
     "execution_count": 35,
     "metadata": {},
     "output_type": "execute_result"
    }
   ],
   "source": [
    "len(bias)"
   ]
  },
  {
   "cell_type": "code",
   "execution_count": 36,
   "id": "1bcbf10f-ba8d-457b-b130-1b1e27237a5e",
   "metadata": {},
   "outputs": [],
   "source": [
    "# Q10. Set the loss function(‘binary_crossentropy’), optimizer, and include the accuracy metric in the model."
   ]
  },
  {
   "cell_type": "code",
   "execution_count": 37,
   "id": "36443daa-3219-4068-8721-757b8e0a8aae",
   "metadata": {},
   "outputs": [],
   "source": [
    "loss_fun='binary_crossentropy'\n",
    "optimizer=tf.keras.optimizers.Adam(learning_rate=0.002)\n",
    "metrics=['accuracy']\n",
    "\n",
    "\n",
    "# Q11. Compile the model with the specified loss function, optimizer, and metrics.\n",
    "\n",
    "model_clf.compile(optimizer=optimizer,loss=loss_fun,metrics=metrics)"
   ]
  },
  {
   "cell_type": "code",
   "execution_count": 38,
   "id": "452d3694-958a-450c-affe-aa062160f1f1",
   "metadata": {},
   "outputs": [],
   "source": [
    "# Q12. Fit the model to the training data using appropriate batch size and number of epochs."
   ]
  },
  {
   "cell_type": "code",
   "execution_count": 39,
   "id": "adcd9cb4-6056-4121-9caa-3cc4a68bf958",
   "metadata": {
    "collapsed": true,
    "jupyter": {
     "outputs_hidden": true
    },
    "tags": []
   },
   "outputs": [
    {
     "name": "stdout",
     "output_type": "stream",
     "text": [
      "Epoch 1/30\n",
      "32/32 [==============================] - 1s 10ms/step - loss: 0.5669 - accuracy: 0.7095 - val_loss: 0.4925 - val_accuracy: 0.7514\n",
      "Epoch 2/30\n",
      "32/32 [==============================] - 0s 4ms/step - loss: 0.5122 - accuracy: 0.7512 - val_loss: 0.4861 - val_accuracy: 0.7542\n",
      "Epoch 3/30\n",
      "32/32 [==============================] - 0s 4ms/step - loss: 0.4914 - accuracy: 0.7473 - val_loss: 0.4885 - val_accuracy: 0.7712\n",
      "Epoch 4/30\n",
      "32/32 [==============================] - 0s 4ms/step - loss: 0.4805 - accuracy: 0.7692 - val_loss: 0.4926 - val_accuracy: 0.7684\n",
      "Epoch 5/30\n",
      "32/32 [==============================] - 0s 4ms/step - loss: 0.4703 - accuracy: 0.7692 - val_loss: 0.5108 - val_accuracy: 0.7486\n",
      "Epoch 6/30\n",
      "32/32 [==============================] - 0s 3ms/step - loss: 0.4689 - accuracy: 0.7662 - val_loss: 0.5009 - val_accuracy: 0.7655\n",
      "Epoch 7/30\n",
      "32/32 [==============================] - 0s 3ms/step - loss: 0.4578 - accuracy: 0.7960 - val_loss: 0.5004 - val_accuracy: 0.7797\n",
      "Epoch 8/30\n",
      "32/32 [==============================] - 0s 3ms/step - loss: 0.4453 - accuracy: 0.7811 - val_loss: 0.5004 - val_accuracy: 0.7514\n",
      "Epoch 9/30\n",
      "32/32 [==============================] - 0s 3ms/step - loss: 0.4396 - accuracy: 0.7811 - val_loss: 0.5136 - val_accuracy: 0.7429\n",
      "Epoch 10/30\n",
      "32/32 [==============================] - 0s 3ms/step - loss: 0.4246 - accuracy: 0.7990 - val_loss: 0.5290 - val_accuracy: 0.7486\n",
      "Epoch 11/30\n",
      "32/32 [==============================] - 0s 3ms/step - loss: 0.4229 - accuracy: 0.7980 - val_loss: 0.5387 - val_accuracy: 0.7514\n",
      "Epoch 12/30\n",
      "32/32 [==============================] - 0s 3ms/step - loss: 0.4042 - accuracy: 0.8080 - val_loss: 0.5459 - val_accuracy: 0.7401\n",
      "Epoch 13/30\n",
      "32/32 [==============================] - 0s 3ms/step - loss: 0.4166 - accuracy: 0.8010 - val_loss: 0.5909 - val_accuracy: 0.7345\n",
      "Epoch 14/30\n",
      "32/32 [==============================] - 0s 3ms/step - loss: 0.4016 - accuracy: 0.8060 - val_loss: 0.5421 - val_accuracy: 0.7542\n",
      "Epoch 15/30\n",
      "32/32 [==============================] - 0s 3ms/step - loss: 0.3913 - accuracy: 0.8279 - val_loss: 0.5693 - val_accuracy: 0.7429\n",
      "Epoch 16/30\n",
      "32/32 [==============================] - 0s 4ms/step - loss: 0.3831 - accuracy: 0.8269 - val_loss: 0.5847 - val_accuracy: 0.7316\n",
      "Epoch 17/30\n",
      "32/32 [==============================] - 0s 3ms/step - loss: 0.3740 - accuracy: 0.8398 - val_loss: 0.5565 - val_accuracy: 0.7514\n",
      "Epoch 18/30\n",
      "32/32 [==============================] - 0s 3ms/step - loss: 0.3526 - accuracy: 0.8428 - val_loss: 0.5790 - val_accuracy: 0.7345\n",
      "Epoch 19/30\n",
      "32/32 [==============================] - 0s 3ms/step - loss: 0.3528 - accuracy: 0.8527 - val_loss: 0.6136 - val_accuracy: 0.7288\n",
      "Epoch 20/30\n",
      "32/32 [==============================] - 0s 3ms/step - loss: 0.3369 - accuracy: 0.8537 - val_loss: 0.5956 - val_accuracy: 0.7288\n",
      "Epoch 21/30\n",
      "32/32 [==============================] - 0s 3ms/step - loss: 0.3298 - accuracy: 0.8468 - val_loss: 0.6419 - val_accuracy: 0.7260\n",
      "Epoch 22/30\n",
      "32/32 [==============================] - 0s 3ms/step - loss: 0.3181 - accuracy: 0.8706 - val_loss: 0.6981 - val_accuracy: 0.7062\n",
      "Epoch 23/30\n",
      "32/32 [==============================] - 0s 4ms/step - loss: 0.3238 - accuracy: 0.8637 - val_loss: 0.6834 - val_accuracy: 0.7458\n",
      "Epoch 24/30\n",
      "32/32 [==============================] - 0s 3ms/step - loss: 0.3410 - accuracy: 0.8657 - val_loss: 0.6500 - val_accuracy: 0.7401\n",
      "Epoch 25/30\n",
      "32/32 [==============================] - 0s 3ms/step - loss: 0.3119 - accuracy: 0.8607 - val_loss: 0.6928 - val_accuracy: 0.7345\n",
      "Epoch 26/30\n",
      "32/32 [==============================] - 0s 3ms/step - loss: 0.3127 - accuracy: 0.8637 - val_loss: 0.6532 - val_accuracy: 0.7175\n",
      "Epoch 27/30\n",
      "32/32 [==============================] - 0s 3ms/step - loss: 0.3006 - accuracy: 0.8736 - val_loss: 0.6325 - val_accuracy: 0.7486\n",
      "Epoch 28/30\n",
      "32/32 [==============================] - 0s 3ms/step - loss: 0.2918 - accuracy: 0.8766 - val_loss: 0.6851 - val_accuracy: 0.7316\n",
      "Epoch 29/30\n",
      "32/32 [==============================] - 0s 3ms/step - loss: 0.2822 - accuracy: 0.8846 - val_loss: 0.6715 - val_accuracy: 0.7429\n",
      "Epoch 30/30\n",
      "32/32 [==============================] - 0s 3ms/step - loss: 0.2701 - accuracy: 0.8856 - val_loss: 0.6908 - val_accuracy: 0.7260\n"
     ]
    }
   ],
   "source": [
    "v_history=model_clf.fit(x_train_sc,y_train,epochs=30,batch_size=32,validation_data=(x_test_sc,y_test))"
   ]
  },
  {
   "cell_type": "code",
   "execution_count": 40,
   "id": "fa2d8522-e438-440e-99aa-18ce37dbbe8c",
   "metadata": {
    "collapsed": true,
    "jupyter": {
     "outputs_hidden": true
    },
    "tags": []
   },
   "outputs": [
    {
     "name": "stdout",
     "output_type": "stream",
     "text": [
      "Epoch 1/30\n",
      "32/32 [==============================] - 0s 2ms/step - loss: 0.2519 - accuracy: 0.8935\n",
      "Epoch 2/30\n",
      "32/32 [==============================] - 0s 2ms/step - loss: 0.2508 - accuracy: 0.8965\n",
      "Epoch 3/30\n",
      "32/32 [==============================] - 0s 2ms/step - loss: 0.2368 - accuracy: 0.9075\n",
      "Epoch 4/30\n",
      "32/32 [==============================] - 0s 2ms/step - loss: 0.2304 - accuracy: 0.9065\n",
      "Epoch 5/30\n",
      "32/32 [==============================] - 0s 2ms/step - loss: 0.2346 - accuracy: 0.9134\n",
      "Epoch 6/30\n",
      "32/32 [==============================] - 0s 2ms/step - loss: 0.2207 - accuracy: 0.9164\n",
      "Epoch 7/30\n",
      "32/32 [==============================] - 0s 2ms/step - loss: 0.2215 - accuracy: 0.9075\n",
      "Epoch 8/30\n",
      "32/32 [==============================] - 0s 2ms/step - loss: 0.2090 - accuracy: 0.9095\n",
      "Epoch 9/30\n",
      "32/32 [==============================] - 0s 2ms/step - loss: 0.2010 - accuracy: 0.9234\n",
      "Epoch 10/30\n",
      "32/32 [==============================] - 0s 2ms/step - loss: 0.1954 - accuracy: 0.9264\n",
      "Epoch 11/30\n",
      "32/32 [==============================] - 0s 2ms/step - loss: 0.1904 - accuracy: 0.9224\n",
      "Epoch 12/30\n",
      "32/32 [==============================] - 0s 2ms/step - loss: 0.1716 - accuracy: 0.9443\n",
      "Epoch 13/30\n",
      "32/32 [==============================] - 0s 2ms/step - loss: 0.1746 - accuracy: 0.9413\n",
      "Epoch 14/30\n",
      "32/32 [==============================] - 0s 2ms/step - loss: 0.1598 - accuracy: 0.9443\n",
      "Epoch 15/30\n",
      "32/32 [==============================] - 0s 2ms/step - loss: 0.1520 - accuracy: 0.9532\n",
      "Epoch 16/30\n",
      "32/32 [==============================] - 0s 2ms/step - loss: 0.1483 - accuracy: 0.9483\n",
      "Epoch 17/30\n",
      "32/32 [==============================] - 0s 2ms/step - loss: 0.1623 - accuracy: 0.9393\n",
      "Epoch 18/30\n",
      "32/32 [==============================] - 0s 2ms/step - loss: 0.1855 - accuracy: 0.9343\n",
      "Epoch 19/30\n",
      "32/32 [==============================] - 0s 2ms/step - loss: 0.1463 - accuracy: 0.9473\n",
      "Epoch 20/30\n",
      "32/32 [==============================] - 0s 2ms/step - loss: 0.1331 - accuracy: 0.9532\n",
      "Epoch 21/30\n",
      "32/32 [==============================] - 0s 2ms/step - loss: 0.1261 - accuracy: 0.9612\n",
      "Epoch 22/30\n",
      "32/32 [==============================] - 0s 2ms/step - loss: 0.1207 - accuracy: 0.9622\n",
      "Epoch 23/30\n",
      "32/32 [==============================] - 0s 2ms/step - loss: 0.1157 - accuracy: 0.9642\n",
      "Epoch 24/30\n",
      "32/32 [==============================] - 0s 2ms/step - loss: 0.1176 - accuracy: 0.9662\n",
      "Epoch 25/30\n",
      "32/32 [==============================] - 0s 2ms/step - loss: 0.1099 - accuracy: 0.9652\n",
      "Epoch 26/30\n",
      "32/32 [==============================] - 0s 2ms/step - loss: 0.1397 - accuracy: 0.9463\n",
      "Epoch 27/30\n",
      "32/32 [==============================] - 0s 2ms/step - loss: 0.1254 - accuracy: 0.9582\n",
      "Epoch 28/30\n",
      "32/32 [==============================] - 0s 2ms/step - loss: 0.1113 - accuracy: 0.9652\n",
      "Epoch 29/30\n",
      "32/32 [==============================] - 0s 2ms/step - loss: 0.1110 - accuracy: 0.9602\n",
      "Epoch 30/30\n",
      "32/32 [==============================] - 0s 2ms/step - loss: 0.0951 - accuracy: 0.9721\n"
     ]
    }
   ],
   "source": [
    "model_history=model_clf.fit(x_train_sc,y_train,epochs=30,batch_size=32)"
   ]
  },
  {
   "cell_type": "code",
   "execution_count": 41,
   "id": "129fffae-650b-4c13-98e8-e69abfdea21b",
   "metadata": {},
   "outputs": [
    {
     "data": {
      "text/plain": [
       "<AxesSubplot: >"
      ]
     },
     "execution_count": 41,
     "metadata": {},
     "output_type": "execute_result"
    },
    {
     "data": {
      "image/png": "[encoded data removed]",
      "text/plain": [
       "<Figure size 640x480 with 1 Axes>"
      ]
     },
     "metadata": {},
     "output_type": "display_data"
    }
   ],
   "source": [
    "pd.DataFrame(v_history.history).plot()"
   ]
  },
  {
   "cell_type": "code",
   "execution_count": 42,
   "id": "038f02d5-f4f1-4401-8227-4797a7fa810e",
   "metadata": {},
   "outputs": [
    {
     "data": {
      "text/plain": [
       "<AxesSubplot: >"
      ]
     },
     "execution_count": 42,
     "metadata": {},
     "output_type": "execute_result"
    },
    {
     "data": {
      "image/png": "[encoded data removed]",
      "text/plain": [
       "<Figure size 640x480 with 1 Axes>"
      ]
     },
     "metadata": {},
     "output_type": "display_data"
    }
   ],
   "source": [
    "pd.DataFrame(model_history.history).plot()"
   ]
  },
  {
   "cell_type": "code",
   "execution_count": 43,
   "id": "1ef3d5b6-7140-47a8-a88a-fa16f552a4d9",
   "metadata": {},
   "outputs": [],
   "source": [
    "# Q13. Obtain the model's parameters (weights and biases)."
   ]
  },
  {
   "cell_type": "code",
   "execution_count": 44,
   "id": "cbd87cb8-2ebf-4320-b568-a51555365cec",
   "metadata": {},
   "outputs": [
    {
     "data": {
      "text/plain": [
       "{'verbose': 1, 'epochs': 30, 'steps': 32}"
      ]
     },
     "execution_count": 44,
     "metadata": {},
     "output_type": "execute_result"
    }
   ],
   "source": [
    "model_history.params"
   ]
  },
  {
   "cell_type": "code",
   "execution_count": 45,
   "id": "1ca6b5bb-7906-4e97-a6a0-b6b8eb0c43a4",
   "metadata": {},
   "outputs": [],
   "source": [
    "hidden=model_clf.layers[1]"
   ]
  },
  {
   "cell_type": "code",
   "execution_count": 46,
   "id": "6a0f5a65-6cde-4ce8-9d3f-5cc2adf0c9de",
   "metadata": {},
   "outputs": [],
   "source": [
    "weight,bias=hidden.get_weights()"
   ]
  },
  {
   "cell_type": "code",
   "execution_count": 47,
   "id": "e0957599-b789-443d-af3f-c1f301beca4c",
   "metadata": {},
   "outputs": [
    {
     "data": {
      "text/plain": [
       "((200, 100), (100,))"
      ]
     },
     "execution_count": 47,
     "metadata": {},
     "output_type": "execute_result"
    }
   ],
   "source": [
    "weight.shape,bias.shape"
   ]
  },
  {
   "cell_type": "code",
   "execution_count": 48,
   "id": "79e28ac7-8f99-47f8-bb2e-d96f9bf41edc",
   "metadata": {},
   "outputs": [
    {
     "data": {
      "text/plain": [
       "array([ 0.04409812,  0.09036392, -0.16010718,  0.02004864,  0.02530381,\n",
       "       -0.17570595,  0.0019968 , -0.03401528, -0.02984108, -0.0601035 ,\n",
       "       -0.18306553, -0.0993888 , -0.01402276, -0.02119283,  0.05750957,\n",
       "       -0.12431906, -0.10075475,  0.08939407,  0.00956863,  0.06820353,\n",
       "       -0.06180235, -0.15422   , -0.02213351,  0.05334414,  0.02821137,\n",
       "        0.13804063, -0.07575047, -0.06963821,  0.00814549, -0.0584534 ,\n",
       "        0.08254202,  0.01164523, -0.00628437, -0.11535003,  0.16041867,\n",
       "        0.01084745, -0.11079406, -0.02993029, -0.07245661, -0.04215419,\n",
       "        0.24746934,  0.07221583,  0.00631669,  0.03231186, -0.00222456,\n",
       "        0.02490255,  0.01842368, -0.15372469,  0.06272446, -0.13500059,\n",
       "       -0.05648521,  0.00096586,  0.01338012, -0.1697759 , -0.05421369,\n",
       "       -0.03591984, -0.07624126, -0.03839573, -0.15277122,  0.05960416,\n",
       "       -0.05290493,  0.00434065,  0.03040547,  0.13066283, -0.12969342,\n",
       "        0.14776227, -0.06099793, -0.17025621, -0.0839868 ,  0.05085304,\n",
       "       -0.04594574, -0.08390069, -0.01799546,  0.06060358,  0.00461698,\n",
       "        0.04951179, -0.03778041,  0.00588605,  0.02275038, -0.06298389,\n",
       "       -0.04673684,  0.02355879,  0.1674939 ,  0.11939314, -0.00708376,\n",
       "        0.10136229, -0.00445578, -0.06913927,  0.0137831 , -0.02539594,\n",
       "       -0.06894787,  0.02641189,  0.11237568, -0.01549301,  0.12606071,\n",
       "        0.04056263, -0.0105441 , -0.0498445 , -0.15969466, -0.03462576],\n",
       "      dtype=float32)"
      ]
     },
     "execution_count": 48,
     "metadata": {},
     "output_type": "execute_result"
    }
   ],
   "source": [
    "bias"
   ]
  },
  {
   "cell_type": "code",
   "execution_count": 49,
   "id": "2d6b4fe5-7722-4a83-a8f7-c472f923055f",
   "metadata": {},
   "outputs": [],
   "source": [
    "# Q14. Store the model's training history as a Pandas DataFrame.\n",
    "\n",
    "\n",
    "model_history=pd.DataFrame(model_history.history)"
   ]
  },
  {
   "cell_type": "code",
   "execution_count": 50,
   "id": "c7074747-8458-4104-af6d-2cf210204579",
   "metadata": {},
   "outputs": [
    {
     "data": {
      "text/plain": [
       "<AxesSubplot: >"
      ]
     },
     "execution_count": 50,
     "metadata": {},
     "output_type": "execute_result"
    },
    {
     "data": {
      "image/png": "[encoded data removed]",
      "text/plain": [
       "<Figure size 640x480 with 1 Axes>"
      ]
     },
     "metadata": {},
     "output_type": "display_data"
    }
   ],
   "source": [
    "# Plot the training history (e.g., accuracy and loss) using suitable visualization techniques.\n",
    "model_history.plot()"
   ]
  },
  {
   "cell_type": "code",
   "execution_count": 51,
   "id": "34e79fe1-672e-4dee-aacb-86440fda2020",
   "metadata": {},
   "outputs": [],
   "source": [
    "# Q16. Evaluate the model's performance using the test dataset and report relevant metrics."
   ]
  },
  {
   "cell_type": "code",
   "execution_count": 56,
   "id": "3ae97ef3-7566-4afc-b3db-03de8f482a72",
   "metadata": {},
   "outputs": [
    {
     "name": "stdout",
     "output_type": "stream",
     "text": [
      "12/12 [==============================] - 0s 2ms/step - loss: 1.1436 - accuracy: 0.7119\n"
     ]
    },
    {
     "data": {
      "text/plain": [
       "[1.1435692310333252, 0.7118644118309021]"
      ]
     },
     "execution_count": 56,
     "metadata": {},
     "output_type": "execute_result"
    }
   ],
   "source": [
    "model_clf.evaluate(x_test_sc,y_test)"
   ]
  },
  {
   "cell_type": "code",
   "execution_count": 54,
   "id": "814cf8c6-3901-47a1-b86b-ebec683d8ac1",
   "metadata": {},
   "outputs": [
    {
     "name": "stdout",
     "output_type": "stream",
     "text": [
      "12/12 [==============================] - 0s 1ms/step\n"
     ]
    }
   ],
   "source": [
    "y_pred=model_clf.predict(x_test_sc)"
   ]
  },
  {
   "cell_type": "code",
   "execution_count": null,
   "id": "64ef7212-ec2f-48b9-90f8-66e7603c6a65",
   "metadata": {},
   "outputs": [],
   "source": []
  }
 ],
 "metadata": {
  "kernelspec": {
   "display_name": "Python 3 (ipykernel)",
   "language": "python",
   "name": "python3"
  },
  "language_info": {
   "codemirror_mode": {
    "name": "ipython",
    "version": 3
   },
   "file_extension": ".py",
   "mimetype": "text/x-python",
   "name": "python",
   "nbconvert_exporter": "python",
   "pygments_lexer": "ipython3",
   "version": "3.10.8"
  }
 },
 "nbformat": 4,
 "nbformat_minor": 5
}
