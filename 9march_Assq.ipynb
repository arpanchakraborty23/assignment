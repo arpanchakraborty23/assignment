{
 "cells": [
  {
   "cell_type": "markdown",
   "id": "2c75092d-6455-41c4-b5b7-18f4fdcc7cce",
   "metadata": {},
   "source": [
    "## Q1: What are the Probability Mass Function (PMF) and Probability Density Function (PDF)? Explain with an example."
   ]
  },
  {
   "cell_type": "code",
   "execution_count": 10,
   "id": "db3b3701-e08b-4b34-ad3f-23bffe19cb84",
   "metadata": {
    "tags": []
   },
   "outputs": [
    {
     "data": {
      "text/plain": [
       "\"\\nPMF :- Probability mass function or PMF reprasents discrte random variables.it always no-negative number and and sum of all probability will be  1. \\n\\nEX- let's consider rolling a dice outcome of 6 die always 1/6 for each die \\n\\nPDF :- Probapility density function or PDF reprasents countinous random variable it is the main diffrance btween pdf and pmf.\\n\\nex- bell curve\\n\""
      ]
     },
     "execution_count": 10,
     "metadata": {},
     "output_type": "execute_result"
    }
   ],
   "source": [
    "'''\n",
    "PMF :- Probability mass function or PMF reprasents discrte random variables.it always no-negative number and and sum of all probability will be  1. \\n\n",
    "EX- let's consider rolling a dice outcome of 6 die always 1/6 for each die \n",
    "\n",
    "PDF :- Probapility density function or PDF reprasents countinous random variable it is the main diffrance btween pdf and pmf.\n",
    "\n",
    "ex- bell curve\n",
    "'''"
   ]
  },
  {
   "cell_type": "markdown",
   "id": "3b388dbd-a966-4541-84b0-776618ce79d7",
   "metadata": {},
   "source": [
    "## Q2: What is Cumulative Density Function (CDF)? Explain with an example. Why CDF is used?"
   ]
  },
  {
   "cell_type": "code",
   "execution_count": 13,
   "id": "565da3d6-51ee-4cff-9ce3-c29e938e9807",
   "metadata": {
    "tags": []
   },
   "outputs": [
    {
     "data": {
      "text/plain": [
       "'\\nCDF:- \\nA Cumulative Distribution Function (CDF) is a fundamental concept in probability and statistics that describes the probability that a random variable \\n𝑋 will take a value less than or equal to 𝑥. The CDF provides a cumulative measure of probability up to a certain value and is used to understand the distribution of values of the random variable.\\n\\nuse:  1.CDF allows for the calculation of the probability that the random variable falls within a certain range\\n      2. CDF provides a complete characterization of the distribution of a random variable\\n'"
      ]
     },
     "execution_count": 13,
     "metadata": {},
     "output_type": "execute_result"
    }
   ],
   "source": [
    "'''\n",
    "CDF:- \n",
    "A Cumulative Distribution Function (CDF) is a fundamental concept in probability and statistics that describes the probability that a random variable \n",
    "𝑋 will take a value less than or equal to 𝑥. The CDF provides a cumulative measure of probability up to a certain value and is used to understand the distribution of values of the random variable.\n",
    "\n",
    "use:  1.CDF allows for the calculation of the probability that the random variable falls within a certain range\n",
    "      2. CDF provides a complete characterization of the distribution of a random variable\n",
    "'''"
   ]
  },
  {
   "cell_type": "markdown",
   "id": "35ddb987-c6c7-413f-b0b1-8646b5418a3a",
   "metadata": {},
   "source": [
    "## Q3: What are some examples of situations where the normal distribution might be used as a model?\n",
    "## Explain how the parameters of the normal distribution relate to the shape of the distribution."
   ]
  },
  {
   "cell_type": "code",
   "execution_count": 32,
   "id": "8be7296d-2f8c-4612-915a-c0359dd40e6a",
   "metadata": {
    "tags": []
   },
   "outputs": [
    {
     "data": {
      "text/plain": [
       "'\\nThe normal distribution, also known as the Gaussian distribution, is widely used in statistics and data science to analysis distribution of data.\\nex- Avarage height of students in the class \\n\\nNormal distribution has two main parameters 1. mean , 2. standard deviation\\nwhere mean describes center and peak value of data\\nand Standard Deviation describe spread of data\\n'"
      ]
     },
     "execution_count": 32,
     "metadata": {},
     "output_type": "execute_result"
    }
   ],
   "source": [
    "'''\n",
    "The normal distribution, also known as the Gaussian distribution, is widely used in statistics and data science to analysis distribution of data.\n",
    "ex- Avarage height of students in the class \n",
    "\n",
    "Normal distribution has two main parameters 1. mean , 2. standard deviation\n",
    "where mean describes center and peak value of data\n",
    "and Standard Deviation describe spread of data\n",
    "'''"
   ]
  },
  {
   "cell_type": "code",
   "execution_count": 30,
   "id": "e7a46e8e-90e7-4f83-bc71-6d0cad1bb585",
   "metadata": {
    "tags": []
   },
   "outputs": [
    {
     "name": "stderr",
     "output_type": "stream",
     "text": [
      "C:\\Users\\www58\\AppData\\Local\\Temp\\ipykernel_16580\\3999427891.py:4: UserWarning: \n",
      "\n",
      "`distplot` is a deprecated function and will be removed in seaborn v0.14.0.\n",
      "\n",
      "Please adapt your code to use either `displot` (a figure-level function with\n",
      "similar flexibility) or `histplot` (an axes-level function for histograms).\n",
      "\n",
      "For a guide to updating your code to use the new functions, please see\n",
      "https://gist.github.com/mwaskom/de44147ed2974457ad6372750bbe5751\n",
      "\n",
      "  sns.distplot(data,kde=True)\n",
      "C:\\ProgramData\\anaconda3\\Lib\\site-packages\\seaborn\\_oldcore.py:1119: FutureWarning: use_inf_as_na option is deprecated and will be removed in a future version. Convert inf values to NaN before operating instead.\n",
      "  with pd.option_context('mode.use_inf_as_na', True):\n"
     ]
    },
    {
     "name": "stdout",
     "output_type": "stream",
     "text": [
      "154.70869565217393\n"
     ]
    },
    {
     "data": {
      "image/png": "[encoded data removed]",
      "text/plain": [
       "<Figure size 640x480 with 1 Axes>"
      ]
     },
     "metadata": {},
     "output_type": "display_data"
    }
   ],
   "source": [
    "import seaborn as sns\n",
    "data=[ 100,130,120,135,139,145,150,152,150,156,150.3,165,160,168,166,159,163,170,175,178,165,172,190]\n",
    "mean=sum(data)/len(data)\n",
    "sns.distplot(data,kde=True)\n",
    "print(mean)"
   ]
  },
  {
   "cell_type": "markdown",
   "id": "7e08f24c-15c1-40e6-9a87-9be832fb2e93",
   "metadata": {},
   "source": [
    "## Q4: Explain the importance of Normal Distribution. Give a few real-life examples of Normal Distribution."
   ]
  },
  {
   "cell_type": "code",
   "execution_count": 35,
   "id": "07c89385-40d1-459d-9ef8-9ff83e392569",
   "metadata": {
    "tags": []
   },
   "outputs": [
    {
     "data": {
      "text/plain": [
       "'\\nMany statistical methods, including hypothesis testing, confidence intervals, and regression analysis, rely on the assumption that the data or errors are normally distributed.\\nThe properties of the normal distribution provide intuitive and easy-to-calculate summaries of data. For instance, the empirical rule (68-95-99.7 rule) describes how data falls within one, two, and three standard deviations of the mean in a normal distribution\\n\\nex- in real life Human IQ, Blood Prasure, Stock return these are all apply normal Distribution\\n'"
      ]
     },
     "execution_count": 35,
     "metadata": {},
     "output_type": "execute_result"
    }
   ],
   "source": [
    "'''\n",
    "Many statistical methods, including hypothesis testing, confidence intervals, and regression analysis, rely on the assumption that the data or errors are normally distributed.\n",
    "The properties of the normal distribution provide intuitive and easy-to-calculate summaries of data. For instance, the empirical rule (68-95-99.7 rule) describes how data falls within one, two, and three standard deviations of the mean in a normal distribution\n",
    "\n",
    "ex- in real life Human IQ, Blood Prasure, Stock return these are all apply normal Distribution\n",
    "'''"
   ]
  },
  {
   "cell_type": "markdown",
   "id": "61016536-dc7c-4cfe-8d31-f3f94622c077",
   "metadata": {},
   "source": [
    "## Q5: What is Bernaulli Distribution? Give an Example. What is the difference between Bernoulli Distribution and Binomial Distribution?"
   ]
  },
  {
   "cell_type": "raw",
   "id": "d147e882-db06-473c-bdbb-21daa314e391",
   "metadata": {
    "tags": []
   },
   "source": [
    "'''\n",
    "Bernaulli Distribution :- Bernaulli Distribution is discrete random distribution. it is a fundamental tool for measure binary outcomes success/failure.\n",
    "\n",
    "where p reprasens 1 as success and 1-p=q reprasents 0 as failure\n",
    "\n",
    "\n",
    "Binomial Distribution :- Binomial Distribution is a discrte random distribution . number of success is fixed in  n number of Bernuali trials with same pobality of success.\n",
    "\n",
    "\n",
    "mejor diffrance both of them is Bernaulli Distribution has fixed of trial but Binomial Distribution  n number of Bernuali trials with same pobality of success.\n",
    "\n",
    "'''"
   ]
  },
  {
   "cell_type": "markdown",
   "id": "11b64917-0fc3-4996-833b-b0707d9dca17",
   "metadata": {},
   "source": [
    "## Q6. Consider a dataset with a mean of 50 and a standard deviation of 10. If we assume that the dataset\n",
    "## is normally distributed, what is the probability that a randomly selected observation will be greater\n",
    "## than 60? Use the appropriate formula and show your calculations."
   ]
  },
  {
   "cell_type": "raw",
   "id": "74ebf910-97f2-44e0-921f-5becbc4bfd93",
   "metadata": {
    "tags": []
   },
   "source": [
    "mean=50 , std= 10 , X= 60\n",
    "\n",
    "Z_score= 60-50/10 =1\n",
    "\n",
    "z_table=.84134 \n",
    "\n",
    "pobability of greater than 60= 1- .84134 =0.1587 =15.87 %"
   ]
  },
  {
   "cell_type": "markdown",
   "id": "792292fd-8073-4859-904b-05d329fff4b5",
   "metadata": {},
   "source": [
    "## Q7: Explain uniform Distribution with an example."
   ]
  },
  {
   "cell_type": "raw",
   "id": "d9371f6d-ac68-497c-8bab-31f129b2c61c",
   "metadata": {},
   "source": [
    "let's consider we have to picke up a random time betweeen 7pm to 8pm.\n",
    "\n",
    "unifrom distribution describe any time(min,seconds) between 7pm to 8pm have equal chance to be picked\n",
    "\n",
    "ex= p(7:01)=p(7:02)=........=p(7.59)=1/60"
   ]
  },
  {
   "cell_type": "markdown",
   "id": "d21734c9-ea9a-4bcb-aa16-14ae0de40536",
   "metadata": {},
   "source": [
    "## Q8: What is the z score? State the importance of the z score."
   ]
  },
  {
   "cell_type": "raw",
   "id": "3b5641ec-0911-4599-8d9e-07b12f017f00",
   "metadata": {},
   "source": [
    "Z_score  measures the number of standard deviations a data point  from the mean of a dataset.\n",
    "\n",
    "\n",
    "Impotencene:\n",
    "  1. Standardization: let's consider we hvae a dataset with diffrent  range of values in columns \n",
    "  ex- in dataset a coulum range (1- 10), another colum(1-100) by appling z-score we can compare both column in same scale \n",
    "  \n",
    "  2.Data Transformation: Z-scores can be used to transform data to meet the assumptions of certain statistical analyses, particularly when dealing      with skewed or non-normal distributions."
   ]
  },
  {
   "cell_type": "markdown",
   "id": "855bb8d9-383d-4380-bd25-9fd57d80d5ab",
   "metadata": {},
   "source": [
    "## Q9: What is Central Limit Theorem? State the significance of the Central Limit Theorem."
   ]
  },
  {
   "cell_type": "raw",
   "id": "3d55b41c-0e5d-4a80-a4cf-9988b35a958a",
   "metadata": {},
   "source": [
    "the Central Limit Theorem is a crucial concept in statistics that explains the behavior of sample means and allows us to make reliable inferences about population parameters based on sample data.\n",
    "\n",
    "\n",
    "The CLT is the theoretical foundation for many inferential statistics techniques, such as hypothesis testing and confidence interval estimation. It allows statisticians to make inferences about population parameters based on sample statistics"
   ]
  },
  {
   "cell_type": "markdown",
   "id": "172df985-dde8-49c7-9f70-3f2bd62ee245",
   "metadata": {},
   "source": [
    "## Q10: State the assumptions of the Central Limit Theorem."
   ]
  },
  {
   "cell_type": "raw",
   "id": "07770476-d7b6-48a2-a7d8-d30f6c815ad3",
   "metadata": {},
   "source": [
    "1.Random Sampling: - The samples must be drawn randomly from the population. This ensures that each sample is representative of the population and reduces bias.\n",
    "\n",
    "\n",
    "2. Sample Sizw: - The sample size should be ≥ 30 \n",
    "\n"
   ]
  }
 ],
 "metadata": {
  "kernelspec": {
   "display_name": "Python 3 (ipykernel)",
   "language": "python",
   "name": "python3"
  },
  "language_info": {
   "codemirror_mode": {
    "name": "ipython",
    "version": 3
   },
   "file_extension": ".py",
   "mimetype": "text/x-python",
   "name": "python",
   "nbconvert_exporter": "python",
   "pygments_lexer": "ipython3",
   "version": "3.11.7"
  }
 },
 "nbformat": 4,
 "nbformat_minor": 5
}
