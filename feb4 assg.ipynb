{
 "cells": [
  {
   "cell_type": "code",
   "execution_count": 154,
   "id": "b1948a9a-a73e-458a-95b0-22d06eb3792a",
   "metadata": {},
   "outputs": [
    {
     "data": {
      "text/plain": [
       "[('Virat Kohli', 24936),\n",
       " ('Jack Kallis', 25534),\n",
       " ('Ricky Ponting', 27483),\n",
       " ('Sachin Tendulkar', 34357)]"
      ]
     },
     "execution_count": 154,
     "metadata": {},
     "output_type": "execute_result"
    }
   ],
   "source": [
    "# Q1. Create a python program to sort the given list of tuples based on integer value using a lambda function.\n",
    "\n",
    "l=[('Sachin Tendulkar', 34357), ('Ricky Ponting', 27483), ('Jack Kallis', 25534), ('Virat Kohli', 24936)]\n",
    "sorted(l,key= lambda x:x[1],)\n",
    "\n"
   ]
  },
  {
   "cell_type": "code",
   "execution_count": 142,
   "id": "585b1cab-84fb-466a-8627-288fe302af09",
   "metadata": {},
   "outputs": [
    {
     "data": {
      "text/plain": [
       "'None'"
      ]
     },
     "execution_count": 142,
     "metadata": {},
     "output_type": "execute_result"
    }
   ],
   "source": [
    "str(l.sort())"
   ]
  },
  {
   "cell_type": "code",
   "execution_count": 143,
   "id": "e87e74ba-5e39-4fce-b88f-248271c2cc97",
   "metadata": {},
   "outputs": [
    {
     "data": {
      "text/plain": [
       "list"
      ]
     },
     "execution_count": 143,
     "metadata": {},
     "output_type": "execute_result"
    }
   ],
   "source": [
    "type(l)"
   ]
  },
  {
   "cell_type": "code",
   "execution_count": 52,
   "id": "33cb9b2a-b67a-48ee-af10-db33a792838f",
   "metadata": {},
   "outputs": [],
   "source": [
    "from functools import reduce"
   ]
  },
  {
   "cell_type": "code",
   "execution_count": null,
   "id": "7dfe63d6-029d-4385-bac9-a407eb157ba1",
   "metadata": {},
   "outputs": [],
   "source": []
  },
  {
   "cell_type": "code",
   "execution_count": 53,
   "id": "415a87b2-f83c-4bdc-97a7-a4ca37cbaf94",
   "metadata": {},
   "outputs": [
    {
     "data": {
      "text/plain": [
       "[1, 4, 9, 16, 25, 36, 49, 64, 81, 100]"
      ]
     },
     "execution_count": 53,
     "metadata": {},
     "output_type": "execute_result"
    }
   ],
   "source": [
    "# Q2. Write a Python Program to find the squares of all the numbers in the given list of integers using\n",
    "# lambda and map functions.\n",
    "# [1, 2, 3, 4, 5, 6, 7, 8, 9, 10]\n",
    "\n",
    "l1=[1,2,3,4,5,6,7,8,9,10]\n",
    "list(map(lambda x: x**2,l1))"
   ]
  },
  {
   "cell_type": "code",
   "execution_count": 156,
   "id": "4f74bb3e-3ae1-46e2-a7e6-bdc0d6e3ea7d",
   "metadata": {},
   "outputs": [
    {
     "data": {
      "text/plain": [
       "('1', '2', '3', '4', '5', '6', '7', '8', '9', '10')"
      ]
     },
     "execution_count": 156,
     "metadata": {},
     "output_type": "execute_result"
    }
   ],
   "source": [
    "# Q3. Write a python program to convert the given list of integers into a tuple of strings. Use map and lambda functionsA\n",
    "\n",
    "l3=[1, 2, 3, 4, 5, 6, 7, 8, 9, 10]\n",
    "tuple(map(lambda x: str(x) ,l3))\n",
    "\n"
   ]
  },
  {
   "cell_type": "code",
   "execution_count": 157,
   "id": "cdf7e742-d4a0-4c3a-a020-8ac29aa3a50c",
   "metadata": {},
   "outputs": [
    {
     "data": {
      "text/plain": [
       "list"
      ]
     },
     "execution_count": 157,
     "metadata": {},
     "output_type": "execute_result"
    }
   ],
   "source": [
    "type(l3)"
   ]
  },
  {
   "cell_type": "code",
   "execution_count": 122,
   "id": "bea76b40-4d86-4c0c-9e83-a31fd7be766e",
   "metadata": {},
   "outputs": [
    {
     "data": {
      "text/plain": [
       "15511210043330985984000000"
      ]
     },
     "execution_count": 122,
     "metadata": {},
     "output_type": "execute_result"
    }
   ],
   "source": [
    "# Q4. Write a python program using reduce function to compute the product of a list containing numbers from 1 to 25.\n",
    "l4=list(range(1,26))\n",
    "reduce(lambda x,y: x*y, l4)\n"
   ]
  },
  {
   "cell_type": "code",
   "execution_count": 30,
   "id": "cab7c845-706b-494f-9619-90a10100e150",
   "metadata": {},
   "outputs": [
    {
     "data": {
      "text/plain": [
       "[2, 3, 6, 9, 27, 60, 90, 120, 46]"
      ]
     },
     "execution_count": 30,
     "metadata": {},
     "output_type": "execute_result"
    }
   ],
   "source": [
    "# Q5. Write a python program to filter the numbers in a given list that are divisible by 2 and 3 using the\n",
    "# filter function.\n",
    "\n",
    "[2, 3, 6, 9, 27, 60, 90, 120, 55, 46]\n",
    "l2=[2,3,6,9,27,60,90,120,55,46]\n",
    "list(filter(lambda x : x%2 ==0 or x%3==0,l2 ))"
   ]
  },
  {
   "cell_type": "code",
   "execution_count": 91,
   "id": "76e403c9-c432-4f75-bd96-bef4a3c8c5e6",
   "metadata": {},
   "outputs": [
    {
     "data": {
      "text/plain": [
       "['php', 'aba', 'radar', 'level']"
      ]
     },
     "execution_count": 91,
     "metadata": {},
     "output_type": "execute_result"
    }
   ],
   "source": [
    "# Q6. Write a python program to find palindromes in the given list of strings using lambda and filterfunction.\n",
    "\n",
    "l6=['python', 'php', 'aba', 'radar', 'level']\n",
    "list(filter(lambda x :(x == \"\".join(reversed(x))),l6))"
   ]
  },
  {
   "cell_type": "code",
   "execution_count": null,
   "id": "e90b1f19-db02-46b3-8e33-a1496fe2278e",
   "metadata": {},
   "outputs": [],
   "source": []
  }
 ],
 "metadata": {
  "kernelspec": {
   "display_name": "Python 3 (ipykernel)",
   "language": "python",
   "name": "python3"
  },
  "language_info": {
   "codemirror_mode": {
    "name": "ipython",
    "version": 3
   },
   "file_extension": ".py",
   "mimetype": "text/x-python",
   "name": "python",
   "nbconvert_exporter": "python",
   "pygments_lexer": "ipython3",
   "version": "3.10.8"
  }
 },
 "nbformat": 4,
 "nbformat_minor": 5
}
