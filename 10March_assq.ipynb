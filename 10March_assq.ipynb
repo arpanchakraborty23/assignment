{
 "cells": [
  {
   "cell_type": "markdown",
   "id": "ac3f17b2-0d3e-4f33-999f-7e66b4c4809b",
   "metadata": {},
   "source": [
    "## Q1: What is Estimation Statistics? Explain point estimate and interval estimate."
   ]
  },
  {
   "cell_type": "raw",
   "id": "9fb4c694-9c20-4e87-b7e4-e7cbce3320e4",
   "metadata": {},
   "source": [
    " Estiation statistics branch of statistics that deal with population parameters based on sample data\n",
    " \n",
    " point Estimate: - These provides Single value esmiate of population data.\n",
    " ex - sample mean is estimator of population mean\n",
    " \n",
    " Interval Estimate: - Range of values used to estimate unknown population parameter"
   ]
  },
  {
   "cell_type": "markdown",
   "id": "b2deeb3b-b53c-4fbb-82dc-fa3d0b277ddb",
   "metadata": {},
   "source": [
    "## Q2. Write a Python function to estimate the population mean using a sample mean and standard deviation."
   ]
  },
  {
   "cell_type": "code",
   "execution_count": 4,
   "id": "3695b15f-c9d1-4010-910c-a8fae1aeacbe",
   "metadata": {
    "tags": []
   },
   "outputs": [
    {
     "name": "stdout",
     "output_type": "stream",
     "text": [
      "Estimated Population Mean: 12.9\n",
      "95% Confidence Interval: (6.444589262822148, 19.355410737177852)\n"
     ]
    }
   ],
   "source": [
    "import numpy as np\n",
    "import scipy.stats as stats\n",
    "\n",
    "def estimate_population_mean(sample, confidence_level=0.95):\n",
    "\n",
    "    # Calculate the sample mean and sample standard deviation\n",
    "    sample_mean = np.mean(sample)\n",
    "    sample_std = np.std(sample, ddof=1)\n",
    "    n = len(sample)\n",
    "    \n",
    "    # Calculate the standard error of the mean\n",
    "    standard_error = sample_std / np.sqrt(n)\n",
    "    \n",
    "    # Calculate the margin of error using the t-distribution for the given confidence level\n",
    "    t_critical = stats.t.ppf((1 + confidence_level) / 2, df=n-1)\n",
    "    margin_of_error = t_critical * standard_error\n",
    "    \n",
    "    # Calculate the confidence interval\n",
    "    ci_lower = sample_mean - margin_of_error\n",
    "    ci_upper = sample_mean + margin_of_error\n",
    "    \n",
    "    return sample_mean, ci_lower, ci_upper\n",
    "\n",
    "# Example usage\n",
    "sample = [2, 3, 5, 7, 11, 13, 17, 19, 23, 29]\n",
    "mean, ci_lower, ci_upper = estimate_population_mean(sample)\n",
    "print(f\"Estimated Population Mean: {mean}\")\n",
    "print(f\"95% Confidence Interval: ({ci_lower}, {ci_upper})\")\n"
   ]
  },
  {
   "cell_type": "markdown",
   "id": "47f1bd5f-bd33-43ec-a09a-7d813a55948a",
   "metadata": {},
   "source": [
    "## Q3: What is Hypothesis testing? Why is it used? State the importance of Hypothesis testing."
   ]
  },
  {
   "cell_type": "raw",
   "id": "6944234a-d67b-4878-a403-c49f492241a2",
   "metadata": {},
   "source": [
    "Hypothisis testing: - In statistical analysis Hypothis testing use to make infraces or conclusions about population data based on sample data\n",
    "\n",
    "It used make conclusion about population data based on sample data.\n",
    "\n",
    "1. Desision making:- In real word we have to enconter diffrent types of data by hypthisis testing help us make desion about data.\n",
    "\n",
    "2.Quality :- In manufacturing and quality assurance, hypothesis testing is used to determine whether products meet specified standards and to identify variations in production processes.\n"
   ]
  },
  {
   "cell_type": "markdown",
   "id": "3d1a6bb0-334a-402e-8889-cd4a21199f67",
   "metadata": {},
   "source": [
    "## Q4. Create a hypothesis that states whether the average weight of male college students is greater than the average weight of female college students."
   ]
  },
  {
   "cell_type": "raw",
   "id": "2e8f4d68-77a6-4d98-ab9c-c7f27c183f14",
   "metadata": {},
   "source": [
    "Null hypothisis h0: average weight of male college students >= than female student\n",
    "\n",
    "Alternative hypothisis H1: average weight of male college students !>=  than female student"
   ]
  },
  {
   "cell_type": "markdown",
   "id": "56becb10-f675-43c8-bc98-01abcad88a8e",
   "metadata": {},
   "source": [
    "## Q5. Write a Python script to conduct a hypothesis test on the difference between two population means, given a sample from each population."
   ]
  },
  {
   "cell_type": "code",
   "execution_count": 12,
   "id": "ee79d6c0-01d0-4ef3-84fd-cb115ef8d56e",
   "metadata": {
    "tags": []
   },
   "outputs": [
    {
     "name": "stdout",
     "output_type": "stream",
     "text": [
      "z-statistic: 2.806243040080456\n",
      "p-value: 0.005012287145488736\n",
      "Reject the null hypothesis. There is a significant difference between the two population means.\n"
     ]
    }
   ],
   "source": [
    "\n",
    "\n",
    "def two_sample_z_test(sample1, sample2, var1, var2, alpha=0.05):\n",
    "\n",
    "\n",
    "    # Calculate sample statistics\n",
    "    mean1 = np.mean(sample1)\n",
    "    mean2 = np.mean(sample2)\n",
    "    n1 = len(sample1)\n",
    "    n2 = len(sample2)\n",
    "    \n",
    "    # Calculate the pooled standard error\n",
    "    pooled_se = np.sqrt(var1/n1 + var2/n2)\n",
    "    \n",
    "    # Calculate the z-statistic\n",
    "    z_statistic = (mean1 - mean2) / pooled_se\n",
    "    \n",
    "    # Calculate the p-value for a two-tailed test\n",
    "    p_value = 2 * (1 - stats.norm.cdf(np.abs(z_statistic)))\n",
    "    \n",
    "    # Determine whether to reject the null hypothesis\n",
    "    if p_value < alpha:\n",
    "        result = \"Reject the null hypothesis. There is a significant difference between the two population means.\"\n",
    "    else:\n",
    "        result = \"Fail to reject the null hypothesis. There is no significant difference between the two population means.\"\n",
    "    \n",
    "    return z_statistic, p_value, result\n",
    "\n",
    "# Example usage\n",
    "sample1 = [70, 75, 80, 85, 90, 95, 100]  # Sample data from population 1\n",
    "sample2 = [55, 60, 65, 70, 75, 80, 85]   # Sample data from population 2\n",
    "var1 = 100  # Population variance of population 1\n",
    "var2 = 100  # Population variance of population 2\n",
    "\n",
    "z_statistic, p_value, result = two_sample_z_test(sample1, sample2, var1, var2)\n",
    "print(f\"z-statistic: {z_statistic}\")\n",
    "print(f\"p-value: {p_value}\")\n",
    "print(result)\n"
   ]
  },
  {
   "cell_type": "markdown",
   "id": "918c94df-aab9-43b3-90ba-e58611d5df53",
   "metadata": {},
   "source": [
    "## Q6: What is a null and alternative hypothesis? Give some examples."
   ]
  },
  {
   "cell_type": "raw",
   "id": "89961ba8-d884-485e-9352-23bcfddfdff6",
   "metadata": {},
   "source": [
    "\n",
    "Null and Alternative Hypotheses:- \n",
    "In hypothesis testing, the null hypothesis  and the alternative hypothesis are two competing statements about a population parameter. \n",
    "The purpose of hypothesis testing is to determine which hypothesis is supported by sample data.\n",
    "\n",
    "Ex - h0: The new drug has no effect on blood pressure.\n",
    "        \n",
    "\n",
    "    h1: The new drug lowers blood pressure"
   ]
  },
  {
   "cell_type": "markdown",
   "id": "30be58f0-4da7-49f1-8e5d-64cd25edd0ad",
   "metadata": {},
   "source": [
    "## Q7: Write down the steps involved in hypothesis testing."
   ]
  },
  {
   "cell_type": "raw",
   "id": "7003221e-3268-41a0-9785-48a5b19a5587",
   "metadata": {},
   "source": [
    " the steps involved in hypothesis testing\n",
    " \n",
    " step-1 : Declear Null hypothisis and alterntive hypothisis\n",
    " \n",
    " step-2 : declear a sgnifcane value\n",
    " \n",
    " step-3 : expariment(z_test,t_test,etc)\n",
    " \n",
    " step-4: Reject or Accept null hypothisis"
   ]
  },
  {
   "cell_type": "markdown",
   "id": "902802ed-1943-446a-bfe5-53fe4b9ed249",
   "metadata": {},
   "source": [
    "## Q8. Define p-value and explain its significance in hypothesis testing."
   ]
  },
  {
   "cell_type": "raw",
   "id": "dbcb46cf-d201-407d-b141-58d17525870f",
   "metadata": {},
   "source": [
    "The p-value is a crucial component of hypothesis testing, providing a measure of the strength of the evidence against the null hypothesis.\n",
    "By comparing the p-value to a significance level, we can make informed decisions about the validity of their hypothese"
   ]
  },
  {
   "cell_type": "markdown",
   "id": "afa36f70-02fd-41d9-a190-dd236dfebc6a",
   "metadata": {},
   "source": [
    "## Q9. Generate a Student's t-distribution plot using Python's matplotlib library, with the degrees of freedom parameter set to 10."
   ]
  },
  {
   "cell_type": "code",
   "execution_count": 22,
   "id": "53ba98f7-3f13-4f0f-9303-675770be81ea",
   "metadata": {
    "tags": []
   },
   "outputs": [
    {
     "data": {
      "image/png": "[encoded data removed]",
      "text/plain": [
       "<Figure size 800x600 with 1 Axes>"
      ]
     },
     "metadata": {},
     "output_type": "display_data"
    }
   ],
   "source": [
    "import matplotlib.pyplot as plt\n",
    "import numpy as np\n",
    "# Degrees of freedom\n",
    "df = 10\n",
    "\n",
    "# Generate x values\n",
    "x = np.linspace(-4, 4, 1000)\n",
    "\n",
    "# Generate y values for the t-distribution\n",
    "y = stats.t.pdf(x, df)\n",
    "\n",
    "# Plot the t-distribution\n",
    "plt.figure(figsize=(8, 6))\n",
    "plt.plot(x, y, label=f\"t-distribution (df={df})\", color='blue')\n",
    "plt.title(\"Student's t-Distribution (df = 10)\")\n",
    "plt.xlabel('x')\n",
    "plt.ylabel('Probability Density')\n",
    "plt.legend()\n",
    "plt.grid(True)\n",
    "plt.show()"
   ]
  },
  {
   "cell_type": "markdown",
   "id": "05dd973a-4f33-4488-b25e-99c5c3e18eef",
   "metadata": {},
   "source": [
    "## Q10. Write a Python program to calculate the two-sample t-test for independent samples, given two\n",
    "random samples of equal size and a null hypothesis that the population means are equal."
   ]
  },
  {
   "cell_type": "code",
   "execution_count": 29,
   "id": "e487e985-06b0-4807-90fa-74f508f9f66f",
   "metadata": {
    "tags": []
   },
   "outputs": [
    {
     "name": "stdout",
     "output_type": "stream",
     "text": [
      "t-statistic: -1.53723193729314\n",
      "p-value: 0.12968221611030817\n",
      "Fail to reject the null hypothesis. There is no significant difference between the two population means.\n"
     ]
    }
   ],
   "source": [
    "\n",
    "\n",
    "def two_sample_t_test(sample1, sample2, alpha=0.05):\n",
    "   \n",
    "    # Calculate sample statistics\n",
    "    mean1 = np.mean(sample1)\n",
    "    mean2 = np.mean(sample2)\n",
    "    var1 = np.var(sample1, ddof=1)\n",
    "    var2 = np.var(sample2, ddof=1)\n",
    "    n1 = len(sample1)\n",
    "    n2 = len(sample2)\n",
    "    \n",
    "    # Calculate the pooled standard error\n",
    "    pooled_se = np.sqrt(var1/n1 + var2/n2)\n",
    "    \n",
    "    # Calculate the t-statistic\n",
    "    t_statistic = (mean1 - mean2) / pooled_se\n",
    "    \n",
    "    # Degrees of freedom for the two-sample t-test\n",
    "    df_numerator = (var1/n1 + var2/n2) ** 2\n",
    "    df_denominator = ((var1/n1) ** 2 / (n1 - 1)) + ((var2/n2) ** 2 / (n2 - 1))\n",
    "    df = df_numerator / df_denominator\n",
    "    \n",
    "    # Calculate the p-value for a two-tailed test\n",
    "    p_value = 2 * (1 - stats.t.cdf(np.abs(t_statistic), df))\n",
    "    \n",
    "    # Determine whether to reject the null hypothesis\n",
    "    if p_value < alpha:\n",
    "        result = \"Reject the null hypothesis. There is a significant difference between the two population means.\"\n",
    "    else:\n",
    "        result = \"Fail to reject the null hypothesis. There is no significant difference between the two population means.\"\n",
    "    \n",
    "    return t_statistic, p_value, result\n",
    "\n",
    "# Example usage\n",
    "# Generating two random samples of equal size\n",
    "np.random.seed(0)  # For reproducibility\n",
    "sample1 = np.random.normal(loc=20, scale=4, size=30)  # Sample data from population 1\n",
    "sample2 = np.random.normal(loc=25, scale=5, size=30)  # Sample data from population 2\n",
    "\n",
    "t_statistic, p_value, result = two_sample_t_test(sample1, sample2)\n",
    "print(f\"t-statistic: {t_statistic}\")\n",
    "print(f\"p-value: {p_value}\")\n",
    "print(result)\n"
   ]
  },
  {
   "cell_type": "markdown",
   "id": "784398c6-d969-4b19-b544-e98f4a8a86d9",
   "metadata": {},
   "source": [
    "## Q11: What is Student’s t distribution? When to use the t-Distribution."
   ]
  },
  {
   "cell_type": "raw",
   "id": "aa03e550-e808-4b3f-8384-c8d95b1b528f",
   "metadata": {},
   "source": [
    "The t-distribution is a fundamental probability distribution in statistics, particularly for inference about \n",
    "population means when the sample size is small and the population standard deviation is unknown.\n",
    "\n",
    "When the population standard deviation  is unknown, and the sample size is small >30."
   ]
  },
  {
   "cell_type": "markdown",
   "id": "678c82c0-0bb1-492e-a4c1-5274908b9df5",
   "metadata": {},
   "source": [
    "## Q12: What is t-statistic? State the formula for t-statistic."
   ]
  },
  {
   "cell_type": "raw",
   "id": "b8ea0764-9df3-4c00-8658-8bc35ffa9ff1",
   "metadata": {},
   "source": [
    "The t-statistic is a measure used in hypothesis testing to determine whether the means of two groups are significantly different from each other, or to test whether the mean of a sample is significantly different from a known population mean when the population standard deviation is unknown.\n",
    "\n",
    "formula: t= (X−μ)/ (s/np.sqrt(n))\n",
    "\n",
    "X s the sample mean.\n",
    "μ is the population mean (or the hypothesized population mean under the null hypothesis).\n",
    "s is the sample standard deviation.\n",
    "n is the sample size.\n"
   ]
  },
  {
   "cell_type": "raw",
   "id": "5b7f3d3a-8a04-474b-9e1a-e7538657e3d7",
   "metadata": {},
   "source": [
    "## Q13. A coffee shop owner wants to estimate the average daily revenue for their shop. They take a random sample of 50 days and find the sample mean revenue to be $500 with a standard deviation of $50.\n",
    "Estimate the population mean revenue with a 95% confidence interval."
   ]
  },
  {
   "cell_type": "raw",
   "id": "04c3e348-837c-40dd-ba92-1b5cb06377e2",
   "metadata": {
    "tags": []
   },
   "source": [
    "n=50 x=500 , std=50 mean= 500 \n",
    "z=1.96\n",
    "\n",
    "positive=x+z*(std/sqart(n)) ==513.85\n",
    "\n",
    "neg= x-z*(std/sqart(n))=486.14\n",
    "\n",
    "the 95% confidence interval for the population mean revenue is approximately $486.14 to $513.85.\n"
   ]
  },
  {
   "cell_type": "markdown",
   "id": "a4817569-0dee-43df-b937-ea4fff0c7227",
   "metadata": {},
   "source": [
    "## Q14. A researcher hypothesizes that a new drug will decrease blood pressure by 10 mmHg. They conduct a\n",
    "## clinical trial with 100 patients and find that the sample mean decrease in blood pressure is 8 mmHg with a\n",
    "## standard deviation of 3 mmHg. Test the hypothesis with a significance level of 0.05."
   ]
  },
  {
   "cell_type": "raw",
   "id": "854dfeae-ffc6-44a1-9735-691714cf2513",
   "metadata": {},
   "source": [
    " sample= 100 . std=3 , alpha=0.05 mean=8  pop_mean=10\n",
    "    \n",
    "null hypothisis: h0 new drug will decrease blood pressure =10 mmHg\n",
    "\n",
    "altternative hypothisis : h1 new drug will decrease blood pressure != 10 mmHg\n",
    "\n",
    "\n",
    "z_test= men- pop_mean/(std/sqrt(sample))=-6.67\n",
    "\n",
    "signiciane =0.05\n",
    "\n",
    "ztable=-1.64\n",
    "\n",
    "\n",
    "Since the calculated z-score (-6.67) is less than the critical z-value (-1.645), we reject the null hypothesis.\n",
    "\n",
    "Therefore, we have sufficient evidence to conclude that the new drug decreases blood pressure by less than 10 mmHg, at a significance level of 0.05."
   ]
  },
  {
   "cell_type": "markdown",
   "id": "000f8523-7195-4a6b-9ac8-b25d8230909e",
   "metadata": {},
   "source": [
    "## Q15. An electronics company produces a certain type of product with a mean weight of 5 pounds and a\n",
    "## standard deviation of 0.5 pounds. A random sample of 25 products is taken, and the sample mean weight is found to be 4.8 pounds. Test the hypothesis that the true mean weight of the products is less than 5 pounds with a significance level of 0.01."
   ]
  },
  {
   "cell_type": "raw",
   "id": "70d6d5ad-108b-4ee7-a4d3-5bc11ac9d6c8",
   "metadata": {},
   "source": [
    " mean=4.8 pop_mean=5 pop_std=0.5 n=25 \n",
    "    \n",
    "\n",
    "    \n",
    "null hypothisis:h0 product mean =5\n",
    "allternative  hypothisis: h1 !=5\n",
    "\n",
    "2\n",
    "z_test=men- pop_mean/(std/sqrt(n))=-2\n",
    "\n",
    "significane value =0.01\n",
    "z value=0.00990 =0.01=-2.33\n",
    "\n",
    "Since the calculated z-score  is greater than the critical z-value, we reject the null hypothesis.\n",
    "\n",
    "Therefore, we have sufficient evidence to conclude that the true mean weight of the products is less than 5 pounds, at a significance level of 0.01."
   ]
  },
  {
   "cell_type": "markdown",
   "id": "a215cbd5-3d94-4158-9c5a-05a1c9913c60",
   "metadata": {},
   "source": [
    "## Q16. Two groups of students are given different study materials to prepare for a test. The first group (n1 =30) has a mean score of 80 with a standard deviation of 10, and the second group (n2 = 40) has a mean\n",
    "## score of 75 with a standard deviation of 8. Test the hypothesis that the population means for the two groups are equal with a significance level of 0.01."
   ]
  },
  {
   "cell_type": "raw",
   "id": "8657a3ad-d792-4577-8324-6f1a2bcbe82e",
   "metadata": {
    "tags": []
   },
   "source": [
    "g1:\n",
    "    mean=80 , std=10 ,n=30 dof=29\n",
    "\n",
    "g2:\n",
    "     mean_2=75 ,std2=8 n2=40 dof=39\n",
    "\n",
    "gnificane value=0.01\n",
    "\n",
    "null hypothisis :h0 g1 mean= g2 mean\n",
    "\n",
    "alternative hypothisis : h1  mean != g2 mean\n",
    "\n",
    "t_test= (mean-mean_2)/sqart((s^2/n)+s2^2/n2)=10.20\n",
    "\n",
    "g1 ttable =2.756\n",
    "\n",
    "g1 t_table > t_test =false\n",
    "\n",
    "\n",
    "dof=70 -2=68\n",
    "alfa=0.01\n",
    "t_table= 2.382\n",
    "\n",
    "t_test> t_table : true\n",
    "\n",
    "we reject the null hypothisis\n"
   ]
  },
  {
   "cell_type": "markdown",
   "id": "43e45c17-aca4-4314-8f69-6cc578aba8d0",
   "metadata": {},
   "source": [
    "## Q17. A marketing company wants to estimate the average number of ads watched by viewers during a TV\n",
    "## program. They take a random sample of 50 viewers and find that the sample mean is 4 with a standard\n",
    "## deviation of 1.5. Estimate the population mean with a 99% confidence interval."
   ]
  },
  {
   "cell_type": "code",
   "execution_count": null,
   "id": "aede96f3-8d54-498f-a64f-401cb6374216",
   "metadata": {},
   "outputs": [],
   "source": [
    "n=50 x=4 pop_mean= ? std =1.5 alpha=1-99=0.1\n",
    "\n",
    " For a 99% confidence level, the critical value is approximately 2.576.\n",
    "\n",
    "positive=x+z*(std/sqart(n)) ==4.546\n",
    "\n",
    "neg= x-z*(std/sqart(n))=3.454"
   ]
  }
 ],
 "metadata": {
  "kernelspec": {
   "display_name": "Python 3 (ipykernel)",
   "language": "python",
   "name": "python3"
  },
  "language_info": {
   "codemirror_mode": {
    "name": "ipython",
    "version": 3
   },
   "file_extension": ".py",
   "mimetype": "text/x-python",
   "name": "python",
   "nbconvert_exporter": "python",
   "pygments_lexer": "ipython3",
   "version": "3.11.7"
  }
 },
 "nbformat": 4,
 "nbformat_minor": 5
}
