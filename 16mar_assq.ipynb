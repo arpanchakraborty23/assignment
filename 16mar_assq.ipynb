{
 "cells": [
  {
   "cell_type": "markdown",
   "id": "386c8ec4-50d1-454e-8dd4-4c1b851d52c4",
   "metadata": {},
   "source": [
    "## Q1: Define overfitting and underfitting in machine learning. What are the consequences of each, and how can they be mitigated?"
   ]
  },
  {
   "cell_type": "raw",
   "id": "9e9ffbaa-87ad-4724-94a3-c5a765e9fe5f",
   "metadata": {
    "tags": []
   },
   "source": [
    "overfitting: - In ML we create a model based on  a dataset, To verfiy the model perfomence good or bad we use perfomence metrics. If perfomence show result low bias or high veriance\n",
    "mean train accuracy high and test accuracy is low then we call it model gives us overfitting perfomance.\n",
    "\n",
    "ex- train accuracy =95% , test accuracy=60%\n",
    "\n",
    "Consequences:-\n",
    "    let's say we crate a model to pradict drug effect on human if our model is underfitting it will be blunder\n",
    "    \n",
    "mitigated:- 1.feature scalling\n",
    "            2. cross validation\n",
    "            3. use multipel alog\n",
    "            4. Hyperparameter\n",
    "        \n",
    "underfitting : -  In ML we create a model based on  a dataset, To verfiy the model perfomence good or bad we use perfomence metrics. If perfomence show result high bias or high veriance\n",
    "mean train accuracy low and test accuracy is also low then we call it model gives us underfitting perfomance.\n",
    "\n",
    "ex- train accuracy =65% , test accuracy=60%\n",
    "\n",
    "Consequences-\n",
    "    The model may have high bias and low variance, resulting in inaccurate predictions.\n",
    "    \n",
    "mitigated:- 1.feature extratcting\n",
    "            2. cross validation\n",
    "            3. use multipel alog\n",
    "            4. Hyperparameter\n",
    "        "
   ]
  },
  {
   "cell_type": "markdown",
   "id": "bc1f1728-49d7-4f14-b467-9222290013c3",
   "metadata": {},
   "source": [
    "## Q2: How can we reduce overfitting? Explain in brief."
   ]
  },
  {
   "cell_type": "raw",
   "id": "37db9340-fdb0-4021-9d1f-03fa761f3fb4",
   "metadata": {
    "tags": []
   },
   "source": [
    "To reduce overftting we some technique below -\n",
    "            1.feature extratcting -select only needed feature,scale data.\n",
    "            2. cross validation\n",
    "            3. use multipel alog -use multipel ML algo's\n",
    "            4. Hyperparameter  - last step will be hyperparameter tuning with cross validation.\n",
    "\n",
    "\n",
    "        "
   ]
  },
  {
   "cell_type": "markdown",
   "id": "45c97f17-a8f5-4297-a718-7ef5840659e3",
   "metadata": {},
   "source": [
    "## Q3: Explain underfitting. List scenarios where underfitting can occur in ML."
   ]
  },
  {
   "cell_type": "raw",
   "id": "416a367c-d5c4-4152-9e80-8def22b7e53c",
   "metadata": {
    "tags": []
   },
   "source": [
    " underfitting - Model perfomance low train accuracy and low accuracy test data\n",
    "    \n",
    "1. Using a linear model to fit a non-linear dataset.\n",
    "2.Insufficient training of the model, leading to inadequate learning of the patterns in the data"
   ]
  },
  {
   "cell_type": "markdown",
   "id": "20240014-c054-4083-a125-2e0ae5d2909f",
   "metadata": {},
   "source": [
    "## Q4: Explain the bias-variance tradeoff in machine learning. What is the relationship between bias and variance, and how do they affect model performance?"
   ]
  },
  {
   "cell_type": "raw",
   "id": "e635c38e-3aab-4a15-b3a4-743a7613166e",
   "metadata": {},
   "source": [
    "Bias :- The bias is known as the difference between the prediction of the values by\n",
    "the Machine Learning model and the correct value. if bias is high means model diffrance between actual and\n",
    "predicted value high\n",
    "\n",
    "variance : - The variability of model prediction for a given data point which tells us the spread of our data is called the variance of the model.\n",
    "\n",
    "\n",
    "If the algorithm is too simple then it may be on high bias and low variance condition and thus is error-prone.If algorithms fit too complex \n",
    "then it may be on high variance and low bias.The new entries will not perform well.\n",
    "\n",
    "high bias or high veriance mean train accuracy low and test accuracy is also low then we call it model gives us underfitting perfomance.\n",
    "\n",
    "low bias or high veriance mean train accuracy high and test accuracy is low then we call it model gives us overfitting perfomance.\n"
   ]
  },
  {
   "cell_type": "markdown",
   "id": "21a96fea-5da9-4550-a163-2a940a55eb9d",
   "metadata": {},
   "source": [
    "## Q5: Discuss some common methods for detecting overfitting and underfitting in machine learning models.\n",
    "## How can you determine whether your model is overfitting or underfitting?"
   ]
  },
  {
   "cell_type": "raw",
   "id": "76035d01-751b-4af4-ab1f-0a7a49b54ec4",
   "metadata": {
    "tags": []
   },
   "source": [
    "1. plotting traning score and test score and identtify over fitting and under fitting\n",
    "2. Evaluation metrices like MAE , RMSE, F1scor, REcall"
   ]
  },
  {
   "cell_type": "markdown",
   "id": "b0927fb4-0069-44e4-8882-b0824ab1f2eb",
   "metadata": {},
   "source": [
    "## Q6: Compare and contrast bias and variance in machine learning. What are some examples of high bias\n",
    "## and high variance models, and how do they differ in terms of their performance?"
   ]
  },
  {
   "cell_type": "raw",
   "id": "27a3d191-72b0-4e8a-aecc-c02db175c5d2",
   "metadata": {},
   "source": [
    "\n",
    "            Bias                                                variance\n",
    "1. High bias models tend to underfit the data.         1.High variance models tend to overfit the data\n",
    "\n",
    "\n",
    " bias and variance represent different types of errors in machine learning models. High bias models underfit the data, while high variance models overfit the data. Balancing bias and variance is crucial for achieving good model performance.\n"
   ]
  },
  {
   "cell_type": "markdown",
   "id": "c667025f-9521-4402-809c-c8e2fc7b4c1b",
   "metadata": {},
   "source": [
    "## Q7: What is regularization in machine learning, and how can it be used to prevent overfitting? Describe\n",
    "## some common regularization techniques and how they work."
   ]
  },
  {
   "cell_type": "raw",
   "id": "afc91297-7478-489f-a3ac-932cf94aac90",
   "metadata": {
    "tags": []
   },
   "source": [
    "Regularization in Ml is a technique use to pervent overfittitng by adding some penalty tearms to the loss function.\n",
    "\n",
    "L1 Regularization :- L1 Regularization add some absolute value  to the loss loss function\n",
    "1/n(y_actual - y_predict) ^2 + lmaba|slop|\n",
    "\n",
    "L2 Regularization : -  L Regularization add some square value of slop value  to the loss loss function\n",
    "1\n",
    "/n(y_actual - y_predict) ^2 + lmaba(slop)^2\n",
    "\n",
    "Elastic Net: combines L1 and L2 regularization by adding both the absolute values and squared slop value\n",
    "\n",
    "1/n(y_actual - y_predict) ^2 + lmaba|slop|+ lmaba(slop)^2"
   ]
  },
  {
   "cell_type": "code",
   "execution_count": null,
   "id": "5a720e0e-c571-44fa-bd72-99cd216dea37",
   "metadata": {},
   "outputs": [],
   "source": []
  }
 ],
 "metadata": {
  "kernelspec": {
   "display_name": "Python 3 (ipykernel)",
   "language": "python",
   "name": "python3"
  },
  "language_info": {
   "codemirror_mode": {
    "name": "ipython",
    "version": 3
   },
   "file_extension": ".py",
   "mimetype": "text/x-python",
   "name": "python",
   "nbconvert_exporter": "python",
   "pygments_lexer": "ipython3",
   "version": "3.11.7"
  }
 },
 "nbformat": 4,
 "nbformat_minor": 5
}
