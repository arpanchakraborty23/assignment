{
 "cells": [
  {
   "cell_type": "markdown",
   "id": "1adba198-6934-475b-9c13-5133895018d0",
   "metadata": {},
   "source": [
    "# Q1. What is the purpose of grid search cv in machine learning, and how does it work?"
   ]
  },
  {
   "cell_type": "raw",
   "id": "257aab7d-e0d1-4791-8ff8-4c83eaf221f5",
   "metadata": {},
   "source": [
    "The main purpose of grid search cv is to fine tune the model to increcess model perfomance by using multipel list of parameters of alorithm's with k fold cross validation.\n",
    "\n",
    "let's say we are using loggistic regression\n",
    "\n",
    "In below fllowing's are loggistic regression prameters\n",
    "penalty{‘l1’, ‘l2’, ‘elasticnet’, None}\n",
    "solver{‘lbfgs’, ‘liblinear’, ‘newton-cg’, ‘newton-cholesky’, ‘sag’, ‘saga’}\n",
    "\n",
    "it will take 1 attemps l1 and lbfgs+ cross validation it find the accuracy\n",
    "2 attemps l1 and netwon-cg + cv find accuracy\n",
    "......\n",
    "it will use every parmeters with cross validation to find the best params for the model\n"
   ]
  },
  {
   "cell_type": "markdown",
   "id": "7aa37d69-1b9b-4101-9468-d92bcf888f2c",
   "metadata": {},
   "source": [
    "# Q2. Describe the difference between grid search cv and randomize search cv, and when might you choose one over the other?"
   ]
  },
  {
   "cell_type": "raw",
   "id": "4ef7fffc-cd1c-4dd2-88d9-862e488fcbe4",
   "metadata": {},
   "source": [
    "Main  difference between grid search cv and randomize search cv is grid search takes all prameters for hypertune model,it is usefull for small datasets but when we enconter\n",
    "huge datasets it's time complexcity incresses beacuse we using all combanation of paramters , so small datasets are good for gridsearchcv\n",
    "\n",
    "randomize search cv use n_iter paramters that takes only the no of combination of prameter we want to use .It selact paramters randomly and use cv find best prameters for model\n",
    "\n",
    "ex- let's say define n_iter=10 then it will seclect randomly only 10 combination of prameter for cv\n",
    "not likely grid search cv perfome cross validation with all prams. randomize search cv decress time complexcity and cost.\n",
    "\n",
    "huge dataset randomize search cv good to use"
   ]
  },
  {
   "cell_type": "markdown",
   "id": "1eb531c2-2e6f-4b81-8cec-18c6c75212bd",
   "metadata": {},
   "source": [
    "## Q3. What is data leakage, and why is it a problem in machine learning? Provide an example."
   ]
  },
  {
   "cell_type": "raw",
   "id": "241706db-f747-4a40-aafb-ea07ad4fe68b",
   "metadata": {
    "tags": []
   },
   "source": [
    "data leakage results in the model having access to information that it wouldn't have in a real-world scenario, thus compromising its ability to generalize.\n",
    "Data leakage is problematic because it results in models that appear to perform well during training and evaluation phases but fail to generalize to new, unseen data. \n",
    "\n",
    "ex-\n",
    "Features: age, income, loan_amount, months_since_last_default\n",
    "Target: default_status )\n",
    "Suppose the feature months_since_last_default is derived using future information that is not available at the time of loan issuance.\n",
    "This feature can cause data leakage if it reflects the time after the prediction point, providing the model with information it shouldn't have during training."
   ]
  },
  {
   "cell_type": "markdown",
   "id": "0beac5cc-5733-4286-8258-9ff3c824686f",
   "metadata": {},
   "source": [
    "# Q4. How can you prevent data leakage when building a machine learning model?"
   ]
  },
  {
   "cell_type": "raw",
   "id": "a78923b1-1ac6-4949-9914-3457d6b73312",
   "metadata": {},
   "source": [
    "1. Utilize pipelines to encapsulate the entire preprocessing and modeling workflow.\n",
    "2. Ensure that features used for training are only those available at the time of prediction\n",
    "3. Use proper cross-validation techniques to ensure that the validation process is not influenced by the training data."
   ]
  },
  {
   "cell_type": "markdown",
   "id": "87992d36-3075-4581-90d7-48957bd467c6",
   "metadata": {},
   "source": [
    "# Q5. What is a confusion matrix, and what does it tell you about the performance of a classification model?"
   ]
  },
  {
   "cell_type": "raw",
   "id": "7c3189b6-3880-4f39-933f-d9719deb5f71",
   "metadata": {},
   "source": [
    "A confusion matrix is a table used to evaluate the performance of a classification model. It provides a detailed breakdown of the model's predictions compared to the actual labels\n",
    "The confusion matrix provides several important metrics to evaluate the performance of a model\n"
   ]
  },
  {
   "cell_type": "markdown",
   "id": "07d08b39-831d-497f-86ce-b012079fac2c",
   "metadata": {},
   "source": [
    "# Q6. Explain the difference between precision and recall in the context of a confusion matrix."
   ]
  },
  {
   "cell_type": "raw",
   "id": "aa862e30-f68a-403b-b5f8-4677118fcb25",
   "metadata": {
    "tags": []
   },
   "source": [
    "presision:-\n",
    "It measures the accuracy of the positive predictions made by the model.High precision indicates that there are very few false positives.\n",
    "Precision is especially important in situations where the cost of false positives is high\n",
    "\n",
    "Recall-\n",
    "Recall tells you how many of the actual positive instances were correctly identified by the model.High recall indicates that there are very few false negatives.\n",
    "\n",
    "Precision focuses on the quality of the positive predictions, minimizing false positives.\n",
    "Recall focuses on the ability to capture all positive instances, minimizing false negatives."
   ]
  },
  {
   "cell_type": "markdown",
   "id": "d6b073f3-c57e-4459-8a81-259637b2cc9b",
   "metadata": {},
   "source": [
    "# Q7. How can you interpret a confusion matrix to determine which types of errors your model is making?"
   ]
  },
  {
   "cell_type": "raw",
   "id": "21a255cd-051e-4608-bf39-ec7d83d44490",
   "metadata": {
    "tags": []
   },
   "source": [
    "Interpreting a confusion matrix allows you to determine which types of errors your model is making by analyzing the counts of true positives, \n",
    "true negatives, false positives, and false negatives\n",
    "To determine which types of errors your model is making, look at the counts of FP and FN in the confusion matrix.\n",
    "High False Positives (FP)-The model incorrectly predicts negative instances as positive\n",
    "\n",
    "High False Negatives (FN)-he model incorrectly predicts positive instances as negative."
   ]
  },
  {
   "cell_type": "markdown",
   "id": "1e3b62c0-b696-4ae5-bbbd-77dca4fb85fb",
   "metadata": {},
   "source": [
    "# Q8. What are some common metrics that can be derived from a confusion matrix, and how are they calculated?"
   ]
  },
  {
   "cell_type": "raw",
   "id": "f9454e1c-a1b7-43ea-abf9-d00dca4603e6",
   "metadata": {
    "tags": []
   },
   "source": [
    "common confusion matrics are-\n",
    "1. precision- tp/tp+fp\n",
    "\n",
    "2. recall- tp/tp+fp\n",
    "\n",
    "3. f1-score= 2* (precision*recall/precision+recall)\n",
    "\n",
    "4. accuracy= tp+tn/tp+tn+fp+fn\n"
   ]
  },
  {
   "cell_type": "markdown",
   "id": "aba08241-f4b7-4789-8def-a0a99813274e",
   "metadata": {},
   "source": [
    "# Q9. What is the relationship between the accuracy of a model and the values in its confusion matrix?"
   ]
  },
  {
   "cell_type": "code",
   "execution_count": null,
   "id": "f7b0f9b6-59f1-4181-bd40-6f27b34d7ae2",
   "metadata": {},
   "outputs": [],
   "source": []
  },
  {
   "cell_type": "markdown",
   "id": "c28193f2-adce-4c06-b655-ee85b35dd0e4",
   "metadata": {},
   "source": [
    "# Q10. How can you use a confusion matrix to identify potential biases or limitations in your machine learning model?"
   ]
  },
  {
   "cell_type": "code",
   "execution_count": null,
   "id": "8c8ec074-8805-45bc-b247-705ae1496ba8",
   "metadata": {},
   "outputs": [],
   "source": []
  }
 ],
 "metadata": {
  "kernelspec": {
   "display_name": "Python 3 (ipykernel)",
   "language": "python",
   "name": "python3"
  },
  "language_info": {
   "codemirror_mode": {
    "name": "ipython",
    "version": 3
   },
   "file_extension": ".py",
   "mimetype": "text/x-python",
   "name": "python",
   "nbconvert_exporter": "python",
   "pygments_lexer": "ipython3",
   "version": "3.11.7"
  }
 },
 "nbformat": 4,
 "nbformat_minor": 5
}
