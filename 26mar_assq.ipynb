{
 "cells": [
  {
   "cell_type": "markdown",
   "id": "3c90217e-4cf8-4df9-8335-9bdb3078d182",
   "metadata": {},
   "source": [
    "## Q1. Explain the difference between simple linear regression and multiple linear regression. Provide an example of each."
   ]
  },
  {
   "cell_type": "raw",
   "id": "edec1e59-c724-4291-85af-4690e2e42d32",
   "metadata": {},
   "source": [
    "Mltiple linear regression model we find relashanship between one dependend and multipele independend variable in liner maner.\n",
    "Mltiple linear regression almost similer to simple liner regression to find best fit line-\n",
    "1. find intercept and cofficent\n",
    "2. calculate predicted value and compare actual value by mse find error\n",
    "3. use convargece alog to reduce loss by updating slop \n",
    "4. repeat untill get minimal loss\n",
    "\n",
    "In simple liner regression we use one dependend and one Independed variable\n",
    "y=0_0+0_1*x\n",
    "\n",
    "y=predicted pt\n",
    "0_0=Intercept\n",
    "0_1=slop\n",
    "x=feature\n",
    "\n",
    "but,  multiple linear regression we use dependend and Multipel Independed variable\n",
    "\n",
    "y= 0_0 + 0_1*x1+ 0_2*x2+...0_n*x_n\n",
    "y=predicted pt\n",
    "0_0=Intercept\n",
    "0_1=slop\n",
    "features=x_1,x_2....x_n"
   ]
  },
  {
   "cell_type": "code",
   "execution_count": null,
   "id": "80e350a6-6f44-42ac-a5c0-da71eacc5fbb",
   "metadata": {},
   "outputs": [],
   "source": []
  },
  {
   "cell_type": "markdown",
   "id": "cd7e32fc-28ae-4fc8-90d5-16ef461103f6",
   "metadata": {},
   "source": [
    "## Q2. Discuss the assumptions of linear regression. How can you check whether these assumptions hold in a given dataset?"
   ]
  },
  {
   "cell_type": "raw",
   "id": "a42160ca-c2c4-4f49-9847-922cb4e4ebee",
   "metadata": {},
   "source": [
    "Liner Regression is a very powerfull tool for predit behavior of variabels.To get accurate prediction it has few condition to meeet that's are assumption\n",
    "\n",
    "1.Linarity:- The Dependend and Independed variables must be in liner relationship to get best result\n",
    "\n",
    "2.Normaly Distributed- The resudals or error of actual and predicted data must be follow normal distribution.\n",
    "\n",
    "for dataset  use \n",
    "1. distplot to see distribution of resudels\n",
    "2. pairplot to see independen and dependend feature relationship\n"
   ]
  },
  {
   "cell_type": "markdown",
   "id": "8c652919-39bd-496a-aba4-d9ab7bfde72e",
   "metadata": {},
   "source": [
    "## Q3. How do you interpret the slope and intercept in a linear regression model?"
   ]
  },
  {
   "cell_type": "raw",
   "id": "7e797779-5be7-479a-8d76-a6c01a79698c",
   "metadata": {},
   "source": [
    "Intercept:- Intercept is expacted value of y when x=0 \n",
    "\n",
    "liner eq(y)=mx+c \n",
    "c represent intercept\n",
    "\n",
    "intercept is importence parameter for converging global minima .when convargece algo apply's algo try to change intercept values to reach global minima by \n",
    "\n",
    "\n",
    "slop:-slop reprasent when x-axis incresses one-unit y-axis also incressces one unit.\n",
    "\n",
    "Finding best fit line slop play importent role in convergence algo.finding new slop value convergence alog reach global minima"
   ]
  },
  {
   "cell_type": "markdown",
   "id": "cd3115d7-8427-4f12-b35f-0ba241278ef3",
   "metadata": {},
   "source": [
    "## Q4. Explain the concept of gradient descent. How is it used in machine learning?"
   ]
  },
  {
   "cell_type": "raw",
   "id": "449961ce-f835-4698-85ad-280725fcff89",
   "metadata": {
    "tags": []
   },
   "source": [
    "In Liner regression model we use optimizer algo gradinent decent by iterativly modify value of error to reducecost function( MSE) of the train dataset.\n",
    "Minimizing cost function by updating intercept and cofficient/slop value we reach to global minima and find best fit line\n",
    "\n",
    "Liner regression To find the best-fit line by minimizing the mean squared error between the predicted and actual values."
   ]
  },
  {
   "cell_type": "markdown",
   "id": "2ae5701c-4e55-4cc7-9bf7-dfc6ee1ab9a8",
   "metadata": {},
   "source": [
    "## Q5. Describe the multiple linear regression model. How does it differ from simple linear regression?"
   ]
  },
  {
   "cell_type": "raw",
   "id": "882a2fe0-52d0-4063-8fd6-90a8d18c0d72",
   "metadata": {},
   "source": [
    "Mltiple linear regression model we find relashanship between one dependend and multipele independend variable in liner maner.\n",
    "Mltiple linear regression almost similer to simple liner regression to find best fit line-\n",
    "1. find intercept and cofficent\n",
    "2. calculate predicted value and compare actual value by mse find error\n",
    "3. use convargece alog to reduce loss by updating slop \n",
    "4. repeat untill get minimal loss\n",
    "\n",
    "In simple liner regression we use one dependend and one Independed variable\n",
    "y=0_0+0_1*x\n",
    "\n",
    "y=predicted pt\n",
    "0_0=Intercept\n",
    "0_1=slop\n",
    "x=feature\n",
    "\n",
    "but,  multiple linear regression we use dependend and Multipel Independed variable\n",
    "\n",
    "y= 0_0 + 0_1*x1+ 0_2*x2+...0_n*x_n\n",
    "y=predicted pt\n",
    "0_0=Intercept\n",
    "0_1=slop\n",
    "features=x_1,x_2....x_n"
   ]
  },
  {
   "cell_type": "markdown",
   "id": "f7eae89d-1f27-4ee5-a979-72c10d2cd2f0",
   "metadata": {},
   "source": [
    "## Q6. Explain the concept of multicollinearity in multiple linear regression. How can you detect and address this issue?"
   ]
  },
  {
   "cell_type": "raw",
   "id": "5d68472a-ac19-41ea-a356-0a05a98d2fe7",
   "metadata": {},
   "source": [
    "Multicillinearty is problem than occure statistic base alog's when multipele independend feature your dataset highly corelated each other Then it call Multicollinearity.\n",
    "Multicollinearity problem create model unstable by calculate unstable cofficent value that lead us incresses the error value for that model get's unaccurat.\n",
    "\n",
    "To detect Multicollinearity we can use person coffisient correlatation or hetmap visualization\n",
    " VIF measures how much the variance of a regression coefficient is inflated due to multicollinearity.\n",
    "    \n",
    "Resolve:-\n",
    " 1. Deleting one of highly correlated col for small dataset.\n",
    " 2. PCA reduce the dimasion\n",
    " 3. Regulaization"
   ]
  },
  {
   "cell_type": "markdown",
   "id": "df9e08b7-ea7d-40ab-aaef-12bf6e355c88",
   "metadata": {},
   "source": [
    "## Q7. Describe the polynomial regression model. How is it different from linear regression?"
   ]
  },
  {
   "cell_type": "raw",
   "id": "f5e072cb-574e-48aa-97f7-a15bb6475b03",
   "metadata": {
    "tags": []
   },
   "source": [
    "polynomial regression model is non- liner model when  one dependend and one Independed variable in a non-linear relashionship . linear regression  dependend and one Independed variable ar in l\n",
    "Insted of liner maner  pattern but in polynomial regression present as curve shape it called  polynomial regresion .\n",
    "\n",
    "when we have this kind of non liner parttent liner regression is not a good option to use\n",
    "\n",
    "polynomial regression the relatation between dependent variable and the independent variable is modeled as an nth-degree polynomial function\n",
    "\n",
    "y= 0_0 + 0_1*x^1+ 0_2*x^2+...0_n*x_n^n\n",
    "\n",
    "when degree is 2 then it is called a quadratic model,\n",
    "when the degree of a polynomial is 3, it is called a cubic model\n"
   ]
  },
  {
   "cell_type": "markdown",
   "id": "7e987086-3474-4eeb-85f0-402091efb2b8",
   "metadata": {},
   "source": [
    "## Q8. What are the advantages and disadvantages of polynomial regression compared to linear\n",
    "## regression? In what situations would you prefer to use polynomial regression?"
   ]
  },
  {
   "cell_type": "raw",
   "id": "5fe42177-d5b6-448c-96f5-7a9ccfc210be",
   "metadata": {
    "tags": []
   },
   "source": [
    "Advantage-\n",
    "1. Polynomial Regression use for fit complex dataset or say non-liner data but in linear\n",
    "regression fit liner data.\n",
    "\n",
    "2. By incresing degree we can fit complex data easyly\n",
    "3. In many cases, polynomial regression can provide a better fit to the data compared to linear regression, especially when the relationship between variables is inherently non-linear.\n",
    "\n",
    "Disadvantages-\n",
    "1. Polynomial Regression incresing degree  it can led us overfitting for dubiling erros\n",
    "\n",
    "2.Multicollinearity can cause instability in the coefficient estimates and make the model sensitive to changes in the data.\n",
    "\n",
    "4.polynomial regression with high-degree polynomials can be computationally more expensive and time-consuming, especially for large datasets"
   ]
  },
  {
   "cell_type": "code",
   "execution_count": null,
   "id": "3721dec3-61cd-4f1b-9a0c-03db8bc6ad14",
   "metadata": {},
   "outputs": [],
   "source": []
  },
  {
   "cell_type": "code",
   "execution_count": null,
   "id": "bf27417f-633b-400a-956f-547ce34734c2",
   "metadata": {},
   "outputs": [],
   "source": []
  }
 ],
 "metadata": {
  "kernelspec": {
   "display_name": "Python 3 (ipykernel)",
   "language": "python",
   "name": "python3"
  },
  "language_info": {
   "codemirror_mode": {
    "name": "ipython",
    "version": 3
   },
   "file_extension": ".py",
   "mimetype": "text/x-python",
   "name": "python",
   "nbconvert_exporter": "python",
   "pygments_lexer": "ipython3",
   "version": "3.11.7"
  }
 },
 "nbformat": 4,
 "nbformat_minor": 5
}
