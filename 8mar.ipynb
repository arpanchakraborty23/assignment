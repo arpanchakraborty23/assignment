{
  "metadata": {
    "kernelspec": {
      "name": "python",
      "display_name": "Python (Pyodide)",
      "language": "python"
    },
    "language_info": {
      "codemirror_mode": {
        "name": "python",
        "version": 3
      },
      "file_extension": ".py",
      "mimetype": "text/x-python",
      "name": "python",
      "nbconvert_exporter": "python",
      "pygments_lexer": "ipython3",
      "version": "3.8"
    }
  },
  "nbformat_minor": 4,
  "nbformat": 4,
  "cells": [
    {
      "cell_type": "raw",
      "source": "Q1. What is the Probability density function?\n\n=> pdf function desribes a continuous random variable falling into the particular range of value.\n\nQ2. What are the types of Probability distribution?\n=> Probability distributions are categorized into two main types: discrete and continuous distributions.\n\n    a. Discreate Random variable:\n        * Bernali Distribution.\n        * Binomial Distribution.\n        * Possion Distribution.\n        * Discrite Random Uniform Destribution\n\n    b. Countinuous Random variable:\n        * Gaussian/Normal Distribution.\n        * Countinoues Random Uniform distribution\n\n",
      "metadata": {}
    },
    {
      "cell_type": "raw",
      "source": "Q3. Write a Python function to calculate the probability density function of a normal distribution with\ngiven mean and standard deviation at a given point.",
      "metadata": {}
    },
    {
      "cell_type": "code",
      "source": "from scipy.stats import norm\ndef normal_pdf(x,mean,std):\n    return norm.pdf(x,mean,std)\n    ",
      "metadata": {
        "trusted": true
      },
      "outputs": [],
      "execution_count": 1
    },
    {
      "cell_type": "code",
      "source": "normal_pdf(1,0,1)",
      "metadata": {
        "trusted": true
      },
      "outputs": [
        {
          "execution_count": 2,
          "output_type": "execute_result",
          "data": {
            "text/plain": "0.24197072451914337"
          },
          "metadata": {}
        }
      ],
      "execution_count": 2
    },
    {
      "cell_type": "raw",
      "source": "Q4. What are the properties of Binomial distribution? Give two examples of events where binomial\ndistribution can be applied.\n=> Binomial distribution is a descrite random variable with two outcomes faliure or success.it describe fixed outcome(success or fail) in indepned no of trials:\nex- 1.conin toss\n    2. mail spam or not spam",
      "metadata": {}
    },
    {
      "cell_type": "markdown",
      "source": "Q5. Generate a random sample of size 1000 from a binomial distribution with probability of success 0.4\nand plot a histogram of the results using matplotlib.",
      "metadata": {}
    },
    {
      "cell_type": "code",
      "source": "import numpy as np\nimport matplotlib.pyplot as plt",
      "metadata": {
        "trusted": true
      },
      "outputs": [],
      "execution_count": 4
    },
    {
      "cell_type": "code",
      "source": "random_sample = np.random.binomial(1, 0.4, 1000)\n\n# Plot histogram\nplt.hist(random_sample, bins=np.arange(1 + 2) - 0.5, density=True, color='skyblue', edgecolor='black')\nplt.title('Histogram of Binomial Distribution')\nplt.xlabel('Number of Successes')\nplt.ylabel('Probability')\n\nplt.show()",
      "metadata": {
        "trusted": true
      },
      "outputs": [
        {
          "output_type": "display_data",
          "data": {
            "text/plain": "<Figure size 640x480 with 1 Axes>",
            "image/png": "[encoded data removed]"
          },
          "metadata": {}
        }
      ],
      "execution_count": 8
    },
    {
      "cell_type": "raw",
      "source": "Q6. Write a Python function to calculate the cumulative distribution function of a Poisson distribution\nwith given mean at a given point.",
      "metadata": {}
    },
    {
      "cell_type": "code",
      "source": "from scipy.stats import  poisson\ndef possion_cdf(k,mean):\n    return poisson.cdf(k,mean)",
      "metadata": {
        "trusted": true
      },
      "outputs": [],
      "execution_count": 9
    },
    {
      "cell_type": "code",
      "source": "possion_cdf(3,2)",
      "metadata": {
        "trusted": true
      },
      "outputs": [
        {
          "execution_count": 10,
          "output_type": "execute_result",
          "data": {
            "text/plain": "0.857123460498547"
          },
          "metadata": {}
        }
      ],
      "execution_count": 10
    },
    {
      "cell_type": "raw",
      "source": "7.How Binomial distribution different from Poisson distribution?\n\n=> Binomial distribution:\n    a.Applicable to experiments with fixed number of trial\n    b. Categorical outcomes (success or failure)\n\n   Poisson distribution:\n    a.Applicable to events occurring within fixed interval\n    b.Numerical outcomes (event counts)",
      "metadata": {}
    },
    {
      "cell_type": "raw",
      "source": "Q8. Generate a random sample of size 1000 from a Poisson distribution with mean 5 and calculate the\nsample mean and variance.",
      "metadata": {}
    },
    {
      "cell_type": "code",
      "source": "random_sample=np.random.poisson(5,1000)",
      "metadata": {
        "trusted": true
      },
      "outputs": [],
      "execution_count": 11
    },
    {
      "cell_type": "code",
      "source": "sample_mean=np.mean(random_sample)\nsample_mean",
      "metadata": {
        "trusted": true
      },
      "outputs": [
        {
          "execution_count": 14,
          "output_type": "execute_result",
          "data": {
            "text/plain": "4.916"
          },
          "metadata": {}
        }
      ],
      "execution_count": 14
    },
    {
      "cell_type": "code",
      "source": "sample_var=np.var(random_sample)\nsample_var",
      "metadata": {
        "trusted": true
      },
      "outputs": [
        {
          "execution_count": 15,
          "output_type": "execute_result",
          "data": {
            "text/plain": "4.830944"
          },
          "metadata": {}
        }
      ],
      "execution_count": 15
    },
    {
      "cell_type": "raw",
      "source": "Q9. How mean and variance are related in Binomial distribution and Poisson distribution?\n=> binomial and Poisson distributions, the mean and variance are closely related\n   In a binomial distribution with parameters n (number of trials) and p (probability of success), the mean (μ) and variance (𝜎2 )\n\nmean=np\nvariance=np(1-p)=npq\n\nPoisson distribution with parameter λ (average rate or mean number of events occurring in a fixed interval)\n\nmean= λ\nvar= λ",
      "metadata": {}
    },
    {
      "cell_type": "raw",
      "source": "Q10. In normal distribution with respect to mean position, where does the least frequent data appear?\n=>",
      "metadata": {}
    }
  ]
}