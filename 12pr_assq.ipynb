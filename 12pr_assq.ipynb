{
 "cells": [
  {
   "cell_type": "markdown",
   "id": "ca75bd92-f09b-441b-9999-df6bc905f0ee",
   "metadata": {},
   "source": [
    "## Q1. How does bagging reduce overfitting in decision trees?"
   ]
  },
  {
   "cell_type": "raw",
   "id": "81d8bea8-5ebb-43a9-9636-08eede9d43b5",
   "metadata": {},
   "source": [
    "Decision trees are high-variance models, meaning they can easily overfit the training data by capturing noise and specific details. By averaging multiple trees, bagging reduces the overall variance of the model\n",
    "\n",
    "Each bootstrap sample introduces different variations in the training data. Consequently, each decision tree might overfit to its own specific sample, but these overfitting patterns are different across the trees"
   ]
  },
  {
   "cell_type": "markdown",
   "id": "552a474b-66a7-48d2-b80f-8c3c389b4473",
   "metadata": {},
   "source": [
    "# Q2. What are the advantages and disadvantages of using different types of base learners in bagging?"
   ]
  },
  {
   "cell_type": "raw",
   "id": "84eeb2e7-074d-4615-890c-263dd5a7b4bb",
   "metadata": {},
   "source": [
    "Advantage:\n",
    "    1. Typically used as base learners in bagging  because they are high-variance models. Bagging reduces their variance and thus improves their performance significantly.\n",
    "    2. Combining predictions from multiple models makes the ensemble more stable and robust compared to any single model. \n"
   ]
  },
  {
   "cell_type": "raw",
   "id": "77857ab9-5786-44e4-9308-5f03562fa18a",
   "metadata": {
    "tags": []
   },
   "source": [
    "Disadvantages:\n",
    "    1.Training multiple base learners increases computational time and resource usage\n",
    "    2. Different base learners have different hyperparameters, and tuning these for an ensemble can become complex and time-consuming.\n",
    "    3. While individual models like decision trees can be easily interpreted, an ensemble of models becomes difficult to understand how predictions are being made."
   ]
  },
  {
   "cell_type": "markdown",
   "id": "cda9fe1b-dbf6-415b-aaf3-6cc7fafefc4e",
   "metadata": {},
   "source": [
    "##  Q3. How does the choice of base learner affect the bias-variance tradeoff in bagging?"
   ]
  },
  {
   "cell_type": "raw",
   "id": "27c13feb-5edf-46e4-af22-609c10a393e0",
   "metadata": {},
   "source": [
    "High bias cause the model miss relvent relation between feature and target varible called underfitting.\n",
    "\n",
    "High variance can cause the model to model the random noise which is overfittting\n",
    "\n",
    "1.High-Variance \n",
    "Individual decision trees are high-variance models. They can capture complex patterns in the data but are also prone to overfitting.\n",
    "Individual decision trees typically have low bias because they can fit the training data very closely.\n",
    "\n",
    "2.High-Bias Base:\n",
    "    1. inear models are typically low-variance models because they assume a linear relationship between the features and the target, which limits their ability to capture complex patterns.\n",
    "    2. Linear models have higher bias because of their simplistic assumptions, which can lead to underfitting if the true relationship is more complex.\n",
    "    "
   ]
  },
  {
   "cell_type": "markdown",
   "id": "bbb3bd62-73a0-4d2b-b2ea-2e94099903f9",
   "metadata": {},
   "source": [
    "## Q4. Can bagging be used for both classification and regression tasks? How does it differ in each case?"
   ]
  },
  {
   "cell_type": "raw",
   "id": "34eee10a-37d4-45a5-8911-7f6a4700b523",
   "metadata": {},
   "source": [
    "yes  bagging used for both classification and regresion model\n",
    "\n",
    "diffrance is in model output process\n",
    "clsssifiction task final output given by mejority in voting class from base lerners\n",
    "\n",
    "Regression ask final output given by taking mean value of all base lerners output values\n"
   ]
  },
  {
   "cell_type": "markdown",
   "id": "3ec644e1-1d71-4cd1-96ab-7b21eeba9d60",
   "metadata": {},
   "source": [
    "# Q5. What is the role of ensemble size in bagging? How many models should be included in the ensemble?"
   ]
  },
  {
   "cell_type": "raw",
   "id": "5a4ae594-4ad1-46e9-ae8a-ea0f3b7abd39",
   "metadata": {},
   "source": [
    "As the number of models in the ensemble increases, the variance of the ensemble’s predictions decreases. This is because the averaging process smooths out the individual errors of the base models.\n",
    " The ensemble size in bagging reduces variance and increases robustness but involves a trade-off with computational costs.\n",
    "    \n",
    "The available computational resources (CPU/GPU power, memory) play a crucial role in determining the ensemble size.after all we have to calculute multipel models\n",
    "it need powefull computational resources like GPU\n"
   ]
  },
  {
   "cell_type": "markdown",
   "id": "05dfa8a1-39a5-49a8-91de-b742210c68db",
   "metadata": {},
   "source": [
    "## Q6. Can you provide an example of a real-world application of bagging in machine learning?"
   ]
  },
  {
   "cell_type": "code",
   "execution_count": 6,
   "id": "aeb3cf7a-f018-4ed5-a0d9-47b103c3ace3",
   "metadata": {
    "tags": []
   },
   "outputs": [],
   "source": [
    "import seaborn as sns\n",
    "import pandas as pd\n",
    "import numpy as np\n",
    "import warnings\n",
    "warnings.filterwarnings('ignore')"
   ]
  },
  {
   "cell_type": "code",
   "execution_count": 8,
   "id": "e3c1c06c-e649-4df4-93db-2a10392096b9",
   "metadata": {
    "tags": []
   },
   "outputs": [],
   "source": [
    "df=sns.load_dataset('tips')"
   ]
  },
  {
   "cell_type": "code",
   "execution_count": 10,
   "id": "be957a38-b6b4-4d9e-adb5-b708118a8cb1",
   "metadata": {
    "tags": []
   },
   "outputs": [
    {
     "data": {
      "text/html": [
       "<div>\n",
       "<style scoped>\n",
       "    .dataframe tbody tr th:only-of-type {\n",
       "        vertical-align: middle;\n",
       "    }\n",
       "\n",
       "    .dataframe tbody tr th {\n",
       "        vertical-align: top;\n",
       "    }\n",
       "\n",
       "    .dataframe thead th {\n",
       "        text-align: right;\n",
       "    }\n",
       "</style>\n",
       "<table border=\"1\" class=\"dataframe\">\n",
       "  <thead>\n",
       "    <tr style=\"text-align: right;\">\n",
       "      <th></th>\n",
       "      <th>total_bill</th>\n",
       "      <th>tip</th>\n",
       "      <th>sex</th>\n",
       "      <th>smoker</th>\n",
       "      <th>day</th>\n",
       "      <th>time</th>\n",
       "      <th>size</th>\n",
       "    </tr>\n",
       "  </thead>\n",
       "  <tbody>\n",
       "    <tr>\n",
       "      <th>0</th>\n",
       "      <td>16.99</td>\n",
       "      <td>1.01</td>\n",
       "      <td>Female</td>\n",
       "      <td>No</td>\n",
       "      <td>Sun</td>\n",
       "      <td>Dinner</td>\n",
       "      <td>2</td>\n",
       "    </tr>\n",
       "    <tr>\n",
       "      <th>1</th>\n",
       "      <td>10.34</td>\n",
       "      <td>1.66</td>\n",
       "      <td>Male</td>\n",
       "      <td>No</td>\n",
       "      <td>Sun</td>\n",
       "      <td>Dinner</td>\n",
       "      <td>3</td>\n",
       "    </tr>\n",
       "    <tr>\n",
       "      <th>2</th>\n",
       "      <td>21.01</td>\n",
       "      <td>3.50</td>\n",
       "      <td>Male</td>\n",
       "      <td>No</td>\n",
       "      <td>Sun</td>\n",
       "      <td>Dinner</td>\n",
       "      <td>3</td>\n",
       "    </tr>\n",
       "    <tr>\n",
       "      <th>3</th>\n",
       "      <td>23.68</td>\n",
       "      <td>3.31</td>\n",
       "      <td>Male</td>\n",
       "      <td>No</td>\n",
       "      <td>Sun</td>\n",
       "      <td>Dinner</td>\n",
       "      <td>2</td>\n",
       "    </tr>\n",
       "    <tr>\n",
       "      <th>4</th>\n",
       "      <td>24.59</td>\n",
       "      <td>3.61</td>\n",
       "      <td>Female</td>\n",
       "      <td>No</td>\n",
       "      <td>Sun</td>\n",
       "      <td>Dinner</td>\n",
       "      <td>4</td>\n",
       "    </tr>\n",
       "  </tbody>\n",
       "</table>\n",
       "</div>"
      ],
      "text/plain": [
       "   total_bill   tip     sex smoker  day    time  size\n",
       "0       16.99  1.01  Female     No  Sun  Dinner     2\n",
       "1       10.34  1.66    Male     No  Sun  Dinner     3\n",
       "2       21.01  3.50    Male     No  Sun  Dinner     3\n",
       "3       23.68  3.31    Male     No  Sun  Dinner     2\n",
       "4       24.59  3.61  Female     No  Sun  Dinner     4"
      ]
     },
     "execution_count": 10,
     "metadata": {},
     "output_type": "execute_result"
    }
   ],
   "source": [
    "df.head()"
   ]
  },
  {
   "cell_type": "code",
   "execution_count": 38,
   "id": "ccf65c9e-1bb9-45bf-ab7b-3c387bb0caf1",
   "metadata": {
    "tags": []
   },
   "outputs": [
    {
     "data": {
      "text/plain": [
       "time\n",
       "Dinner    176\n",
       "Lunch      68\n",
       "Name: count, dtype: int64"
      ]
     },
     "execution_count": 38,
     "metadata": {},
     "output_type": "execute_result"
    }
   ],
   "source": [
    "df.time.value_counts()"
   ]
  },
  {
   "cell_type": "code",
   "execution_count": 40,
   "id": "4d176fc7-f3a2-4702-abad-d19bfbd644b3",
   "metadata": {
    "tags": []
   },
   "outputs": [],
   "source": [
    "df['time']=df['time'].map({'Dinner':1 ,'Lunch':2})"
   ]
  },
  {
   "cell_type": "code",
   "execution_count": 42,
   "id": "9d2b92cd-eb34-40a8-a387-63ce00343b9f",
   "metadata": {
    "tags": []
   },
   "outputs": [],
   "source": [
    "x=df.drop('time',axis=1)\n",
    "y=df['time']"
   ]
  },
  {
   "cell_type": "code",
   "execution_count": 44,
   "id": "50fa7f72-9194-4746-bbcb-97f32127450a",
   "metadata": {
    "tags": []
   },
   "outputs": [],
   "source": [
    "from sklearn.model_selection import train_test_split\n",
    "x_train,x_test,y_train,y_test=train_test_split(x,y,test_size=0.25,random_state=0)"
   ]
  },
  {
   "cell_type": "code",
   "execution_count": 46,
   "id": "3beab9ff-b2da-4c18-821a-aae623be8c8c",
   "metadata": {
    "tags": []
   },
   "outputs": [],
   "source": [
    "from sklearn.pipeline import Pipeline\n",
    "from sklearn.compose import ColumnTransformer\n",
    "from sklearn.preprocessing import MinMaxScaler,LabelEncoder,OneHotEncoder,StandardScaler\n",
    "from sklearn.impute import SimpleImputer"
   ]
  },
  {
   "cell_type": "code",
   "execution_count": 48,
   "id": "820832cb-bdbf-4f67-bc63-6a8ad1af4142",
   "metadata": {
    "tags": []
   },
   "outputs": [
    {
     "data": {
      "text/plain": [
       "['total_bill', 'tip', 'size']"
      ]
     },
     "execution_count": 48,
     "metadata": {},
     "output_type": "execute_result"
    }
   ],
   "source": [
    "num_cols=['total_bill', 'tip', 'size']\n",
    "num_cols"
   ]
  },
  {
   "cell_type": "code",
   "execution_count": 50,
   "id": "fa014e8b-ee66-4285-9023-23630d5eebb6",
   "metadata": {
    "tags": []
   },
   "outputs": [
    {
     "data": {
      "text/plain": [
       "Index(['sex', 'smoker', 'day'], dtype='object')"
      ]
     },
     "execution_count": 50,
     "metadata": {},
     "output_type": "execute_result"
    }
   ],
   "source": [
    "cate_cols=x.select_dtypes(include='category').columns\n",
    "cate_cols"
   ]
  },
  {
   "cell_type": "code",
   "execution_count": 52,
   "id": "ad663f44-001a-4182-9c68-f4e919eeef6b",
   "metadata": {
    "tags": []
   },
   "outputs": [],
   "source": [
    "num_pipline=Pipeline(\n",
    "    steps=[\n",
    "        ('impute',SimpleImputer(strategy='median')),\n",
    "        ('scale',StandardScaler())\n",
    "\t ]\n",
    ")\n",
    "\n",
    "cate_pipline=Pipeline(\n",
    "    steps=[\n",
    "        \n",
    "        ('impute',SimpleImputer(strategy='most_frequent')),\n",
    "        ('encode',OneHotEncoder()),\n",
    " \t\t\t\n",
    "\t ]\n",
    ")\n",
    "\n",
    "obj=ColumnTransformer(\n",
    "    [\n",
    "        ('num_cols',num_pipline,num_cols),\n",
    "        ('cate_cols',cate_pipline,cate_cols)\n",
    "\t ]\n",
    ")"
   ]
  },
  {
   "cell_type": "code",
   "execution_count": 54,
   "id": "b361b132-92d4-4a86-8458-de3c152e813b",
   "metadata": {
    "tags": []
   },
   "outputs": [],
   "source": [
    "x_train_sc=obj.fit_transform(x_train)\n",
    "x_test_sc=obj.transform(x_test)"
   ]
  },
  {
   "cell_type": "code",
   "execution_count": 56,
   "id": "2c8a1d91-1788-420f-83ea-218f99ab690f",
   "metadata": {
    "tags": []
   },
   "outputs": [],
   "source": [
    "from sklearn.linear_model import LogisticRegression\n",
    "from sklearn.neighbors import KNeighborsClassifier\n",
    "from sklearn.tree import DecisionTreeClassifier\n",
    "from sklearn.ensemble import RandomForestClassifier"
   ]
  },
  {
   "cell_type": "code",
   "execution_count": 74,
   "id": "4deb73b6-0aae-4530-acd9-d031d69b9b40",
   "metadata": {
    "tags": []
   },
   "outputs": [],
   "source": [
    "models=[\n",
    "                ('LogisticRegression',LogisticRegression()),\n",
    "                ('KNeighborsClassifier', KNeighborsClassifier()),\n",
    "                ('DesisionTree',DecisionTreeClassifier()),\n",
    "                ('RandomForest',RandomForestClassifier())\n",
    "                \n",
    "]"
   ]
  },
  {
   "cell_type": "code",
   "execution_count": 60,
   "id": "7f14315b-da0a-42fc-ae4d-f6f2cee4c9c3",
   "metadata": {
    "tags": []
   },
   "outputs": [],
   "source": [
    "from sklearn.metrics import r2_score"
   ]
  },
  {
   "cell_type": "code",
   "execution_count": 62,
   "id": "b052877b-36b2-4c0c-b99f-915736360a1b",
   "metadata": {
    "tags": []
   },
   "outputs": [],
   "source": [
    "from sklearn.ensemble import BaggingClassifier"
   ]
  },
  {
   "cell_type": "code",
   "execution_count": 82,
   "id": "15e93c3c-73d0-4155-b0cb-685ba54afb01",
   "metadata": {
    "tags": []
   },
   "outputs": [
    {
     "name": "stdout",
     "output_type": "stream",
     "text": [
      "BaggingClassifier(base_estimator=LogisticRegression(), n_estimators=50,\n",
      "                  random_state=45) accuracy 0.4916666666666667\n",
      "==============================\n",
      "BaggingClassifier(base_estimator=KNeighborsClassifier(), n_estimators=50,\n",
      "                  random_state=45) accuracy 0.4916666666666667\n",
      "==============================\n",
      "BaggingClassifier(base_estimator=DecisionTreeClassifier(), n_estimators=50,\n",
      "                  random_state=45) accuracy 0.4916666666666667\n",
      "==============================\n",
      "BaggingClassifier(base_estimator=RandomForestClassifier(), n_estimators=50,\n",
      "                  random_state=45) accuracy 0.4916666666666667\n",
      "==============================\n"
     ]
    }
   ],
   "source": [
    "for name, clf in models:\n",
    "    model=BaggingClassifier(base_estimator=clf,n_estimators=50,random_state=45)\n",
    "    model.fit(x_train_sc,y_train)\n",
    "    y_pred=model.predict(x_test_sc)\n",
    "    \n",
    "    acc=r2_score(y_test,y_pred)\n",
    "    \n",
    "    print(f'{model} accuracy {acc}')\n",
    "    print('==============================')"
   ]
  },
  {
   "cell_type": "code",
   "execution_count": null,
   "id": "e6e3b885-5f21-4b2f-b19f-1c72764b2653",
   "metadata": {},
   "outputs": [],
   "source": []
  }
 ],
 "metadata": {
  "kernelspec": {
   "display_name": "Python 3 (ipykernel)",
   "language": "python",
   "name": "python3"
  },
  "language_info": {
   "codemirror_mode": {
    "name": "ipython",
    "version": 3
   },
   "file_extension": ".py",
   "mimetype": "text/x-python",
   "name": "python",
   "nbconvert_exporter": "python",
   "pygments_lexer": "ipython3",
   "version": "3.11.7"
  }
 },
 "nbformat": 4,
 "nbformat_minor": 5
}
