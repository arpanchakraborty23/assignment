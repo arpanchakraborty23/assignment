{
 "cells": [
  {
   "cell_type": "markdown",
   "id": "fa562692-62af-41a8-a6b9-2e90f179f6ec",
   "metadata": {},
   "source": [
    "## Q1: What is the difference between a t-test and a z-test? Provide an example scenario where you would use each type of test."
   ]
  },
  {
   "cell_type": "raw",
   "id": "95ff25ed-99f4-4674-a613-3f52f688e47e",
   "metadata": {},
   "source": [
    "t-test use to determine significane diffrance of mean between  two gropus when dataset is <30.and standard division is unknown\n",
    " other hand\n",
    "\n",
    "e to determine significane diffrance of mean between  two gropus when dataset is >30.and standard division is known\n",
    "\n",
    "ex of z_test : Let's a pharma company create a mdicine for blood prrasure ,so they test it with sampl size of 100 patients with 8 standard division.\n",
    "\n",
    "step-1 :first we check std is gives ==yes \n",
    "step-2 : sample size >30 =Yes\n",
    "\n",
    "result= z test\n",
    "\n",
    "ex of t_test: calculate test mean score of two group of students"
   ]
  },
  {
   "cell_type": "markdown",
   "id": "9da9307d-5b96-4887-9818-d549851af6ea",
   "metadata": {},
   "source": [
    "## Q2: Differentiate between one-tailed and two-tailed tests."
   ]
  },
  {
   "cell_type": "raw",
   "id": "99031cc4-ae29-467b-9e4e-f1c6f4b577ef",
   "metadata": {},
   "source": [
    "A one-tailed test evaluates the probability of a relationship in one specific direction. It checks whether the sample data significantly deviates from the null hypothesis in only one direction\n",
    "\n",
    "A two-tailed test evaluates the probability of a relationship in both directions. It checks whether the sample data significantly deviates from the null hypothesis in either direction"
   ]
  },
  {
   "cell_type": "markdown",
   "id": "7d7e4df5-4394-400f-9cb7-b0c1e11bc403",
   "metadata": {},
   "source": [
    "## Q3: Explain the concept of Type 1 and Type 2 errors in hypothesis testing. Provide an example scenario for each type of error."
   ]
  },
  {
   "cell_type": "raw",
   "id": "ebc07f24-bcc6-46a9-be53-61ea358cc604",
   "metadata": {
    "tags": []
   },
   "source": [
    "Type-1 : We reject the null hypothisis but in reality it accept null hypothisis .(False Possitive)\n",
    "\n",
    "ExA pharmaceutical company tests a new drug to see if it is more effective than the existing drug.\n",
    "\n",
    "null hypothisis : H0 new drug is not effactive than existing drug.\n",
    "allternatuve hypothisis : H1 new drug effective\n",
    "\n",
    "result : the new drug is more effective.\n",
    "\n",
    "but in reality the new drug is not effective \n",
    "\n",
    "\n",
    "\n",
    "Type-2 : We accept null hypothisis but in reality null hypothisis rjected.(True Negative)\n",
    "\n",
    "\n",
    "ex A clinical trial investigates whether a new therapy reduces the severity of a particular disease compared to the standard treatment.\n",
    "\n",
    "null hypothisis : H0  The new therapy does not reduce the severity of the disease more than the standard treatment.\n",
    "allternatuve hypothisis : H1 The new therapy reduces the severity of the disease more than the standard treatment.\n",
    "\n",
    "result :new therapy is not more effective when, in fact, it is. As a result, a potentially beneficial treatment may not be adopted, and patients continue to receive less effective treatment."
   ]
  },
  {
   "cell_type": "markdown",
   "id": "b5cf8a40-492a-4ab2-ae92-7b87b51a3004",
   "metadata": {},
   "source": [
    "## Q4: Explain Bayes's theorem with an example."
   ]
  },
  {
   "cell_type": "raw",
   "id": "6f335431-413d-41ab-a161-58356caacb5b",
   "metadata": {},
   "source": [
    "Bayes's theorem allows us to update our beliefs based on new evidence systematically\n",
    "\n",
    "\n",
    " Three urns contain 6 red, 4 black; 4 red, 6 black, and 5 red, 5 black balls respectively. One of the urns is selected at random and a ball is drawn from it. If the ball drawn is red, find the probability that it is drawn from the first urn.\n",
    "E1 = urn first is chosen \n",
    "\n",
    "E2 = urn second is chosen\n",
    "\n",
    "E3 = urn third is chosen \n",
    "\n",
    "A = ball drawn is red\n",
    "since there are three urns and one of the three urns is chosen at random, therefore:\n",
    "\n",
    "P(E1) = P(E2) = P(E3) = 1/3\n",
    "So, P(A/E1) = 6/10\n",
    "\n",
    "Similarly, you have P(A/E2) = 4/10 and P(A/E3) = 5/10\n",
    "\n",
    "byer's therom\n",
    "P(E1/A) = P(E1) P(A/E1)P(E1) P(A/E1) + P(E2) P(A/E2) + P(E3) P(A/E3)          \n",
    "\n",
    "= 1/3 * 6/10(1/3 * 6/10) + (1/3 * 4/10) + (1/3 * 5/10)\n",
    "\n",
    "=2/5\n",
    "    "
   ]
  },
  {
   "cell_type": "markdown",
   "id": "d4d98ec0-642e-43a0-9a80-5ef469466032",
   "metadata": {},
   "source": [
    "## Q5: What is a confidence interval? How to calculate the confidence interval, explain with an example."
   ]
  },
  {
   "cell_type": "raw",
   "id": "e9484607-e4a2-4af6-b401-6e43171260a6",
   "metadata": {
    "tags": []
   },
   "source": [
    "confidence interval use to help to estimate what should be population mean.\n",
    "\n",
    "sample_mean + Z*(std/root n)\n",
    "\n",
    "On a varabal cat exam std is to be 100 . a sample=30 test taken has a mean of 520. constract 98% Ci about mean ?\n",
    "\n",
    "sample_mean= 520, std=100,  n=30 , 98% ci  ,z_table_value=1-0.1=0.9=1.28 \n",
    "\n",
    "High Ci= 520 + 1.28(100/root(30))=543.7\n",
    "\n",
    "Lower Ci=520 1.28(100/root(30))=496.7\n",
    "\n"
   ]
  },
  {
   "cell_type": "markdown",
   "id": "c4547eca-b8d3-48b5-a1de-820986ea5413",
   "metadata": {},
   "source": [
    "## Q6. Use Bayes' Theorem to calculate the probability of an event occurring given prior knowledge of the\n",
    "## event's probability and new evidence. Provide a sample problem and solution."
   ]
  },
  {
   "cell_type": "raw",
   "id": "9400ca39-a4e0-4091-b78d-e81887ac47b1",
   "metadata": {
    "tags": []
   },
   "source": [
    "Suppose a factory produces two types of products, A and B. Product A has a defect rate of 5%, while product B has a defect rate of 3%. A random sample is selected from the factory and found to be defective. What is the probability that the defective product is product A?\n",
    "\n",
    "vents:\n",
    "Selecting product A\n",
    "b Product is defective\n",
    "( P(A) = 0.5 ) (probability of selecting product A)\n",
    "( P(B|A) = 0.05 ) (probability of product being defective given it is product A)\n",
    "( P(B|B) = 0.03 ) (probability of product being defective given it is product B)\n",
    "\n",
    "[ P(A|B) =frac{P(B|A)times P(A)}{P(B)}]\n",
    "[ P(B) = P(B|A)times P(A) + P(B|B)times P(B)]\n",
    "[ P(B) = 0.05times 0.5 + 0.03times 0.5 = 0.04]\n",
    "\n",
    "Now we can calculate( P(A|B)):\n",
    "[ P(A|B) =frac{0.05 times 0.5}{0.04} = 0.625]\n",
    "\n",
    "Therefore, the probability that the defective product is product A is 62.5%."
   ]
  },
  {
   "cell_type": "markdown",
   "id": "8c080eb1-056e-4245-8c3f-6b45a575b808",
   "metadata": {},
   "source": [
    "## Q7. Calculate the 95% confidence interval for a sample of data with a mean of 50 and a standard deviation of 5. Interpret the results."
   ]
  },
  {
   "cell_type": "raw",
   "id": "f00c77ad-2307-404c-835a-63593b6874e8",
   "metadata": {
    "tags": []
   },
   "source": [
    "mean=50  , std =5 ,ci =95% zvalue=1-0.25=0.9750=1.96\n",
    "\n",
    "for sample size=50\n",
    "High Ci= 50 +1.96(5/root(50))=51.8\n",
    "\n",
    "Lower Ci=50 - 1.96(5/root(50))=48.62\n",
    "\n",
    "for sample size=30\n",
    "High Ci= 50 +1.96(5/root(30))=51.79\n",
    "\n",
    "Lower Ci=50 - 1.96(5/root(30))=48.21\n",
    "\n",
    "\n",
    "With a moderate sample size (n=30), the confidence interval becomes narrower: (48.21, 51.79).\n",
    "With a moderate sample size (n=50), the confidence interval becomes narrower: (48.62, 51.8).\n",
    "\n",
    "the larger the sample size, the more precise the estimate of the population mean, reflected in a narrower confidence interval."
   ]
  },
  {
   "cell_type": "markdown",
   "id": "5e87778e-6b19-4dbd-902b-d674a831fb79",
   "metadata": {},
   "source": [
    "## Q8. What is the margin of error in a confidence interval? How does sample size affect the margin of error?\n",
    "## Provide an example of a scenario where a larger sample size would result in a smaller margin of error."
   ]
  },
  {
   "cell_type": "raw",
   "id": "b2faf0c9-56e8-4d9a-b6c9-386e8156b767",
   "metadata": {
    "tags": []
   },
   "source": [
    "The margin of error in a confidence interval quantifies the range within which the true population parameter is expected to lie, given a certain level of confidence.\n",
    "MOE=z(s/root(n))\n",
    "\n",
    "The sample size (n) has an inverse relationship with the margin of error. As the sample size increases, the margin of error decreases\n",
    "\n",
    "Consider a scenario where we are estimating the average height of adult males in a city\n",
    "n=30 , mean=175  std=10  z=1.96\n",
    "\n",
    "MOE=1.96(10/root(30))=3.57\n",
    "\n",
    "ci=175+-  MOE=(178.57,171.43)\n",
    "\n",
    "n=50 , mean=175  std=10  z=1.96\n",
    "MOE=2.77\n",
    "\n",
    "ci=175+-  MOE=(177.7,172.23) \n",
    "\n",
    "larger sample size results in a smaller margin of error, providing a more precise estimate of the population parameter."
   ]
  },
  {
   "cell_type": "markdown",
   "id": "10a15713-5bdb-44b9-892b-b4626ed3df09",
   "metadata": {},
   "source": [
    "## Q9. Calculate the z-score for a data point with a value of 75, a population mean of 70, and a population standard deviation of 5. Interpret the results."
   ]
  },
  {
   "cell_type": "raw",
   "id": "dc40da00-f03d-40b6-ab88-5fc2aaa752fc",
   "metadata": {
    "tags": []
   },
   "source": [
    "mean=70 std=5\n",
    "\n",
    "z_sore=sample_men-pop_mean/std=75-70/5=1\n",
    "\n",
    "Z_score indicates 1 standard deviation above the mean (70) of the population."
   ]
  },
  {
   "cell_type": "markdown",
   "id": "ed2e945d-d882-4728-adc6-cf42aa2d516f",
   "metadata": {},
   "source": [
    "## Q10. In a study of the effectiveness of a new weight loss drug, a sample of 50 participants lost an average\n",
    "## of 6 pounds with a standard deviation of 2.5 pounds. Conduct a hypothesis test to determine if the drug is\n",
    "## significantly effective at a 95% confidence level using a t-test."
   ]
  },
  {
   "cell_type": "raw",
   "id": "4d9df744-2ee5-4239-be33-13047a68bb20",
   "metadata": {
    "tags": []
   },
   "source": [
    "n=50 , mean=6 std= 2.5, ci=95%\n",
    "\n",
    "h0:null hypothesis will state that the drug has no effect\n",
    "h1: alternative hypothesis  will state that the drug is effective\n",
    "\n",
    "dof=49 alpha =0.05\n",
    "\n",
    "t_test=6-0/(2.5/root(50))=16.96\n",
    "\n",
    "t_table=1.677 \n",
    "\n",
    "t_test> t_table =true\n",
    "\n",
    "we reject null hypothisis\n",
    " the weight loss drug is significantly effective in reducing weight."
   ]
  },
  {
   "cell_type": "markdown",
   "id": "433e7e5f-fe82-4a04-9311-abacbcf3462b",
   "metadata": {},
   "source": [
    "## Q11. In a survey of 500 people, 65% reported being satisfied with their current job. Calculate the 95%\n",
    "## confidence interval for the true proportion of people who are satisfied with their job."
   ]
  },
  {
   "cell_type": "raw",
   "id": "6f6517c0-e570-404e-ab3e-0f4bd16811fc",
   "metadata": {
    "tags": []
   },
   "source": [
    "n=500 ,z=1.96\n",
    "smple propation=0.65\n",
    "\n",
    "CI= p +- z(root(p(1-p)/n))\n",
    " \n",
    "standaed error=(root(0.65(1-0.65)/500))=0.0213\n",
    "\n",
    "MOE=z*0.0213=0.0417\n",
    "\n",
    "ci=(0.65+0.0417 , 0.65-0.0417)=(0.6083,0.6917)\n",
    "\n",
    " the true proportion of job satisfaction in the population lies between 60.83% and 69.17%"
   ]
  },
  {
   "cell_type": "markdown",
   "id": "4abd1227-cdff-48c0-84b2-791076f50872",
   "metadata": {},
   "source": [
    "## Q12. A researcher is testing the effectiveness of two different teaching methods on student performance.\n",
    "## Sample A has a mean score of 85 with a standard deviation of 6, while sample B has a mean score of 82\n",
    "## with a standard deviation of 5. Conduct a hypothesis test to determine if the two teaching methods have a\n",
    "## significant difference in student performance using a t-test with a significance level of 0.01."
   ]
  },
  {
   "cell_type": "raw",
   "id": "0a4e4eba-e630-416c-9adf-71d91d9b188e",
   "metadata": {},
   "source": [
    "sample A :\n",
    "    mean=85 std=6\n",
    "    \n",
    "sample B :\n",
    "    mean= 82 std=5\n",
    "    \n",
    "dignificane =0.01 \n",
    "\n",
    "let,sample =30\n",
    "\n",
    "Null hypothesis A= B\n",
    "\n",
    " \n",
    "Alternative hypothesis A != B\n",
    "\n",
    "t_test= (mean-mean_2)/sqart((s^2/n)+s2^2/n2)=2.10\n",
    "\n",
    "dof=(s^2/n)^2+(s2^2/n2)^2/(s^2/n)^2/n-1  +(s2^2/n2)^2/n-1=55.86=56\n",
    "\n",
    "t_table=2.395 \n",
    "there is not enough evidence to conclude that there is a significant difference in student performance between the two teaching methods.\n",
    "\n"
   ]
  },
  {
   "cell_type": "markdown",
   "id": "6c19dd23-85a8-4716-af4a-3507118a605d",
   "metadata": {},
   "source": [
    "## Q13. A population has a mean of 60 and a standard deviation of 8. A sample of 50 observations has a mean\n",
    " ## of 65. Calculate the 90% confidence interval for the true population mean."
   ]
  },
  {
   "cell_type": "raw",
   "id": "c20dde51-2612-4c5c-9642-22fdd16e4a23",
   "metadata": {},
   "source": [
    "mean=60 std=8 n=50 pop_mean=65 ci=90 z=1-0.9=1.645\n",
    "\n",
    "se=std/root(n)=1.130\n",
    "\n",
    "MOE= z*se=1.860\n",
    "\n",
    "ci=(65 + 1.860 ,65 - 1.860)=(63.14,66.86)\n",
    "\n",
    "the true population mean lies between 63.14 and 66.86."
   ]
  },
  {
   "cell_type": "markdown",
   "id": "99f0f64a-c280-437e-9221-c0f1091eaf35",
   "metadata": {},
   "source": [
    "## Q14. In a study of the effects of caffeine on reaction time, a sample of 30 participants had an average\n",
    "## reaction time of 0.25 seconds with a standard deviation of 0.05 seconds. Conduct a hypothesis test to\n",
    "## determine if the caffeine has a significant effect on reaction time at a 90% confidence level using a t-test."
   ]
  },
  {
   "cell_type": "raw",
   "id": "0b946fe7-7e54-4648-946d-71a97e26e64c",
   "metadata": {
    "tags": []
   },
   "source": [
    "mean=0.25  std=0.05  n=30\n",
    "Null hypothesis μ=0.30\n",
    "\n",
    "Alternative hypothesis  μ !=0.30\n",
    "\n",
    "t_test=-5.48\n",
    "dof=29\n",
    "\n",
    "it is a two tail test,so ci/2=0.05\n",
    "\n",
    "t_table= 1.699 \n",
    "\n",
    "t_test> t_table =True\n",
    "\n",
    "we reject the null hypothisis\n",
    "\n",
    "there is strong evidence to conclude that caffeine has a significant effect on reaction time."
   ]
  },
  {
   "cell_type": "code",
   "execution_count": null,
   "id": "ace8c9e6-21c5-4bfa-81cc-56edcd1bde08",
   "metadata": {},
   "outputs": [],
   "source": []
  }
 ],
 "metadata": {
  "kernelspec": {
   "display_name": "Python 3 (ipykernel)",
   "language": "python",
   "name": "python3"
  },
  "language_info": {
   "codemirror_mode": {
    "name": "ipython",
    "version": 3
   },
   "file_extension": ".py",
   "mimetype": "text/x-python",
   "name": "python",
   "nbconvert_exporter": "python",
   "pygments_lexer": "ipython3",
   "version": "3.11.7"
  }
 },
 "nbformat": 4,
 "nbformat_minor": 5
}
